{
 "cells": [
  {
   "cell_type": "markdown",
   "id": "ae2e3f1b-40f5-4f58-812b-f6d5d2017e47",
   "metadata": {
    "id": "ae2e3f1b-40f5-4f58-812b-f6d5d2017e47"
   },
   "source": [
    "# 13.2 MovieLens 1M Dataset"
   ]
  },
  {
   "cell_type": "markdown",
   "id": "755d6efe",
   "metadata": {},
   "source": [
    "Chuẩn bị thư viện"
   ]
  },
  {
   "cell_type": "code",
   "execution_count": 14,
   "id": "6f96b2d0-a3ce-4786-b78b-a2852a4cb3ff",
   "metadata": {
    "id": "6f96b2d0-a3ce-4786-b78b-a2852a4cb3ff"
   },
   "outputs": [],
   "source": [
    "from numpy.random import randn\n",
    "import numpy as np\n",
    "np.random.seed(123)\n",
    "import os\n",
    "import matplotlib.pyplot as plt\n",
    "import pandas as pd\n",
    "import seaborn as sns"
   ]
  },
  {
   "cell_type": "markdown",
   "id": "2fbdf105",
   "metadata": {},
   "source": [
    "## Tổng quan về bộ dữ liệu"
   ]
  },
  {
   "cell_type": "markdown",
   "id": "492c58c9-a2b2-49ea-8148-45f0780303a4",
   "metadata": {
    "id": "492c58c9-a2b2-49ea-8148-45f0780303a4"
   },
   "source": [
    "Theo file README trong dataset:\n",
    "- **Nguồn gốc:** Bộ dữ liệu này được cung cấp bởi **GroupLens Research Project** tại Đại học Minnesota.\n",
    "- **Nội dung:** Chứa 1,000,209 lượt đánh giá phim ẩn danh từ 6,040 người dùng cho khoảng 3,900 bộ phim. Dữ liệu được thu thập từ những người dùng tham gia MovieLens vào năm 2000.\n",
    "- **Mục đích:** Thường được sử dụng cho nghiên cứu về hệ thống đề xuất (recommender systems), lọc cộng tác (collaborative filtering), và các lĩnh vực liên quan.\n",
    "- **Cấu trúc:** Dữ liệu được chia thành 3 tệp chính: ratings.dat, users.dat, và movies.dat."
   ]
  },
  {
   "cell_type": "code",
   "execution_count": 2,
   "id": "9a0a3a85-4475-415f-a67c-0d5d0413d508",
   "metadata": {
    "id": "9a0a3a85-4475-415f-a67c-0d5d0413d508",
    "scrolled": true
   },
   "outputs": [],
   "source": [
    "unames = [\"user_id\", \"gender\", \"age\", \"occupation\", \"zip\"] # Khai báo tên cột cho bảng users\n",
    "users = pd.read_table(\"dataset/movielens/users.dat\", sep=\"::\",\n",
    "                      header=None, names=unames, engine=\"python\") # Đọc dữ liệu từ file users.dat vào DataFrame users\n",
    "\n",
    "rnames = [\"user_id\", \"movie_id\", \"rating\", \"timestamp\"] # Khai báo tên cột cho bảng ratings\n",
    "ratings = pd.read_table(\"dataset/movielens/ratings.dat\", sep=\"::\",\n",
    "                        header=None, names=rnames, engine=\"python\") # Đọc dữ liệu từ file ratings.dat vào DataFrame ratings\n",
    "\n",
    "mnames = [\"movie_id\", \"title\", \"genres\"] # Khai báo tên cột cho bảng movies\n",
    "movies = pd.read_table(\"dataset/movielens/movies.dat\", sep=\"::\",\n",
    "                       header=None, names=mnames, engine=\"python\") # Đọc dữ liệu từ file movies.dat vào DataFrame movies"
   ]
  },
  {
   "cell_type": "code",
   "execution_count": 3,
   "id": "4bb49bfd-55bd-4dc2-b741-67235822f4b4",
   "metadata": {
    "id": "4bb49bfd-55bd-4dc2-b741-67235822f4b4",
    "outputId": "cb478ed7-8278-4040-b5f1-d79a5e4fbf85"
   },
   "outputs": [
    {
     "data": {
      "text/html": [
       "<div>\n",
       "<style scoped>\n",
       "    .dataframe tbody tr th:only-of-type {\n",
       "        vertical-align: middle;\n",
       "    }\n",
       "\n",
       "    .dataframe tbody tr th {\n",
       "        vertical-align: top;\n",
       "    }\n",
       "\n",
       "    .dataframe thead th {\n",
       "        text-align: right;\n",
       "    }\n",
       "</style>\n",
       "<table border=\"1\" class=\"dataframe\">\n",
       "  <thead>\n",
       "    <tr style=\"text-align: right;\">\n",
       "      <th></th>\n",
       "      <th>user_id</th>\n",
       "      <th>gender</th>\n",
       "      <th>age</th>\n",
       "      <th>occupation</th>\n",
       "      <th>zip</th>\n",
       "    </tr>\n",
       "  </thead>\n",
       "  <tbody>\n",
       "    <tr>\n",
       "      <th>0</th>\n",
       "      <td>1</td>\n",
       "      <td>F</td>\n",
       "      <td>1</td>\n",
       "      <td>10</td>\n",
       "      <td>48067</td>\n",
       "    </tr>\n",
       "    <tr>\n",
       "      <th>1</th>\n",
       "      <td>2</td>\n",
       "      <td>M</td>\n",
       "      <td>56</td>\n",
       "      <td>16</td>\n",
       "      <td>70072</td>\n",
       "    </tr>\n",
       "    <tr>\n",
       "      <th>2</th>\n",
       "      <td>3</td>\n",
       "      <td>M</td>\n",
       "      <td>25</td>\n",
       "      <td>15</td>\n",
       "      <td>55117</td>\n",
       "    </tr>\n",
       "    <tr>\n",
       "      <th>3</th>\n",
       "      <td>4</td>\n",
       "      <td>M</td>\n",
       "      <td>45</td>\n",
       "      <td>7</td>\n",
       "      <td>02460</td>\n",
       "    </tr>\n",
       "    <tr>\n",
       "      <th>4</th>\n",
       "      <td>5</td>\n",
       "      <td>M</td>\n",
       "      <td>25</td>\n",
       "      <td>20</td>\n",
       "      <td>55455</td>\n",
       "    </tr>\n",
       "  </tbody>\n",
       "</table>\n",
       "</div>"
      ],
      "text/plain": [
       "   user_id gender  age  occupation    zip\n",
       "0        1      F    1          10  48067\n",
       "1        2      M   56          16  70072\n",
       "2        3      M   25          15  55117\n",
       "3        4      M   45           7  02460\n",
       "4        5      M   25          20  55455"
      ]
     },
     "execution_count": 3,
     "metadata": {},
     "output_type": "execute_result"
    }
   ],
   "source": [
    "# hiển thị bảng thông tin người dùng 5 dòng đầu tiên\n",
    "users.head(5)"
   ]
  },
  {
   "cell_type": "code",
   "execution_count": 5,
   "id": "527e8cb5",
   "metadata": {},
   "outputs": [
    {
     "name": "stdout",
     "output_type": "stream",
     "text": [
      "<class 'pandas.core.frame.DataFrame'>\n",
      "RangeIndex: 6040 entries, 0 to 6039\n",
      "Data columns (total 5 columns):\n",
      " #   Column      Non-Null Count  Dtype \n",
      "---  ------      --------------  ----- \n",
      " 0   user_id     6040 non-null   int64 \n",
      " 1   gender      6040 non-null   object\n",
      " 2   age         6040 non-null   int64 \n",
      " 3   occupation  6040 non-null   int64 \n",
      " 4   zip         6040 non-null   object\n",
      "dtypes: int64(3), object(2)\n",
      "memory usage: 236.1+ KB\n"
     ]
    }
   ],
   "source": [
    "users.info()"
   ]
  },
  {
   "cell_type": "markdown",
   "id": "b27a098e",
   "metadata": {},
   "source": [
    "- **users.dat**:\n",
    "    + Mục đích: Chứa thông tin nhân khẩu học của người dùng.\n",
    "    + Định dạng: UserID::Gender::Age::Occupation::Zip-code.\n",
    "    + Các cột:\n",
    "        - UserID: Mã định danh người dùng.\n",
    "        - Gender: Giới tính (\"M\" cho nam, \"F\" cho nữ).\n",
    "        - Age: Tuổi, được mã hóa theo các khoảng giá trị (ví dụ: 1: Dưới 18, 18: 18-24, ...).\n",
    "        - Occupation: Nghề nghiệp, được mã hóa bằng số (ví dụ: 0: Khác/Không xác định, 1: Học thuật/Giáo dục, ..., 20: Nhà văn).\n",
    "        - Zip-code: Mã zip.\n",
    "    + Ghi chú: Thông tin nhân khẩu học được người dùng cung cấp tự nguyện và không được kiểm tra độ chính xác. Chỉ những người dùng cung cấp thông tin này mới được đưa vào bộ dữ liệu."
   ]
  },
  {
   "cell_type": "code",
   "execution_count": 6,
   "id": "27574edb-c4f7-42b3-a920-98bb44d0a058",
   "metadata": {
    "id": "27574edb-c4f7-42b3-a920-98bb44d0a058",
    "outputId": "f624df61-9c89-4506-fdf5-091ffcf098d5"
   },
   "outputs": [
    {
     "data": {
      "text/html": [
       "<div>\n",
       "<style scoped>\n",
       "    .dataframe tbody tr th:only-of-type {\n",
       "        vertical-align: middle;\n",
       "    }\n",
       "\n",
       "    .dataframe tbody tr th {\n",
       "        vertical-align: top;\n",
       "    }\n",
       "\n",
       "    .dataframe thead th {\n",
       "        text-align: right;\n",
       "    }\n",
       "</style>\n",
       "<table border=\"1\" class=\"dataframe\">\n",
       "  <thead>\n",
       "    <tr style=\"text-align: right;\">\n",
       "      <th></th>\n",
       "      <th>user_id</th>\n",
       "      <th>movie_id</th>\n",
       "      <th>rating</th>\n",
       "      <th>timestamp</th>\n",
       "    </tr>\n",
       "  </thead>\n",
       "  <tbody>\n",
       "    <tr>\n",
       "      <th>0</th>\n",
       "      <td>1</td>\n",
       "      <td>1193</td>\n",
       "      <td>5</td>\n",
       "      <td>978300760</td>\n",
       "    </tr>\n",
       "    <tr>\n",
       "      <th>1</th>\n",
       "      <td>1</td>\n",
       "      <td>661</td>\n",
       "      <td>3</td>\n",
       "      <td>978302109</td>\n",
       "    </tr>\n",
       "    <tr>\n",
       "      <th>2</th>\n",
       "      <td>1</td>\n",
       "      <td>914</td>\n",
       "      <td>3</td>\n",
       "      <td>978301968</td>\n",
       "    </tr>\n",
       "    <tr>\n",
       "      <th>3</th>\n",
       "      <td>1</td>\n",
       "      <td>3408</td>\n",
       "      <td>4</td>\n",
       "      <td>978300275</td>\n",
       "    </tr>\n",
       "    <tr>\n",
       "      <th>4</th>\n",
       "      <td>1</td>\n",
       "      <td>2355</td>\n",
       "      <td>5</td>\n",
       "      <td>978824291</td>\n",
       "    </tr>\n",
       "  </tbody>\n",
       "</table>\n",
       "</div>"
      ],
      "text/plain": [
       "   user_id  movie_id  rating  timestamp\n",
       "0        1      1193       5  978300760\n",
       "1        1       661       3  978302109\n",
       "2        1       914       3  978301968\n",
       "3        1      3408       4  978300275\n",
       "4        1      2355       5  978824291"
      ]
     },
     "execution_count": 6,
     "metadata": {},
     "output_type": "execute_result"
    }
   ],
   "source": [
    "# hiển thị 5 dòng đầu tiên của bảng đánh giá phim\n",
    "ratings.head(5)"
   ]
  },
  {
   "cell_type": "code",
   "execution_count": 7,
   "id": "ff412cf3",
   "metadata": {},
   "outputs": [
    {
     "name": "stdout",
     "output_type": "stream",
     "text": [
      "<class 'pandas.core.frame.DataFrame'>\n",
      "RangeIndex: 1000209 entries, 0 to 1000208\n",
      "Data columns (total 4 columns):\n",
      " #   Column     Non-Null Count    Dtype\n",
      "---  ------     --------------    -----\n",
      " 0   user_id    1000209 non-null  int64\n",
      " 1   movie_id   1000209 non-null  int64\n",
      " 2   rating     1000209 non-null  int64\n",
      " 3   timestamp  1000209 non-null  int64\n",
      "dtypes: int64(4)\n",
      "memory usage: 30.5 MB\n"
     ]
    }
   ],
   "source": [
    "ratings.info()"
   ]
  },
  {
   "cell_type": "markdown",
   "id": "a6a90969",
   "metadata": {},
   "source": [
    "- **ratings.dat**:\n",
    "    + Mục đích: Chứa thông tin về các lượt đánh giá phim của người dùng.\n",
    "    + Định dạng: UserID::MovieID::Rating::Timestamp.\n",
    "    + Các cột:\n",
    "        - UserID: Mã định danh người dùng (từ 1 đến 6040).\n",
    "        - MovieID: Mã định danh phim (từ 1 đến 3952).\n",
    "        - Rating: Điểm đánh giá theo thang điểm 5 sao (chỉ có các giá trị nguyên: 1, 2, 3, 4, 5).\n",
    "        - Timestamp: Dấu thời gian Unix (số giây kể từ epoch) khi lượt đánh giá được thực hiện.\n",
    "        - Ghi chú: Mỗi người dùng có ít nhất 20 lượt đánh giá"
   ]
  },
  {
   "cell_type": "code",
   "execution_count": 5,
   "id": "fa81dff3-6fb5-4d42-a096-dc37efa6c9a6",
   "metadata": {
    "id": "fa81dff3-6fb5-4d42-a096-dc37efa6c9a6",
    "outputId": "2cf3ccb5-976f-4536-d8eb-bb9c1c6d1ec3"
   },
   "outputs": [
    {
     "data": {
      "text/html": [
       "<div>\n",
       "<style scoped>\n",
       "    .dataframe tbody tr th:only-of-type {\n",
       "        vertical-align: middle;\n",
       "    }\n",
       "\n",
       "    .dataframe tbody tr th {\n",
       "        vertical-align: top;\n",
       "    }\n",
       "\n",
       "    .dataframe thead th {\n",
       "        text-align: right;\n",
       "    }\n",
       "</style>\n",
       "<table border=\"1\" class=\"dataframe\">\n",
       "  <thead>\n",
       "    <tr style=\"text-align: right;\">\n",
       "      <th></th>\n",
       "      <th>movie_id</th>\n",
       "      <th>title</th>\n",
       "      <th>genres</th>\n",
       "    </tr>\n",
       "  </thead>\n",
       "  <tbody>\n",
       "    <tr>\n",
       "      <th>0</th>\n",
       "      <td>1</td>\n",
       "      <td>Toy Story (1995)</td>\n",
       "      <td>Animation|Children's|Comedy</td>\n",
       "    </tr>\n",
       "    <tr>\n",
       "      <th>1</th>\n",
       "      <td>2</td>\n",
       "      <td>Jumanji (1995)</td>\n",
       "      <td>Adventure|Children's|Fantasy</td>\n",
       "    </tr>\n",
       "    <tr>\n",
       "      <th>2</th>\n",
       "      <td>3</td>\n",
       "      <td>Grumpier Old Men (1995)</td>\n",
       "      <td>Comedy|Romance</td>\n",
       "    </tr>\n",
       "    <tr>\n",
       "      <th>3</th>\n",
       "      <td>4</td>\n",
       "      <td>Waiting to Exhale (1995)</td>\n",
       "      <td>Comedy|Drama</td>\n",
       "    </tr>\n",
       "    <tr>\n",
       "      <th>4</th>\n",
       "      <td>5</td>\n",
       "      <td>Father of the Bride Part II (1995)</td>\n",
       "      <td>Comedy</td>\n",
       "    </tr>\n",
       "  </tbody>\n",
       "</table>\n",
       "</div>"
      ],
      "text/plain": [
       "   movie_id                               title                        genres\n",
       "0         1                    Toy Story (1995)   Animation|Children's|Comedy\n",
       "1         2                      Jumanji (1995)  Adventure|Children's|Fantasy\n",
       "2         3             Grumpier Old Men (1995)                Comedy|Romance\n",
       "3         4            Waiting to Exhale (1995)                  Comedy|Drama\n",
       "4         5  Father of the Bride Part II (1995)                        Comedy"
      ]
     },
     "execution_count": 5,
     "metadata": {},
     "output_type": "execute_result"
    }
   ],
   "source": [
    "# hiển thị 5 dòng đầu tiên của bảng thông tin phim\n",
    "movies.head(5)"
   ]
  },
  {
   "cell_type": "code",
   "execution_count": 8,
   "id": "ca597906",
   "metadata": {},
   "outputs": [
    {
     "name": "stdout",
     "output_type": "stream",
     "text": [
      "<class 'pandas.core.frame.DataFrame'>\n",
      "RangeIndex: 3883 entries, 0 to 3882\n",
      "Data columns (total 3 columns):\n",
      " #   Column    Non-Null Count  Dtype \n",
      "---  ------    --------------  ----- \n",
      " 0   movie_id  3883 non-null   int64 \n",
      " 1   title     3883 non-null   object\n",
      " 2   genres    3883 non-null   object\n",
      "dtypes: int64(1), object(2)\n",
      "memory usage: 91.1+ KB\n"
     ]
    }
   ],
   "source": [
    "movies.info()"
   ]
  },
  {
   "cell_type": "markdown",
   "id": "3708022b",
   "metadata": {},
   "source": [
    "- **movies.dat**:\n",
    "    + Mục đích: Chứa thông tin về các bộ phim.\n",
    "    + Định dạng: MovieID::Title::Genres.\n",
    "    + Các cột:\n",
    "        - MovieID: Mã định danh phim.\n",
    "        - Title: Tiêu đề phim (giống với IMDB, bao gồm năm phát hành trong dấu ngoặc đơn).\n",
    "        - Genres: Thể loại phim, được phân tách bằng dấu gạch đứng | (ví dụ: Action|Adventure|Sci-Fi). Có một danh sách các thể loại xác định trước (Action, Adventure, - - - - Animation,...).\n",
    "    + Ghi chú: Một số MovieID có thể không tương ứng với phim nào do nhập liệu trùng lặp hoặc mục nhập thử nghiệm. Dữ liệu phim chủ yếu được nhập thủ công, có thể tồn tại lỗi và sự không nhất quán."
   ]
  },
  {
   "cell_type": "markdown",
   "id": "e7bf9844",
   "metadata": {},
   "source": [
    "> Đánh giá chất lượng dữ liệu và các vấn đề tiềm ẩn\n",
    "- Tính đầy đủ:\n",
    "    + Dữ liệu người dùng chỉ bao gồm những người đã cung cấp thông tin nhân khẩu học. Điều này có thể gây ra sai lệch (bias) nếu nhóm người dùng không cung cấp thông tin có hành vi đánh giá khác biệt.\n",
    "- Tính chính xác:\n",
    "    + Thông tin nhân khẩu học không được xác minh.\n",
    "    + Thông tin phim (tiêu đề, thể loại) có thể chứa lỗi do nhập liệu thủ công.\n",
    "- Tính nhất quán:\n",
    "    + Định dạng các tệp có vẻ nhất quán với dấu phân cách ::.\n",
    "    + Cách mã hóa tuổi và nghề nghiệp cần được sử dụng đúng khi phân tích.\n",
    "    + Thể loại phim được phân tách bằng |, cần xử lý khi phân tích (tách thành nhiều cột hoặc xử lý dưới dạng danh sách)."
   ]
  },
  {
   "cell_type": "markdown",
   "id": "1f27a428-8055-4e22-9d13-4c1cb4a63ff0",
   "metadata": {
    "id": "1f27a428-8055-4e22-9d13-4c1cb4a63ff0"
   },
   "source": [
    "> Lưu ý rằng tuổi và nghề nghiệp được mã hóa dưới dạng số nguyên"
   ]
  },
  {
   "cell_type": "markdown",
   "id": "d5b5f5ae-2fac-4bd9-9147-3248c57bc7ae",
   "metadata": {
    "id": "d5b5f5ae-2fac-4bd9-9147-3248c57bc7ae"
   },
   "source": [
    "- Việc phân tích dữ liệu nằm rải rác trên ba bảng không phải là một nhiệm vụ đơn giản.\n",
    "- Ví dụ, nếu bạn muốn tính điểm đánh giá trung bình của một bộ phim theo giới tính và độ tuổi, thì sẽ thuận tiện hơn nếu gộp tất cả dữ liệu thành một bảng duy nhất.\n",
    "- Dựa vào thông tin từ 3 file ta thấy:\n",
    "    + User_Id và Movie_Id là hai mã định danh, duy nhất nên ta có thể xem nó như là khóa chính của 2 tập data đó\n",
    "    + Với bảng ratings ta có cả 2 cột User_Id và Movie_Id cho thấy mối quan hệ giữa Users và Movies là quan hệ nhiều - nhiều. Từ đó sẽ sinh ra 1 bảng con để thể hiện rõ ràng hơn. Đó là ratings. Vậy nên chúng ta có thể gom nhóm cả 3 tập dữ liệu này lại thành 1 với ý nghĩa: Một người dùng có thể đánh giá xếp hạng nhiều movie và 1 movie có thể được xếp hạng bởi nhiều người dùng.\n",
    "> Để thực hiện việc gom nhóm, Ta sử dụng hàm `merge` của pandas, trước tiên chúng ta gộp bảng ratings với bảng users, sau đó gộp kết quả này với bảng movies.\n",
    "    - pandas sẽ tự suy ra cột nào để dùng làm khóa gộp (merge/join) dựa trên các tên cột trùng nhau."
   ]
  },
  {
   "cell_type": "code",
   "execution_count": 4,
   "id": "17f777e7-8403-46f7-be94-511653f973f8",
   "metadata": {
    "id": "17f777e7-8403-46f7-be94-511653f973f8",
    "outputId": "e624b783-d6c0-4e12-cfaa-4aea1841e071"
   },
   "outputs": [
    {
     "data": {
      "text/html": [
       "<div>\n",
       "<style scoped>\n",
       "    .dataframe tbody tr th:only-of-type {\n",
       "        vertical-align: middle;\n",
       "    }\n",
       "\n",
       "    .dataframe tbody tr th {\n",
       "        vertical-align: top;\n",
       "    }\n",
       "\n",
       "    .dataframe thead th {\n",
       "        text-align: right;\n",
       "    }\n",
       "</style>\n",
       "<table border=\"1\" class=\"dataframe\">\n",
       "  <thead>\n",
       "    <tr style=\"text-align: right;\">\n",
       "      <th></th>\n",
       "      <th>user_id</th>\n",
       "      <th>movie_id</th>\n",
       "      <th>rating</th>\n",
       "      <th>timestamp</th>\n",
       "      <th>gender</th>\n",
       "      <th>age</th>\n",
       "      <th>occupation</th>\n",
       "      <th>zip</th>\n",
       "      <th>title</th>\n",
       "      <th>genres</th>\n",
       "    </tr>\n",
       "  </thead>\n",
       "  <tbody>\n",
       "    <tr>\n",
       "      <th>0</th>\n",
       "      <td>1</td>\n",
       "      <td>1193</td>\n",
       "      <td>5</td>\n",
       "      <td>978300760</td>\n",
       "      <td>F</td>\n",
       "      <td>1</td>\n",
       "      <td>10</td>\n",
       "      <td>48067</td>\n",
       "      <td>One Flew Over the Cuckoo's Nest (1975)</td>\n",
       "      <td>Drama</td>\n",
       "    </tr>\n",
       "    <tr>\n",
       "      <th>1</th>\n",
       "      <td>1</td>\n",
       "      <td>661</td>\n",
       "      <td>3</td>\n",
       "      <td>978302109</td>\n",
       "      <td>F</td>\n",
       "      <td>1</td>\n",
       "      <td>10</td>\n",
       "      <td>48067</td>\n",
       "      <td>James and the Giant Peach (1996)</td>\n",
       "      <td>Animation|Children's|Musical</td>\n",
       "    </tr>\n",
       "    <tr>\n",
       "      <th>2</th>\n",
       "      <td>1</td>\n",
       "      <td>914</td>\n",
       "      <td>3</td>\n",
       "      <td>978301968</td>\n",
       "      <td>F</td>\n",
       "      <td>1</td>\n",
       "      <td>10</td>\n",
       "      <td>48067</td>\n",
       "      <td>My Fair Lady (1964)</td>\n",
       "      <td>Musical|Romance</td>\n",
       "    </tr>\n",
       "    <tr>\n",
       "      <th>3</th>\n",
       "      <td>1</td>\n",
       "      <td>3408</td>\n",
       "      <td>4</td>\n",
       "      <td>978300275</td>\n",
       "      <td>F</td>\n",
       "      <td>1</td>\n",
       "      <td>10</td>\n",
       "      <td>48067</td>\n",
       "      <td>Erin Brockovich (2000)</td>\n",
       "      <td>Drama</td>\n",
       "    </tr>\n",
       "    <tr>\n",
       "      <th>4</th>\n",
       "      <td>1</td>\n",
       "      <td>2355</td>\n",
       "      <td>5</td>\n",
       "      <td>978824291</td>\n",
       "      <td>F</td>\n",
       "      <td>1</td>\n",
       "      <td>10</td>\n",
       "      <td>48067</td>\n",
       "      <td>Bug's Life, A (1998)</td>\n",
       "      <td>Animation|Children's|Comedy</td>\n",
       "    </tr>\n",
       "    <tr>\n",
       "      <th>...</th>\n",
       "      <td>...</td>\n",
       "      <td>...</td>\n",
       "      <td>...</td>\n",
       "      <td>...</td>\n",
       "      <td>...</td>\n",
       "      <td>...</td>\n",
       "      <td>...</td>\n",
       "      <td>...</td>\n",
       "      <td>...</td>\n",
       "      <td>...</td>\n",
       "    </tr>\n",
       "    <tr>\n",
       "      <th>1000204</th>\n",
       "      <td>6040</td>\n",
       "      <td>1091</td>\n",
       "      <td>1</td>\n",
       "      <td>956716541</td>\n",
       "      <td>M</td>\n",
       "      <td>25</td>\n",
       "      <td>6</td>\n",
       "      <td>11106</td>\n",
       "      <td>Weekend at Bernie's (1989)</td>\n",
       "      <td>Comedy</td>\n",
       "    </tr>\n",
       "    <tr>\n",
       "      <th>1000205</th>\n",
       "      <td>6040</td>\n",
       "      <td>1094</td>\n",
       "      <td>5</td>\n",
       "      <td>956704887</td>\n",
       "      <td>M</td>\n",
       "      <td>25</td>\n",
       "      <td>6</td>\n",
       "      <td>11106</td>\n",
       "      <td>Crying Game, The (1992)</td>\n",
       "      <td>Drama|Romance|War</td>\n",
       "    </tr>\n",
       "    <tr>\n",
       "      <th>1000206</th>\n",
       "      <td>6040</td>\n",
       "      <td>562</td>\n",
       "      <td>5</td>\n",
       "      <td>956704746</td>\n",
       "      <td>M</td>\n",
       "      <td>25</td>\n",
       "      <td>6</td>\n",
       "      <td>11106</td>\n",
       "      <td>Welcome to the Dollhouse (1995)</td>\n",
       "      <td>Comedy|Drama</td>\n",
       "    </tr>\n",
       "    <tr>\n",
       "      <th>1000207</th>\n",
       "      <td>6040</td>\n",
       "      <td>1096</td>\n",
       "      <td>4</td>\n",
       "      <td>956715648</td>\n",
       "      <td>M</td>\n",
       "      <td>25</td>\n",
       "      <td>6</td>\n",
       "      <td>11106</td>\n",
       "      <td>Sophie's Choice (1982)</td>\n",
       "      <td>Drama</td>\n",
       "    </tr>\n",
       "    <tr>\n",
       "      <th>1000208</th>\n",
       "      <td>6040</td>\n",
       "      <td>1097</td>\n",
       "      <td>4</td>\n",
       "      <td>956715569</td>\n",
       "      <td>M</td>\n",
       "      <td>25</td>\n",
       "      <td>6</td>\n",
       "      <td>11106</td>\n",
       "      <td>E.T. the Extra-Terrestrial (1982)</td>\n",
       "      <td>Children's|Drama|Fantasy|Sci-Fi</td>\n",
       "    </tr>\n",
       "  </tbody>\n",
       "</table>\n",
       "<p>1000209 rows × 10 columns</p>\n",
       "</div>"
      ],
      "text/plain": [
       "         user_id  movie_id  rating  timestamp gender  age  occupation    zip  \\\n",
       "0              1      1193       5  978300760      F    1          10  48067   \n",
       "1              1       661       3  978302109      F    1          10  48067   \n",
       "2              1       914       3  978301968      F    1          10  48067   \n",
       "3              1      3408       4  978300275      F    1          10  48067   \n",
       "4              1      2355       5  978824291      F    1          10  48067   \n",
       "...          ...       ...     ...        ...    ...  ...         ...    ...   \n",
       "1000204     6040      1091       1  956716541      M   25           6  11106   \n",
       "1000205     6040      1094       5  956704887      M   25           6  11106   \n",
       "1000206     6040       562       5  956704746      M   25           6  11106   \n",
       "1000207     6040      1096       4  956715648      M   25           6  11106   \n",
       "1000208     6040      1097       4  956715569      M   25           6  11106   \n",
       "\n",
       "                                          title  \\\n",
       "0        One Flew Over the Cuckoo's Nest (1975)   \n",
       "1              James and the Giant Peach (1996)   \n",
       "2                           My Fair Lady (1964)   \n",
       "3                        Erin Brockovich (2000)   \n",
       "4                          Bug's Life, A (1998)   \n",
       "...                                         ...   \n",
       "1000204              Weekend at Bernie's (1989)   \n",
       "1000205                 Crying Game, The (1992)   \n",
       "1000206         Welcome to the Dollhouse (1995)   \n",
       "1000207                  Sophie's Choice (1982)   \n",
       "1000208       E.T. the Extra-Terrestrial (1982)   \n",
       "\n",
       "                                  genres  \n",
       "0                                  Drama  \n",
       "1           Animation|Children's|Musical  \n",
       "2                        Musical|Romance  \n",
       "3                                  Drama  \n",
       "4            Animation|Children's|Comedy  \n",
       "...                                  ...  \n",
       "1000204                           Comedy  \n",
       "1000205                Drama|Romance|War  \n",
       "1000206                     Comedy|Drama  \n",
       "1000207                            Drama  \n",
       "1000208  Children's|Drama|Fantasy|Sci-Fi  \n",
       "\n",
       "[1000209 rows x 10 columns]"
      ]
     },
     "execution_count": 4,
     "metadata": {},
     "output_type": "execute_result"
    }
   ],
   "source": [
    "data = pd.merge(pd.merge(ratings, users), movies)\n",
    "\n",
    "# hiển thị toàn bộ dữ liệu đã gộp\n",
    "data"
   ]
  },
  {
   "cell_type": "code",
   "execution_count": 5,
   "id": "8f72c0e6-ba73-47c3-b449-cf54cf8c1cc4",
   "metadata": {
    "id": "8f72c0e6-ba73-47c3-b449-cf54cf8c1cc4",
    "outputId": "2328912c-d555-4d6f-d894-310cec5ae53a"
   },
   "outputs": [
    {
     "data": {
      "text/plain": [
       "user_id                                            1\n",
       "movie_id                                        1193\n",
       "rating                                             5\n",
       "timestamp                                  978300760\n",
       "gender                                             F\n",
       "age                                                1\n",
       "occupation                                        10\n",
       "zip                                            48067\n",
       "title         One Flew Over the Cuckoo's Nest (1975)\n",
       "genres                                         Drama\n",
       "Name: 0, dtype: object"
      ]
     },
     "execution_count": 5,
     "metadata": {},
     "output_type": "execute_result"
    }
   ],
   "source": [
    "# hiển thị hàng đầu tiên của dữ liệu đã gộp\n",
    "data.iloc[0]"
   ]
  },
  {
   "cell_type": "markdown",
   "id": "50802b53-376f-4f44-ac5d-62dfc65af7e8",
   "metadata": {
    "id": "50802b53-376f-4f44-ac5d-62dfc65af7e8"
   },
   "source": [
    "- Để tính điểm đánh giá trung bình của mỗi bộ phim theo giới tính, chúng ta có thể sử dụng phương thức pivot_table:"
   ]
  },
  {
   "cell_type": "markdown",
   "id": "27d225f7",
   "metadata": {},
   "source": [
    "## Yếu tố ảnh hưởng đến độ phân tán điểm đánh giá?"
   ]
  },
  {
   "cell_type": "markdown",
   "id": "62cd43e0",
   "metadata": {},
   "source": [
    "- Để xác định yếu tố nào ảnh hưởng đáng kể, chúng ta sẽ tính độ lệch chuẩn (σ) của ratings cho mỗi movie_id, sau đó phân tích σ này theo từng yếu tố:\n",
    "    + Năm phát hành (Release Year): Chúng ta sẽ trích xuất thông tin năm phát hành của movie bằng cách tách phần trong ngoặc tròn của Title **One Flew Over the Cuckoo's Nest (1975)** vào cột mới có tên là release_year\n",
    "    + Sau đó tiến hành group by rating theo nhóm với release_year để tính trung bình. \n",
    "- Khi nói “ảnh hưởng đến mức độ phân tán”, ta đang hỏi:\n",
    "    + Liệu giá trị trung bình và độ biến thiên của biến số có khác nhau giữa các nhóm phân loại hay không?.\n",
    "    + Tiến hành trực quan số liệu để nhận xét và đánh giá. "
   ]
  },
  {
   "cell_type": "markdown",
   "id": "41ab8f8b",
   "metadata": {},
   "source": [
    "### Năm phát hành"
   ]
  },
  {
   "cell_type": "code",
   "execution_count": 6,
   "id": "d2b88ead",
   "metadata": {},
   "outputs": [],
   "source": [
    "# 1. Trích xuất năm phát hành từ tiêu đề phim\n",
    "# Sử dụng biểu thức chính quy để tìm năm trong dấu ngoặc ở cuối tiêu đề\n",
    "data['release_year'] = data['title'].str.extract(r'\\((\\d{4})\\)$', expand=False)\n",
    "# Chuyển đổi cột 'release_year' sang kiểu số, xử lý lỗi bằng cách thay thế giá trị không thể chuyển đổi thành NaN\n",
    "data['release_year'] = pd.to_numeric(data['release_year'], errors='coerce')"
   ]
  },
  {
   "cell_type": "code",
   "execution_count": 7,
   "id": "9c2bb0f3",
   "metadata": {},
   "outputs": [
    {
     "data": {
      "text/html": [
       "<div>\n",
       "<style scoped>\n",
       "    .dataframe tbody tr th:only-of-type {\n",
       "        vertical-align: middle;\n",
       "    }\n",
       "\n",
       "    .dataframe tbody tr th {\n",
       "        vertical-align: top;\n",
       "    }\n",
       "\n",
       "    .dataframe thead th {\n",
       "        text-align: right;\n",
       "    }\n",
       "</style>\n",
       "<table border=\"1\" class=\"dataframe\">\n",
       "  <thead>\n",
       "    <tr style=\"text-align: right;\">\n",
       "      <th></th>\n",
       "      <th>release_year</th>\n",
       "      <th>rating</th>\n",
       "    </tr>\n",
       "  </thead>\n",
       "  <tbody>\n",
       "    <tr>\n",
       "      <th>0</th>\n",
       "      <td>1919</td>\n",
       "      <td>3.466667</td>\n",
       "    </tr>\n",
       "    <tr>\n",
       "      <th>1</th>\n",
       "      <td>1920</td>\n",
       "      <td>3.666667</td>\n",
       "    </tr>\n",
       "    <tr>\n",
       "      <th>2</th>\n",
       "      <td>1921</td>\n",
       "      <td>3.790323</td>\n",
       "    </tr>\n",
       "    <tr>\n",
       "      <th>3</th>\n",
       "      <td>1922</td>\n",
       "      <td>3.991597</td>\n",
       "    </tr>\n",
       "    <tr>\n",
       "      <th>4</th>\n",
       "      <td>1923</td>\n",
       "      <td>3.117647</td>\n",
       "    </tr>\n",
       "  </tbody>\n",
       "</table>\n",
       "</div>"
      ],
      "text/plain": [
       "   release_year    rating\n",
       "0          1919  3.466667\n",
       "1          1920  3.666667\n",
       "2          1921  3.790323\n",
       "3          1922  3.991597\n",
       "4          1923  3.117647"
      ]
     },
     "execution_count": 7,
     "metadata": {},
     "output_type": "execute_result"
    }
   ],
   "source": [
    "avg_rating_by_year = data.groupby(\"release_year\")[\"rating\"].mean().reset_index()\n",
    "avg_rating_by_year.head()"
   ]
  },
  {
   "cell_type": "code",
   "execution_count": 8,
   "id": "28550f8e",
   "metadata": {},
   "outputs": [
    {
     "data": {
      "text/html": [
       "<div>\n",
       "<style scoped>\n",
       "    .dataframe tbody tr th:only-of-type {\n",
       "        vertical-align: middle;\n",
       "    }\n",
       "\n",
       "    .dataframe tbody tr th {\n",
       "        vertical-align: top;\n",
       "    }\n",
       "\n",
       "    .dataframe thead th {\n",
       "        text-align: right;\n",
       "    }\n",
       "</style>\n",
       "<table border=\"1\" class=\"dataframe\">\n",
       "  <thead>\n",
       "    <tr style=\"text-align: right;\">\n",
       "      <th></th>\n",
       "      <th>release_year</th>\n",
       "      <th>count</th>\n",
       "      <th>mean</th>\n",
       "      <th>std</th>\n",
       "      <th>min</th>\n",
       "      <th>max</th>\n",
       "    </tr>\n",
       "  </thead>\n",
       "  <tbody>\n",
       "    <tr>\n",
       "      <th>0</th>\n",
       "      <td>1919</td>\n",
       "      <td>45</td>\n",
       "      <td>3.466667</td>\n",
       "      <td>1.035725</td>\n",
       "      <td>1</td>\n",
       "      <td>5</td>\n",
       "    </tr>\n",
       "    <tr>\n",
       "      <th>1</th>\n",
       "      <td>1920</td>\n",
       "      <td>24</td>\n",
       "      <td>3.666667</td>\n",
       "      <td>1.307725</td>\n",
       "      <td>1</td>\n",
       "      <td>5</td>\n",
       "    </tr>\n",
       "    <tr>\n",
       "      <th>2</th>\n",
       "      <td>1921</td>\n",
       "      <td>62</td>\n",
       "      <td>3.790323</td>\n",
       "      <td>1.073329</td>\n",
       "      <td>1</td>\n",
       "      <td>5</td>\n",
       "    </tr>\n",
       "    <tr>\n",
       "      <th>3</th>\n",
       "      <td>1922</td>\n",
       "      <td>238</td>\n",
       "      <td>3.991597</td>\n",
       "      <td>1.098490</td>\n",
       "      <td>1</td>\n",
       "      <td>5</td>\n",
       "    </tr>\n",
       "    <tr>\n",
       "      <th>4</th>\n",
       "      <td>1923</td>\n",
       "      <td>17</td>\n",
       "      <td>3.117647</td>\n",
       "      <td>1.495090</td>\n",
       "      <td>1</td>\n",
       "      <td>5</td>\n",
       "    </tr>\n",
       "  </tbody>\n",
       "</table>\n",
       "</div>"
      ],
      "text/plain": [
       "   release_year  count      mean       std  min  max\n",
       "0          1919     45  3.466667  1.035725    1    5\n",
       "1          1920     24  3.666667  1.307725    1    5\n",
       "2          1921     62  3.790323  1.073329    1    5\n",
       "3          1922    238  3.991597  1.098490    1    5\n",
       "4          1923     17  3.117647  1.495090    1    5"
      ]
     },
     "execution_count": 8,
     "metadata": {},
     "output_type": "execute_result"
    }
   ],
   "source": [
    "stats_by_year = (\n",
    "    data.groupby(\"release_year\")[\"rating\"]\n",
    "        .agg(['count', 'mean', 'std', 'min', 'max'])\n",
    "        .reset_index()\n",
    ")\n",
    "stats_by_year.head()\n"
   ]
  },
  {
   "cell_type": "code",
   "execution_count": 9,
   "id": "f0e535f9",
   "metadata": {},
   "outputs": [
    {
     "data": {
      "image/png": "[encoded data removed]",
      "text/plain": [
       "<Figure size 1000x500 with 1 Axes>"
      ]
     },
     "metadata": {},
     "output_type": "display_data"
    }
   ],
   "source": [
    "plt.figure(figsize=(10,5))\n",
    "plt.plot(stats_by_year[\"release_year\"], stats_by_year[\"mean\"], marker=\"o\")\n",
    "plt.title(\"Average Rating by Release Year\")\n",
    "plt.xlabel(\"Release Year\")\n",
    "plt.ylabel(\"Average Rating\")\n",
    "plt.grid(True)\n",
    "plt.show()"
   ]
  },
  {
   "cell_type": "markdown",
   "id": "3a80e330",
   "metadata": {},
   "source": [
    "- Nhận xét:\n",
    "    + Quan sát biểu đồ trung bình Rating theo năm cho thấy, giai đoạn 1919–1935 có sự dao động mạnh về điểm đánh giá, với đỉnh khoảng năm 1927 (trên 4.2 sao) và đáy năm 1929 (khoảng 3.1 sao). Sự biến động này nhiều khả năng do ngành điện ảnh còn sơ khai, lượt tiếp cận chưa phổ biến và số lượng phim phát hành mỗi năm thấp, khiến trung bình dễ dao động.\n",
    "    + Từ năm 1935 trở đi, mức trung bình Rating dần ổn định trong khoảng 3.7–4.1, phản ánh sự trưởng thành của ngành điện ảnh và mức độ đồng đều hơn trong chất lượng phim. Tuy nhiên, kể từ sau 1975, trung bình Rating có xu hướng giảm nhẹ đến năm 2000, có thể do sự gia tăng mạnh về số lượng phim hoặc thay đổi trong tiêu chuẩn đánh giá của khán giả."
   ]
  },
  {
   "cell_type": "code",
   "execution_count": 12,
   "id": "ea4f016e",
   "metadata": {},
   "outputs": [
    {
     "data": {
      "image/png": "[encoded data removed]",
      "text/plain": [
       "<Figure size 1200x600 with 1 Axes>"
      ]
     },
     "metadata": {},
     "output_type": "display_data"
    }
   ],
   "source": [
    "plt.figure(figsize=(12,6))  # Kích thước biểu đồ\n",
    "plt.bar(stats_by_year[\"release_year\"], stats_by_year[\"count\"], color='skyblue')\n",
    "\n",
    "plt.title(\"Count Movie Rating by Release Year\", fontsize=14)\n",
    "plt.xlabel(\"Release Year\", fontsize=12)\n",
    "plt.ylabel(\"Count Rating\", fontsize=12)\n",
    "plt.xticks(rotation=45)  # Xoay nhãn năm cho dễ đọc\n",
    "plt.grid(axis='y', linestyle='--', alpha=0.7)\n",
    "\n",
    "plt.show()"
   ]
  },
  {
   "cell_type": "markdown",
   "id": "d6e545e4",
   "metadata": {},
   "source": [
    "- Quan sát biểu đồ số lượng ratings theo năm, ta thấy:\n",
    "    + Trước 1930: số lượng phim và lượt đánh giá cực ít → dao động trung bình rating lớn là hệ quả tự nhiên (sai số mẫu cao).\n",
    "    + Sau 1960: lượng dữ liệu tăng mạnh → trung bình rating trở nên ổn định hơn, phản ánh khách quan hơn xu hướng thực tế của thị trường điện ảnh.\n",
    "> Biểu đồ số lượng rating theo năm cho thấy sự khác biệt rõ giữa hai giai đoạn của ngành điện ảnh. Từ 1919 đến khoảng 1940, số lượng phim và lượt đánh giá rất thấp, dẫn đến giá trị trung bình rating biến động mạnh do cỡ mẫu nhỏ. Bước sang giai đoạn 1960–2000, số lượng rating tăng nhanh và ổn định hơn, phản ánh sự mở rộng của thị trường điện ảnh và tính khách quan cao hơn trong dữ liệu. Do đó, khi phân tích xu hướng đánh giá theo năm, cần tập trung vào giai đoạn sau 1960 để đảm bảo ý nghĩa thống kê và đại diện cho toàn bộ ngành."
   ]
  },
  {
   "cell_type": "code",
   "execution_count": 15,
   "id": "e4eabc47",
   "metadata": {},
   "outputs": [
    {
     "data": {
      "image/png": "[encoded data removed]",
      "text/plain": [
       "<Figure size 1200x600 with 1 Axes>"
      ]
     },
     "metadata": {},
     "output_type": "display_data"
    }
   ],
   "source": [
    "plt.figure(figsize=(12,6))\n",
    "sns.lineplot(x=\"release_year\", y=\"std\", data=stats_by_year, marker=\"o\")\n",
    "plt.title(\"Mức độ phân tán (std) của Rating theo năm phát hành\")\n",
    "plt.xlabel(\"Năm phát hành\")\n",
    "plt.ylabel(\"Độ lệch chuẩn của Rating\")\n",
    "plt.show()"
   ]
  },
  {
   "cell_type": "markdown",
   "id": "1339743f",
   "metadata": {},
   "source": [
    "- Độ lệch chuẩn của 1 vài năm đầu khá cao nhưng sao đó dần ổn định trở lại và có xu hướng tăng từ 1970 đến năm 2000"
   ]
  },
  {
   "cell_type": "markdown",
   "id": "f8e2d698",
   "metadata": {},
   "source": [
    "- Kết luận:\n",
    "    + Dựa vào tổng số lượng Rating và sự phân bố cao của độ lệch chuẩn trước năm 1940 cho thấy ngành điện ảnh còn mới và lượng tiếp cận còn hạn chế. Sau đó độ lệch chuẩn đã giảm và có xu hướng tăng dần cùng với số lượng Rating đỉnh điêm là hơn 800000 những năm gần 2000. \n",
    "    + Điều này chứng tỏ rằng năm phát hành ảnh hưởng đáng kể đến mức độ phân tán của rating, đặc biệt ở giai đoạn đầu thế kỷ XX khi ngành điện ảnh còn non trẻ, và giảm dần khi thị trường trở nên ổn định hơn."
   ]
  },
  {
   "cell_type": "markdown",
   "id": "62c9349e",
   "metadata": {},
   "source": [
    "### Thể loại"
   ]
  },
  {
   "cell_type": "code",
   "execution_count": 19,
   "id": "db97867f",
   "metadata": {},
   "outputs": [
    {
     "data": {
      "text/plain": [
       "0     Animation|Children's|Comedy\n",
       "1    Adventure|Children's|Fantasy\n",
       "2                  Comedy|Romance\n",
       "3                    Comedy|Drama\n",
       "4                          Comedy\n",
       "Name: genres, dtype: object"
      ]
     },
     "execution_count": 19,
     "metadata": {},
     "output_type": "execute_result"
    }
   ],
   "source": [
    "movies[\"genres\"].head()"
   ]
  },
  {
   "cell_type": "code",
   "execution_count": 20,
   "id": "c1b65385",
   "metadata": {},
   "outputs": [
    {
     "data": {
      "text/plain": [
       "0     [Animation, Children's, Comedy]\n",
       "1    [Adventure, Children's, Fantasy]\n",
       "2                   [Comedy, Romance]\n",
       "3                     [Comedy, Drama]\n",
       "4                            [Comedy]\n",
       "Name: genres, dtype: object"
      ]
     },
     "execution_count": 20,
     "metadata": {},
     "output_type": "execute_result"
    }
   ],
   "source": [
    "movies[\"genres\"].head().str.split(\"|\")"
   ]
  },
  {
   "cell_type": "code",
   "execution_count": 21,
   "id": "ac63cc60",
   "metadata": {},
   "outputs": [
    {
     "data": {
      "text/html": [
       "<div>\n",
       "<style scoped>\n",
       "    .dataframe tbody tr th:only-of-type {\n",
       "        vertical-align: middle;\n",
       "    }\n",
       "\n",
       "    .dataframe tbody tr th {\n",
       "        vertical-align: top;\n",
       "    }\n",
       "\n",
       "    .dataframe thead th {\n",
       "        text-align: right;\n",
       "    }\n",
       "</style>\n",
       "<table border=\"1\" class=\"dataframe\">\n",
       "  <thead>\n",
       "    <tr style=\"text-align: right;\">\n",
       "      <th></th>\n",
       "      <th>user_id</th>\n",
       "      <th>movie_id</th>\n",
       "      <th>rating</th>\n",
       "      <th>timestamp</th>\n",
       "      <th>gender</th>\n",
       "      <th>age</th>\n",
       "      <th>occupation</th>\n",
       "      <th>zip</th>\n",
       "      <th>title</th>\n",
       "      <th>genres</th>\n",
       "      <th>release_year</th>\n",
       "      <th>genre</th>\n",
       "    </tr>\n",
       "  </thead>\n",
       "  <tbody>\n",
       "    <tr>\n",
       "      <th>0</th>\n",
       "      <td>1</td>\n",
       "      <td>1193</td>\n",
       "      <td>5</td>\n",
       "      <td>978300760</td>\n",
       "      <td>F</td>\n",
       "      <td>1</td>\n",
       "      <td>10</td>\n",
       "      <td>48067</td>\n",
       "      <td>One Flew Over the Cuckoo's Nest (1975)</td>\n",
       "      <td>Drama</td>\n",
       "      <td>1975</td>\n",
       "      <td>Drama</td>\n",
       "    </tr>\n",
       "    <tr>\n",
       "      <th>1</th>\n",
       "      <td>1</td>\n",
       "      <td>661</td>\n",
       "      <td>3</td>\n",
       "      <td>978302109</td>\n",
       "      <td>F</td>\n",
       "      <td>1</td>\n",
       "      <td>10</td>\n",
       "      <td>48067</td>\n",
       "      <td>James and the Giant Peach (1996)</td>\n",
       "      <td>Animation|Children's|Musical</td>\n",
       "      <td>1996</td>\n",
       "      <td>Animation</td>\n",
       "    </tr>\n",
       "    <tr>\n",
       "      <th>1</th>\n",
       "      <td>1</td>\n",
       "      <td>661</td>\n",
       "      <td>3</td>\n",
       "      <td>978302109</td>\n",
       "      <td>F</td>\n",
       "      <td>1</td>\n",
       "      <td>10</td>\n",
       "      <td>48067</td>\n",
       "      <td>James and the Giant Peach (1996)</td>\n",
       "      <td>Animation|Children's|Musical</td>\n",
       "      <td>1996</td>\n",
       "      <td>Children's</td>\n",
       "    </tr>\n",
       "    <tr>\n",
       "      <th>1</th>\n",
       "      <td>1</td>\n",
       "      <td>661</td>\n",
       "      <td>3</td>\n",
       "      <td>978302109</td>\n",
       "      <td>F</td>\n",
       "      <td>1</td>\n",
       "      <td>10</td>\n",
       "      <td>48067</td>\n",
       "      <td>James and the Giant Peach (1996)</td>\n",
       "      <td>Animation|Children's|Musical</td>\n",
       "      <td>1996</td>\n",
       "      <td>Musical</td>\n",
       "    </tr>\n",
       "    <tr>\n",
       "      <th>2</th>\n",
       "      <td>1</td>\n",
       "      <td>914</td>\n",
       "      <td>3</td>\n",
       "      <td>978301968</td>\n",
       "      <td>F</td>\n",
       "      <td>1</td>\n",
       "      <td>10</td>\n",
       "      <td>48067</td>\n",
       "      <td>My Fair Lady (1964)</td>\n",
       "      <td>Musical|Romance</td>\n",
       "      <td>1964</td>\n",
       "      <td>Musical</td>\n",
       "    </tr>\n",
       "  </tbody>\n",
       "</table>\n",
       "</div>"
      ],
      "text/plain": [
       "   user_id  movie_id  rating  timestamp gender  age  occupation    zip  \\\n",
       "0        1      1193       5  978300760      F    1          10  48067   \n",
       "1        1       661       3  978302109      F    1          10  48067   \n",
       "1        1       661       3  978302109      F    1          10  48067   \n",
       "1        1       661       3  978302109      F    1          10  48067   \n",
       "2        1       914       3  978301968      F    1          10  48067   \n",
       "\n",
       "                                    title                        genres  \\\n",
       "0  One Flew Over the Cuckoo's Nest (1975)                         Drama   \n",
       "1        James and the Giant Peach (1996)  Animation|Children's|Musical   \n",
       "1        James and the Giant Peach (1996)  Animation|Children's|Musical   \n",
       "1        James and the Giant Peach (1996)  Animation|Children's|Musical   \n",
       "2                     My Fair Lady (1964)               Musical|Romance   \n",
       "\n",
       "   release_year       genre  \n",
       "0          1975       Drama  \n",
       "1          1996   Animation  \n",
       "1          1996  Children's  \n",
       "1          1996     Musical  \n",
       "2          1964     Musical  "
      ]
     },
     "execution_count": 21,
     "metadata": {},
     "output_type": "execute_result"
    }
   ],
   "source": [
    "# tách cột thể loại theo dấu '|'\n",
    "df_genre = data.assign(genre=data['genres'].str.split('|')).explode('genre')\n",
    "df_genre = df_genre.dropna(subset=['genre'])\n",
    "df_genre.head()"
   ]
  },
  {
   "cell_type": "code",
   "execution_count": 22,
   "id": "0f2b2d2a",
   "metadata": {},
   "outputs": [
    {
     "data": {
      "text/html": [
       "<div>\n",
       "<style scoped>\n",
       "    .dataframe tbody tr th:only-of-type {\n",
       "        vertical-align: middle;\n",
       "    }\n",
       "\n",
       "    .dataframe tbody tr th {\n",
       "        vertical-align: top;\n",
       "    }\n",
       "\n",
       "    .dataframe thead th {\n",
       "        text-align: right;\n",
       "    }\n",
       "</style>\n",
       "<table border=\"1\" class=\"dataframe\">\n",
       "  <thead>\n",
       "    <tr style=\"text-align: right;\">\n",
       "      <th></th>\n",
       "      <th>count</th>\n",
       "      <th>mean</th>\n",
       "      <th>std</th>\n",
       "    </tr>\n",
       "    <tr>\n",
       "      <th>genre</th>\n",
       "      <th></th>\n",
       "      <th></th>\n",
       "      <th></th>\n",
       "    </tr>\n",
       "  </thead>\n",
       "  <tbody>\n",
       "    <tr>\n",
       "      <th>Comedy</th>\n",
       "      <td>356580</td>\n",
       "      <td>3.522099</td>\n",
       "      <td>1.120726</td>\n",
       "    </tr>\n",
       "    <tr>\n",
       "      <th>Drama</th>\n",
       "      <td>354529</td>\n",
       "      <td>3.766332</td>\n",
       "      <td>1.045784</td>\n",
       "    </tr>\n",
       "    <tr>\n",
       "      <th>Action</th>\n",
       "      <td>257457</td>\n",
       "      <td>3.491185</td>\n",
       "      <td>1.133471</td>\n",
       "    </tr>\n",
       "    <tr>\n",
       "      <th>Thriller</th>\n",
       "      <td>189680</td>\n",
       "      <td>3.570466</td>\n",
       "      <td>1.106643</td>\n",
       "    </tr>\n",
       "    <tr>\n",
       "      <th>Sci-Fi</th>\n",
       "      <td>157294</td>\n",
       "      <td>3.466521</td>\n",
       "      <td>1.157239</td>\n",
       "    </tr>\n",
       "    <tr>\n",
       "      <th>Romance</th>\n",
       "      <td>147523</td>\n",
       "      <td>3.607465</td>\n",
       "      <td>1.066755</td>\n",
       "    </tr>\n",
       "    <tr>\n",
       "      <th>Adventure</th>\n",
       "      <td>133953</td>\n",
       "      <td>3.477257</td>\n",
       "      <td>1.129464</td>\n",
       "    </tr>\n",
       "    <tr>\n",
       "      <th>Crime</th>\n",
       "      <td>79541</td>\n",
       "      <td>3.708679</td>\n",
       "      <td>1.077740</td>\n",
       "    </tr>\n",
       "    <tr>\n",
       "      <th>Horror</th>\n",
       "      <td>76386</td>\n",
       "      <td>3.215013</td>\n",
       "      <td>1.225531</td>\n",
       "    </tr>\n",
       "    <tr>\n",
       "      <th>Children's</th>\n",
       "      <td>72186</td>\n",
       "      <td>3.422035</td>\n",
       "      <td>1.160881</td>\n",
       "    </tr>\n",
       "  </tbody>\n",
       "</table>\n",
       "</div>"
      ],
      "text/plain": [
       "             count      mean       std\n",
       "genre                                 \n",
       "Comedy      356580  3.522099  1.120726\n",
       "Drama       354529  3.766332  1.045784\n",
       "Action      257457  3.491185  1.133471\n",
       "Thriller    189680  3.570466  1.106643\n",
       "Sci-Fi      157294  3.466521  1.157239\n",
       "Romance     147523  3.607465  1.066755\n",
       "Adventure   133953  3.477257  1.129464\n",
       "Crime        79541  3.708679  1.077740\n",
       "Horror       76386  3.215013  1.225531\n",
       "Children's   72186  3.422035  1.160881"
      ]
     },
     "execution_count": 22,
     "metadata": {},
     "output_type": "execute_result"
    }
   ],
   "source": [
    "stats_by_genre = (\n",
    "    df_genre.groupby(\"genre\")[\"rating\"]\n",
    "    .agg(['count', 'mean', 'std'])\n",
    "    .sort_values(by=\"count\", ascending=False)\n",
    ")\n",
    "stats_by_genre.head(10)\n"
   ]
  },
  {
   "cell_type": "code",
   "execution_count": 24,
   "id": "fcd3714b",
   "metadata": {},
   "outputs": [],
   "source": [
    "# chọn top thể loại phổ biến (ví dụ có trên 500 phim)\n",
    "popular_genres = stats_by_genre[stats_by_genre[\"count\"] > 500].index"
   ]
  },
  {
   "cell_type": "code",
   "execution_count": 25,
   "id": "ce54eee6",
   "metadata": {},
   "outputs": [
    {
     "data": {
      "image/png": "[encoded data removed]",
      "text/plain": [
       "<Figure size 1200x600 with 1 Axes>"
      ]
     },
     "metadata": {},
     "output_type": "display_data"
    }
   ],
   "source": [
    "plt.figure(figsize=(12,6))\n",
    "sns.boxplot(data=df_genre[df_genre['genre'].isin(popular_genres)],\n",
    "            x=\"genre\", y=\"rating\")\n",
    "plt.xticks(rotation=45)\n",
    "plt.title(\"Phân phối rating theo thể loại phim\")\n",
    "plt.show()\n"
   ]
  },
  {
   "cell_type": "markdown",
   "id": "c2356d6c",
   "metadata": {},
   "source": [
    "- Mô tả biểu đồ boxplot: \n",
    "    + Phần lớn thể loại có median rating khoảng 3.5–4.0, cho thấy xu hướng khán giả đánh giá khá tích cực.\n",
    "    + Một vài thể loại như Drama, Musical, Film-Noir có median cao hơn một chút → khán giả có vẻ đánh giá tích cực hơn.\n",
    "    + Thể loại Horror có median thấp nhất, và hộp trải rộng → rating dao động lớn, có nhiều phim được đánh giá rất thấp hoặc rất cao (tức là ý kiến khán giả chia rẽ hơn).\n",
    "    + Các outlier xuất hiện rải rác ở hầu hết thể loại, cho thấy có những phim “cực đỉnh” hoặc “cực tệ” trong từng nhóm.\n",
    "> Mặc dù trung vị rating giữa các thể loại khá tương đồng, nhưng mức độ phân tán và sự xuất hiện của ngoại lệ (outlier) khác nhau đáng kể — cho thấy trải nghiệm khán giả đối với từng thể loại không đồng nhất hoàn toàn."
   ]
  },
  {
   "cell_type": "code",
   "execution_count": 26,
   "id": "93fad442",
   "metadata": {},
   "outputs": [
    {
     "data": {
      "image/png": "[encoded data removed]",
      "text/plain": [
       "<Figure size 1000x500 with 1 Axes>"
      ]
     },
     "metadata": {},
     "output_type": "display_data"
    }
   ],
   "source": [
    "plt.figure(figsize=(10,5))\n",
    "sns.barplot(x=stats_by_genre.index, y=stats_by_genre['std'])\n",
    "plt.xticks(rotation=45)\n",
    "plt.title(\"Độ lệch chuẩn của rating theo thể loại phim\")\n",
    "plt.ylabel(\"Standard deviation\")\n",
    "plt.show()\n"
   ]
  },
  {
   "cell_type": "markdown",
   "id": "42b52282",
   "metadata": {},
   "source": [
    "- Quan sát và nhận xét:\n",
    "    + Độ lệch chuẩn của các thể loại dao động quanh 1.0–1.2, tức là khá tương đồng nhau, chứng tỏ nhìn chung khán giả có mức độ đa dạng trong đánh giá tương tự nhau giữa các thể loại.\n",
    "    + Tuy nhiên, thể loại Horror (1.23) có độ lệch chuẩn cao nhất → thể hiện ý kiến người xem chia rẽ nhất, có người thích cực, có người chê mạnh.\n",
    "    + Ngược lại, Film-Noir (≈0.93) có độ lệch chuẩn thấp nhất → khán giả đánh giá khá thống nhất hơn.\n",
    "> Độ lệch chuẩn rating giữa các thể loại phim nhìn chung khá tương đồng, cho thấy hầu hết thể loại đều thu hút lượng khán giả đa dạng với sự đánh giá trải rộng. Tuy nhiên, thể loại Horror có độ biến động cao nhất, phản ánh sự phân hóa mạnh trong cảm nhận của người xem, trong khi Film-Noir có xu hướng được đánh giá thống nhất hơn."
   ]
  },
  {
   "cell_type": "markdown",
   "id": "19c0994c",
   "metadata": {},
   "source": [
    "### Giới tính"
   ]
  },
  {
   "cell_type": "code",
   "execution_count": 27,
   "id": "a1eada20",
   "metadata": {},
   "outputs": [
    {
     "data": {
      "text/html": [
       "<div>\n",
       "<style scoped>\n",
       "    .dataframe tbody tr th:only-of-type {\n",
       "        vertical-align: middle;\n",
       "    }\n",
       "\n",
       "    .dataframe tbody tr th {\n",
       "        vertical-align: top;\n",
       "    }\n",
       "\n",
       "    .dataframe thead th {\n",
       "        text-align: right;\n",
       "    }\n",
       "</style>\n",
       "<table border=\"1\" class=\"dataframe\">\n",
       "  <thead>\n",
       "    <tr style=\"text-align: right;\">\n",
       "      <th>gender</th>\n",
       "      <th>F</th>\n",
       "      <th>M</th>\n",
       "    </tr>\n",
       "    <tr>\n",
       "      <th>title</th>\n",
       "      <th></th>\n",
       "      <th></th>\n",
       "    </tr>\n",
       "  </thead>\n",
       "  <tbody>\n",
       "    <tr>\n",
       "      <th>$1,000,000 Duck (1971)</th>\n",
       "      <td>3.375000</td>\n",
       "      <td>2.761905</td>\n",
       "    </tr>\n",
       "    <tr>\n",
       "      <th>'Night Mother (1986)</th>\n",
       "      <td>3.388889</td>\n",
       "      <td>3.352941</td>\n",
       "    </tr>\n",
       "    <tr>\n",
       "      <th>'Til There Was You (1997)</th>\n",
       "      <td>2.675676</td>\n",
       "      <td>2.733333</td>\n",
       "    </tr>\n",
       "    <tr>\n",
       "      <th>'burbs, The (1989)</th>\n",
       "      <td>2.793478</td>\n",
       "      <td>2.962085</td>\n",
       "    </tr>\n",
       "    <tr>\n",
       "      <th>...And Justice for All (1979)</th>\n",
       "      <td>3.828571</td>\n",
       "      <td>3.689024</td>\n",
       "    </tr>\n",
       "  </tbody>\n",
       "</table>\n",
       "</div>"
      ],
      "text/plain": [
       "gender                                F         M\n",
       "title                                            \n",
       "$1,000,000 Duck (1971)         3.375000  2.761905\n",
       "'Night Mother (1986)           3.388889  3.352941\n",
       "'Til There Was You (1997)      2.675676  2.733333\n",
       "'burbs, The (1989)             2.793478  2.962085\n",
       "...And Justice for All (1979)  3.828571  3.689024"
      ]
     },
     "execution_count": 27,
     "metadata": {},
     "output_type": "execute_result"
    }
   ],
   "source": [
    "# tạo bảng pivot để tính điểm trung bình (mean) theo tiêu đề phim và giới tính\n",
    "mean_ratings = data.pivot_table(\"rating\", index=\"title\",\n",
    "                                columns=\"gender\", aggfunc=\"mean\")\n",
    "mean_ratings.head(5)"
   ]
  },
  {
   "cell_type": "markdown",
   "id": "bfdcfa3b",
   "metadata": {},
   "source": [
    "- Điều này đã tạo ra một DataFrame khác chứa điểm đánh giá trung bình, với tên phim làm nhãn hàng (index) và giới tính làm nhãn cột.\n",
    "- Trước tiên, cần lọc ra các bộ phim nhận được ít nhất 250 lượt đánh giá (số này mang tính tùy ý).\n",
    "    - Để làm điều này, tôi nhóm dữ liệu theo cột title và dùng size() để lấy một Series cho biết kích thước của mỗi nhóm (tức số lượt đánh giá của từng phim):"
   ]
  },
  {
   "cell_type": "code",
   "execution_count": 29,
   "id": "d786d600-637f-4fd9-a36e-11752f7ad022",
   "metadata": {
    "id": "d786d600-637f-4fd9-a36e-11752f7ad022",
    "outputId": "84bb2353-19a9-4a9b-d847-408b193cdc7f"
   },
   "outputs": [
    {
     "data": {
      "text/plain": [
       "Index([''burbs, The (1989)', '10 Things I Hate About You (1999)',\n",
       "       '101 Dalmatians (1961)', '101 Dalmatians (1996)', '12 Angry Men (1957)',\n",
       "       '13th Warrior, The (1999)', '2 Days in the Valley (1996)',\n",
       "       '20,000 Leagues Under the Sea (1954)', '2001: A Space Odyssey (1968)',\n",
       "       '2010 (1984)',\n",
       "       ...\n",
       "       'X-Men (2000)', 'Year of Living Dangerously (1982)',\n",
       "       'Yellow Submarine (1968)', 'You've Got Mail (1998)',\n",
       "       'Young Frankenstein (1974)', 'Young Guns (1988)',\n",
       "       'Young Guns II (1990)', 'Young Sherlock Holmes (1985)',\n",
       "       'Zero Effect (1998)', 'eXistenZ (1999)'],\n",
       "      dtype='object', name='title', length=1216)"
      ]
     },
     "execution_count": 29,
     "metadata": {},
     "output_type": "execute_result"
    }
   ],
   "source": [
    "ratings_by_title = data.groupby(\"title\").size()\n",
    "ratings_by_title.head()\n",
    "active_titles = ratings_by_title.index[ratings_by_title >= 250]\n",
    "active_titles"
   ]
  },
  {
   "cell_type": "markdown",
   "id": "3663112c-251a-47c2-9c68-c902d5db8e07",
   "metadata": {
    "id": "3663112c-251a-47c2-9c68-c902d5db8e07"
   },
   "source": [
    "- Chỉ số (index) của các bộ phim nhận được ít nhất 250 lượt đánh giá sau đó có thể được sử dụng để chọn các hàng tương ứng từ `mean_ratings` bằng cách dùng `.loc`:"
   ]
  },
  {
   "cell_type": "code",
   "execution_count": 30,
   "id": "fa22a5f8-de9c-49af-ac2c-6a6caaaebabc",
   "metadata": {
    "id": "fa22a5f8-de9c-49af-ac2c-6a6caaaebabc",
    "outputId": "fea00cb4-d056-4c6c-b385-b85224532c70"
   },
   "outputs": [
    {
     "data": {
      "text/html": [
       "<div>\n",
       "<style scoped>\n",
       "    .dataframe tbody tr th:only-of-type {\n",
       "        vertical-align: middle;\n",
       "    }\n",
       "\n",
       "    .dataframe tbody tr th {\n",
       "        vertical-align: top;\n",
       "    }\n",
       "\n",
       "    .dataframe thead th {\n",
       "        text-align: right;\n",
       "    }\n",
       "</style>\n",
       "<table border=\"1\" class=\"dataframe\">\n",
       "  <thead>\n",
       "    <tr style=\"text-align: right;\">\n",
       "      <th>gender</th>\n",
       "      <th>F</th>\n",
       "      <th>M</th>\n",
       "    </tr>\n",
       "    <tr>\n",
       "      <th>title</th>\n",
       "      <th></th>\n",
       "      <th></th>\n",
       "    </tr>\n",
       "  </thead>\n",
       "  <tbody>\n",
       "    <tr>\n",
       "      <th>'burbs, The (1989)</th>\n",
       "      <td>2.793478</td>\n",
       "      <td>2.962085</td>\n",
       "    </tr>\n",
       "    <tr>\n",
       "      <th>10 Things I Hate About You (1999)</th>\n",
       "      <td>3.646552</td>\n",
       "      <td>3.311966</td>\n",
       "    </tr>\n",
       "    <tr>\n",
       "      <th>101 Dalmatians (1961)</th>\n",
       "      <td>3.791444</td>\n",
       "      <td>3.500000</td>\n",
       "    </tr>\n",
       "    <tr>\n",
       "      <th>101 Dalmatians (1996)</th>\n",
       "      <td>3.240000</td>\n",
       "      <td>2.911215</td>\n",
       "    </tr>\n",
       "    <tr>\n",
       "      <th>12 Angry Men (1957)</th>\n",
       "      <td>4.184397</td>\n",
       "      <td>4.328421</td>\n",
       "    </tr>\n",
       "    <tr>\n",
       "      <th>...</th>\n",
       "      <td>...</td>\n",
       "      <td>...</td>\n",
       "    </tr>\n",
       "    <tr>\n",
       "      <th>Young Guns (1988)</th>\n",
       "      <td>3.371795</td>\n",
       "      <td>3.425620</td>\n",
       "    </tr>\n",
       "    <tr>\n",
       "      <th>Young Guns II (1990)</th>\n",
       "      <td>2.934783</td>\n",
       "      <td>2.904025</td>\n",
       "    </tr>\n",
       "    <tr>\n",
       "      <th>Young Sherlock Holmes (1985)</th>\n",
       "      <td>3.514706</td>\n",
       "      <td>3.363344</td>\n",
       "    </tr>\n",
       "    <tr>\n",
       "      <th>Zero Effect (1998)</th>\n",
       "      <td>3.864407</td>\n",
       "      <td>3.723140</td>\n",
       "    </tr>\n",
       "    <tr>\n",
       "      <th>eXistenZ (1999)</th>\n",
       "      <td>3.098592</td>\n",
       "      <td>3.289086</td>\n",
       "    </tr>\n",
       "  </tbody>\n",
       "</table>\n",
       "<p>1216 rows × 2 columns</p>\n",
       "</div>"
      ],
      "text/plain": [
       "gender                                    F         M\n",
       "title                                                \n",
       "'burbs, The (1989)                 2.793478  2.962085\n",
       "10 Things I Hate About You (1999)  3.646552  3.311966\n",
       "101 Dalmatians (1961)              3.791444  3.500000\n",
       "101 Dalmatians (1996)              3.240000  2.911215\n",
       "12 Angry Men (1957)                4.184397  4.328421\n",
       "...                                     ...       ...\n",
       "Young Guns (1988)                  3.371795  3.425620\n",
       "Young Guns II (1990)               2.934783  2.904025\n",
       "Young Sherlock Holmes (1985)       3.514706  3.363344\n",
       "Zero Effect (1998)                 3.864407  3.723140\n",
       "eXistenZ (1999)                    3.098592  3.289086\n",
       "\n",
       "[1216 rows x 2 columns]"
      ]
     },
     "execution_count": 30,
     "metadata": {},
     "output_type": "execute_result"
    }
   ],
   "source": [
    "mean_ratings = mean_ratings.loc[active_titles]\n",
    "mean_ratings"
   ]
  },
  {
   "cell_type": "code",
   "execution_count": 31,
   "id": "36da7551-b298-4f4e-84d8-50ba63e3e000",
   "metadata": {
    "id": "36da7551-b298-4f4e-84d8-50ba63e3e000"
   },
   "outputs": [],
   "source": [
    "mean_ratings = mean_ratings.rename(index={\"Seven Samurai (The Magnificent Seven) (Shichinin no samurai) (1954)\":\n",
    "                           \"Seven Samurai (Shichinin no samurai) (1954)\"})"
   ]
  },
  {
   "cell_type": "markdown",
   "id": "73352d13-0579-4c69-adbd-382a25edc43a",
   "metadata": {
    "id": "73352d13-0579-4c69-adbd-382a25edc43a"
   },
   "source": [
    "- Để xem các bộ phim được nữ khán giả đánh giá cao nhất, chúng ta có thể sắp xếp theo cột `F` (giới tính nữ) theo thứ tự giảm dần:"
   ]
  },
  {
   "cell_type": "code",
   "execution_count": 32,
   "id": "e3ea6d41-59b5-4029-9cbb-c7077ec11f59",
   "metadata": {
    "id": "e3ea6d41-59b5-4029-9cbb-c7077ec11f59",
    "outputId": "31f179da-fefe-489e-c559-74fa3de7653f"
   },
   "outputs": [
    {
     "data": {
      "text/html": [
       "<div>\n",
       "<style scoped>\n",
       "    .dataframe tbody tr th:only-of-type {\n",
       "        vertical-align: middle;\n",
       "    }\n",
       "\n",
       "    .dataframe tbody tr th {\n",
       "        vertical-align: top;\n",
       "    }\n",
       "\n",
       "    .dataframe thead th {\n",
       "        text-align: right;\n",
       "    }\n",
       "</style>\n",
       "<table border=\"1\" class=\"dataframe\">\n",
       "  <thead>\n",
       "    <tr style=\"text-align: right;\">\n",
       "      <th>gender</th>\n",
       "      <th>F</th>\n",
       "      <th>M</th>\n",
       "    </tr>\n",
       "    <tr>\n",
       "      <th>title</th>\n",
       "      <th></th>\n",
       "      <th></th>\n",
       "    </tr>\n",
       "  </thead>\n",
       "  <tbody>\n",
       "    <tr>\n",
       "      <th>Close Shave, A (1995)</th>\n",
       "      <td>4.644444</td>\n",
       "      <td>4.473795</td>\n",
       "    </tr>\n",
       "    <tr>\n",
       "      <th>Wrong Trousers, The (1993)</th>\n",
       "      <td>4.588235</td>\n",
       "      <td>4.478261</td>\n",
       "    </tr>\n",
       "    <tr>\n",
       "      <th>Sunset Blvd. (a.k.a. Sunset Boulevard) (1950)</th>\n",
       "      <td>4.572650</td>\n",
       "      <td>4.464589</td>\n",
       "    </tr>\n",
       "    <tr>\n",
       "      <th>Wallace &amp; Gromit: The Best of Aardman Animation (1996)</th>\n",
       "      <td>4.563107</td>\n",
       "      <td>4.385075</td>\n",
       "    </tr>\n",
       "    <tr>\n",
       "      <th>Schindler's List (1993)</th>\n",
       "      <td>4.562602</td>\n",
       "      <td>4.491415</td>\n",
       "    </tr>\n",
       "  </tbody>\n",
       "</table>\n",
       "</div>"
      ],
      "text/plain": [
       "gender                                                     F         M\n",
       "title                                                                 \n",
       "Close Shave, A (1995)                               4.644444  4.473795\n",
       "Wrong Trousers, The (1993)                          4.588235  4.478261\n",
       "Sunset Blvd. (a.k.a. Sunset Boulevard) (1950)       4.572650  4.464589\n",
       "Wallace & Gromit: The Best of Aardman Animation...  4.563107  4.385075\n",
       "Schindler's List (1993)                             4.562602  4.491415"
      ]
     },
     "execution_count": 32,
     "metadata": {},
     "output_type": "execute_result"
    }
   ],
   "source": [
    "top_female_ratings = mean_ratings.sort_values(\"F\", ascending=False)\n",
    "top_female_ratings.head()"
   ]
  },
  {
   "cell_type": "code",
   "execution_count": 33,
   "id": "d561c7fb",
   "metadata": {},
   "outputs": [
    {
     "data": {
      "text/html": [
       "<div>\n",
       "<style scoped>\n",
       "    .dataframe tbody tr th:only-of-type {\n",
       "        vertical-align: middle;\n",
       "    }\n",
       "\n",
       "    .dataframe tbody tr th {\n",
       "        vertical-align: top;\n",
       "    }\n",
       "\n",
       "    .dataframe thead th {\n",
       "        text-align: right;\n",
       "    }\n",
       "</style>\n",
       "<table border=\"1\" class=\"dataframe\">\n",
       "  <thead>\n",
       "    <tr style=\"text-align: right;\">\n",
       "      <th>gender</th>\n",
       "      <th>F</th>\n",
       "      <th>M</th>\n",
       "    </tr>\n",
       "  </thead>\n",
       "  <tbody>\n",
       "    <tr>\n",
       "      <th>count</th>\n",
       "      <td>1216.000000</td>\n",
       "      <td>1216.000000</td>\n",
       "    </tr>\n",
       "    <tr>\n",
       "      <th>mean</th>\n",
       "      <td>3.548584</td>\n",
       "      <td>3.541090</td>\n",
       "    </tr>\n",
       "    <tr>\n",
       "      <th>std</th>\n",
       "      <td>0.508329</td>\n",
       "      <td>0.513287</td>\n",
       "    </tr>\n",
       "    <tr>\n",
       "      <th>min</th>\n",
       "      <td>1.574468</td>\n",
       "      <td>1.616949</td>\n",
       "    </tr>\n",
       "    <tr>\n",
       "      <th>25%</th>\n",
       "      <td>3.243709</td>\n",
       "      <td>3.208182</td>\n",
       "    </tr>\n",
       "    <tr>\n",
       "      <th>50%</th>\n",
       "      <td>3.604564</td>\n",
       "      <td>3.605161</td>\n",
       "    </tr>\n",
       "    <tr>\n",
       "      <th>75%</th>\n",
       "      <td>3.924150</td>\n",
       "      <td>3.913895</td>\n",
       "    </tr>\n",
       "    <tr>\n",
       "      <th>max</th>\n",
       "      <td>4.644444</td>\n",
       "      <td>4.583333</td>\n",
       "    </tr>\n",
       "  </tbody>\n",
       "</table>\n",
       "</div>"
      ],
      "text/plain": [
       "gender            F            M\n",
       "count   1216.000000  1216.000000\n",
       "mean       3.548584     3.541090\n",
       "std        0.508329     0.513287\n",
       "min        1.574468     1.616949\n",
       "25%        3.243709     3.208182\n",
       "50%        3.604564     3.605161\n",
       "75%        3.924150     3.913895\n",
       "max        4.644444     4.583333"
      ]
     },
     "execution_count": 33,
     "metadata": {},
     "output_type": "execute_result"
    }
   ],
   "source": [
    "top_female_ratings[['F', 'M']].describe()\n"
   ]
  },
  {
   "cell_type": "markdown",
   "id": "43a7c403-7d75-42cb-98fa-9a440f2021c8",
   "metadata": {
    "id": "43a7c403-7d75-42cb-98fa-9a440f2021c8"
   },
   "source": [
    "## Đo lường sự khác biệt về đánh giá"
   ]
  },
  {
   "cell_type": "markdown",
   "id": "a6b84d40-61cf-407f-9f64-129ed3b38470",
   "metadata": {
    "id": "a6b84d40-61cf-407f-9f64-129ed3b38470"
   },
   "source": [
    "- Giả sử bạn muốn tìm những bộ phim mà có sự khác biệt lớn về đánh giá giữa nam và nữ.\n",
    "    - Một cách làm là:\n",
    "        - Thêm một cột vào `mean_ratings` chứa hiệu số trung bình giữa hai giới tính.\n",
    "        - Sắp xếp theo cột này để tìm các bộ phim có sự khác biệt lớn nhất:"
   ]
  },
  {
   "cell_type": "code",
   "execution_count": null,
   "id": "669e26cd-40f2-473f-ad1a-c999a1b47dd8",
   "metadata": {
    "id": "669e26cd-40f2-473f-ad1a-c999a1b47dd8"
   },
   "outputs": [],
   "source": [
    "mean_ratings[\"diff\"] = mean_ratings[\"M\"] - mean_ratings[\"F\"]"
   ]
  },
  {
   "cell_type": "markdown",
   "id": "ec475059-de4d-4042-a08b-a0506106ead1",
   "metadata": {
    "id": "ec475059-de4d-4042-a08b-a0506106ead1"
   },
   "source": [
    "- Sắp xếp theo cột `diff` sẽ cho ra những bộ phim có sự khác biệt điểm đánh giá lớn nhất, giúp chúng ta xem phim nào được nữ khán giả yêu thích hơn."
   ]
  },
  {
   "cell_type": "code",
   "execution_count": null,
   "id": "f3aa1f77-b74c-4851-a96f-e0619a5501c0",
   "metadata": {
    "id": "f3aa1f77-b74c-4851-a96f-e0619a5501c0",
    "outputId": "baa01cdd-8edb-41f2-8255-0d6ddbe90ea4"
   },
   "outputs": [
    {
     "data": {
      "text/html": [
       "<div>\n",
       "<style scoped>\n",
       "    .dataframe tbody tr th:only-of-type {\n",
       "        vertical-align: middle;\n",
       "    }\n",
       "\n",
       "    .dataframe tbody tr th {\n",
       "        vertical-align: top;\n",
       "    }\n",
       "\n",
       "    .dataframe thead th {\n",
       "        text-align: right;\n",
       "    }\n",
       "</style>\n",
       "<table border=\"1\" class=\"dataframe\">\n",
       "  <thead>\n",
       "    <tr style=\"text-align: right;\">\n",
       "      <th>gender</th>\n",
       "      <th>F</th>\n",
       "      <th>M</th>\n",
       "      <th>diff</th>\n",
       "    </tr>\n",
       "    <tr>\n",
       "      <th>title</th>\n",
       "      <th></th>\n",
       "      <th></th>\n",
       "      <th></th>\n",
       "    </tr>\n",
       "  </thead>\n",
       "  <tbody>\n",
       "    <tr>\n",
       "      <th>Dirty Dancing (1987)</th>\n",
       "      <td>3.790378</td>\n",
       "      <td>2.959596</td>\n",
       "      <td>-0.830782</td>\n",
       "    </tr>\n",
       "    <tr>\n",
       "      <th>Jumpin' Jack Flash (1986)</th>\n",
       "      <td>3.254717</td>\n",
       "      <td>2.578358</td>\n",
       "      <td>-0.676359</td>\n",
       "    </tr>\n",
       "    <tr>\n",
       "      <th>Grease (1978)</th>\n",
       "      <td>3.975265</td>\n",
       "      <td>3.367041</td>\n",
       "      <td>-0.608224</td>\n",
       "    </tr>\n",
       "    <tr>\n",
       "      <th>Little Women (1994)</th>\n",
       "      <td>3.870588</td>\n",
       "      <td>3.321739</td>\n",
       "      <td>-0.548849</td>\n",
       "    </tr>\n",
       "    <tr>\n",
       "      <th>Steel Magnolias (1989)</th>\n",
       "      <td>3.901734</td>\n",
       "      <td>3.365957</td>\n",
       "      <td>-0.535777</td>\n",
       "    </tr>\n",
       "  </tbody>\n",
       "</table>\n",
       "</div>"
      ],
      "text/plain": [
       "gender                            F         M      diff\n",
       "title                                                  \n",
       "Dirty Dancing (1987)       3.790378  2.959596 -0.830782\n",
       "Jumpin' Jack Flash (1986)  3.254717  2.578358 -0.676359\n",
       "Grease (1978)              3.975265  3.367041 -0.608224\n",
       "Little Women (1994)        3.870588  3.321739 -0.548849\n",
       "Steel Magnolias (1989)     3.901734  3.365957 -0.535777"
      ]
     },
     "execution_count": 14,
     "metadata": {},
     "output_type": "execute_result"
    }
   ],
   "source": [
    "sorted_by_diff = mean_ratings.sort_values(\"diff\")\n",
    "sorted_by_diff.head()"
   ]
  },
  {
   "cell_type": "markdown",
   "id": "2c82f93b-e5a9-491e-8346-4c4d6435ae94",
   "metadata": {
    "id": "2c82f93b-e5a9-491e-8346-4c4d6435ae94"
   },
   "source": [
    "- Đảo ngược thứ tự các hàng và lấy 10 hàng đầu một lần nữa, ta sẽ có danh sách các bộ phim được nam khán giả yêu thích nhưng nữ khán giả không đánh giá cao."
   ]
  },
  {
   "cell_type": "code",
   "execution_count": null,
   "id": "f2abb1e2-3657-460f-9eaa-7bd0d90d79b4",
   "metadata": {
    "id": "f2abb1e2-3657-460f-9eaa-7bd0d90d79b4",
    "outputId": "9f527641-4151-4c14-f8bf-798c24c64de3"
   },
   "outputs": [
    {
     "data": {
      "text/html": [
       "<div>\n",
       "<style scoped>\n",
       "    .dataframe tbody tr th:only-of-type {\n",
       "        vertical-align: middle;\n",
       "    }\n",
       "\n",
       "    .dataframe tbody tr th {\n",
       "        vertical-align: top;\n",
       "    }\n",
       "\n",
       "    .dataframe thead th {\n",
       "        text-align: right;\n",
       "    }\n",
       "</style>\n",
       "<table border=\"1\" class=\"dataframe\">\n",
       "  <thead>\n",
       "    <tr style=\"text-align: right;\">\n",
       "      <th>gender</th>\n",
       "      <th>F</th>\n",
       "      <th>M</th>\n",
       "      <th>diff</th>\n",
       "    </tr>\n",
       "    <tr>\n",
       "      <th>title</th>\n",
       "      <th></th>\n",
       "      <th></th>\n",
       "      <th></th>\n",
       "    </tr>\n",
       "  </thead>\n",
       "  <tbody>\n",
       "    <tr>\n",
       "      <th>Good, The Bad and The Ugly, The (1966)</th>\n",
       "      <td>3.494949</td>\n",
       "      <td>4.221300</td>\n",
       "      <td>0.726351</td>\n",
       "    </tr>\n",
       "    <tr>\n",
       "      <th>Kentucky Fried Movie, The (1977)</th>\n",
       "      <td>2.878788</td>\n",
       "      <td>3.555147</td>\n",
       "      <td>0.676359</td>\n",
       "    </tr>\n",
       "    <tr>\n",
       "      <th>Dumb &amp; Dumber (1994)</th>\n",
       "      <td>2.697987</td>\n",
       "      <td>3.336595</td>\n",
       "      <td>0.638608</td>\n",
       "    </tr>\n",
       "    <tr>\n",
       "      <th>Longest Day, The (1962)</th>\n",
       "      <td>3.411765</td>\n",
       "      <td>4.031447</td>\n",
       "      <td>0.619682</td>\n",
       "    </tr>\n",
       "    <tr>\n",
       "      <th>Cable Guy, The (1996)</th>\n",
       "      <td>2.250000</td>\n",
       "      <td>2.863787</td>\n",
       "      <td>0.613787</td>\n",
       "    </tr>\n",
       "  </tbody>\n",
       "</table>\n",
       "</div>"
      ],
      "text/plain": [
       "gender                                         F         M      diff\n",
       "title                                                               \n",
       "Good, The Bad and The Ugly, The (1966)  3.494949  4.221300  0.726351\n",
       "Kentucky Fried Movie, The (1977)        2.878788  3.555147  0.676359\n",
       "Dumb & Dumber (1994)                    2.697987  3.336595  0.638608\n",
       "Longest Day, The (1962)                 3.411765  4.031447  0.619682\n",
       "Cable Guy, The (1996)                   2.250000  2.863787  0.613787"
      ]
     },
     "execution_count": 15,
     "metadata": {},
     "output_type": "execute_result"
    }
   ],
   "source": [
    "sorted_by_diff[::-1].head()"
   ]
  },
  {
   "cell_type": "markdown",
   "id": "bf62b9af-d021-4b70-be50-78b8c315c055",
   "metadata": {
    "id": "bf62b9af-d021-4b70-be50-78b8c315c055"
   },
   "source": [
    "- Giả sử khi muốn tìm những bộ phim gây ra nhiều tranh cãi nhất trong số các khán giả, bất kể giới tính.\n",
    "- Sự khác biệt (disagreement) có thể được đo bằng phương sai (variance) hoặc độ lệch chuẩn (standard deviation) của các lượt đánh giá.\n",
    "- Để làm điều này, trước tiên ta tính độ lệch chuẩn của điểm đánh giá theo từng phim (title), sau đó lọc ra các phim hoạt động nhiều (có đủ lượt đánh giá):"
   ]
  },
  {
   "cell_type": "code",
   "execution_count": null,
   "id": "c4847d52-086e-411e-866a-d6af66c26a81",
   "metadata": {
    "id": "c4847d52-086e-411e-866a-d6af66c26a81",
    "outputId": "bad295f9-2b53-4f9e-821b-e6c03d21e6be"
   },
   "outputs": [
    {
     "data": {
      "text/plain": [
       "title\n",
       "'burbs, The (1989)                   1.107760\n",
       "10 Things I Hate About You (1999)    0.989815\n",
       "101 Dalmatians (1961)                0.982103\n",
       "101 Dalmatians (1996)                1.098717\n",
       "12 Angry Men (1957)                  0.812731\n",
       "Name: rating, dtype: float64"
      ]
     },
     "execution_count": 22,
     "metadata": {},
     "output_type": "execute_result"
    }
   ],
   "source": [
    "rating_std_by_title = data.groupby(\"title\")[\"rating\"].std()\n",
    "rating_std_by_title = rating_std_by_title.loc[active_titles]\n",
    "rating_std_by_title.head()"
   ]
  },
  {
   "cell_type": "markdown",
   "id": "447b05fe-33ef-4971-a608-213a4e606b45",
   "metadata": {
    "id": "447b05fe-33ef-4971-a608-213a4e606b45"
   },
   "source": [
    "- Sau đó, chúng ta sắp xếp theo thứ tự giảm dần và chọn 10 hàng đầu, tương đương với 10 bộ phim có sự khác biệt về đánh giá lớn nhất."
   ]
  },
  {
   "cell_type": "code",
   "execution_count": null,
   "id": "47f2e687-ff32-4ef1-9f29-f2ad967c5ead",
   "metadata": {
    "id": "47f2e687-ff32-4ef1-9f29-f2ad967c5ead",
    "outputId": "d763873b-8b84-436f-d471-ea0bb04cbaad"
   },
   "outputs": [
    {
     "data": {
      "text/plain": [
       "title\n",
       "Dumb & Dumber (1994)                     1.321333\n",
       "Blair Witch Project, The (1999)          1.316368\n",
       "Natural Born Killers (1994)              1.307198\n",
       "Tank Girl (1995)                         1.277695\n",
       "Rocky Horror Picture Show, The (1975)    1.260177\n",
       "Eyes Wide Shut (1999)                    1.259624\n",
       "Evita (1996)                             1.253631\n",
       "Billy Madison (1995)                     1.249970\n",
       "Fear and Loathing in Las Vegas (1998)    1.246408\n",
       "Bicentennial Man (1999)                  1.245533\n",
       "Name: rating, dtype: float64"
      ]
     },
     "execution_count": 17,
     "metadata": {},
     "output_type": "execute_result"
    }
   ],
   "source": [
    "rating_std_by_title.sort_values(ascending=False)[:10]"
   ]
  },
  {
   "cell_type": "markdown",
   "id": "986ea114-5fe7-43d3-bfc8-8e7a93b4ff96",
   "metadata": {
    "id": "986ea114-5fe7-43d3-bfc8-8e7a93b4ff96"
   },
   "source": [
    "- Có thể nhận thấy rằng thể loại phim (genres) được lưu dưới dạng chuỗi ký tự ngăn cách bằng dấu gạch dọc `|`, vì một bộ phim có thể thuộc nhiều thể loại khác nhau.\n",
    "- Để giúp nhóm dữ liệu đánh giá theo thể loại, chúng ta có thể sử dụng phương thức `explode` của DataFrame.\n",
    "- Trước tiên, hãy xem cách hoạt động của nó:\n",
    "      - Chúng ta tách chuỗi thể loại (genres) thành danh sách các thể loại riêng biệt bằng cách dùng phương thức `str.split` trên Series."
   ]
  },
  {
   "cell_type": "code",
   "execution_count": null,
   "id": "ebccd2f7-1e38-4395-b19d-fdb220ea5b45",
   "metadata": {
    "id": "ebccd2f7-1e38-4395-b19d-fdb220ea5b45",
    "outputId": "2884bbb7-3131-487f-f6fd-7bf804eb8053"
   },
   "outputs": [
    {
     "data": {
      "text/plain": [
       "0     Animation|Children's|Comedy\n",
       "1    Adventure|Children's|Fantasy\n",
       "2                  Comedy|Romance\n",
       "3                    Comedy|Drama\n",
       "4                          Comedy\n",
       "Name: genres, dtype: object"
      ]
     },
     "execution_count": 24,
     "metadata": {},
     "output_type": "execute_result"
    }
   ],
   "source": [
    "movies[\"genres\"].head()"
   ]
  },
  {
   "cell_type": "code",
   "execution_count": null,
   "id": "fc2d7f5f-5761-41df-96a8-bbee5cec3f14",
   "metadata": {
    "id": "fc2d7f5f-5761-41df-96a8-bbee5cec3f14",
    "outputId": "e8be8002-ee65-404a-9f7c-5c13f01871c3"
   },
   "outputs": [
    {
     "data": {
      "text/plain": [
       "0     [Animation, Children's, Comedy]\n",
       "1    [Adventure, Children's, Fantasy]\n",
       "2                   [Comedy, Romance]\n",
       "3                     [Comedy, Drama]\n",
       "4                            [Comedy]\n",
       "Name: genres, dtype: object"
      ]
     },
     "execution_count": 25,
     "metadata": {},
     "output_type": "execute_result"
    }
   ],
   "source": [
    "movies[\"genres\"].head().str.split(\"|\")"
   ]
  },
  {
   "cell_type": "code",
   "execution_count": null,
   "id": "870d0bc0-e351-4d0c-b69c-8f904b3a9e8d",
   "metadata": {
    "id": "870d0bc0-e351-4d0c-b69c-8f904b3a9e8d",
    "outputId": "f49ef27c-2a45-4fb0-f3c6-decdbfd48368"
   },
   "outputs": [
    {
     "data": {
      "text/html": [
       "<div>\n",
       "<style scoped>\n",
       "    .dataframe tbody tr th:only-of-type {\n",
       "        vertical-align: middle;\n",
       "    }\n",
       "\n",
       "    .dataframe tbody tr th {\n",
       "        vertical-align: top;\n",
       "    }\n",
       "\n",
       "    .dataframe thead th {\n",
       "        text-align: right;\n",
       "    }\n",
       "</style>\n",
       "<table border=\"1\" class=\"dataframe\">\n",
       "  <thead>\n",
       "    <tr style=\"text-align: right;\">\n",
       "      <th></th>\n",
       "      <th>movie_id</th>\n",
       "      <th>title</th>\n",
       "      <th>genre</th>\n",
       "    </tr>\n",
       "  </thead>\n",
       "  <tbody>\n",
       "    <tr>\n",
       "      <th>0</th>\n",
       "      <td>1</td>\n",
       "      <td>Toy Story (1995)</td>\n",
       "      <td>[Animation, Children's, Comedy]</td>\n",
       "    </tr>\n",
       "    <tr>\n",
       "      <th>1</th>\n",
       "      <td>2</td>\n",
       "      <td>Jumanji (1995)</td>\n",
       "      <td>[Adventure, Children's, Fantasy]</td>\n",
       "    </tr>\n",
       "    <tr>\n",
       "      <th>2</th>\n",
       "      <td>3</td>\n",
       "      <td>Grumpier Old Men (1995)</td>\n",
       "      <td>[Comedy, Romance]</td>\n",
       "    </tr>\n",
       "    <tr>\n",
       "      <th>3</th>\n",
       "      <td>4</td>\n",
       "      <td>Waiting to Exhale (1995)</td>\n",
       "      <td>[Comedy, Drama]</td>\n",
       "    </tr>\n",
       "    <tr>\n",
       "      <th>4</th>\n",
       "      <td>5</td>\n",
       "      <td>Father of the Bride Part II (1995)</td>\n",
       "      <td>[Comedy]</td>\n",
       "    </tr>\n",
       "  </tbody>\n",
       "</table>\n",
       "</div>"
      ],
      "text/plain": [
       "   movie_id                               title  \\\n",
       "0         1                    Toy Story (1995)   \n",
       "1         2                      Jumanji (1995)   \n",
       "2         3             Grumpier Old Men (1995)   \n",
       "3         4            Waiting to Exhale (1995)   \n",
       "4         5  Father of the Bride Part II (1995)   \n",
       "\n",
       "                              genre  \n",
       "0   [Animation, Children's, Comedy]  \n",
       "1  [Adventure, Children's, Fantasy]  \n",
       "2                 [Comedy, Romance]  \n",
       "3                   [Comedy, Drama]  \n",
       "4                          [Comedy]  "
      ]
     },
     "execution_count": 26,
     "metadata": {},
     "output_type": "execute_result"
    }
   ],
   "source": [
    "movies[\"genre\"] = movies.pop(\"genres\").str.split(\"|\")\n",
    "movies.head()"
   ]
  },
  {
   "cell_type": "markdown",
   "id": "2d24e039-a8d9-4082-b494-e991b926b171",
   "metadata": {
    "id": "2d24e039-a8d9-4082-b494-e991b926b171"
   },
   "source": [
    "- Bây giờ, khi gọi `movies.explode(\"genre\")`, ta sẽ tạo ra một DataFrame mới, trong đó mỗi phần tử bên trong danh sách thể loại của một bộ phim sẽ trở thành một hàng riêng biệt.\n",
    "- Ví dụ: nếu một bộ phim được xếp vào cả hai thể loại \"Hài (Comedy)\" và \"Lãng mạn (Romance)\", thì trong kết quả sẽ có hai hàng:\n",
    "    - Một hàng chứa “Comedy”,\n",
    "    - Và một hàng chứa “Romance”."
   ]
  },
  {
   "cell_type": "code",
   "execution_count": null,
   "id": "99a44679-4a77-4eb3-9556-68c178c12be1",
   "metadata": {
    "id": "99a44679-4a77-4eb3-9556-68c178c12be1",
    "outputId": "eb7e8749-7c2f-4e08-e368-52f556462ea3"
   },
   "outputs": [
    {
     "data": {
      "text/html": [
       "<div>\n",
       "<style scoped>\n",
       "    .dataframe tbody tr th:only-of-type {\n",
       "        vertical-align: middle;\n",
       "    }\n",
       "\n",
       "    .dataframe tbody tr th {\n",
       "        vertical-align: top;\n",
       "    }\n",
       "\n",
       "    .dataframe thead th {\n",
       "        text-align: right;\n",
       "    }\n",
       "</style>\n",
       "<table border=\"1\" class=\"dataframe\">\n",
       "  <thead>\n",
       "    <tr style=\"text-align: right;\">\n",
       "      <th></th>\n",
       "      <th>movie_id</th>\n",
       "      <th>title</th>\n",
       "      <th>genre</th>\n",
       "    </tr>\n",
       "  </thead>\n",
       "  <tbody>\n",
       "    <tr>\n",
       "      <th>0</th>\n",
       "      <td>1</td>\n",
       "      <td>Toy Story (1995)</td>\n",
       "      <td>Animation</td>\n",
       "    </tr>\n",
       "    <tr>\n",
       "      <th>0</th>\n",
       "      <td>1</td>\n",
       "      <td>Toy Story (1995)</td>\n",
       "      <td>Children's</td>\n",
       "    </tr>\n",
       "    <tr>\n",
       "      <th>0</th>\n",
       "      <td>1</td>\n",
       "      <td>Toy Story (1995)</td>\n",
       "      <td>Comedy</td>\n",
       "    </tr>\n",
       "    <tr>\n",
       "      <th>1</th>\n",
       "      <td>2</td>\n",
       "      <td>Jumanji (1995)</td>\n",
       "      <td>Adventure</td>\n",
       "    </tr>\n",
       "    <tr>\n",
       "      <th>1</th>\n",
       "      <td>2</td>\n",
       "      <td>Jumanji (1995)</td>\n",
       "      <td>Children's</td>\n",
       "    </tr>\n",
       "    <tr>\n",
       "      <th>1</th>\n",
       "      <td>2</td>\n",
       "      <td>Jumanji (1995)</td>\n",
       "      <td>Fantasy</td>\n",
       "    </tr>\n",
       "    <tr>\n",
       "      <th>2</th>\n",
       "      <td>3</td>\n",
       "      <td>Grumpier Old Men (1995)</td>\n",
       "      <td>Comedy</td>\n",
       "    </tr>\n",
       "    <tr>\n",
       "      <th>2</th>\n",
       "      <td>3</td>\n",
       "      <td>Grumpier Old Men (1995)</td>\n",
       "      <td>Romance</td>\n",
       "    </tr>\n",
       "    <tr>\n",
       "      <th>3</th>\n",
       "      <td>4</td>\n",
       "      <td>Waiting to Exhale (1995)</td>\n",
       "      <td>Comedy</td>\n",
       "    </tr>\n",
       "    <tr>\n",
       "      <th>3</th>\n",
       "      <td>4</td>\n",
       "      <td>Waiting to Exhale (1995)</td>\n",
       "      <td>Drama</td>\n",
       "    </tr>\n",
       "  </tbody>\n",
       "</table>\n",
       "</div>"
      ],
      "text/plain": [
       "   movie_id                     title       genre\n",
       "0         1          Toy Story (1995)   Animation\n",
       "0         1          Toy Story (1995)  Children's\n",
       "0         1          Toy Story (1995)      Comedy\n",
       "1         2            Jumanji (1995)   Adventure\n",
       "1         2            Jumanji (1995)  Children's\n",
       "1         2            Jumanji (1995)     Fantasy\n",
       "2         3   Grumpier Old Men (1995)      Comedy\n",
       "2         3   Grumpier Old Men (1995)     Romance\n",
       "3         4  Waiting to Exhale (1995)      Comedy\n",
       "3         4  Waiting to Exhale (1995)       Drama"
      ]
     },
     "execution_count": 27,
     "metadata": {},
     "output_type": "execute_result"
    }
   ],
   "source": [
    "movies_exploded = movies.explode(\"genre\")\n",
    "movies_exploded[:10]"
   ]
  },
  {
   "cell_type": "markdown",
   "id": "0fdcd10f-552b-465a-a275-187782bdc84e",
   "metadata": {
    "id": "0fdcd10f-552b-465a-a275-187782bdc84e"
   },
   "source": [
    "- Bây giờ, chúng ta có thể gộp cả ba bảng dữ liệu lại với nhau và nhóm dữ liệu theo thể loại phim (genre)."
   ]
  },
  {
   "cell_type": "code",
   "execution_count": null,
   "id": "1573c30f-07d6-49aa-9f4e-6b5385687561",
   "metadata": {
    "id": "1573c30f-07d6-49aa-9f4e-6b5385687561",
    "outputId": "478f7047-d44a-43f4-f0a8-52f0e9de8939"
   },
   "outputs": [
    {
     "data": {
      "text/plain": [
       "movie_id                     1\n",
       "title         Toy Story (1995)\n",
       "genre                Animation\n",
       "user_id                      1\n",
       "rating                       5\n",
       "timestamp            978824268\n",
       "gender                       F\n",
       "age                          1\n",
       "occupation                  10\n",
       "zip                      48067\n",
       "Name: 0, dtype: object"
      ]
     },
     "execution_count": 29,
     "metadata": {},
     "output_type": "execute_result"
    }
   ],
   "source": [
    "ratings_with_genre = pd.merge(pd.merge(movies_exploded, ratings), users)\n",
    "ratings_with_genre.iloc[0]"
   ]
  },
  {
   "cell_type": "code",
   "execution_count": null,
   "id": "0455ba57-23a4-4f68-ba33-0ef1e61555f4",
   "metadata": {
    "id": "0455ba57-23a4-4f68-ba33-0ef1e61555f4",
    "outputId": "10b9858d-0b0a-44b1-fdc4-d1538f85ac19"
   },
   "outputs": [
    {
     "data": {
      "text/html": [
       "<div>\n",
       "<style scoped>\n",
       "    .dataframe tbody tr th:only-of-type {\n",
       "        vertical-align: middle;\n",
       "    }\n",
       "\n",
       "    .dataframe tbody tr th {\n",
       "        vertical-align: top;\n",
       "    }\n",
       "\n",
       "    .dataframe thead th {\n",
       "        text-align: right;\n",
       "    }\n",
       "</style>\n",
       "<table border=\"1\" class=\"dataframe\">\n",
       "  <thead>\n",
       "    <tr style=\"text-align: right;\">\n",
       "      <th>age</th>\n",
       "      <th>1</th>\n",
       "      <th>18</th>\n",
       "      <th>25</th>\n",
       "      <th>35</th>\n",
       "      <th>45</th>\n",
       "      <th>50</th>\n",
       "      <th>56</th>\n",
       "    </tr>\n",
       "    <tr>\n",
       "      <th>genre</th>\n",
       "      <th></th>\n",
       "      <th></th>\n",
       "      <th></th>\n",
       "      <th></th>\n",
       "      <th></th>\n",
       "      <th></th>\n",
       "      <th></th>\n",
       "    </tr>\n",
       "  </thead>\n",
       "  <tbody>\n",
       "    <tr>\n",
       "      <th>Action</th>\n",
       "      <td>3.506385</td>\n",
       "      <td>3.447097</td>\n",
       "      <td>3.453358</td>\n",
       "      <td>3.538107</td>\n",
       "      <td>3.528543</td>\n",
       "      <td>3.611333</td>\n",
       "      <td>3.610709</td>\n",
       "    </tr>\n",
       "    <tr>\n",
       "      <th>Adventure</th>\n",
       "      <td>3.449975</td>\n",
       "      <td>3.408525</td>\n",
       "      <td>3.443163</td>\n",
       "      <td>3.515291</td>\n",
       "      <td>3.528963</td>\n",
       "      <td>3.628163</td>\n",
       "      <td>3.649064</td>\n",
       "    </tr>\n",
       "    <tr>\n",
       "      <th>Animation</th>\n",
       "      <td>3.476113</td>\n",
       "      <td>3.624014</td>\n",
       "      <td>3.701228</td>\n",
       "      <td>3.740545</td>\n",
       "      <td>3.734856</td>\n",
       "      <td>3.780020</td>\n",
       "      <td>3.756233</td>\n",
       "    </tr>\n",
       "    <tr>\n",
       "      <th>Children's</th>\n",
       "      <td>3.241642</td>\n",
       "      <td>3.294257</td>\n",
       "      <td>3.426873</td>\n",
       "      <td>3.518423</td>\n",
       "      <td>3.527593</td>\n",
       "      <td>3.556555</td>\n",
       "      <td>3.621822</td>\n",
       "    </tr>\n",
       "    <tr>\n",
       "      <th>Comedy</th>\n",
       "      <td>3.497491</td>\n",
       "      <td>3.460417</td>\n",
       "      <td>3.490385</td>\n",
       "      <td>3.561984</td>\n",
       "      <td>3.591789</td>\n",
       "      <td>3.646868</td>\n",
       "      <td>3.650949</td>\n",
       "    </tr>\n",
       "    <tr>\n",
       "      <th>Crime</th>\n",
       "      <td>3.710170</td>\n",
       "      <td>3.668054</td>\n",
       "      <td>3.680321</td>\n",
       "      <td>3.733736</td>\n",
       "      <td>3.750661</td>\n",
       "      <td>3.810688</td>\n",
       "      <td>3.832549</td>\n",
       "    </tr>\n",
       "    <tr>\n",
       "      <th>Documentary</th>\n",
       "      <td>3.730769</td>\n",
       "      <td>3.865865</td>\n",
       "      <td>3.946690</td>\n",
       "      <td>3.953747</td>\n",
       "      <td>3.966521</td>\n",
       "      <td>3.908108</td>\n",
       "      <td>3.961538</td>\n",
       "    </tr>\n",
       "    <tr>\n",
       "      <th>Drama</th>\n",
       "      <td>3.794735</td>\n",
       "      <td>3.721930</td>\n",
       "      <td>3.726428</td>\n",
       "      <td>3.782512</td>\n",
       "      <td>3.784356</td>\n",
       "      <td>3.878415</td>\n",
       "      <td>3.933465</td>\n",
       "    </tr>\n",
       "    <tr>\n",
       "      <th>Fantasy</th>\n",
       "      <td>3.317647</td>\n",
       "      <td>3.353778</td>\n",
       "      <td>3.452484</td>\n",
       "      <td>3.482301</td>\n",
       "      <td>3.532468</td>\n",
       "      <td>3.581570</td>\n",
       "      <td>3.532700</td>\n",
       "    </tr>\n",
       "    <tr>\n",
       "      <th>Film-Noir</th>\n",
       "      <td>4.145455</td>\n",
       "      <td>3.997368</td>\n",
       "      <td>4.058725</td>\n",
       "      <td>4.064910</td>\n",
       "      <td>4.105376</td>\n",
       "      <td>4.175401</td>\n",
       "      <td>4.125932</td>\n",
       "    </tr>\n",
       "  </tbody>\n",
       "</table>\n",
       "</div>"
      ],
      "text/plain": [
       "age                1         18        25        35        45        50  \\\n",
       "genre                                                                     \n",
       "Action       3.506385  3.447097  3.453358  3.538107  3.528543  3.611333   \n",
       "Adventure    3.449975  3.408525  3.443163  3.515291  3.528963  3.628163   \n",
       "Animation    3.476113  3.624014  3.701228  3.740545  3.734856  3.780020   \n",
       "Children's   3.241642  3.294257  3.426873  3.518423  3.527593  3.556555   \n",
       "Comedy       3.497491  3.460417  3.490385  3.561984  3.591789  3.646868   \n",
       "Crime        3.710170  3.668054  3.680321  3.733736  3.750661  3.810688   \n",
       "Documentary  3.730769  3.865865  3.946690  3.953747  3.966521  3.908108   \n",
       "Drama        3.794735  3.721930  3.726428  3.782512  3.784356  3.878415   \n",
       "Fantasy      3.317647  3.353778  3.452484  3.482301  3.532468  3.581570   \n",
       "Film-Noir    4.145455  3.997368  4.058725  4.064910  4.105376  4.175401   \n",
       "\n",
       "age                56  \n",
       "genre                  \n",
       "Action       3.610709  \n",
       "Adventure    3.649064  \n",
       "Animation    3.756233  \n",
       "Children's   3.621822  \n",
       "Comedy       3.650949  \n",
       "Crime        3.832549  \n",
       "Documentary  3.961538  \n",
       "Drama        3.933465  \n",
       "Fantasy      3.532700  \n",
       "Film-Noir    4.125932  "
      ]
     },
     "execution_count": 30,
     "metadata": {},
     "output_type": "execute_result"
    }
   ],
   "source": [
    "genre_ratings = (ratings_with_genre.groupby([\"genre\", \"age\"])\n",
    "                 [\"rating\"].mean()\n",
    "                 .unstack(\"age\"))\n",
    "genre_ratings[:10]"
   ]
  },
  {
   "cell_type": "code",
   "execution_count": null,
   "id": "dfe3110d-25cf-4f4d-a68e-598c3e08321e",
   "metadata": {
    "id": "dfe3110d-25cf-4f4d-a68e-598c3e08321e",
    "outputId": "269afcb4-8e8f-4a46-aeaf-6f284d084d02"
   },
   "outputs": [
    {
     "name": "stderr",
     "output_type": "stream",
     "text": [
      "'head' is not recognized as an internal or external command,\n",
      "operable program or batch file.\n"
     ]
    }
   ],
   "source": [
    "!head -n 10 datasets/babynames/yob1880.txt"
   ]
  }
 ],
 "metadata": {
  "colab": {
   "provenance": []
  },
  "kernelspec": {
   "display_name": "Python 3",
   "language": "python",
   "name": "python3"
  },
  "language_info": {
   "codemirror_mode": {
    "name": "ipython",
    "version": 3
   },
   "file_extension": ".py",
   "mimetype": "text/x-python",
   "name": "python",
   "nbconvert_exporter": "python",
   "pygments_lexer": "ipython3",
   "version": "3.12.5"
  }
 },
 "nbformat": 4,
 "nbformat_minor": 5
}

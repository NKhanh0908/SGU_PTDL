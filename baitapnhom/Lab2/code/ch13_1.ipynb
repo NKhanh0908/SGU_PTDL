{
 "cells": [
  {
   "cell_type": "markdown",
   "metadata": {},
   "source": [
    "# Bitly Data from 1.USA.gov"
   ]
  },
  {
   "cell_type": "markdown",
   "metadata": {},
   "source": [
    "## Giới thiệu"
   ]
  },
  {
   "cell_type": "markdown",
   "metadata": {},
   "source": [
    "- Vào năm 2011, dịch vụ rút gọn URL Bitly đã hợp tác với trang web của chính phủ Hoa Kỳ – USA.gov để cung cấp một nguồn dữ liệu ẩn danh được thu thập từ người dùng khi họ rút gọn các liên kết có đuôi .gov hoặc .mil.\n",
    "\n",
    "- Trong năm đó, luồng dữ liệu trực tiếp (live feed) cùng với các bản chụp dữ liệu theo giờ (hourly snapshots) đều được công bố công khai dưới dạng tệp văn bản có thể tải xuống.\n",
    "\n",
    "- Hiện tại (tính đến năm 2022), dịch vụ này đã ngừng hoạt động, nhưng một trong các tệp dữ liệu gốc đã được lưu giữ lại để sử dụng làm ví dụ trong cuốn sách này.\n",
    "- Phân tích này nhằm:\n",
    "    + **Phân tích Địa lý:** Thông tin của chính phủ Mỹ được người dân ở đâu trên thế giới quan tâm nhất? (Bằng cách đếm số lần nhấp chuột theo quốc gia hoặc múi giờ).\n",
    "    + **Phân tích Công nghệ:** Mọi người có xu hướng dùng thiết bị nào (Windows, Mac, điện thoại) để đọc tin tức chính phủ? Trình duyệt nào là phổ biến nhất?\n",
    "    + **Phân tích Nguồn truy cập:** Kênh nào (Facebook, Google, v.v.) mang lại nhiều lượt truy cập nhất cho các trang web của chính phủ?\n",
    "    + **Phân tích Xu hướng:** Đường link nào (thông tin nào) đang \"hot\" và được nhiều người nhấp vào nhất?"
   ]
  },
  {
   "cell_type": "code",
   "execution_count": 1,
   "metadata": {},
   "outputs": [],
   "source": [
    "from numpy.random import randn\n",
    "import numpy as np # numpy (tính toán số)\n",
    "np.random.seed(123) \n",
    "import os\n",
    "import matplotlib.pyplot as plt # matplotlib (trực quan hóa dữ liệu)\n",
    "import pandas as pd # pandas (xử lý dữ liệu)\n",
    "import seaborn as sns # seaborn (trực quan hóa dữ liệu)\n",
    "plt.rc(\"figure\", figsize=(10, 6))\n",
    "np.set_printoptions(precision=4)\n",
    "# Thiết lập tùy chọn hiển thị của pandas để dễ đọc hơn\n",
    "pd.options.display.max_columns = 20\n",
    "pd.options.display.max_rows = 20\n",
    "pd.options.display.max_colwidth = 80"
   ]
  },
  {
   "cell_type": "code",
   "execution_count": null,
   "metadata": {},
   "outputs": [],
   "source": [
    "path = \"dataset/example.txt\" # đường dẫn tới file dữ liệu mẫu"
   ]
  },
  {
   "cell_type": "markdown",
   "metadata": {},
   "source": [
    "## Phân tích\n",
    "- Tệp example.txt là một cuốn sổ nhật ký ghi lại các cú nhấp chuột (click) vào các đường link (liên kết) rút gọn.\n",
    "- Các dịch vụ rút gọn link như bit.ly. Khi  thấy một link dài (ví dụ: http://www.nasa.gov/mission_pages/mars/main/index.html) và rút gọn nó thành bit.ly/MarsMission, thì mỗi khi ai đó nhấp vào cái link bit.ly/MarsMission đó, một bản ghi sẽ được tạo ra.\n",
    "- Mỗi dòng trong mỗi tệp chứa một dạng dữ liệu web phổ biến được gọi là **JSON (JavaScript Object Notation).**\n",
    "> **JSON (JavaScript Object Notation):** là một định dạng văn bản nhẹ, dễ đọc, dùng để trao đổi dữ liệu giữa máy chủ và ứng dụng web, cũng như trong nhiều ngôn ngữ lập trình khác. Nó cấu trúc dữ liệu thành các cặp khóa-giá trị (key-value) hoặc mảng, được máy tính hiểu và con người đọc được. "
   ]
  },
  {
   "cell_type": "code",
   "execution_count": 3,
   "metadata": {},
   "outputs": [
    {
     "name": "stdout",
     "output_type": "stream",
     "text": [
      "{ \"a\": \"Mozilla\\/5.0 (Windows NT 6.1; WOW64) AppleWebKit\\/535.11 (KHTML, like Gecko) Chrome\\/17.0.963.78 Safari\\/535.11\", \"c\": \"US\", \"nk\": 1, \"tz\": \"America\\/New_York\", \"gr\": \"MA\", \"g\": \"A6qOVH\", \"h\": \"wfLQtf\", \"l\": \"orofrog\", \"al\": \"en-US,en;q=0.8\", \"hh\": \"1.usa.gov\", \"r\": \"http:\\/\\/www.facebook.com\\/l\\/7AQEFzjSi\\/1.usa.gov\\/wfLQtf\", \"u\": \"http:\\/\\/www.ncbi.nlm.nih.gov\\/pubmed\\/22415991\", \"t\": 1331923247, \"hc\": 1331822918, \"cy\": \"Danvers\", \"ll\": [ 42.576698, -70.954903 ] }\n",
      "\n"
     ]
    }
   ],
   "source": [
    "# Đọc và in dòng đầu tiên của file mẫu\n",
    "with open(path) as f: \n",
    "    print(f.readline())"
   ]
  },
  {
   "cell_type": "markdown",
   "metadata": {},
   "source": [
    "- Python có sẵn cả thư viện tích hợp (built-in) và thư viện của bên thứ ba (third-party) để chuyển đổi một chuỗi JSON (JSON string) thành **từ điển (dictionary)** trong Python.\n",
    "> **Từ điển (dictionary):** Kiểu dictionary trong Python là một cấu trúc dữ liệu lưu trữ dữ liệu dưới dạng các cặp key-value (khóa-giá trị), không có thứ tự. Nó cho phép truy xuất giá trị một cách nhanh chóng bằng cách sử dụng khóa duy nhất của nó. Dictionary được định nghĩa bằng dấu ngoặc nhọn {} và là một cấu trúc dữ liệu có thể thay đổi (mutable). \n",
    "\n",
    "- Trong ví dụ này, ta sẽ sử dụng mô-đun json có sẵn trong Python, cùng với hàm loads(), để đọc và chuyển đổi từng dòng trong tệp dữ liệu mẫu mà chúng ta đã tải về."
   ]
  },
  {
   "cell_type": "code",
   "execution_count": 4,
   "metadata": {},
   "outputs": [],
   "source": [
    "import json # json (xử lý dữ liệu JSON)\n",
    "# Đọc toàn bộ file JSON vào danh sách các bản ghi\n",
    "with open(path) as f:\n",
    "    records = [json.loads(line) for line in f]"
   ]
  },
  {
   "cell_type": "markdown",
   "metadata": {},
   "source": [
    "Kết quả"
   ]
  },
  {
   "cell_type": "code",
   "execution_count": 5,
   "metadata": {},
   "outputs": [
    {
     "data": {
      "text/plain": [
       "{'a': 'Mozilla/5.0 (Windows NT 6.1; WOW64) AppleWebKit/535.11 (KHTML, like Gecko) Chrome/17.0.963.78 Safari/535.11',\n",
       " 'c': 'US',\n",
       " 'nk': 1,\n",
       " 'tz': 'America/New_York',\n",
       " 'gr': 'MA',\n",
       " 'g': 'A6qOVH',\n",
       " 'h': 'wfLQtf',\n",
       " 'l': 'orofrog',\n",
       " 'al': 'en-US,en;q=0.8',\n",
       " 'hh': '1.usa.gov',\n",
       " 'r': 'http://www.facebook.com/l/7AQEFzjSi/1.usa.gov/wfLQtf',\n",
       " 'u': 'http://www.ncbi.nlm.nih.gov/pubmed/22415991',\n",
       " 't': 1331923247,\n",
       " 'hc': 1331822918,\n",
       " 'cy': 'Danvers',\n",
       " 'll': [42.576698, -70.954903]}"
      ]
     },
     "execution_count": 5,
     "metadata": {},
     "output_type": "execute_result"
    }
   ],
   "source": [
    "records[0] # xem dòng đầu tiên trong tệp dữ liệu"
   ]
  },
  {
   "cell_type": "markdown",
   "metadata": {},
   "source": [
    "- Ý nghĩa tập dữ liệu:\n",
    "    + **a (User Agent):** Họ dùng thiết bị gì? (Thông tin này cho biết họ đang dùng trình duyệt Chrome hay Firefox, hệ điều hành Windows hay Mac/iPhone). Mozilla/5.0 (Windows NT 6.1...) cho chúng ta biết người này đang dùng trình duyệt Chrome 17 trên hệ điều hành Windows 7 (NT 6.1).\n",
    "    + **c Country Code** (Mã quốc gia (theo chuẩn **ISO**) của người nhấp chuột. US là viết tắt của United States (Hoa Kỳ).)\n",
    "    > **ISO:**  Tiêu chuẩn ISO về mã quốc gia chính là ISO 3166 — đây là bộ tiêu chuẩn quốc tế quy định các mã dùng để biểu diễn tên quốc gia và vùng lãnh thổ.\n",
    "    + **nk: \"Not Known\" (Không xác định).** Là cờ (flag) cho biết người dùng có đăng nhập vào Bitly hay không. 1 có thể là đã đăng nhập (hoặc Bitly có thể nhận diện được), 0 là ẩn\n",
    "    + **tz Timezone (Múi giờ):** Múi giờ của người dùng. America/New_York (múi giờ Bờ Đông Hoa Kỳ).\n",
    "    + **gr Geographic Region (Vùng địa lý):** Mã vùng địa lý hoặc tiểu bang. MA là viết tắt của Massachusetts, một tiểu bang ở Mỹ.\n",
    "    + **g Global Hash (Mã rút gọn toàn cầu):** Đây là một \"mã băm\" (hash) toàn cầu mà Bitly dùng để nhận dạng duy nhất đường link gốc (u). A6qOVH là mã định danh của link http://www.ncbi.nlm.nih.gov/pubmed/22415991.\n",
    "    + **h User Hash (Mã rút gọn của người dùng):** Đây cũng là một \"mã băm\" (hash) nhưng là mã mà người dùng (l) đã tạo ra. wfLQtf chính là phần mã trong link rút gọn: 1.usa.gov/wfLQtf.\n",
    "    + **l Login Name (Tên người dùng Bitly):** Tên tài khoản Bitly của người đã tạo ra đường link rút gọn này. Ở đây là người dùng có tên orofrog.\n",
    "    + **al Accept-Language Header (Ngôn ngữ chấp nhận):** Ngôn ngữ mà trình duyệt của người dùng ưu tiên. en-US,en;q=0.8 nghĩa là ưu tiên số 1 là \"Tiếng Anh-Mỹ\" (en-US), ưu tiên số 2 là \"Tiếng Anh\" bất kỳ (en).\n",
    "    + **hh Host (Tên miền rút gọn):** Tên miền (domain) rút gọn đã được sử dụng. Trong trường hợp này là 1.usa.gov (tên miền tùy chỉnh của chính phủ Mỹ), không phải bit.ly thông thường.\n",
    "    + **r Referrer URL (URL giới thiệu):** Nguồn giới thiệu. Cho biết người dùng đã tìm thấy link này ở đâu trước khi nhấp vào. Ở đây, http://www.facebook.com/... có nghĩa là họ đã nhấp vào link này từ Facebook.\n",
    "    + **u Long URL (URL gốc, chưa rút gọn):** Đường link gốc (link dài, link \"đích\") mà người dùng sẽ được chuyển đến sau khi nhấp vào link rút gọn.\n",
    "    + **t Timestamp (Thời gian nhấp chuột):** Dấu thời gian (theo chuẩn Unix) ghi lại chính xác khi nào cú nhấp chuột xảy ra (vào lúc 1331923247 giây kể từ 1/1/1970).\n",
    "    + **hc Hash Created:** Dấu thời gian (Timestamp) khi đường link rút gọn (h) này được tạo ra.\n",
    "    + **cy City Name (Tên thành phố):** Thành phố. Danvers (một thành phố ở bang Massachusetts).\n",
    "    + **ll Latitude & Longitude (Vĩ độ & Kinh độ):** Tọa độ địa lý (Vĩ độ và Kinh độ) của thành phố. [42.576698, -70.954903]."
   ]
  },
  {
   "cell_type": "markdown",
   "metadata": {},
   "source": [
    "## Phân tích mô tả"
   ]
  },
  {
   "cell_type": "markdown",
   "metadata": {},
   "source": [
    "- Phân tích mô tả\n",
    "    + Các múi giờ (tz) nào có số lượt truy cập cao nhất?\n",
    "    + Có bao nhiêu người dùng thiếu thông tin múi giờ hoặc quốc gia?\n",
    "    + Những nguồn referrer (r) phổ biến nhất là gì (Facebook, Twitter, Google, v.v.)?\n"
   ]
  },
  {
   "cell_type": "markdown",
   "metadata": {},
   "source": [
    "### Các múi giờ có số lượt truy cập cao nhất\n"
   ]
  },
  {
   "cell_type": "markdown",
   "metadata": {},
   "source": [
    "#### Counting Time Zones in Pure Python"
   ]
  },
  {
   "cell_type": "markdown",
   "metadata": {},
   "source": [
    "- Giả sử chúng ta muốn tìm ra các múi giờ (time zones) xuất hiện thường xuyên nhất trong tập dữ liệu — tức là trường tz (time zone) trong mỗi bản ghi\n",
    "- Có nhiều cách để thực hiện việc này, nhưng đầu tiên, ta sẽ trích xuất danh sách các múi giờ từ dữ liệu bằng list comprehension trong Python."
   ]
  },
  {
   "cell_type": "code",
   "execution_count": null,
   "metadata": {},
   "outputs": [
    {
     "ename": "KeyError",
     "evalue": "'tz'",
     "output_type": "error",
     "traceback": [
      "\u001b[1;31m---------------------------------------------------------------------------\u001b[0m",
      "\u001b[1;31mKeyError\u001b[0m                                  Traceback (most recent call last)",
      "Cell \u001b[1;32mIn[23], line 1\u001b[0m\n\u001b[1;32m----> 1\u001b[0m time_zones \u001b[38;5;241m=\u001b[39m [\u001b[43mrec\u001b[49m\u001b[43m[\u001b[49m\u001b[38;5;124;43m\"\u001b[39;49m\u001b[38;5;124;43mtz\u001b[39;49m\u001b[38;5;124;43m\"\u001b[39;49m\u001b[43m]\u001b[49m \u001b[38;5;28;01mfor\u001b[39;00m rec \u001b[38;5;129;01min\u001b[39;00m records]\n",
      "\u001b[1;31mKeyError\u001b[0m: 'tz'"
     ]
    }
   ],
   "source": [
    "time_zones = [rec[\"tz\"] for rec in records] # trích xuất danh sách các múi giờ từ dữ liệu gặp lỗi nếu không có trường \"tz\" trong rec"
   ]
  },
  {
   "cell_type": "markdown",
   "metadata": {},
   "source": [
    "> Lý do lỗi là vì không phải tất cả các bản ghi đều có trường múi giờ. Chúng ta có thể xử lý vấn đề này bằng cách thêm lệnh check if \"tz\" trong rec vào cuối phần đọc hiểu danh sách:"
   ]
  },
  {
   "cell_type": "code",
   "execution_count": null,
   "metadata": {},
   "outputs": [
    {
     "data": {
      "text/plain": [
       "['America/New_York',\n",
       " 'America/Denver',\n",
       " 'America/New_York',\n",
       " 'America/Sao_Paulo',\n",
       " 'America/New_York',\n",
       " 'America/New_York',\n",
       " 'Europe/Warsaw',\n",
       " '',\n",
       " '',\n",
       " '']"
      ]
     },
     "execution_count": 7,
     "metadata": {},
     "output_type": "execute_result"
    }
   ],
   "source": [
    "time_zones = [rec[\"tz\"] for rec in records if \"tz\" in rec] # thêm điều kiện kiểm tra \"tz\" trong rec\n",
    "time_zones[:10]"
   ]
  },
  {
   "cell_type": "markdown",
   "metadata": {},
   "source": [
    "- Khi xem qua 10 múi giờ đầu tiên, ta thấy rằng một số giá trị bị thiếu hoặc không xác định (ví dụ: chuỗi rỗng \"\").\n",
    "Ta hoàn toàn có thể lọc bỏ các giá trị này, nhưng tạm thời giữ nguyên để quan sát toàn bộ dữ liệu.\n",
    "\n",
    "- Tiếp theo, để thống kê số lần xuất hiện của từng múi giờ, ta sẽ trình bày hai cách tiếp cận:\n",
    "    - Cách thứ nhất (khó hơn) — chỉ sử dụng thư viện chuẩn của Python (Python Standard Library).\n",
    "    - Cách thứ hai (đơn giản hơn) — sử dụng thư viện pandas."
   ]
  },
  {
   "cell_type": "code",
   "execution_count": null,
   "metadata": {},
   "outputs": [],
   "source": [
    "def get_counts(sequence): # đếm số lần xuất hiện của từng mục trong chuỗi\n",
    "    counts = {} # từ điển để lưu trữ kết quả đếm\n",
    "    for x in sequence:\n",
    "        if x in counts: # nếu mục đã tồn tại trong từ điển, tăng giá trị đếm lên 1\n",
    "            counts[x] += 1\n",
    "        else: # nếu mục chưa tồn tại, khởi tạo giá trị đếm là 1\n",
    "            counts[x] = 1\n",
    "    return counts"
   ]
  },
  {
   "cell_type": "markdown",
   "metadata": {},
   "source": [
    "Sử dụng các công cụ nâng cao hơn trong thư viện chuẩn Python, bạn có thể viết lại nội dung tương tự một cách ngắn gọn hơn:"
   ]
  },
  {
   "cell_type": "code",
   "execution_count": null,
   "metadata": {},
   "outputs": [],
   "source": [
    "from collections import defaultdict # defaultdict (từ điển với giá trị mặc định)\n",
    "\n",
    "def get_counts2(sequence): # đếm số lần xuất hiện của từng mục trong chuỗi sử dụng defaultdict\n",
    "    counts = defaultdict(int) # values will initialize to 0\n",
    "    for x in sequence:\n",
    "        counts[x] += 1\n",
    "    return counts"
   ]
  },
  {
   "cell_type": "markdown",
   "metadata": {},
   "source": [
    "- Gọi hàm"
   ]
  },
  {
   "cell_type": "code",
   "execution_count": 11,
   "metadata": {},
   "outputs": [
    {
     "name": "stdout",
     "output_type": "stream",
     "text": [
      "35\n",
      "33\n",
      "{'America/New_York': 1251, 'America/Denver': 191, 'America/Sao_Paulo': 33, 'Europe/Warsaw': 16, '': 521, 'America/Los_Angeles': 382, 'Asia/Hong_Kong': 10, 'Europe/Rome': 27, 'Africa/Ceuta': 2, 'Europe/Madrid': 35, 'Asia/Kuala_Lumpur': 3, 'Asia/Nicosia': 1, 'Europe/London': 74, 'Pacific/Honolulu': 36, 'America/Chicago': 400, 'Europe/Malta': 2, 'Europe/Lisbon': 8, 'Europe/Paris': 14, 'Europe/Copenhagen': 5, 'America/Mazatlan': 1, 'Europe/Dublin': 3, 'Europe/Brussels': 4, 'America/Vancouver': 12, 'Europe/Amsterdam': 22, 'Europe/Prague': 10, 'Europe/Stockholm': 14, 'America/Anchorage': 5, 'Asia/Bangkok': 6, 'Europe/Berlin': 28, 'America/Rainy_River': 25, 'Europe/Budapest': 5, 'Asia/Tokyo': 37, 'Europe/Vienna': 6, 'America/Phoenix': 20, 'Asia/Jerusalem': 3, 'Asia/Karachi': 3, 'America/Bogota': 3, 'America/Indianapolis': 20, 'America/Montreal': 9, 'Asia/Calcutta': 9, 'Europe/Skopje': 1, 'Asia/Beirut': 4, 'Australia/NSW': 6, 'Chile/Continental': 6, 'America/Halifax': 4, 'America/Edmonton': 6, 'Europe/Bratislava': 3, 'America/Recife': 2, 'Africa/Cairo': 3, 'Asia/Istanbul': 9, 'Asia/Novosibirsk': 1, 'Europe/Moscow': 10, 'Europe/Sofia': 1, 'Europe/Ljubljana': 1, 'America/Mexico_City': 15, 'Europe/Helsinki': 10, 'Europe/Bucharest': 4, 'Europe/Zurich': 4, 'America/Puerto_Rico': 10, 'America/Monterrey': 1, 'Europe/Athens': 6, 'America/Winnipeg': 4, 'Europe/Riga': 2, 'America/Argentina/Buenos_Aires': 1, 'Asia/Dubai': 4, 'Europe/Oslo': 10, 'Asia/Yekaterinburg': 1, 'Asia/Manila': 1, 'America/Caracas': 1, 'Asia/Riyadh': 1, 'America/Montevideo': 1, 'America/Argentina/Mendoza': 1, 'Asia/Seoul': 5, 'Europe/Uzhgorod': 1, 'Australia/Queensland': 1, 'Europe/Belgrade': 2, 'America/Costa_Rica': 1, 'America/Lima': 1, 'Asia/Pontianak': 1, 'America/Chihuahua': 2, 'Europe/Vilnius': 2, 'America/Managua': 3, 'Africa/Lusaka': 1, 'America/Guayaquil': 2, 'Asia/Harbin': 3, 'Asia/Amman': 2, 'Africa/Johannesburg': 1, 'America/St_Kitts': 1, 'Pacific/Auckland': 11, 'America/Santo_Domingo': 1, 'America/Argentina/Cordoba': 1, 'Asia/Kuching': 1, 'Europe/Volgograd': 1, 'America/La_Paz': 1, 'Africa/Casablanca': 1, 'Asia/Jakarta': 3, 'America/Tegucigalpa': 1}\n"
     ]
    }
   ],
   "source": [
    "counts = get_counts(time_zones)\n",
    "print(counts[\"Europe/Madrid\"])\n",
    "print(counts[\"America/Sao_Paulo\"])\n",
    "print(counts)"
   ]
  },
  {
   "cell_type": "code",
   "execution_count": 21,
   "metadata": {},
   "outputs": [
    {
     "name": "stdout",
     "output_type": "stream",
     "text": [
      "35\n"
     ]
    }
   ],
   "source": [
    "counts1 = get_counts2(time_zones)\n",
    "print(counts1[\"Europe/Madrid\"])"
   ]
  },
  {
   "cell_type": "markdown",
   "metadata": {},
   "source": [
    "- Nếu chúng ta muốn biết 10 múi giờ hàng đầu và số lượng của chúng, chúng ta có thể tạo một danh sách các bộ dữ liệu theo\n",
    "(số lượng, múi giờ) và sắp xếp nó:"
   ]
  },
  {
   "cell_type": "code",
   "execution_count": 12,
   "metadata": {},
   "outputs": [],
   "source": [
    "def top_counts(count_dict, n=10): # tìm n mục có số lần xuất hiện cao nhất trong từ điển đếm\n",
    "    value_key_pairs = [(count, tz) for tz, count in count_dict.items()] # tạo danh sách các cặp (giá trị, khóa)\n",
    "    value_key_pairs.sort() # sắp xếp danh sách theo giá trị\n",
    "    return value_key_pairs[-n:] # trả về n mục có giá trị cao nhất"
   ]
  },
  {
   "cell_type": "markdown",
   "metadata": {},
   "source": [
    "- Kết quả"
   ]
  },
  {
   "cell_type": "code",
   "execution_count": 13,
   "metadata": {},
   "outputs": [
    {
     "data": {
      "text/plain": [
       "[(33, 'America/Sao_Paulo'),\n",
       " (35, 'Europe/Madrid'),\n",
       " (36, 'Pacific/Honolulu'),\n",
       " (37, 'Asia/Tokyo'),\n",
       " (74, 'Europe/London'),\n",
       " (191, 'America/Denver'),\n",
       " (382, 'America/Los_Angeles'),\n",
       " (400, 'America/Chicago'),\n",
       " (521, ''),\n",
       " (1251, 'America/New_York')]"
      ]
     },
     "execution_count": 13,
     "metadata": {},
     "output_type": "execute_result"
    }
   ],
   "source": [
    "top_counts(counts)"
   ]
  },
  {
   "cell_type": "markdown",
   "metadata": {},
   "source": [
    "- Phân tích:\n",
    "    + America/New_York là múi giờ có số lượt truy cập áp đảo, với 1251 lượt, chiếm khoảng 35% tổng số (1251 / 3560). Điều này hoàn toàn hợp lý vì đây là dữ liệu từ trang usa.gov (chính phủ Mỹ) và múi giờ này bao gồm các trung tâm dân cư lớn ở Bờ Đông Hoa Kỳ.\n",
    "\n",
    "    + Dữ liệu nhiễu (Noisy Data) rất đáng kể: Có tới 521 lượt truy cập được ghi nhận là \"\" (chuỗi rỗng). Tổng cộng  nhóm này chiếm tới 521 lượt, đứng vị trí thứ hai.\n",
    "\n",
    "    + Các múi giờ còn lại trong top 5 đều thuộc Hoa Kỳ (Chicago, Los Angeles, Denver), khẳng định rằng đối tượng chính của dữ liệu này là người dùng trong nước Mỹ.\n",
    "\n",
    "    + Europe/London là múi giờ quốc tế phổ biến nhất, nhưng với số lượng khá nhỏ (74 lượt)."
   ]
  },
  {
   "cell_type": "markdown",
   "metadata": {},
   "source": [
    "- Nếu bạn tìm kiếm trong thư viện chuẩn Python, bạn có thể tìm thấy lớp collections.Counter\n",
    "giúp nhiệm vụ này trở nên đơn giản hơn:"
   ]
  },
  {
   "cell_type": "code",
   "execution_count": 28,
   "metadata": {},
   "outputs": [
    {
     "data": {
      "text/plain": [
       "[('America/New_York', 1251),\n",
       " ('', 521),\n",
       " ('America/Chicago', 400),\n",
       " ('America/Los_Angeles', 382),\n",
       " ('America/Denver', 191),\n",
       " ('Europe/London', 74),\n",
       " ('Asia/Tokyo', 37),\n",
       " ('Pacific/Honolulu', 36),\n",
       " ('Europe/Madrid', 35),\n",
       " ('America/Sao_Paulo', 33)]"
      ]
     },
     "execution_count": 28,
     "metadata": {},
     "output_type": "execute_result"
    }
   ],
   "source": [
    "from collections import Counter\n",
    "counts = Counter(time_zones)\n",
    "counts.most_common(10)"
   ]
  },
  {
   "cell_type": "markdown",
   "metadata": {},
   "source": [
    "> Kết quả khá tương đồng nhưng code gọn hơn rất nhiều."
   ]
  },
  {
   "cell_type": "markdown",
   "metadata": {},
   "source": [
    "#### Counting Time Zones with pandas"
   ]
  },
  {
   "cell_type": "markdown",
   "metadata": {},
   "source": [
    "- Bạn có thể tạo DataFrame từ tập hợp bản ghi gốc bằng cách truyền danh sách\n",
    "bản ghi cho pandas.DataFrame:"
   ]
  },
  {
   "cell_type": "code",
   "execution_count": 6,
   "metadata": {},
   "outputs": [],
   "source": [
    "frame = pd.DataFrame(records)"
   ]
  },
  {
   "cell_type": "markdown",
   "metadata": {},
   "source": [
    "- Bạn có thể xem được những thông tin cơ bản của tập dataframe chẳng hạng như cột, tên, kiểu dữ liệu của cột, giá trị null"
   ]
  },
  {
   "cell_type": "code",
   "execution_count": 16,
   "metadata": {},
   "outputs": [
    {
     "name": "stdout",
     "output_type": "stream",
     "text": [
      "<class 'pandas.core.frame.DataFrame'>\n",
      "RangeIndex: 3560 entries, 0 to 3559\n",
      "Data columns (total 18 columns):\n",
      " #   Column       Non-Null Count  Dtype  \n",
      "---  ------       --------------  -----  \n",
      " 0   a            3440 non-null   object \n",
      " 1   c            2919 non-null   object \n",
      " 2   nk           3440 non-null   float64\n",
      " 3   tz           3440 non-null   object \n",
      " 4   gr           2919 non-null   object \n",
      " 5   g            3440 non-null   object \n",
      " 6   h            3440 non-null   object \n",
      " 7   l            3440 non-null   object \n",
      " 8   al           3094 non-null   object \n",
      " 9   hh           3440 non-null   object \n",
      " 10  r            3440 non-null   object \n",
      " 11  u            3440 non-null   object \n",
      " 12  t            3440 non-null   float64\n",
      " 13  hc           3440 non-null   float64\n",
      " 14  cy           2919 non-null   object \n",
      " 15  ll           2919 non-null   object \n",
      " 16  _heartbeat_  120 non-null    float64\n",
      " 17  kw           93 non-null     object \n",
      "dtypes: float64(4), object(14)\n",
      "memory usage: 500.8+ KB\n"
     ]
    },
    {
     "data": {
      "text/plain": [
       "0     America/New_York\n",
       "1       America/Denver\n",
       "2     America/New_York\n",
       "3    America/Sao_Paulo\n",
       "4     America/New_York\n",
       "Name: tz, dtype: object"
      ]
     },
     "execution_count": 16,
     "metadata": {},
     "output_type": "execute_result"
    }
   ],
   "source": [
    "frame.info()\n",
    "frame[\"tz\"].head()"
   ]
  },
  {
   "cell_type": "markdown",
   "metadata": {},
   "source": [
    "- Đầu ra được hiển thị cho khung là chế độ xem tóm tắt, được hiển thị cho các đối tượng DataFrame lớn. Sau đó, chúng ta có thể sử dụng phương thức value_counts cho Series:"
   ]
  },
  {
   "cell_type": "code",
   "execution_count": 17,
   "metadata": {},
   "outputs": [
    {
     "data": {
      "text/plain": [
       "tz\n",
       "America/New_York       1251\n",
       "                        521\n",
       "America/Chicago         400\n",
       "America/Los_Angeles     382\n",
       "America/Denver          191\n",
       "Name: count, dtype: int64"
      ]
     },
     "execution_count": 17,
     "metadata": {},
     "output_type": "execute_result"
    }
   ],
   "source": [
    "tz_counts = frame[\"tz\"].value_counts()\n",
    "tz_counts.head()"
   ]
  },
  {
   "cell_type": "markdown",
   "metadata": {},
   "source": [
    "### Có bao nhiêu người dùng thiếu thông tin múi giờ hoặc quốc gia?"
   ]
  },
  {
   "cell_type": "code",
   "execution_count": 18,
   "metadata": {},
   "outputs": [
    {
     "name": "stdout",
     "output_type": "stream",
     "text": [
      "Số lượt truy cập thiếu thông tin múi giờ (tz): 641\n"
     ]
    }
   ],
   "source": [
    "# Đếm thiếu múi giờ (Cả NaN và chuỗi rỗng \"\")\n",
    "missing_tz_count = (frame['tz'].isna() | (frame['tz'] == \"\")).sum()\n",
    "print(f\"Số lượt truy cập thiếu thông tin múi giờ (tz): {missing_tz_count}\")"
   ]
  },
  {
   "cell_type": "code",
   "execution_count": 19,
   "metadata": {},
   "outputs": [
    {
     "name": "stdout",
     "output_type": "stream",
     "text": [
      "Số lượt truy cập thiếu thông tin quốc gia (c): 641\n"
     ]
    }
   ],
   "source": [
    "# Đếm thiếu quốc gia (Cả NaN và chuỗi rỗng \"\")\n",
    "missing_c_count = (frame['c'].isna() | (frame['c'] == \"\")).sum()\n",
    "print(f\"Số lượt truy cập thiếu thông tin quốc gia (c): {missing_c_count}\")"
   ]
  },
  {
   "cell_type": "markdown",
   "metadata": {},
   "source": [
    "- Phân tích:\n",
    "    + Trong tổng số 3560 bản ghi, có 641 lượt truy cập bị thiếu thông tin múi giờ (tz). Con số này khá đáng kể chiếm khoảng ~ 18% trên toàn tập dataset\n",
    "\n",
    "    + Tương tự, có 641 lượt truy cập bị thiếu thông tin quốc gia (c).\n",
    "\n",
    "    + Insight thú vị: Con số 641 này giống hệt nhau cho cả hai trường. Điều này gợi ý mạnh mẽ rằng đây không phải là lỗi ngẫu nhiên, mà rất có thể là cùng một nhóm người dùng/bản ghi bị thiếu cả hai thông tin tz và c cùng một lúc (ví dụ: do một loại trình duyệt, bot, hoặc cài đặt quyền riêng tư nào đó đã chặn gửi cả hai thông tin này)."
   ]
  },
  {
   "cell_type": "markdown",
   "metadata": {},
   "source": [
    "### Những nguồn referrer (r) phổ biến nhất là gì?"
   ]
  },
  {
   "cell_type": "markdown",
   "metadata": {},
   "source": [
    "Cột r (viết tắt của Referrer - Nguồn giới thiệu) cho biết người dùng đã đến từ trang web nào (ví dụ: họ nhấp vào link từ Google, hay từ Facebook). "
   ]
  },
  {
   "cell_type": "code",
   "execution_count": 38,
   "metadata": {},
   "outputs": [
    {
     "data": {
      "text/plain": [
       "0    http://www.facebook.com/l/7AQEFzjSi/1.usa.gov/wfLQtf\n",
       "1                                http://www.AwareMap.com/\n",
       "2                                    http://t.co/03elZC4Q\n",
       "3                                                  direct\n",
       "4                     http://www.shrewsbury-ma.gov/selco/\n",
       "Name: r, dtype: object"
      ]
     },
     "execution_count": 38,
     "metadata": {},
     "output_type": "execute_result"
    }
   ],
   "source": [
    "# Xem xét các giá trị trong cột 'r'\n",
    "frame['r'].head()"
   ]
  },
  {
   "cell_type": "markdown",
   "metadata": {},
   "source": [
    "-> Là những url thông thường. Nhưng có 1 giá trị không phải url."
   ]
  },
  {
   "cell_type": "code",
   "execution_count": 39,
   "metadata": {},
   "outputs": [
    {
     "data": {
      "text/plain": [
       "array(['http://www.facebook.com/l/7AQEFzjSi/1.usa.gov/wfLQtf',\n",
       "       'http://www.AwareMap.com/', 'http://t.co/03elZC4Q', 'direct',\n",
       "       'http://www.shrewsbury-ma.gov/selco/',\n",
       "       'http://plus.url.google.com/url?sa=z&n=1331923253510&url=http%3A%2F%2F1.usa.gov%2FzkpJBR&usg=TF5iGSqK1_GSADtHqTqjuUZyMIY.',\n",
       "       'http://www.facebook.com/',\n",
       "       'http://www.facebook.com/l.php?u=http%3A%2F%2F1.usa.gov%2FzkpJBR&h=fAQG5ntSGAQHqKPlWzuJKUA9LYeckHZCUxvjQipJDd7Rmmw',\n",
       "       'http://t.co/o1Pd0WeV', 'http://t.co/ND7SoPyo', nan,\n",
       "       'http://forum2.hkgolden.com/view.aspx?type=BW&message=3602284',\n",
       "       'http://t.co/6Cx4ROLs',\n",
       "       'http://www.facebook.com/l.php?u=http%3A%2F%2F1.usa.gov%2FwWiOiD&h=MAQERI5fLAQFvFg3Jhes38U64waF7QclFtZlHG4yEVpkTSA',\n",
       "       'http://www.facebook.com/?ref=tn_tnmn', 'http://t.co/5xlp0B34',\n",
       "       'http://plus.url.google.com/url?sa=z&n=1331923308907&url=http%3A%2F%2F1.usa.gov%2FzkpJBR&usg=aqYZtNlwKGwBPD7VQg2AGSQUmIE.',\n",
       "       'http://www.facebook.com/l.php?u=http%3A%2F%2F1.usa.gov%2FzkpJBR&h=UAQF87rDtAQGLJahNrJKHLoFfS5vZXgdXxw9CigHifduvZA',\n",
       "       'http://t.co/1ghGl5Pl',\n",
       "       'http://plus.url.google.com/url?sa=z&n=1331923275708&url=http%3A%2F%2F1.usa.gov%2FzkpJBR&usg=lUoN-YVtghjS57X6UrYNqro4HSI.',\n",
       "       'http://www.facebook.com/l.php?u=http%3A%2F%2F1.usa.gov%2FyV8hww&h=GAQHUfoFWAQGsnXEom3HohpAApWT6OOQy08mVRAaaolHDlA',\n",
       "       'http://www.facebook.com/l.php?u=http%3A%2F%2F1.usa.gov%2FwWiOiD&h=pAQFg1hNvAQHAGtvH4GVtNG_4z5VmkNesOvnGD9t126HN8w&enc=AZOxntKo6VqhJI5pIgviFZiD9z6bpk0XQDQ92Mboc1XBhKs_wA9h-nm2KF7249rX6Yh_ikqXfFo032KIHym15NC5Hm-RUFV-t3VSOhO-lk7oww',\n",
       "       'http://www.facebook.com/l.php?u=http%3A%2F%2F1.usa.gov%2FzkpJBR&h=SAQGcXJwXAQH8Dl_HB2zWjRG-1qeuKDE37uV7TTvk129TKA',\n",
       "       'http://mobile.twitter.com/AIDSgov',\n",
       "       'http://www.facebook.com/home.php?',\n",
       "       'http://www.aashtojournal.org/Pages/031612senate.aspx',\n",
       "       'http://www.facebook.com/l.php?u=http%3A%2F%2F1.usa.gov%2FzkpJBR&h=0AQGf_X9OAQFoS-3nfrl3To6BNnsCtzK0HL1O98ZfkXKzsQ',\n",
       "       'http://m.facebook.com/l.php?u=http%3A%2F%2F1.usa.gov%2FzkpJBR&h=5AQGaIchD&enc=AZNFqXj6jEJucL_ibqRU1RrHoswuu_1lvTqb961sibFZMt75vb-2Uf2tHkyKhDkP5vBK2fDhx7ns4OA5XFS0dUelVgyqB6quUWg-j0OZ-f37XQ72Oh-sCmmywrUxXugQ9JH8jWivDxVWywHKLNnqKGWN2VRKPimytTvIs-VRnEm9PE3QknYsOxm6AQ5CcQdxDvs',\n",
       "       'http://t.co/wgctD0rd', 'http://t.co/ovz0wT2O',\n",
       "       'http://m.facebook.com/l.php?u=http%3A%2F%2F1.usa.gov%2FzkpJBR&h=vAQGtNTof',\n",
       "       'http://lalaf.com/ihkg/app/iphone.4_71.php?gif=no&font=14&ver=4.73&na=1&&img=yes&smy=yes&forum=7&id=3602284&page=1&allpage=9&loc=129&bloc',\n",
       "       'http://t.co/ihUhQF1r',\n",
       "       'http://www.facebook.com/l.php?u=http%3A%2F%2Fgo.nasa.gov%2FwqUkTo%3Fref%3Dnf&h=lAQHkOnePAQEphexVJoSTOmQ8WpdDlw0jz6N7cQjIB0D3aQ',\n",
       "       'http://www.facebook.com/l.php?u=http%3A%2F%2F1.usa.gov%2FzkpJBR&h=iAQHSRJiqAQHWyGKlJLyoapZ3t68gz9Nwoh20N4xWZmgLwg',\n",
       "       'https://twitter.com/molleymoody/status/180636065898561536',\n",
       "       'http://www.facebook.com/l.php?u=http%3A%2F%2F1.usa.gov%2FzkpJBR&h=AAQGqBXRtAQHmxmkJ5g262XdDwz7I5SRglQGwLhqJJ0yeEg',\n",
       "       'http://www.facebook.com/l.php?u=http%3A%2F%2Fgo.nasa.gov%2FyeE6VR&h=6AQEiklj9AQG13VGN8spje1xochjK_jrdTcyKW6ksx4U5LQ',\n",
       "       'http://t.co/J6qInqf7', 'http://stocktwits.com/kevindepew',\n",
       "       'http://www.facebook.com/l.php?u=http%3A%2F%2F1.usa.gov%2FzkpJBR&h=-AQHCKkYsAQFMfW3xTmwoI6utyXwNrbHZ4EPubKNws2GzKA',\n",
       "       'http://m.facebook.com/l.php?u=http%3A%2F%2F1.usa.gov%2FyIkLDb&h=kAQGOHjmv',\n",
       "       'http://www.facebook.com/l.php?u=http%3A%2F%2F1.usa.gov%2FzkpJBR&h=wAQFfZPOVAQEQUqVZ2vbRKegGP36FGhQ6xWc0DgcOR-R2og',\n",
       "       'http://t.co/lY3ZPJaN',\n",
       "       'http://m.facebook.com/l.php?u=http%3A%2F%2F1.usa.gov%2FzkpJBR&h=8AQGIBzly',\n",
       "       'http://www.facebook.com/l.php?u=http%3A%2F%2F1.usa.gov%2FzkpJBR&h=YAQFbqv-wAQEYbLhVB7n9RPiZnxtxtAWrav9uZ2pYYA4uOQ',\n",
       "       'http://www.facebook.com/l.php?u=http%3A%2F%2F1.usa.gov%2FzkpJBR&h=6AQEp6zUZAQE8i5u3V9t11O6cOyqhq7fxvTulFwY6KJgBFw',\n",
       "       'http://www.facebook.com/l.php?u=http%3A%2F%2F1.usa.gov%2FzkpJBR&h=RAQGoNMUBAQHQfkmgc8jUgiwvDkuBVTOCcx7qgHECMTfsLw',\n",
       "       'http://www.facebook.com/l.php?u=http%3A%2F%2Fgo.nasa.gov%2FyeE6VR&h=mAQHg9LWgAQHgse4Mib1itqHa2XUEuKEGHSYykzpQEmz7cw',\n",
       "       'http://www.facebook.com/l.php?u=http%3A%2F%2F1.usa.gov%2FzkpJBR&h=qAQGpsGLZAQFu9CxJUiPQRPiuQ10v7Lh4a603lLOUXRFGEg&enc=AZPG60ZjhXVbHeUI17GGcfwmwgyEAIYTgy-lsQ59nPSIWbtZLDzoeBZyQxIBrqW7Uf12CyF4vUnRTOuvcUDVnL0Q',\n",
       "       'https://twitter.com/lindaseidler/status/180491532221165568',\n",
       "       'http://www.facebook.com/l.php?u=http%3A%2F%2F1.usa.gov%2FzkpJBR&h=yAQG4vjVAAQEhov0QzqlcrIrljIMQQsOe5mjN3TuGyF9MrA',\n",
       "       'http://t.co/6xAUIwJK', 'http://t.co/eWtdEjjO',\n",
       "       'http://m.facebook.com/l.php?u=http%3A%2F%2F1.usa.gov%2FzkpJBR&h=ZAQFExmyY',\n",
       "       'http://t.co/301GoVqI', 'http://t.co/UKGBxj29',\n",
       "       'http://36ohk6dgmcd1n-c.c.yom.mail.yahoo.net/om/api/1.0/openmail.app.invoke/36ohk6dgmcd1n/10/1.0.35/us/en-US/view.html/0',\n",
       "       'http://www.facebook.com/l.php?u=http%3A%2F%2Fbitly.com%2FxtPjlH&h=wAQEiNi_P',\n",
       "       'http://t.co/4tq2Lnj8',\n",
       "       'http://www.aashtojournal.org/Pages/031612house.aspx',\n",
       "       'http://www.aashtojournal.org/Pages/031612california.aspx',\n",
       "       'http://www.srh.noaa.gov/epz/?n=significantweatherbriefing',\n",
       "       'http://www.facebook.com/l.php?u=http%3A%2F%2F1.usa.gov%2FzkpJBR&h=mAQGSnurUAQEJqJdF9vSprmOD3QMskdCZVhyZRO1qiizCdg',\n",
       "       'http://www.facebook.com/l.php?u=http%3A%2F%2F1.usa.gov%2FoSPTDv&h=gAQHrY--lAQElQ9GrOAPJbEK8loossIGobJDWWxv9ocXdgw',\n",
       "       'http://t.co/x3LYPXyR',\n",
       "       'http://plus.url.google.com/url?sa=z&n=1331923370466&url=http%3A%2F%2F1.usa.gov%2FzkpJBR&usg=7PYE2a4E5lEsJ0vccAgkMJd7ykc.',\n",
       "       'http://www.facebook.com/l.php?u=http%3A%2F%2F1.usa.gov%2FzkpJBR&h=yAQF9JH7xAQGURUniX2a8jaasp3bIVVYxOw90Crd_V56cWg',\n",
       "       'https://twitter.com/zachmartian/status/180722960385048576',\n",
       "       'http://www.facebook.com/l.php?u=http%3A%2F%2F1.usa.gov%2FzkpJBR&h=UAQE9FlHaAQExHnY1F1g9HfE1NhoUlVEeY9N7LZSfDW5R_w',\n",
       "       'http://t.co/h6PbevjL', 'http://t.co/yZP1pbGs',\n",
       "       'http://t.co/1LpYtOpY',\n",
       "       'http://www.facebook.com/l.php?u=http%3A%2F%2F1.usa.gov%2FzkpJBR&h=TAQF2jKDoAQHDZqnzhtSz9DJimrM_y0Kk8FWweNYhVm3mfA',\n",
       "       'http://www.facebook.com/l.php?u=http%3A%2F%2Fgo.nasa.gov%2FwqUkTo&h=WAQE1Z7tNAQE3iIeuI797wBX7jKI1SIxiRE76hV1xCR40lw',\n",
       "       'http://www.facebook.com/l.php?u=http%3A%2F%2F1.usa.gov%2FzkpJBR&h=GAQFRUEuhAQGE3vNIfXGYGq0sWQzHrkFDucpWpyapgPyRrg',\n",
       "       'http://www.facebook.com/l.php?u=http%3A%2F%2F1.usa.gov%2FzkpJBR&h=1AQF9JnDNAQFgAVCkQyJri6dwiBdwn_cOo_xjse5nuxhVaw',\n",
       "       'http://t.co/i4mbPCcf',\n",
       "       'http://www.facebook.com/l.php?u=http%3A%2F%2F1.usa.gov%2FyK8zBm%3Fref%3Dnf&h=wAQEYZupfAQE5RnHnTN6bRF-7AxZQXhxNkSbyfDNmJwynRw',\n",
       "       'http://t.co/heipk8Yn', 'http://t.co/D8ibRiEa',\n",
       "       'http://www.facebook.com/?ref=logo',\n",
       "       'http://m.facebook.com/l.php?u=http%3A%2F%2F1.usa.gov%2FzkpJBR&h=tAQFN4Zq2&enc=AZNRPLGLd_maVCrBe5imtFEH1KRvR_TF3SluUB3NJua9ZIV51VNReKTXY1P8MG81nfbKtjDESVMSpm9-PXkiCKX-29y-8PfhHmI5zsi8bkNYynP5b8es-PhPmF96B4oey0WucWBu8LO72vj_HQ5FGjgLXoU0lQDZD-dQEpY3KaycnTJ5_YtT-JsP6y8sRQSf3dM',\n",
       "       'http://yandex.ru/yandsearch?text=1.usa.gov&lr=213',\n",
       "       'http://www.facebook.com/l.php?u=http%3A%2F%2Ft.co%2FTvgD1PCw&h=JAQGzYNadAQEm7dtLdMSqw7cLaSNMHz4RjC1xu8bD-TBy2A',\n",
       "       'http://nationalmap.gov/',\n",
       "       'http://www.facebook.com/l.php?u=http%3A%2F%2F1.usa.gov%2FxvZdKK%3Fref%3Dnf&h=xAQFusiNsAQG8thDxSNkb9OxsA2dR3FDLTAovKUWME4cypQ',\n",
       "       'http://plus.url.google.com/url?sa=z&n=1331923411853&url=http%3A%2F%2F1.usa.gov%2FzkpJBR&usg=cOMvcsXf03bOirGgKcGDdR1lSHc.',\n",
       "       'http://t.co/hVJbTxoY', 'http://t.co/s2zXjXQG',\n",
       "       'http://t.co/fwPCJhAw',\n",
       "       'http://www.facebook.com/l.php?u=http%3A%2F%2F1.usa.gov%2FxIeSKS&h=KAQGwFyP2AQHOZoLU3EYbbSL_UAz83j-m1YAM4PwvCqYqwg',\n",
       "       'http://www.facebook.com/l.php?u=http%3A%2F%2F1.usa.gov%2FzkpJBR&h=PAQFVNMV1AQFcnRCto3CJUBw11iRUXFzWcFsJX6s31lORhw',\n",
       "       'http://www.facebook.com/l.php?u=http%3A%2F%2F1.usa.gov%2FzkpJBR&h=-AQHX6oIkAQEjr5tcWeleE2WuzWinIqfeHaAPswScsa-ztg',\n",
       "       'http://www.facebook.com/l.php?u=http%3A%2F%2F1.usa.gov%2FzkpJBR&h=IAQHCysUJAQEd1g_7_ePxPcmJk0mkM6A3s7leMTc-F6_cdA',\n",
       "       'http://www.facebook.com/l.php?u=http%3A%2F%2F1.usa.gov%2FFOehY1%3Fref%3Dnf&h=mAQGvpjVlAQFnemoO7Gx8TVUmitPmDwFkeEE3EPpH7qb4Iw',\n",
       "       'http://www.huffingtonpost.com/2011/12/15/indefinite-military-detention-bill-passes_n_1152114.html',\n",
       "       'http://www.facebook.com/l.php?u=http%3A%2F%2F1.usa.gov%2FzkpJBR&h=dAQHmv-cyAQHzXclaO7-rCMAWEslajnPOKrcBLvIZ0Qr0sA',\n",
       "       'http://www.facebook.com/l.php?u=http%3A%2F%2F1.usa.gov%2FwZidfX&h=eAQEv2e8sAQExzE5rABPlU1RChhwaw4ottMbTIIYgjKFliw',\n",
       "       'http://www.facebook.com/l.php?u=http%3A%2F%2F1.usa.gov%2FwBz7bR&h=PAQEWgb1bAQEmfMfFDlY7B_CvrAM9aon-1NysemcO1bCKaw',\n",
       "       'http://t.co/LMjED2o1',\n",
       "       'http://www.facebook.com/l.php?u=http%3A%2F%2F1.usa.gov%2FzkpJBR&h=_AQHLF0lEAQHk47StkHjZP8fBGEl9UN61910d59ArO7gvAA',\n",
       "       'http://t.co/Mo6MA3VU', 'http://t.co/EenULvIU',\n",
       "       'http://plus.url.google.com/url?sa=z&n=1331923454195&url=http%3A%2F%2F1.usa.gov%2FzkpJBR&usg=TeUVjaHKVuSi8okKZU2OOyDtNWI.',\n",
       "       'http://www.facebook.com/home.php',\n",
       "       'http://www.facebook.com/l.php?u=http%3A%2F%2F1.usa.gov%2FzkpJBR&h=TAQEVpabWAQHTlIw1faN20YMPT10cwiQAiT92Xgg1TB3eGQ',\n",
       "       'http://www.facebook.com/l.php?u=http%3A%2F%2F1.usa.gov%2FyK8zBm%3Fref%3Dnf&h=WAQEJDtTiAQHQrZbAtBX9BzxjpWBt_KUZIX0q25e-_WrvQA',\n",
       "       'https://twitter.com/whitehouse/status/180677826754789376',\n",
       "       'https://twitter.com/nasa/status/180662400964493314',\n",
       "       'http://plus.url.google.com/url?sa=z&n=1331923465182&url=http%3A%2F%2F1.usa.gov%2FzkpJBR&usg=y_MOx_710023aTSgelOIUZiwoYM.',\n",
       "       'http://www.facebook.com/l.php?u=http%3A%2F%2F1.usa.gov%2FzkpJBR&h=mAQFUTZ55AQFRCy3FDRmFRKjae0Gpf8Bd6Okj396nCu5mTg',\n",
       "       'http://m.facebook.com/l.php?u=http%3A%2F%2Fgo.nasa.gov%2FyeE6VR&h=xAQFywz8n',\n",
       "       'http://t.co/l9wbjKe0',\n",
       "       'http://www.facebook.com/l.php?u=http%3A%2F%2F1.usa.gov%2FzkpJBR&h=gAQHAB8gjAQE-Hkt1MwclHBpwvCXRkzNv6WCdGzCDR_oyoA',\n",
       "       'http://www.barackobama.com/',\n",
       "       'http://www.facebook.com/l.php?u=http%3A%2F%2F1.usa.gov%2FzkpJBR&h=ZAQG9HWL7AQGndO7CbSKXn45OpJYQOwr9y9b5QVABpg0a6A',\n",
       "       'http://www.facebook.com/l.php?u=http%3A%2F%2F1.usa.gov%2FFPuJlC&h=GAQHjopiuAQHKgG4SapmFAwFl9ihxvK1mstR5BddMfmu4Ug',\n",
       "       'http://abclocal.go.com/wpvi/story?section=news/consumer&id=8557750',\n",
       "       'http://www.facebook.com/l.php?u=http%3A%2F%2F1.usa.gov%2FzkpJBR&h=MAQGDvEBjAQGgNgYYXMGSFz_DvgGTw43p3h63_EO9_XHdlQ',\n",
       "       'http://t.co/LCNLMOJn', 'http://t.co/g4n56J61',\n",
       "       'http://www.facebook.com/l.php?u=http%3A%2F%2F1.usa.gov%2FADiRud&h=FAQEb4tNEAQHsltrahFn6NhEvaQEWCKL9NXoIH6hzUZhJaA',\n",
       "       'http://plus.url.google.com/url?sa=z&n=1331923503811&url=http%3A%2F%2F1.usa.gov%2FzkpJBR&usg=Yc1sLpGu7VxNEpnerQLgo79IB5Q.',\n",
       "       'http://t.co/Z9eP7bL',\n",
       "       'https://twitter.com/fdarecalls/status/180697594887012352',\n",
       "       'http://www.facebook.com/l.php?u=http%3A%2F%2Fgo.nasa.gov%2FyeE6VR&h=dAQG7GFQF',\n",
       "       'http://t.co/5RxFymkB',\n",
       "       'http://www.facebook.com/l.php?u=http%3A%2F%2F1.usa.gov%2FzkpJBR&h=iAQFEkYSuAQH6Ok3lkqjP7wcBFbESKBd9sUnJa7p8bqrwAg',\n",
       "       'http://t.co/L7ojXrg9',\n",
       "       'http://www.facebook.com/l.php?u=http%3A%2F%2F1.usa.gov%2FzkpJBR&h=bAQHlwV60AQHsirI_lQnJRSPSo15NusnwW4JcKawExKR68g',\n",
       "       'http://www.nationalreview.com/tweet',\n",
       "       'http://www.barackobama.com/?source=action-bar',\n",
       "       'http://t.co/akubeH95',\n",
       "       'https://twitter.com/ericfishertwc/status/180631709165957121',\n",
       "       'http://www.usa.gov/Citizen/Services/Address-Changes.shtml',\n",
       "       'http://t.co/AR1s2y09',\n",
       "       'http://www.facebook.com/l.php?u=http%3A%2F%2F1.usa.gov%2FzkpJBR&h=xAQGv80mJAQGH6s7X4SaQMFwzuIYb7haLF1edU-uqoTaAIw',\n",
       "       'http://www.facebook.com/l.php?u=http%3A%2F%2F1.usa.gov%2FzkpJBR&h=VAQGlKGE8AQGHgK5Hp_g8VStBtSzsv0UTo-1IVs25HS_zuQ',\n",
       "       'http://www.facebook.com/l.php?u=http%3A%2F%2Fgo.nasa.gov%2FA3r7z2&h=iAQGn0xPpAQHzQVI0v8TbXpDRzx5RXKXhFwCRnTtdLE0ktg',\n",
       "       'http://t.co/kAMPLa6p',\n",
       "       'http://www.facebook.com/l.php?u=http%3A%2F%2Ft.co%2FoXjnYTk4&h=DAQHEXj2AAQFa68TbDDY1lGL28awNep9t6i1834yqGQMBMA',\n",
       "       'https://twitter.com/obama2012/status/180717049117544448',\n",
       "       'http://roosterteeth.com/podcast/episode.php?id=157',\n",
       "       'http://t.co/PjjgyoU6', 'http://hootsuite.com/dashboard',\n",
       "       'http://t.co/t0Udjkrm',\n",
       "       'http://www.skihood.com/The-Mountain/Conditions',\n",
       "       'http://www.facebook.com/l.php?u=http%3A%2F%2F1.usa.gov%2FyIkLDb&h=dAQEpG7fLAQGC99FuuLj23Wocw0MLwq4gcZj-C4gVUFsw-g',\n",
       "       'http://addins.wrex.com/developing_stories_weather.php',\n",
       "       'http://plus.url.google.com/url?sa=z&n=1331923544130&url=http%3A%2F%2F1.usa.gov%2FzkpJBR&usg=v7UichiZFUidm3OeLaRZwIproo8.',\n",
       "       'http://m.facebook.com/l.php?u=http%3A%2F%2Fgo.nasa.gov%2FwqUkTo&h=9AQHwpGCf',\n",
       "       'http://plus.url.google.com/url?sa=z&n=1331923576258&url=http%3A%2F%2F1.usa.gov%2FzkpJBR&usg=HdB0Hf01CzCuxYL_CvwnnmSzS78.',\n",
       "       'http://www.facebook.com/l.php?u=http%3A%2F%2Ft.co%2FJ92HwuTT&h=_AQEKdQtRAQG-wbYt5I3YrbTPoAbkee3Go4DLpC6VeajfWA',\n",
       "       'http://www.facebook.com/l.php?u=http%3A%2F%2F1.usa.gov%2FzkpJBR&h=QAQEEcemyAQGQNH4AzibEJd-ySmKFNdrDUi8xDd9mO6mg1g',\n",
       "       'http://www.facebook.com/l.php?u=http%3A%2F%2F1.usa.gov%2FzkpJBR&h=nAQG1QXf0AQG_NqRSidA9BBtubg6i5xRTiXG9-eAEZCdW5A',\n",
       "       'http://t.co/WJJmfdud', 'http://t.co/uFS19XYB',\n",
       "       'https://twitter.com/kcnews/status/180726457792868352',\n",
       "       'http://t.co/Dx6VAUNm',\n",
       "       'http://www.facebook.com/l.php?u=http%3A%2F%2F1.usa.gov%2FzkpJBR&h=qAQHwGUASAQEWRSUhoAwzxnh8pmh9PgYX1K7A4bWm4NOQ_A',\n",
       "       'http://today.lbl.gov/2012/03/16/last-chance-to-register-for-jgi-genomics-of-energy-and-environment-meeting/',\n",
       "       'http://www.groupon.com/deals/ga-best-western-plus-four-presidents-lodge?c=all&p=2',\n",
       "       'http://plus.url.google.com/url?sa=z&n=1331923596298&url=http%3A%2F%2F1.usa.gov%2FzkpJBR&usg=iGQqmTRsFU0Mym0Gh4LDf7i9rUg.',\n",
       "       'http://t.co/sbbNQx9O', 'http://www.barackobama.com/videos/gadget',\n",
       "       'http://t.co/lwZWlywi', 'http://today.lbl.gov/',\n",
       "       'http://t.co/eGljE8yW', 'http://t.co/zwD58kKm',\n",
       "       'http://bl129w.blu129.mail.live.com/default.aspx?rru=inbox',\n",
       "       'http://plus.url.google.com/url?sa=z&n=1331923624773&url=http%3A%2F%2F1.usa.gov%2FzkpJBR&usg=IMoS-l5vjsSrDieytsdFlFzf35Y.',\n",
       "       'http://t.co/Itza5prh',\n",
       "       'http://www.facebook.com/l.php?u=http%3A%2F%2F1.usa.gov%2FwluoR5&h=GAQGdiZgDAQEhPC5rkLPSwrJ1cAknjQrZAxi880ZENEr-zQ',\n",
       "       'http://nix.nasa.gov/search.jsp',\n",
       "       'https://twitter.com/egvstormchaser/status/179757711091703809',\n",
       "       'http://togetter.com/li/39380',\n",
       "       'http://stocktwits.com/symbol/HAUP?q=haup',\n",
       "       'http://www.nysenate.gov/',\n",
       "       'http://www.worldcommunitygrid.org/forums/wcg/viewthread_thread,28931_offset,300',\n",
       "       'http://www.politico.com/news/stories/0312/74061.html',\n",
       "       'http://www.facebook.com/l.php?u=http%3A%2F%2F1.usa.gov%2FzkpJBR&h=XAQFAJ1TuAQE9tpHtDYsuph7slE_I-4yo-1ofLeNV253r6Q',\n",
       "       'http://t.co/jXfXrW8E', 'http://twitter.com/',\n",
       "       'http://www.facebook.com/l.php?u=http%3A%2F%2F1.usa.gov%2FzkpJBR&h=jAQE4xYtjAQE3uufuvD0Uw44513kFQQsyYkY3uUS9rDuzQg',\n",
       "       'http://www.rurdev.usda.gov/RuralJobsAccelerator.html',\n",
       "       'http://t.co/DRHiYvXX',\n",
       "       'http://www.facebook.com/l.php?u=http%3A%2F%2F1.usa.gov%2FzkpJBR&h=wAQG7hPb2AQEnNrEFfRbMVyqVO8zIsN5VwvMXz3Jtr3oDaA',\n",
       "       'http://www.facebook.com/l.php?u=http%3A%2F%2F1.usa.gov%2FzkpJBR&h=bAQFgtf5EAQHeeokkudVsey3AN3w57fsuxjm24myMcBDozw',\n",
       "       'http://becomeagamedesigner.info/landing2.aspx?source=SPI-405604&path=qs2&hid=482912756&dpc_source=142&dpc_agentid=405604&dpc_subagentid=CA001&dpc_progid=4839',\n",
       "       'http://t.co/gXJihSIj',\n",
       "       'http://fightbac.org/about-foodborne-illness?gclid=CLDJ7p3_664CFQdN4AodbDRfIQ',\n",
       "       'http://www.facebook.com/l.php?u=http%3A%2F%2F1.usa.gov%2FzkpJBR&h=PAQFjWjJ4AQEguTjzVKWhj3clbd-_dORTBc88ufocAUzceg',\n",
       "       'https://twitter.com/nasa/status/180682946339016704',\n",
       "       'http://www.facebook.com/l.php?u=http%3A%2F%2Fgo.nasa.gov%2FwqUkTo&h=yAQE-p9hsAQFyNa3DggWZsfjtqjN4-8DwoRHGbR2t2oDuGQ',\n",
       "       'http://www.facebook.com/l.php?u=http%3A%2F%2F1.usa.gov%2FzkpJBR&h=FAQHpr2puAQEWwTh_3LA_-OrTe-SnnGMzLKQbg7XH8GyS5A',\n",
       "       'http://t.co/ZtsPbWgF',\n",
       "       'http://www.sec.gov/cgi-bin/goodbye.cgi?www.pueblo.gsa.gov/cic_text/money/financial-planner/10questions.html',\n",
       "       'http://www.facebook.com/l.php?u=http%3A%2F%2F1.usa.gov%2FzkpJBR&h=tAQE4N43aAQHtPhZyXwGmJUP1Q4gKIMklCi49PSeD6TYYyA',\n",
       "       'http://www.facebook.com/l.php?u=http%3A%2F%2F1.usa.gov%2FzkpJBR&h=9AQENzXiIAQGHsajNZQXOtjlu-aOVGTU7Lykb0lVAIpW_9g',\n",
       "       'https://twitter.com/michigandot/status/180726790371819520',\n",
       "       'http://m.facebook.com/l.php?u=http%3A%2F%2F1.usa.gov%2FyIkLDb&h=-AQFYOhSO',\n",
       "       'http://www.facebook.com/l.php?u=http%3A%2F%2F1.usa.gov%2FzkpJBR&h=aAQE4xwbiAQGEA-xSFxC-E10tSrF6UPwCuTAmffJTDPEhzA',\n",
       "       'http://m.facebook.com/l.php?u=http%3A%2F%2Fgo.nasa.gov%2FwqUkTo&h=4AQFcaMjn&enc=AZNFINDG3HCJCWnmocAf_mfCf997u-PcOoDpu6aDFwI2aJuLyQXYafjhhchngs5OF8QKFuOZ-zGnodcgYtMg_JpOH8Ac2AR2CBUxb5TK0a94Z7xKyHAlYb5VVq8RxxSdTUfdNdnUNeTllDb4mox9S1PShWJyh_X2a9_jraVIf0gTW0AM8HdTdb4rgs6RBQMS0b4cGh-HP2JtpSbfXMPJaAVu1ux1fPYTvJ7qHcrikGo3aoj3DOMy8EDSfS3WgcOggImsVwYzmn-dUN-kUh8kBOdDaPV2_DWCvlrwHDA8RS7sR8Zt6fUOpIbYugQTu7X0pqjsBZRN1-O3hPj-9k3elwSq',\n",
       "       'http://plus.url.google.com/url?sa=z&n=1331923715522&url=http%3A%2F%2F1.usa.gov%2FzkpJBR&usg=sRYEn7EX_d9Z3naoBr8e_nvKNiY.',\n",
       "       'http://t.co/5cH6E4J0',\n",
       "       'https://twitter.com/nasa/status/180439898757677056',\n",
       "       'http://t.co/FbvjyPMV',\n",
       "       'http://mail.nctc.net/MsgTxt.aspx?fid=0&ID=34296',\n",
       "       'http://www.facebook.com/l.php?u=http%3A%2F%2F1.usa.gov%2FzkpJBR&h=0AQEN9m5PAQEEeXfIRLEbmjhURfxbegK1zyPaP6fd-NvqYg',\n",
       "       'http://www.facebook.com/l.php?u=http%3A%2F%2F1.usa.gov%2FzkpJBR&h=JAQHTF2_8AQFEl2jNH390a1TAAFiBqcO1JvmUuJMpkIvJkA',\n",
       "       'http://t.co/ZqRuQC8i',\n",
       "       'https://twitter.com/csteenst/status/180328728461709312',\n",
       "       'http://www.facebook.com/l.php?u=http%3A%2F%2F1.usa.gov%2FzkpJBR&h=OAQGmPaU1AQG8YorRtfDUrfrez8TjIt_QEWrUcgwb7TtCsQ',\n",
       "       'http://www.facebook.com/l.php?u=http%3A%2F%2F1.usa.gov%2FzAhuZI&h=_AQHQqHfyAQEI7k2kRdbuWdzbWLPb8ECwBqoEGiDIOSH-ZA',\n",
       "       'http://t.co/lLTOhIWd',\n",
       "       'http://m.facebook.com/l.php?u=http%3A%2F%2F1.usa.gov%2FzkpJBR&h=EAQFsrJlH',\n",
       "       'https://twitter.com/setiinstitute/status/180703746970484736',\n",
       "       'http://www.facebook.com/l.php?u=http%3A%2F%2F1.usa.gov%2FzkpJBR&h=4AQHOOndkAQE3GQqf7QuLRynABdpRYaHxt8p7dNob7PCm4w',\n",
       "       'http://t.co/UIhZMzY6', 'http://t.co/KefLcHHb',\n",
       "       'http://www.facebook.com/l.php?u=http%3A%2F%2F1.usa.gov%2FzkpJBR&h=KAQGKQBAtAQG7u_3w_T-zLcTuc1COjcZdqbGUFgaNgKBVpQ',\n",
       "       'http://m.facebook.com/l.php?u=http%3A%2F%2F1.usa.gov%2FzkpJBR&h=KAQGSRT2_',\n",
       "       'http://www.facebook.com/l.php?u=http%3A%2F%2F1.usa.gov%2FzkpJBR&h=HAQH9ONiMAQEK68FjDYg794XGBy8DXLqweoLUYMsB1-TpFQ',\n",
       "       'http://m.facebook.com/l.php?u=http%3A%2F%2F1.usa.gov%2FzkpJBR&h=RAQE-zXJ2&enc=AZMJgsj39Lzv302xfect40xf4BQgLNBd-tIyfjDbP8lU6i8oBjr5FHfUtGuE6Ut209rZ-rO1DQdLd-E4RlX9OAmvEulvuNxNVTW3MMsf261G00f6cIPMyxQG_yDJTTIYF9LNuLVwkfofXyNrDLiVgeH0H5sCvke3XMDu4Up_gRcDyAH23998vQpzFG1a7aQq6ls',\n",
       "       'http://www.facebook.com/l.php?u=http%3A%2F%2F1.usa.gov%2FzkpJBR&h=yAQHFC3L7AQHVN5FZW2X-fQ-9Y1gEtVPDTfnzpuBnhLfn_w',\n",
       "       'http://www.facebook.com/l.php?u=http%3A%2F%2F1.usa.gov%2FzkpJBR&h=EAQGZ8LyFAQH2qpey87ZKYn9-I3MiFWg3Asl895fnAUJ_cw',\n",
       "       'http://t.co/zAf5pZxO',\n",
       "       'http://www.facebook.com/l.php?u=http%3A%2F%2F1.usa.gov%2FzkpJBR&h=_AQEpDNJwAQESM38xAk29cfNDaaIe1Ap704SKhrmAxyxxsw',\n",
       "       'http://m.facebook.com/l.php?u=http%3A%2F%2F1.usa.gov%2Fymqj7c&h=LAQF9Blvy',\n",
       "       'http://www.facebook.com/l.php?u=http%3A%2F%2F1.usa.gov%2FzkpJBR&h=IAQGrNNygAQGZdSrVViVxCxbjIsErS9o5-Cn3aoQzYa0njg',\n",
       "       'http://www.facebook.com/l.php?u=http%3A%2F%2Fgo.nasa.gov%2FyeE6VR&h=CAQGDbRkOAQECfE4d0hwLXy-p8yuEaiq_miM3Tk8foUm2TA',\n",
       "       'http://www.facebook.com/l.php?u=http%3A%2F%2F1.usa.gov%2FxV8Hbl&h=vAQEO1Q37AQHZNWw_0W_5QnL0c7SL6oMFVQnvA7jC26HRKQ',\n",
       "       'http://www.langleynewmedia.com/about-langley-wa/getting-to-langley/',\n",
       "       'http://links.govdelivery.com/track?type=click&enid=ZWFzPTEmbWFpbGluZ2lkPTIwMTIwMzE0LjYxNjQxMTEmbWVzc2FnZWlkPU1EQi1QUkQtQlVMLTIwMTIwMzE0LjYxNjQxMTEmZGF0YWJhc2VpZD0xMDAxJnNlcmlhbD0xNjg0MDU3MyZlbWFpbGlkPW1hcmNpZS5yb3RoQGRocy5nb3YmdXNlcmlkPW1hcmNpZS5yb3RoQGRocy5nb3YmZmw9JmV4dHJhPU11bHRpdmFyaWF0ZUlkPSYmJg==&&&100&&&http://1.usa.gov/z6glLT',\n",
       "       'http://www.facebook.com/l.php?u=http%3A%2F%2Ft.co%2FD5E85LEO&h=gAQEyswjiAQF2Td5bjS5IeETSx3pUKYBQcxRkdNPDqcsT2A',\n",
       "       'http://www.facebook.com/l.php?u=http%3A%2F%2F1.usa.gov%2FzkpJBR&h=nAQFxar3vAQHOlsc1jjurWLaA3mB7WHEBGGdeN61deEEe3Q',\n",
       "       'http://www.facebook.com/l.php?u=http%3A%2F%2F1.usa.gov%2FzkpJBR&h=OAQFk5QgwAQHEnwJ3vbAyfJ6JzQesxpll8X8qAj7bbTLq1g',\n",
       "       'http://www.facebook.com/l.php?u=http%3A%2F%2Fbit.ly%2Fcdcrstar&h=oAQGbjbjCAQGYDQ3RoRrxFOV97hrwl65-gtMIF-0Y2HZebg',\n",
       "       'http://www.facebook.com/l.php?u=http%3A%2F%2F1.usa.gov%2FzkpJBR&h=MAQG2arO9AQH1d54wwzEdOi3PNxs3PKB0Dlh9k6RRd_dPhA',\n",
       "       'http://t.co/ZSGJ1erp',\n",
       "       'http://www.facebook.com/l.php?u=http%3A%2F%2F1.usa.gov%2FzkpJBR&h=PAQHjKt6DAQEYiqYscBbfDP795Gk7UMhct0q9usUMWuNzTw',\n",
       "       'http://www.facebook.com/l.php?u=http%3A%2F%2F1.usa.gov%2FzkpJBR&h=zAQEnM9FSAQHL6ys54UO1DKqJV1breeHIMpprV1pfRHg0Ow',\n",
       "       'https://twitter.com/usgovnews/status/180404810158309379',\n",
       "       'http://plus.url.google.com/url?sa=z&n=1331923844870&url=http%3A%2F%2F1.usa.gov%2FzkpJBR&usg=CpLRUtYn8fYTRhBZ3A1ca1qtaVg.',\n",
       "       'http://t.co/9DdpK7AB', 'http://t.co/de3Wcmmt',\n",
       "       'https://twitter.com/rephowardberman/status/180413636056064000',\n",
       "       'http://www.facebook.com/l.php?u=http%3A%2F%2F1.usa.gov%2FzkpJBR&h=JAQHCQZLFAQGAy6Rrr8cxpc-elvEw4q2voSlvRUWC3sFVzg',\n",
       "       'http://www.shrewsbury-ma.gov/selco/index.php?fDD=23-0',\n",
       "       'http://www.barackobama.com/news/entry/i-love-you-back',\n",
       "       'http://www.facebook.com/l.php?u=http%3A%2F%2Fgo.nasa.gov%2FwqUkTo&h=BAQGnogTMAQF1yndPmKG1mBbvjTlEv-jSzC294aWpFHhqEg',\n",
       "       'http://www.facebook.com/l.php?u=http%3A%2F%2Fgo.nasa.gov%2FyeE6VR&h=bAQHM0BnmAQH1gVnfXEOo3n6GpCsS_AFYpJTuW0ldomHLgg',\n",
       "       'http://selco.shrewsbury-ma.gov/selco/index.php?fDD=23-0',\n",
       "       'http://www.facebook.com/l.php?u=http%3A%2F%2F1.usa.gov%2FzkpJBR&h=bAQGgQbPQAQGD45vYsgnoVFChhczQwzw82uKhv2OKH1-RKg',\n",
       "       'http://www.google.com/url?sa=D&q=http://1.usa.gov/yj3Xmi&usg=AFQjCNFGcPaUonkVDzimBRjdYtcQ3mNAzA',\n",
       "       'http://m.facebook.com/?_rdr',\n",
       "       'http://www.sltrib.com/sltrib/politics/53728870-90/district-filed-former-kimball.html.csp',\n",
       "       'http://t.co/T2Evi6ct',\n",
       "       'https://twitter.com/gilsimmons/status/180711771919761409',\n",
       "       'http://t.co/qJWMUtWF',\n",
       "       'http://plus.url.google.com/url?sa=z&n=1331923902148&url=http%3A%2F%2Fgo.nasa.gov%2FyeE6VR&usg=CXQO_IGLfH5BxYJMx4jZWMWm02M.',\n",
       "       'http://bl162w.blu162.mail.live.com/default.aspx',\n",
       "       'http://plus.url.google.com/url?sa=z&n=1331923915730&url=http%3A%2F%2F1.usa.gov%2FzkpJBR&usg=rlbIjBWQjm7b1FUZxuRGCDfXzBQ.',\n",
       "       'http://www.facebook.com/l.php?u=http%3A%2F%2F1.usa.gov%2FzkpJBR&h=7AQF4a2bpAQECn9qlE5Z2H979kvWDp-J2zuVN2O1uymmToA',\n",
       "       'http://t.co/hkpQDVvM',\n",
       "       'http://m.facebook.com/l.php?u=http%3A%2F%2F1.usa.gov%2FwZCOwA&h=IAQHGmEgl',\n",
       "       'http://www.facebook.com/l.php?u=http%3A%2F%2F1.usa.gov%2FzkpJBR&h=QAQETFQUJAQGWeeQu6msm2G--spd6w8x8esyyNesJ3jI8ow',\n",
       "       'http://www.facebook.com/l.php?u=http%3A%2F%2F1.usa.gov%2FzkpJBR&h=JAQHFYo_8AQGk57GkbQwufknj0bwwVA3sQ9pADUAG0IUwZA',\n",
       "       'https://twitter.com/pepelobo78/status/180727462127341568',\n",
       "       'http://messages.finance.yahoo.com/Stocks_%28A_to_Z%29/Stocks_T/threadview?m=tm&bn=22756&tid=53109&mid=53109&tof=2&frt=2',\n",
       "       'http://yandex.ru/yandsearch?text=prks.org&lr=213',\n",
       "       'http://www.facebook.com/l.php?u=http%3A%2F%2F1.usa.gov%2FzkpJBR&h=jAQHbQu6ZAQFF8vq3O6kouw1nmcQY_9_QVU8V7uB8ZRPqTg',\n",
       "       'http://www.pia.org/COMM/epubs/htmlreporter/20120316CT/reporter.html',\n",
       "       'http://www.facebook.com/l.php?u=http%3A%2F%2F1.usa.gov%2FzkpJBR&h=MAQEkWvHAAQGW_9J_UWnFNb0H7CGMle8ZL6hZHbT_i4XkXg',\n",
       "       'http://www.facebook.com/l.php?u=http%3A%2F%2Fgo.nasa.gov%2FyeE6VR&h=MAQErWvatAQGUld79li7q8e3WWYj9bNTtNFvAgAHoTad4_g',\n",
       "       'http://t.co/g6pmXaOb', 'http://t.co/29Sj0xfj',\n",
       "       'http://t.co/fEnqbzRR',\n",
       "       'http://us.mc1205.mail.yahoo.com/mc/showMessage;_ylc=X3oDMTBucmhobGR0BF9TAzM5ODMwMTAyNwRhYwNkZWxNc2dz?mid=1_690276_APBVimIAATL%2BTtY2WAW6HyV2A5M&fid=Inbox&sort=date&order=down&startMid=550&filterBy=&.rand=1996253857',\n",
       "       'http://www.facebook.com/l.php?u=http%3A%2F%2Fgo.nasa.gov%2FA3r7z2%3Fref%3Dnf&h=vAQF0RcA3AQGR1ZApWbqFQuvT8ShrOWgS1gidmyp51w1RMQ',\n",
       "       'http://www.facebook.com/l.php?u=http%3A%2F%2Fj.mp%2FwZ0eD0&h=IAQEhnkPnAQH05dMJd3RXZm6y065YVGomZ_R-k2JKHkpK1Q',\n",
       "       'http://www.mtsu.edu/information/',\n",
       "       'http://www.facebook.com/l.php?u=http%3A%2F%2Fgo.nasa.gov%2FA3r7z2&h=pAQECopspAQGQoFdMXKJOVKxTa9vDG6A3bJvj097l56cfOA',\n",
       "       'http://newworldinvestor.com/7340/radar-report-3-15-12/',\n",
       "       'http://m.facebook.com/l.php?u=http%3A%2F%2F1.usa.gov%2FwRH7bC&h=1AQFRCUb5&enc=AZPxZS25kdKcOY-iS2zajst3vhQI4D7dxJ1AXHaKRmkBsuHuMxtaqqJS7DVRpo7pgp68_BLg-7P-oj5BnIwsNnE1aM-dzJRchoL4MP2gUxfR3QVojP5b-pG-Gzv3_GD1fdosvA_bnyb8Is4ZaRmCCUhK3XIW3HdbNolVfPM633fF26nHc2iyLrtDjvh3vJkNa2RLoMzMYkupuAorCHvQSuS12EigvIB2uTF5p6rmevvIuWI-dXmCki8J6hbrxzS2jwdfeBB5CCtdW9_HGfMZffIPMYqd3rX9d_NF0EPe3A9P8A',\n",
       "       'http://t.co/AkSxFMwx',\n",
       "       'http://www.facebook.com/l.php?u=http%3A%2F%2F1.usa.gov%2FyIkLDb&h=cAQHNqW2rAQEVoEw2MjOI0OoF-fytmNWlfg78IctI6S3zVw',\n",
       "       'http://t.co/lx9DcwFG', 'http://t.co/BZWswjOn',\n",
       "       'http://m.facebook.com/',\n",
       "       'http://www.facebook.com/l.php?u=http%3A%2F%2F1.usa.gov%2FzkpJBR&h=2AQFfdnYlAQFDTqTRAa6wgZUqGJP5Q-Ju13EE24yvd1zLOg',\n",
       "       'http://www.facebook.com/l.php?u=http%3A%2F%2F1.usa.gov%2FwOz2ls&h=BAQEz0VAfAQGEJzx9LGRxrRjehUXa22ICf3rBAFwdr4qa0w&enc=AZN6CHk_j_b2VPNV_DFNSYn4WpmaG2d5N1lSnRRwUaGUj82lPa7b7iN7lRMmWye0fHJVIXRYcpeQJXDUkE2EP_ed0m_dhNi2txJNr7gGutBXjg',\n",
       "       'http://plus.url.google.com/url?sa=z&n=1331924012126&url=http%3A%2F%2F1.usa.gov%2FzkpJBR&usg=F3lEC0fE4t6JACRRD9go7ebFt-w.',\n",
       "       'http://www.facebook.com/l.php?u=http%3A%2F%2F1.usa.gov%2FzkpJBR&h=NAQFfJ0pZAQHjYskjFlmfWqpQz3V-IknzTmYcR2eHUZNUoQ',\n",
       "       'http://www.conferencealerts.com/seeconf.mv?q=ca1s6ssm',\n",
       "       'http://m.facebook.com/l.php?u=http%3A%2F%2F1.usa.gov%2FzkpJBR&h=7AQE3BiZG',\n",
       "       'http://m.facebook.com/l.php?u=http%3A%2F%2F1.usa.gov%2Fyd1feN&h=bAQGBd8d0',\n",
       "       'http://m.facebook.com/l.php?u=http%3A%2F%2Fgo.nasa.gov%2Fzq8Iew&h=WAQHfik4G&enc=AZOF6wifhwe2s5AV2r009X6KpivJ0RYPEilmuUbhp1URCXPyQO2jxvn7aWfM1UMVBe2QKSkN5z3pVVfa2T6z54LPqIhOuMClTdsH7dDTN0Wq39Whg4f8pRt_Ieam3Y_V6D-PlrKXhGYW0SrPbPk_ouAqgpqVB9R_AInpK2ce-1b9MbBtJooIe-p_N6zRD8QFpFDt2u9jv48kX4uEupRTbomOUM2YyYX3z_In7EH53HUWTcNcteFFqLU6DCaW55K9nGrp62IOuBKRZXu25e_C3ACPhBLmhndoQMSOa8IK0YD0izCYPgRIqdFD5HZN4WVGPGs',\n",
       "       'https://twitter.com/adamanth_twit/status/180723510862290945',\n",
       "       'http://t.co/5iiZtitJ', 'http://t.co/2yQjWaRu',\n",
       "       'http://www.facebook.com/l.php?u=http%3A%2F%2F1.usa.gov%2FzkpJBR&h=cAQEg20qtAQFyGlT-S90xxbesyPoxHTeZ7Uq0_VF62I5g1w',\n",
       "       'http://www.facebook.com/l.php?u=http%3A%2F%2F1.usa.gov%2FzkpJBR&h=dAQGkoIZSAQEz6rgc_SvC72XZnuETjXFO3C0NqUlL5dej5w',\n",
       "       'http://t.co/CxGHAwDE',\n",
       "       'https://twitter.com/chemo_babe/status/180657692132655104',\n",
       "       'https://twitter.com/noaacomms/status/180678155357532160',\n",
       "       'http://plus.url.google.com/url?sa=z&n=1331924054314&url=http%3A%2F%2Fgo.nasa.gov%2FyeE6VR&usg=HgkAp2V_-A6Ma0R8pok0rhRkz8s.',\n",
       "       'http://www.facebook.com/l.php?u=http%3A%2F%2F1.usa.gov%2FzkpJBR&h=BAQFt7s40AQFlqQOhR2bZH4TdKFOMswvE_X4gWCdRQ0psPw',\n",
       "       'http://t.co/6MyeXLgF',\n",
       "       'http://www.facebook.com/l.php?u=http%3A%2F%2F1.usa.gov%2FzkpJBR&h=lAQENB4D1AQGqTP5VS7AOKbXyLRXExGvsEOceUoUyi56cGQ',\n",
       "       'http://www.cbs8.com/story/9532416/weather-update',\n",
       "       'http://t.co/dnADqY4f', 'http://t.co/UaquwmIr',\n",
       "       'http://www.facebook.com/l.php?u=http%3A%2F%2F1.usa.gov%2FzkpJBR&h=6AQFw8zPzAQFMNn1bPhhTUdye33Hq1NfvpDIzs4MU5imWAw',\n",
       "       'http://www.facebook.com/l.php?u=http%3A%2F%2F1.usa.gov%2FzkpJBR&h=wAQFQq2PwAQGgo4PlZyQ4sr1cCQnvoFZR38a5liwBKoCy7w',\n",
       "       'http://t.co/FB5cSOBA',\n",
       "       'http://m.facebook.com/l.php?u=http%3A%2F%2Fbit.ly%2Fcdcrstar&h=6AQGaMYkj',\n",
       "       'http://www.healthfinder.gov/nho/aprtoolkit.aspx',\n",
       "       'http://www.facebook.com/l.php?u=http%3A%2F%2F1.usa.gov%2FzkpJBR&h=TAQGTvGIwAQGiEv5uFeUZHeY-q3GUb6llEm56hzFlwLaFsw',\n",
       "       'http://www.facebook.com/l.php?u=http%3A%2F%2F1.usa.gov%2FzkpJBR&h=vAQGIWi4kAQHmRP52-dMBFqpxf-FI9WRSVDh8PEu6hVr2KA',\n",
       "       'http://t.co/gngHVfhT',\n",
       "       'http://www.facebook.com/home.php?ref=home',\n",
       "       'http://t.co/dnWaL3OG',\n",
       "       'http://www.nccpr.org/reports/6Poverty.pdf',\n",
       "       'http://t.co/TaPxisaF',\n",
       "       'https://twitter.com/hnfirehose/status/180506223869833216',\n",
       "       'http://www.facebook.com/l.php?u=http%3A%2F%2F1.usa.gov%2FzkpJBR&h=KAQGs4QDqAQHCapMYp3RWqGG7hT_jLBr-r8l5SyB7Fow2Nw',\n",
       "       'http://t.co/Jy9cgvol',\n",
       "       'http://investorshub.advfn.com/boards/board.aspx?board_id=9413',\n",
       "       'http://t.co/pf45PvVR', 'http://t.co/vHuV2IzG',\n",
       "       'http://www.facebook.com/l.php?u=http%3A%2F%2F1.usa.gov%2FzkpJBR&h=dAQG657hkAQF39lfclQWYHuU8PmZgD9KP2Nks6e912NMFcQ',\n",
       "       'http://www.facebook.com/l.php?u=http%3A%2F%2F1.usa.gov%2FzkpJBR&h=0AQEBiZH5AQHFdNi90YnIjxW7jOxuQCa16ONknNcUp132jQ',\n",
       "       'http://www.facebook.com/l.php?u=http%3A%2F%2F1.usa.gov%2FA2q2kK&h=qAQHjXU56AQFwdUk-1kxQOZyv5IG8UV2lpEbP09ZLJoXG-A',\n",
       "       'http://www.cincinnati-oh.gov/noncms/blended/water//',\n",
       "       'http://m.facebook.com/l.php?u=http%3A%2F%2Fgo.nasa.gov%2FwqUkTo&h=SAQFjRTRv&enc=AZNVpT-TntMmQ1UQ-IX_S3Q14zmQDyK7ltvclMyVInzhyGfirdpSc5TYyzf7X-OJ0QuKTkBlRLXSW2e2eSehZlj7Pbc33uYcXvcG8AdTlhNe9yTNZF9K6em6KIbnnOxSBQAx36bufJ-xVfdfYQlJkqcnDqhm4wK25rBM59KJBYP0rQdJA8c_XKoYxZtn8WlLv-K_GGuchDFlgfI4iJUSi9aP7K_Tg31DOWKFABpcA0yO92ifWTTwytjp5Ojt9HZtze1_gkJUDBqDWacKcrgo36RnMHtmqF5y1vsGnZkXc_9tdOT_z3xtmyrACQ2yyrsVxQI',\n",
       "       'http://www.dailypaul.com/182274/switch-to-republican-closed-primary-state',\n",
       "       'https://twitter.com/mikeniccoabc7/status/180369519431270400',\n",
       "       'http://www.cleveland.com/healthfit/index.ssf/2012/01/cleveland_clinic_uh_among_hosp.html',\n",
       "       'http://www.facebook.com/l.php?u=http%3A%2F%2F1.usa.gov%2FzkpJBR&h=9AQEWNelRAQHj6bNnyTV4gjzHTbswHuR64UoA4RueUowKnQ',\n",
       "       'http://t.co/WTLZeQqp',\n",
       "       'http://mail.verizon.com/webmail/driver?nimlet=showmessages&view=emails',\n",
       "       'http://plus.url.google.com/url?sa=z&n=1331924182729&url=http%3A%2F%2Fgo.nasa.gov%2FyeE6VR&usg=tpKI9W7CcGxpal0XW9YZDLvcsmk.',\n",
       "       'http://plus.url.google.com/url?sa=z&n=1331924228281&url=http%3A%2F%2F1.usa.gov%2FzkpJBR&usg=5smQD_9gcZk7o7HwQRCnXDR7fvQ.',\n",
       "       'https://twitter.com/nasa/status/180278853263040513',\n",
       "       'http://plus.url.google.com/url?sa=z&n=1331924252553&url=http%3A%2F%2F1.usa.gov%2FzkpJBR&usg=uIhXb-jL5KDe6XjohzFoMO1Ksl0.',\n",
       "       'http://t.co/HlZ8B6cu',\n",
       "       'http://www.facebook.com/l.php?u=http%3A%2F%2F1.usa.gov%2FzkpJBR&h=jAQEJWpB0AQFdieLFae-v0dqZ9T03GvLKXYnfEArcdGRu1A',\n",
       "       'http://t.co/RLn5mS3Q',\n",
       "       'http://iava.org/redirect?redirect=http://1.usa.gov/AkdX71&org=403&lvl=100&ite=2446&lea=469&ctr=0&par=1',\n",
       "       'http://www.facebook.com/l.php?u=http%3A%2F%2F1.usa.gov%2FzkpJBR&h=QAQF5IhypAQFRoDrGpSe0IGaoqbZ3Yn-7dGKV4f6BPbhdYQ',\n",
       "       'http://www.facebook.com/l.php?u=http%3A%2F%2F1.usa.gov%2FwRH7bC&h=WAQEiS7sGAQGipWgjD9qXnrYbgnmThxwXCGQKJdbpr8jmmw',\n",
       "       'http://support.accuchinesmanufacturing.net',\n",
       "       'http://www.connect.facebook.com/l.php?u=http%3A%2F%2F1.usa.gov%2FwRH7bC&h=7AQED9IHaAQEEvUQKjmv-1l7LU9Iu-Fkodpbqepgo6iu1Vw',\n",
       "       'http://m.facebook.com/l.php?u=http%3A%2F%2F1.usa.gov%2FyYbPpB&h=EAQEt8tGE&enc=AZPtyo_Se1LET-K8_tkTOPtLpqo4Rr9O_FksdXGK90MXtL1a5_xGFu5d_iuY3afR6-eFe30kgpWtj9o04HVqKkyMbZAxvqKVfj9LA3kbQIaIQ0nSIPCsFc8_5JWj7Op0iHbLCuRtAzjJCOs01UttTLo0j_o1KYtaXblcc2bEwnxc1Zz4qjqdAPXxtbmLCvL9Z-wGUn6gKJ2nneeos5WwGxZwTrZIUvkVsnNL008ujQdhu9P52br6whQMYnyC2cC6XNEjXZ-cMcTgI6FAouBrUQ03ypOXWNu3_tLmeMvu6j3u6w',\n",
       "       'http://mobile.twitter.com/marsphoenix',\n",
       "       'http://links.govdelivery.com/track?type=click&enid=ZWFzPTEmbWFpbGluZ2lkPTIwMTIwMzE2LjYyMTM1NDEmbWVzc2FnZWlkPU1EQi1QUkQtQlVMLTIwMTIwMzE2LjYyMTM1NDEmZGF0YWJhc2VpZD0xMDAxJnNlcmlhbD0xNjkxNTY0NyZlbWFpbGlkPXBzb2JjaGFuZ2VAZGFzLnN0YXRlLm9yLnVzJnVzZXJpZD1wc29iY2hhbmdlQGRhcy5zdGF0ZS5vci51cyZmbD0mZXh0cmE9TXVsdGl2YXJpYXRlSWQ9JiYm&&&100&&&http://1.usa.gov/tCYSGj',\n",
       "       'http://iava.org/redirect?redirect=http://1.usa.gov/AkdX71&org=403&lvl=100&ite=2446&lea=3581&ctr=0&par=1',\n",
       "       'http://t.co/OA1VURR6',\n",
       "       'http://www.facebook.com/l.php?u=http%3A%2F%2F1.usa.gov%2FzkpJBR&h=IAQF2RcTSAQH454cO0321k0ufEUS-gKFA5SA97Drs8tYysw',\n",
       "       'http://m.facebook.com/l.php?u=http%3A%2F%2F1.usa.gov%2FyV8hww&h=0AQHs3wSg',\n",
       "       'http://www.indy.gov/egov/city/dps/ifd/Pages/home.aspx',\n",
       "       'http://m.facebook.com/l.php?u=http%3A%2F%2Ft.co%2FL7ojXrg9&h=0AQE23bKF&enc=AZNuZfvVb2sRBSu6iL6cYi9VHzLNVxmVfIvLwVY7R8Q6RQq9XB4r2LeLWh_JtfMpPwn_nPqB7p6pggngJYOGgaAIY-3YteTSiJITwJm22MB-o2nVIglCDrRFzy9MKTs5bZH9V6pi_aicGwp745oPF48JnROhYqTv94QgtiGx7e47v1YbtlajZILG49jHmKoU518X3sPfnQgCAZkLkEk-RHj1Wwv-JTuusofqjYo83jNTIffJ4jFtS-lFQDeA0e3KJGwAwDZIBJ-gm1ALGrWKpo_r1OLtwarFMv1ulm8LY1Acaw',\n",
       "       'http://www.facebook.com/l.php?u=http%3A%2F%2F1.usa.gov%2FzkpJBR&h=YAQFs0VzQAQGvwzLR1CuEWELOyZ8IFIY77maHoyTYSVTnfg',\n",
       "       'http://www.barackobama.com/news/entry/emilys-story',\n",
       "       'http://www.facebook.com/l.php?u=http%3A%2F%2F1.usa.gov%2FzTSatd&h=PAQE8glqaAQFRctshfeXWs1Kgwl992vUlA9udh7KqcxLD3g',\n",
       "       'http://t.co/VTzHkee1',\n",
       "       'http://www.facebook.com/l.php?u=http%3A%2F%2F1.usa.gov%2FzkpJBR&h=oAQE2H-_0AQHm5t6l-JFfkZCZ6j4yk2q8-kDNP8nwOSEeDQ',\n",
       "       'http://plus.url.google.com/url?sa=z&n=1331924322657&url=http%3A%2F%2F1.usa.gov%2FzkpJBR&usg=PzXT-ZXSZyzVdU5uBVR9_NM1L3I.',\n",
       "       'http://www.facebook.com/l.php?u=http%3A%2F%2F1.usa.gov%2FzkpJBR&h=bAQENcPvsAQFOdpnuSOVs0E_UPen4WiLHMyfuEQ3wWQsKzQ',\n",
       "       'http://www.facebook.com/l.php?u=http%3A%2F%2F1.usa.gov%2FzkpJBR&h=rAQENAmCiAQHImr6kU0H4MTUcplSaA-aPNjmz8xn5FguItQ',\n",
       "       'https://twitter.com/jimdemint/status/179663725257691138',\n",
       "       'http://www.linkedin.com/',\n",
       "       'http://www.indy.gov/eGov/City/dps/ifd/Pages/home.aspx',\n",
       "       'http://www.facebook.com/l.php?u=http%3A%2F%2F1.usa.gov%2FzkpJBR&h=OAQF4dwLbAQFWzpmwucM6K-Q25Nm3VZk4LcDfYMG94QfMeQ',\n",
       "       'http://www.army.mil/rotc',\n",
       "       'http://www.facebook.com/l.php?u=http%3A%2F%2F1.usa.gov%2FzkpJBR&h=_AQEAspkwAQGZcOXzi5BHVaDcNr7OUNnemd-MhsvAJJ0BUg',\n",
       "       'http://t.co/NWzfEed1', 'http://t.co/Rc25Spr8',\n",
       "       'http://www.facebook.com/l.php?u=http%3A%2F%2F1.usa.gov%2FzkpJBR&h=qAQHP_oDxAQFDCRV_bEVp1tfgUq3rPoQJ39ZfO1i_jJjWqw',\n",
       "       'http://www.barackobama.com/news/entry/honoring-our-nations-veterans',\n",
       "       'http://m.facebook.com/l.php?u=http%3A%2F%2F1.usa.gov%2FyV8hww&h=ZAQFKzXO5',\n",
       "       'http://www.facebook.com/l.php?u=http%3A%2F%2F1.usa.gov%2FFO6ZVf&h=iAQE_K1emAQEqiPi-l6fqhkqaTPkkYvR3dqMzgqwG_XWByw',\n",
       "       'http://www.facebook.com/l.php?u=http%3A%2F%2Ft.co%2Fm69vyVIB&h=qAQHP1KwBAQGD1Iv6tJkcKz_aSoeDzvPA5sgknGBLamPJug',\n",
       "       'http://t.co/yoWo2fM8',\n",
       "       'http://m.facebook.com/l.php?u=http%3A%2F%2Fbit.ly%2Fcdcrstar&h=jAQFjo347',\n",
       "       'http://www.facebook.com/l.php?u=http%3A%2F%2F1.usa.gov%2FzkpJBR&h=zAQGHPp2bAQFpER7NOZvUKP9oBOLJDtiaZlZdBX994S9-sQ',\n",
       "       'http://www.facebook.com/l.php?u=http%3A%2F%2F1.usa.gov%2FzkpJBR&h=xAQHwE2GWAQG19W2QZt_c1mbC96HQHNYnRB6HlQ35BfhIlQ',\n",
       "       'http://www.facebook.com/l.php?u=http%3A%2F%2F1.usa.gov%2FFO3PBI&h=PAQHNU-STAQGSnodgZffBBrcFXtBI7oWLgjVeX4gSVdGSkg',\n",
       "       'http://www.ronpauldelegates.com/',\n",
       "       'http://m.facebook.com/l.php?u=http%3A%2F%2Ft.co%2FBGaNbxgh&h=LAQEWRg-C',\n",
       "       'https://twitter.com/nasa/status/179583325021802496',\n",
       "       'http://t.co/1dT6kjDR', 'http://t.co/RmoGFjZz',\n",
       "       'https://twitter.com/us_navyseals/status/180687566750760961',\n",
       "       'http://t.co/XX7ltRQX',\n",
       "       'http://www.groupon.com/deals/g1g-mount-airy-north-jersey?c=dnb&p=5',\n",
       "       'http://plus.url.google.com/url?sa=z&n=1331924487534&url=http%3A%2F%2F1.usa.gov%2FzkpJBR&usg=Y6-hE-8_RA5oAZ-nxdA2hqrtCNY.',\n",
       "       'http://www.facebook.com/l.php?u=http%3A%2F%2Ft.co%2FJ92HwuTT&h=AAQFKrHbpAQH5AkF_gtJ5ImAh4PfPGtCwPkX8JgJt5eX8bA',\n",
       "       'http://t.co/uGxhOJp7', 'http://t.co/e4wnuwcl',\n",
       "       'http://m.facebook.com/l.php?u=http%3A%2F%2F1.usa.gov%2FwZCOwA&h=AAQH5PqPP&enc=AZNJdbFl8Tjp6kAVViH4erMf3CrTl_7uXx6FDO9DbaXrgjuRVpTRm7Nc1U8HEr_XUvlBuzqtH1yTqNMaJ0l9mcBPo3tstMdYttwQoBPsTPiojXF_woQ2FmwzAhDJFHMILGUjJf8b0fk0aXn470uvrFcnjhXcGUEyoYm-DMFOMOTkVXRI5gZupJxTlgX94qijmGA',\n",
       "       'https://twitter.com/nasa/status/180627274796769281',\n",
       "       'http://m.facebook.com/l.php?u=http%3A%2F%2F1.usa.gov%2Fymqj7c&h=SAQFoaqQe',\n",
       "       'http://www.facebook.com/l.php?u=http%3A%2F%2F1.usa.gov%2FzkpJBR&h=4AQEMkQH6AQEQf4EAzGsdJrAoRZFyTIFax_1jOZ4kkMJEbA',\n",
       "       'http://t.co/jLmSuynX', 'http://t.co/uotTBUII',\n",
       "       'https://twitter.com/gzornick/status/180718296834912257',\n",
       "       'http://www.facebook.com/l.php?u=http%3A%2F%2F1.usa.gov%2FwNhgEJ&h=4AQEhcUjLAQFVrw7ec_QIGD5M38NYCL81JjLFiwopRGsYPA',\n",
       "       'http://t.co/l16apDbA',\n",
       "       'https://twitter.com/alelex88/status/180724913647271937',\n",
       "       'http://t.co/4n0r9oCH', 'http://t.co/umA2SlVv',\n",
       "       'https://twitter.com/healthfinder/status/180715689038983169',\n",
       "       'http://hispanicnewsnetwork.blogspot.com/2010/03/5-million-offered-by-us-government-for.html',\n",
       "       'http://t.co/vhOGAP7u',\n",
       "       'http://m.facebook.com/l.php?u=http%3A%2F%2Fow.ly%2F9q5uX&h=LAQEdS56H&enc=AZO4rTiFS8gsCZVgXZiqvG_IIclPGu2L3RcHr_SXGdDxEpHnXq6QEnl7DK_-vye9AhFeSCx6oQT6--zyctR1HPsVMNcIfX5hXJnKbXhRHk2v44VELEuBPBo9fXa57AFEn_RI7sJGVcTOHVfejlZZlDwVZXmVB3mGnPUhCrNOOMV-foizcbvss-R35MN5VSy2MGhsAPKQ6plvN_FoV1CEqt5BYitMoApgAsnMBMoix8DXP3bsy91PfKp59-8WOaJbqMdfioRnRGaEfgBhTPIVYeSsxtC4xhwsSjSG5nXbvdCjrw',\n",
       "       'http://www.bizjournals.com/twincities/news/2012/03/15/allina-health-dea-drug-settlement.html',\n",
       "       'http://yandex.ru/yandsearch?text=go.nasa.gov&lr=213',\n",
       "       'http://www.facebook.com/l.php?u=http%3A%2F%2F1.usa.gov%2FzkpJBR&h=PAQGWL_NqAQHfUztVuLDzIvVd2uF7yJSWzUwAwkyxs463jA',\n",
       "       'http://www.facebook.com/l.php?u=http%3A%2F%2F1.usa.gov%2FzkpJBR&h=jAQH13AeoAQHGt6sBDrQV-9Y3yoSFm3GkzanWyjYMXOxRhw',\n",
       "       'http://www.automd.com/119/90827/how-to-replace-a-thermostat/1994/volvo/850/glt/5-cyl-24l/',\n",
       "       'http://www.facebook.com/l.php?u=http%3A%2F%2F1.usa.gov%2FzkpJBR&h=xAQHh9SZ1AQFx5aMSaHXVEqc_-2BC31_DTpiALJQB84YkTQ',\n",
       "       'http://www.facebook.com/l.php?u=http%3A%2F%2F1.usa.gov%2Fymqj7c&h=JAQEM0VNBAQEej22ovo5LZ7pb7ON8kkr1xW3XLA6qePOUbg',\n",
       "       'http://m.facebook.com/l.php?u=http%3A%2F%2Fbit.ly%2Fcdcrstar&h=2AQECMdcw',\n",
       "       'http://m.facebook.com/l.php?u=http%3A%2F%2F1.usa.gov%2FwRqk9W&h=iAQFhvGwW',\n",
       "       'http://t.co/NgYmEuAU',\n",
       "       'http://m.facebook.com/l.php?u=http%3A%2F%2Fgo.nasa.gov%2FwqUkTo&h=4AQGbfgsq&enc=AZNoYnkMc74hGp67UDzVhrE8xn_-bX_scwRGRvTxnpwgq5fbCGULfXwCdvGleoen9eBtTrdGJiuJWIJKm8RHtdp5IuM1pwV1RJRKfCBn6-ipXOJX0P3qPLLuaXIM_yMXfnK7pHmXLPdCWMbf9BOdFjY43Zp5LF__73mY2Zr9XdoqxoeMtNqgv3dRKe5UvH5I8W7sSOvBLUN41BxxkN_p6iGcbLmuGLuhLQRNpM4WlmTwaoGnFKGXHumELMfGf8dGSFDqaKOSTV-eKmHQtxymWrxWG7FneKUsMv4Mvm9xN3ymVsW_mPQ6eEqBZXillbe3Je7Cytf6_UfMBgG0dHNMj1_4',\n",
       "       'http://www.mint.com/blog/how-to/30-free-ebooks-to-learn-everything-you-want-to-know-about-personal-finance/',\n",
       "       'http://www.facebook.com/l.php?u=http%3A%2F%2Fbit.ly%2Fb16sca&h=XAQEU5Dum',\n",
       "       'http://www.facebook.com/l.php?u=http%3A%2F%2F1.usa.gov%2FAwl8zA&h=tAQFz6nXVAQGwq6BPtNaxTG9cUP7mZZ8bcvPwNLoYT-oj_g',\n",
       "       'http://answers.usa.gov/system/LiveCustomerServlet.egain',\n",
       "       'http://t.co/0zpWSx8z', 'http://t.co/chODw49H',\n",
       "       'https://twitter.com/dicktalens/status/180715803174387712',\n",
       "       'http://www.facebook.com/l.php?u=http%3A%2F%2F1.usa.gov%2FwzWQXX&h=bAQHxrBxQAQFch27nuzDgBjOvboDhdmDQcUIDqV5m-9rs2g',\n",
       "       'http://www.facebook.com/l.php?u=http%3A%2F%2F1.usa.gov%2FzkpJBR&h=pAQHCB_KlAQFT8xn8_AS7z5OBi4doX5S4kV1cu9FjxEQZdg',\n",
       "       'http://iava.org/redirect?redirect=http://1.usa.gov/x32SUs&org=403&lvl=100&ite=2446&lea=2255&ctr=0&par=1',\n",
       "       'http://mobile.latimes.com/p.p?m=b&a=rp&id=1809352&postId=1809352&postUserId=7&sessionToken=&catId=6934&curAbsIndex=1&resultsUrl=DID%3D6%26DFCL%3D1000%26DSB%3Drank%2523desc%26DBFQ%3DuserId%253A7%26DL.w%3D%26DL.d%3D10%26DQ%3DsectionId%253A6934%26DPS%3D0%26DPL%3D3',\n",
       "       'https://twitter.com/nasa/status/179223537247191040',\n",
       "       'http://www.aashtojournal.org/Pages/031612sthudraas.aspx',\n",
       "       'http://t.co/S46L2iQv', 'http://t.co/HJkk2PRx',\n",
       "       'http://www.facebook.com/l.php?u=http%3A%2F%2F1.usa.gov%2Fskolcomputerlab&h=AAQFIggWiAQHNXUMYu5J8PKYYlj0uC1ox-uIbkjWfwgXPhg&enc=AZMQdoAGnV074msD5VPpg3VPsqbK8KaBSyWcdyQ6nuqYcl1TZwVnwGNcTBj5DXLv1VgG_U0mFGHsKw9MjdlTSoig',\n",
       "       'http://www.facebook.com/l.php?u=http%3A%2F%2F1.usa.gov%2FzkpJBR&h=bAQEu9XntAQF7hqBvUaUuwffb7IEvi3vGtltvKrnhsaqe8g',\n",
       "       'http://itunes.apple.com/us/app/tweeticide-delete-all-your/id501090906?ls=1&mt=8',\n",
       "       'http://www.facebook.com/l.php?u=http%3A%2F%2F1.usa.gov%2FzkpJBR&h=LAQFBL-zcAQHPuKNPUZVuKGMyueTHia-gOu2yRnDs0b24RA',\n",
       "       'http://iava.org/redirect?redirect=http://1.usa.gov/x32SUs&org=403&lvl=100&ite=2446&lea=873159&ctr=0&par=1',\n",
       "       'http://bitly.com/',\n",
       "       'http://m.facebook.com/l.php?u=http%3A%2F%2F1.usa.gov%2FxoB0ID&h=tAQH-v-eT&enc=AZOzrNUj6i70VqhPsD6g54WqYrgq1kZNTf5OVgr2c0gQCYVX9EZ5QXznEnq-dqOokcW3-KblHK900jjHJ1k_b6Bc1EM7mAxsv7thH95pYvm1Tndyl6ZlcGvBSjzz0lQOiz-1C6kGEylFBz5QfGQLmyE5v7Qc6pXbZ58D5ZbSe78BvcHSKmQ8hgPpBAGooFmn56T4uBbLwNlwFcx2JLGXoTLhxfeYUtpy-jpBVIGl3CYtcmmdK0x2uauIwTf9Zd6KtX65_uRrXwaOWyGFRsSJo15bWkb-uZf00i51_jaEjpTsP29n4hvXyA9IUXhCBxPne55CoJplAqIBIAz25lcUIR0v',\n",
       "       'http://www.facebook.com/l.php?u=http%3A%2F%2F1.usa.gov%2FzkpJBR&h=JAQHwBRJpAQGt5WGsCTCn1IBfxjSDbkZShUj9kmgFNVkUnw&enc=AZNhuEA4LEKFnSFg8ICYqmpfkyzOMTJw4SzYSM96bAZc8mIWju9kyGXBKr8WvdP_LPE94O6X0pAub0yYNyFDic2a',\n",
       "       'https://twitter.com/vaxcalc/status/180669249281470464',\n",
       "       'http://www.dbhddjobs.com/benefits.aspx',\n",
       "       'http://www.facebook.com/l.php?u=http%3A%2F%2F1.usa.gov%2FzkpJBR&h=rAQG42XFKAQHAeBIXVQHzDqvJSfUqeRZd8Zjze5IeUvOHFg',\n",
       "       'https://twitter.com/king_lou/status/180726361252564993',\n",
       "       'https://twitter.com/librarycongress/status/180304411313180674',\n",
       "       'http://www.gazette.com/articles/flights-135245-frontier-national.html',\n",
       "       'http://t.co/lGf66aSe',\n",
       "       'http://m.facebook.com/l.php?u=http%3A%2F%2F1.usa.gov%2FwzWQXX&h=QAQEVPalZ',\n",
       "       'http://www.facebook.com/l.php?u=http%3A%2F%2F1.usa.gov%2FzkpJBR&h=TAQGNqVF8AQFxJ0KsQ3_4R89IlK_DN61REX7nRidtBcM3KQ',\n",
       "       'http://m.facebook.com/l.php?u=http%3A%2F%2F1.usa.gov%2FzkpJBR&h=zAQGx7VU-',\n",
       "       'http://www.facebook.com/l.php?u=http%3A%2F%2F1.usa.gov%2FzkpJBR&h=5AQG8ZCMDAQFceACLsHr-npgLT0QTGtz7YSl3cF1blNAlOA',\n",
       "       'http://www.facebook.com/l.php?u=http%3A%2F%2F1.usa.gov%2FzzzPx1&h=dAQFnUotJAQG3D6gsEwp4wkGKKys07bO0v54ioao8JlZ8ew',\n",
       "       'http://www.facebook.com/l.php?u=http%3A%2F%2Fgo.nasa.gov%2FyeE6VR&h=cAQELi0pS',\n",
       "       'http://plus.url.google.com/url?sa=z&n=1331924744549&url=http%3A%2F%2F1.usa.gov%2FzkpJBR&usg=25EFlpz-wpuYbX4o6ErZXDn-kAc.',\n",
       "       'http://m.facebook.com/l.php?u=http%3A%2F%2F1.usa.gov%2FzkpJBR&h=NAQH1fbb3',\n",
       "       'http://www.facebook.com/l.php?u=http%3A%2F%2F1.usa.gov%2FzkpJBR&h=9AQGldnUQAQH9Z3IkIc7F6k052C-rCebtjJsMxllhXbacSQ',\n",
       "       'http://www.facebook.com/l.php?u=http%3A%2F%2F1.usa.gov%2FzkpJBR&h=XAQElB3RgAQESDO41_GW9_QUA4xnIo3ifnQGTBu_m13HMJg',\n",
       "       'https://twitter.com/fdadeviceinfo/status/180652641033007104',\n",
       "       'http://t.co/pCLFQ90r',\n",
       "       'http://www.facebook.com/l.php?u=http%3A%2F%2F1.usa.gov%2FAwl8zA&h=aAQEAGj5BAQH9wiPdyJap20iYdziWiuAOnowCRSTui6IiXg',\n",
       "       'http://www.facebook.com/l.php?u=http%3A%2F%2F1.usa.gov%2FzkpJBR&h=5AQGvKLgiAQFOC6BtRHtLWicX2KqiZGB-Mi0MJvbXH3A_aQ',\n",
       "       'http://t.co/8NxvrvUs', 'http://t.co/WAkhWJcx',\n",
       "       'http://seekingalpha.com/article/433361-oracle-a-strong-buy-candidate-for-2012',\n",
       "       'http://www.cranfordsoccer.net', 'http://t.co/lgqmIDU2',\n",
       "       'http://www.facebook.com/l.php?u=http%3A%2F%2F1.usa.gov%2FzkpJBR&h=aAQFc8SD9AQHvEFomDRmS_5inTPRnz4Ae9g8SAS-ImvEf8w',\n",
       "       'http://www.facebook.com/l.php?u=http%3A%2F%2F1.usa.gov%2FzkpJBR&h=LAQELD6KPAQEVll1eWa8C2J7_W8RyYrHwIO4jnPGScI9U0Q',\n",
       "       'http://www.facebook.com/l.php?u=http%3A%2F%2F1.usa.gov%2FzkpJBR&h=AAQEpTGh8AQENShIFLjCn2-rnvNdHcCZVuQmrg0zRIepGMw',\n",
       "       'http://t.co/sBZViUXw',\n",
       "       'http://www.facebook.com/l.php?u=http%3A%2F%2F1.usa.gov%2FzkpJBR&h=nAQEfhsgiAQF5YjFTLQfjMV8NXBXwlBTZXOE8ISoaEwKmJw',\n",
       "       'http://www.facebook.com/l.php?u=http%3A%2F%2F1.usa.gov%2FzkpJBR&h=LAQH9SYtOAQENOrBGHexZA1DNHJYGD1crCg2Q92DVBcHMkw',\n",
       "       'http://bl155w.blu155.mail.live.com/mail/InboxLight.aspx?mid=48b36fdd-6f16-11e1-8f4f-00215ad7a4fe&n=619343118',\n",
       "       'http://www.fightbac.org/about-foodborne-illness',\n",
       "       'http://t.co/9JWO28CZ',\n",
       "       'http://www.facebook.com/l.php?u=http%3A%2F%2Fgo.nasa.gov%2FyeE6VR&h=PAQFQKXoo',\n",
       "       'http://www.google.com/reader/view/?hl=en&tab=my',\n",
       "       'http://plus.url.google.com/url?sa=z&n=1331924843819&url=http%3A%2F%2F1.usa.gov%2FzkpJBR&usg=IoU4Oebibs8Xh1B0lvsgG43Avjw.',\n",
       "       'http://www.facebook.com/l.php?u=http%3A%2F%2F1.usa.gov%2FzkpJBR&h=FAQEXlNK8AQGFaQC1MPxGxTsPkRzyZ71pcdLCC9niDOEVow',\n",
       "       'http://plus.url.google.com/url?sa=z&n=1331924848406&url=http%3A%2F%2Fgo.nasa.gov%2FyeE6VR&usg=udEHK3zivbcNV68JL6VPEHSxRcY.',\n",
       "       'http://www.lifestorynet.com/funeral_homes/milwaukee+wi/suminski_family_life_story_funeral_homes/common_questions',\n",
       "       'http://yourlife.usatoday.com/fitness-food/safety/story/2011/08/Victims-in-ground-turkey-related-illnesses-increase-to-107/49936124/1',\n",
       "       'http://www.facebook.com/l.php?u=http%3A%2F%2F1.usa.gov%2FzkpJBR&h=BAQGcxtmYAQGnhFiSksdixz2z9V8L5Spk0gsriW5sxYrJAA',\n",
       "       'http://plus.url.google.com/url?sa=z&n=1331924862742&url=http%3A%2F%2F1.usa.gov%2FzkpJBR&usg=gQnb8WYaCTT7h5HXDz4Z2RDZy50.',\n",
       "       'http://www.facebook.com/l.php?u=http%3A%2F%2F1.usa.gov%2FzkpJBR&h=rAQGoCrohAQFVHvXFRBhj0BELt2ht1rDMi51v0CLoTLKR-g',\n",
       "       'http://www.facebook.com/l.php?u=http%3A%2F%2Fbitly.com%2FytZYWR&h=UAQEzn8e5AQEJcXkRR7rRFLnI57TH4gSjuTXf0nA6cpQUvw',\n",
       "       'http://m.facebook.com/l.php?u=http%3A%2F%2F1.usa.gov%2FzkpJBR&h=LAQH_HEMA',\n",
       "       'http://t.co/HUzfGyyR',\n",
       "       'http://m.facebook.com/l.php?u=http%3A%2F%2F1.usa.gov%2FzuqeQW&h=zAQGXW1jF',\n",
       "       'http://m.facebook.com/l.php?u=http%3A%2F%2F1.usa.gov%2FyYbPpB&h=YAQFzOobA&enc=AZMhOAQI-fyPGztFL8ywQnIKRgyl-o5HYDvOx-48Xq5ARDU8KTnKdfvMVKLB9vwFRs78dYHVbsBLzyETvjG67e1tSweFrYA2Yi-PDEV8fl0IJWJ5hdxaz1HRzSU_cSQvYkUZx15DpEadSc4hwe6F86mvYAAaMrNCQSFOLAROUlDO_DDGgE920vGyR28FVhlwNyYZXZN2MbXsqTBRRa_nX0tLGPYldMYo0hDxizqvLUaSWPJOvFhQECxv1MHCMO7_pDLTqVtMpGgaSveFpS9qnVf05Z-uxGYb-P0CDKamFUTyFw',\n",
       "       'http://www.facebook.com/l.php?u=http%3A%2F%2F1.usa.gov%2FzkpJBR&h=4AQFPcxymAQHQPTv8mhLSVwoGYfJ4OhgBijKh_reelQt6Jg',\n",
       "       'http://www.facebook.com/l.php?u=http%3A%2F%2F1.usa.gov%2FzkpJBR&h=DAQH3g1GrAQE2XPcm6wfxPqKYizz40mznLAfgp1rh9QaSww',\n",
       "       'http://m.facebook.com/l.php?u=http%3A%2F%2Ft.co%2FJ92HwuTT&h=lAQFm2jaN',\n",
       "       'http://www.facebook.com/l.php?u=http%3A%2F%2F1.usa.gov%2FzkpJBR&h=rAQHZL0cTAQGySHyYSzWz-vTfXdM9zFpxclNst-txyP-hWw',\n",
       "       'http://www.facebook.com/l.php?u=http%3A%2F%2F1.usa.gov%2FzkpJBR&h=KAQGsfoCCAQGb_cgZi9_QWeeH8qMfi_zZ0dJoxPaarnfA8g',\n",
       "       'http://plus.url.google.com/url?sa=z&n=1331924449391&url=http%3A%2F%2F1.usa.gov%2FzkpJBR&usg=o09hGmmO4HYe93hUbBNe3W5uXRc.',\n",
       "       'http://www.facebook.com/l.php?u=http%3A%2F%2F1.usa.gov%2FzkpJBR&h=FAQEQ7wxgAQHxqAIY1hz3cTDToiErPaazgN5Psa16oCaeKQ&enc=AZMezxRMQt2ifG7Qy8yFjvnXelm6NbfPbtGrf-avxIWlJ3q_oHnmVvFSr0HzRVRidl42D7l_QTmTfwHPhEAhts7o',\n",
       "       'http://www.facebook.com/l.php?u=http%3A%2F%2F1.usa.gov%2FzkpJBR&h=7AQEzFW9zAQFXEeWZEd_1BDEXoj_OjoLXQ_4pXRI9UVUOqw',\n",
       "       'http://www.facebook.com/l.php?u=http%3A%2F%2F1.usa.gov%2FzkpJBR&h=aAQF7A760AQG02Y4VqR5e-cjubHxnREjYuo0Qmp4Z1-KaZA',\n",
       "       'http://www.facebook.com/l.php?u=http%3A%2F%2F1.usa.gov%2FFOkfai&h=uAQE5PXOTAQH26jKYe7VFv6viXCyG3-4Rky1oWnCMCTW6uA&enc=AZPStXFKHpfYIDAYeTTnOkvN9b2piXE1Zh9niTkR5rgzRwHAWWQVBqZuYD25kfWdJKit7_XJtSE8RqAzvaYERX-hvi2nx8-iYdQGwdR5sexByQ',\n",
       "       'http://www.facebook.com/l.php?u=http%3A%2F%2F1.usa.gov%2FyqFpaJ&h=UAQHSqPAfAQFUVJ3zNgE396VQa-FPcyxcJi4MXMF9r8muaQ',\n",
       "       'http://36ohk6dgmcd1n-c.c.yom.mail.yahoo.net/om/api/1.0/openmail.app.invoke/36ohk6dgmcd1n/10/1.0.35/es/es-ES/view.html/0',\n",
       "       'http://www.facebook.com/l/QAQGcykOXAQG-p2H7-pMlyzogHQzWQ-fi5BBkA9KqicETFg/1.usa.gov/xiE2hY',\n",
       "       'http://www.shrewsbury-ma.gov/egov/apps/document/center.egov?fDD=23-0&fCS=&path=browse&id=5',\n",
       "       'http://survivethearmageddon.com/tag/nuclear-meltdown/',\n",
       "       'http://www.shrewsbury-ma.gov/egov/docs/1328799118839.htm',\n",
       "       'http://publications.usa.gov/USAPubs.php?PubID=218',\n",
       "       'http://iconfactory.com/twitterrific/#iPad',\n",
       "       'http://t.co/5cjj9X7x', 'http://t.co/njQ5EEOW',\n",
       "       'http://www.facebook.com/l.php?u=http%3A%2F%2F1.usa.gov%2FzkpJBR&h=2AQFqBkdUAQGI2DpJ1B6-FYNrubP41TEgLl_P8M-Xm0PYsg',\n",
       "       'http://m.facebook.com/l.php?u=http%3A%2F%2F1.usa.gov%2FxoB0ID&h=YAQGkkaAe',\n",
       "       'http://t.co/VNLcX8ZB', 'http://t.co/XE2jg6mk',\n",
       "       'http://www.facebook.com/l.php?u=http%3A%2F%2F1.usa.gov%2FzkpJBR&h=KAQHBIkRLAQGncJsrTS2TBhmdc3Gbme1RtAmbWT8PUj5IVQ',\n",
       "       'http://t.co/cAGUTKcp', 'http://t.co/HAj79PJq',\n",
       "       'https://twitter.com/ruraled/status/180364617783066624',\n",
       "       'http://www.facebook.com/l.php?u=http%3A%2F%2F1.usa.gov%2FzkpJBR&h=RAQGaN-5LAQFW8ZEsNqwcBCXAvHM747H6MampEVEJjDhh6w',\n",
       "       'http://t.co/m5hzS9CH', 'http://t.co/7hfWnixj',\n",
       "       'http://t.co/yPQCdPtr',\n",
       "       'http://www.facebook.com/l.php?u=http%3A%2F%2F1.usa.gov%2FzkpJBR&h=qAQFIxr2HAQFrnGh1sqgZ_cN3k-KjFpl9uqYPMxkQutKt3Q',\n",
       "       'http://www.facebook.com/l.php?u=http%3A%2F%2F1.usa.gov%2FzkpJBR&h=LAQEEDI1VAQGnfZAv5aH9JBTqfMFXSNnQbRfxvevAnHH_Ng',\n",
       "       'http://plus.url.google.com/url?sa=z&n=1331924546691&url=http%3A%2F%2F1.usa.gov%2FzkpJBR&usg=Sd6XUpVvHLO_5MLYXU9lzDNK4os.',\n",
       "       'http://m.facebook.com/l.php?u=http%3A%2F%2F1.usa.gov%2FzkpJBR&h=5AQF3VcXH',\n",
       "       'http://t.co/VjkVKuWn', 'http://t.co/fLMINUKR',\n",
       "       'http://www.facebook.com/l.php?u=http%3A%2F%2F1.usa.gov%2FzkpJBR&h=EAQE7OVE_AQEdMecASzSlloVZN9ElvOMGNtfbX3z6tWvgUQ',\n",
       "       'http://hosted.ap.org/dynamic/stories/M/MO_MISSOURI_NUCLEAR_PLANT_MOOL-?SITE=MOCAP&SECTION=STATE&TEMPLATE=DEFAULT',\n",
       "       'http://t.co/JLAYPwkv', 'http://mobile.twitter.com/',\n",
       "       'http://www.linkedin.com/home?trk=hb_tab_home_top',\n",
       "       'http://t.co/H0f3eaeY',\n",
       "       'http://m.facebook.com/l.php?u=http%3A%2F%2F1.usa.gov%2FyNySrS&h=QAQGcgAX0',\n",
       "       'http://www.facebook.com/l.php?u=http%3A%2F%2F1.usa.gov%2FFOkfai&h=XAQGcxfsUAQEAFKKv9PMMWi9GnN-brjV6CoBHDl9zs6va5A&enc=AZPkR5DAJnLBIaeU9ofTqNTMA__a3NMMdMFCliyS4TBDozc9XSYXjC6XYw24J1ScP48dqrRXB1hunXx61Fkp2gEfNS3Eq701nW1A3SqHqyHXYw',\n",
       "       'http://www.facebook.com/l.php?u=http%3A%2F%2F1.usa.gov%2FAkrjhg&h=gAQGr5s6HAQHPZFFsQSrr7kntwvnuCqIe0FTl66uYJjhLfg',\n",
       "       'http://www.facebook.com/l.php?u=http%3A%2F%2Fgo.nasa.gov%2FyeE6VR&h=oAQHA0UNiAQE-pEoU3bBdsN3wJayIhOgMxzInbyOXK-gs-w',\n",
       "       'http://m.facebook.com/l.php?u=http%3A%2F%2F1.usa.gov%2FzRAQZU&h=1AQGVlGUB&enc=AZNZpIgPI85X_KVUmoUN4jyuysAVlw74je4A5hNf56orkmgXPIRFqThCyuwOncOreASpogXnpWVIatbIAckXJuLF9gnEXWsFdDBOfT9OO4wCkfjq-q7wQGcWLpZNE_3e39uQboZr8foTtiW9TT-SsuclT2Q1TR3wScDPDSn8y-71JLYxKvxbN5tDwJm4Phqa5egsgwKHW64fFvmjTWUqRT7U2ncBls96HNNBym38YiqDGe0uWmOxCPhouxXuiFo2NWDogpwXS_wn10mwBsn8TLzWi1zNN4dCl2wpfwe26LtdZA',\n",
       "       'http://t.co/g1VKE8zS',\n",
       "       'http://maydayidahominecomplex.com/?page_id=13',\n",
       "       'http://t.co/qdBA24H6',\n",
       "       'http://www.facebook.com/l.php?u=http%3A%2F%2F1.usa.gov%2FzkpJBR&h=ZAQFwj8MCAQFlHCG1uL5K0lvmXk66p1b-djunD0LVOoZ9hA',\n",
       "       'http://t.co/VgH6mnVN',\n",
       "       'http://www.google.com/hostednews/ap/article/ALeqM5hguE16hHS6ZvC0TABAxU6jVsGEXg?docId=bb0c564da9504d98bf8fcdb57794686a',\n",
       "       'http://www.facebook.com/l.php?u=http%3A%2F%2F1.usa.gov%2FzkpJBR&h=pAQHDH7etAQEcJYuZyCncXwyjpLvaFN_Xl-TS5SBjrMMZhQ',\n",
       "       'http://m.facebook.com/l.php?u=http%3A%2F%2Ft.co%2Ff9eCn3dj&h=3AQGbjE0Q',\n",
       "       'http://dailyupdate.transportation.org/Pages/default.aspx',\n",
       "       'http://sz0105.wc.mail.comcast.net/zimbra/mail?app=mail',\n",
       "       'http://www.facebook.com/l.php?u=http%3A%2F%2F1.usa.gov%2Fyd1feN&h=7AQGujF65',\n",
       "       'http://plus.url.google.com/url?sa=z&n=1331925095439&url=http%3A%2F%2F1.usa.gov%2FzkpJBR&usg=HTlM9S9iqUWwz7s-TDWSyVlg7lI.',\n",
       "       'http://www.sciencedaily.com/releases/2011/11/111109133850.htm',\n",
       "       'http://www.facebook.com/l.php?u=http%3A%2F%2F1.usa.gov%2FyK8zBm%3Fref%3Dnf&h=FAQF7W3jKAQEsGt8t3bm9Q-nmOl1N0uc-i7XwKjkBuHNrdw',\n",
       "       'http://www.facebook.com/l.php?u=http%3A%2F%2F1.usa.gov%2FzkpJBR&h=HAQF9HRK7AQGsegr6d1putfyhuwXrCPGZj7eR0R_fHfWBIA',\n",
       "       'http://t.co/TXTrhBKe', 'http://t.co/tlTsiLjP',\n",
       "       'http://m.facebook.com/l.php?u=http%3A%2F%2F1.usa.gov%2FzkpJBR&h=JAQESkHvz',\n",
       "       'http://www.airwarriors.com/community/index.php?threads/the-great-constantly-changing-picture-gallery-part-deux.38482/page-9#post-688762',\n",
       "       'http://m.facebook.com/l.php?u=http%3A%2F%2F1.usa.gov%2FzTSatd&h=kAQHao0BW',\n",
       "       'http://m.facebook.com/l.php?u=http%3A%2F%2F1.usa.gov%2FzJ58jY&h=DAQGH66dz&enc=AZNnNkqkr4Sk-X7RSWZJdA2RjTUCx3Dmy_mijIvV3JSXXxFSwK4JcIu3XUJXZizLELvQkJbZp0wKVbxmklwU-Z9a0zsuXLSK-vtAWYYFaPcuTGNbftpZXuxpVrId9SO0VLxQ036HlFE1efdd78l0iEQbIEGiMxF2w_q_lltBNE2H9LlIPPqGc_3ORWXj_4jFojaOjVXuuj3FEKAB5MRFDmsLaz7XsnVHeHxzN4_EF2C45qyIhQyNEJWbjHCO7LV8OZBBz3zmfbA6OSRCNIEpPezZKzbdiZQTKSJlz7ZxoHvbulXg9AStbCnItaCHQipwLlTbUkfK_FS07CreRhCMsLBC',\n",
       "       'http://www.facebook.com/l.php?u=http%3A%2F%2F1.usa.gov%2FwWiOiD&h=XAQGibIl7AQH_LrJ5cj_ussRtUC9j1fjGQY6MUTglMpHSpg',\n",
       "       'http://artefactory.nirewiki.com/La+composici%C3%B3n%3A+El+collage',\n",
       "       'http://www.facebook.com/l.php?u=http%3A%2F%2F1.usa.gov%2FsKTrVl&h=LAQFPDkzI',\n",
       "       'http://t.co/Y8vUtcjy',\n",
       "       'https://twitter.com/amy_calistri/status/180731874166063104',\n",
       "       'http://mobile.twitter.com/searches?q=%23TCLua',\n",
       "       'http://t.co/L4bkFMTd', 'http://t.co/LNlwkZ1C',\n",
       "       'http://www.complinet.com/global/news/news/article.html?ref=153336&bulletin=spotlight&region=_10239',\n",
       "       'http://t.co/XTzP2HP5', 'http://www.citizencorps.gov/',\n",
       "       'http://www.facebook.com/l.php?u=http%3A%2F%2F1.usa.gov%2FzkpJBR&h=wAQEssAvhAQGA_xZgh6DcTj7NozUymOFRZYKlimXgx88mTQ',\n",
       "       'http://www.facebook.com/l.php?u=http%3A%2F%2F1.usa.gov%2FzkpJBR&h=JAQFiCpUNAQHH5_ORLVQDqB8hNjB8sJKDEOD4U-p2RiwlYA',\n",
       "       'http://www.nasa.gov/',\n",
       "       'http://m.facebook.com/l.php?u=http%3A%2F%2F1.usa.gov%2Fz1Up40&h=_AQESPZCO&enc=AZO_yayqlMF-zfbp5uRJ9SzekZHtSp6Vk-XEsaJIdedyGhp5-nFq0Q_zOKq_FZFdHBNPltay3oZgsuOzp_C9hSlWDHeBH27q42d3JPBklPMXrcxhTU2Fy1ic9cWDvdsMn7i4KnO2PfEf3ABzpZlI1gCl',\n",
       "       'http://www.facebook.com/l.php?u=http%3A%2F%2F1.usa.gov%2FxswEFh&h=TAQH3PrxO',\n",
       "       'https://twitter.com/weermanreinier/status/180651094781870080',\n",
       "       'http://t.co/N9Uj9iav',\n",
       "       'http://fanscape.com/about/WOMMAFTC_Disclosure_Guide/',\n",
       "       'http://t.co/Di8o7Y80',\n",
       "       'http://www.facebook.com/l.php?u=http%3A%2F%2Ft.co%2FypR73jfZ&h=LAQFF3zq_AQGbJs6dBmRYcB8WFaIkLnBlrbGWU2O58SL2vA',\n",
       "       'http://www.facebook.com/l.php?u=http%3A%2F%2F1.usa.gov%2FzkpJBR&h=XAQGQmU99AQHhLLmhfefk766RrF8BF9UNO2pDAwwxW5_3Fw',\n",
       "       'http://www.facebook.com/l.php?u=http%3A%2F%2F1.usa.gov%2FzkpJBR&h=gAQEkzs9qAQF5Px8FFsTIdp9TgGeO5chCX4ctaA85V-9_fg',\n",
       "       'http://t.co/x0R4GBVm',\n",
       "       'http://www.facebook.com/l.php?u=http%3A%2F%2F1.usa.gov%2FzkpJBR&h=mAQEz3Rj3AQF32c_sxDOcLa3Ii6x5DJ32X-k3rmES0REtAg',\n",
       "       'http://t.co/fSfZZcBQ',\n",
       "       'http://m.facebook.com/l.php?u=http%3A%2F%2F1.usa.gov%2FzkpJBR&h=TAQEGjjm-&enc=AZMqMGh-7097rQ5yfmOS54nfnXyxIS7sX0e-0s_7rPtEOjXNL6g6pfDqbJ3CJEX1FL7avp8uUGv6QoFd89RQkBs8SxkQGQ0s7X_7Wm0eVAaDLN6SLhFpIefUSmGX5vEexe-nL2i7KU1yTlIvgTirjMmL5u1rhoW6lllxznx2Xg-4OvXt-8mThCm-wZayL4dDmj8',\n",
       "       'http://plus.url.google.com/url?sa=z&n=1331925219228&url=http%3A%2F%2F1.usa.gov%2FzkpJBR&usg=Zq9R5n8_VJ4pVvHvp2FdE35mxqk.',\n",
       "       'http://www.shrewsbury-ma.gov/selco/department/?fDD=23-0',\n",
       "       'http://www.facebook.com/l.php?u=http%3A%2F%2F1.usa.gov%2FzkpJBR&h=2AQG10zQHAQEt4jAbyDS5vCmKN1I1m4BWK6m2V46B9K5pCA',\n",
       "       'http://www.facebook.com/l.php?u=http%3A%2F%2F1.usa.gov%2FzkpJBR&h=-AQH1vKitAQHiOnbmDpNc0JbqhuR_ij3A9aaPy6OlO6Rx9g',\n",
       "       'http://t.co/7EYA6uML',\n",
       "       'http://www.facebook.com/l.php?u=http%3A%2F%2F1.usa.gov%2FzkpJBR&h=rAQHRnhNlAQHp_TvFJ62d6tHSshoAWlsiSe7Vo9Gup2ShaQ',\n",
       "       'http://www.facebook.com/l.php?u=http%3A%2F%2F1.usa.gov%2FzkpJBR&h=lAQFoXTIqAQGTsfaKavLfBZ88FtA8-4_Ed3e5JvBIRG3CmA',\n",
       "       'http://favstar.fm/', 'http://t.co/Kvbmno8q',\n",
       "       'http://www.facebook.com/l.php?u=http%3A%2F%2F1.usa.gov%2FzkpJBR&h=1AQGSR1x0AQHr84ijamAUqtNWb66ELhzfe7khzmHy8Mfe1g',\n",
       "       'http://www.facebook.com/l.php?u=http%3A%2F%2F1.usa.gov%2FzuqeQW&h=6AQF7v5BVAQF97RlUrswL8bS9OptpTZtBhTIGBJnToKD4LQ',\n",
       "       'http://t.co/ClQilyCS',\n",
       "       'http://www.facebook.com/l.php?u=http%3A%2F%2F1.usa.gov%2FzkpJBR&h=FAQEc-ghUAQFjTIHZLlAWcI7uzu1cnTqpXepm1BrA1nNbNQ',\n",
       "       'http://www.reddit.com/r/politics/comments/qyjxd/no_obamacares_cost_didnt_just_double_the_real/',\n",
       "       'http://m.facebook.com/l.php?u=http%3A%2F%2F1.usa.gov%2FzkpJBR&h=TAQEMHhEl',\n",
       "       'http://www.virginiamemory.com/',\n",
       "       'http://addins.kwwl.com/blogs/weather/',\n",
       "       'http://www.facebook.com/l.php?u=http%3A%2F%2F1.usa.gov%2FzkpJBR&h=BAQGWluIEAQHY-nJC2DPYjWVkdKIQ77TTylPqUjLAM80F3w',\n",
       "       'http://www.facebook.com/l.php?u=http%3A%2F%2F1.usa.gov%2FxBl63X&h=CAQFW52xMAQHxNh5ufeU9iofut2waCs4mPfiYqNZl27FoYw',\n",
       "       'http://www.aashtojournal.org/Pages/030912htudraas.aspx',\n",
       "       'http://t.co/JjugVLEm', 'http://t.co/QL0OmtUr',\n",
       "       'http://www.facebook.com/l.php?u=http%3A%2F%2Ft.co%2F0zpWSx8z&h=fAQH-o2NxAQEpKQFgv7SocIYjwGseg_AjN5K2Az5ZfwoZWg',\n",
       "       'http://www.facebook.com/l.php?u=http%3A%2F%2F1.usa.gov%2FAwl8zA&h=xAQF8mu2YAQF8_8SAxRfKdX5MsghXtV_T03oIeBkSBGSRRQ',\n",
       "       'http://www.facebook.com/l.php?u=http%3A%2F%2F1.usa.gov%2FzkpJBR&h=fAQFJJzzaAQFAp1gmTW4477lfQGk1RbPXPoCj07Sf9bYgPA',\n",
       "       'http://plus.url.google.com/url?sa=z&n=1331925299635&url=http%3A%2F%2F1.usa.gov%2FzkpJBR&usg=y9NF363UQO2rjpuqAbMzBoE-q2M.',\n",
       "       'http://yt-gadget003.appspot.com/page/pt_BR/home?geo=BR',\n",
       "       'http://www.groupon.com/deals/ga-m-mount-airy-casino-resort?utm_source=expedia&utm_medium=ptn&utm_campaign=expedia.tab&rfrr=gplp001.nonhd0001',\n",
       "       'http://plus.url.google.com/url?sa=z&n=1331925302367&url=http%3A%2F%2F1.usa.gov%2FzkpJBR&usg=WzbRqLTTtMlFW8DyjMvY-YjLN68.',\n",
       "       'http://www.facebook.com/l.php?u=http%3A%2F%2F1.usa.gov%2FzkpJBR&h=TAQGBMvcwAQF9090fgx6PVvCV08VwA5Os8l3Vh_PrNw_W8g',\n",
       "       'http://t.co/VQW3gI88', 'http://t.co/JD45zDZk',\n",
       "       'http://links.govdelivery.com/track?type=click&enid=ZWFzPTEmbWFpbGluZ2lkPTIwMTIwMzAxLjU4OTIxODEmbWVzc2FnZWlkPU1EQi1QUkQtQlVMLTIwMTIwMzAxLjU4OTIxODEmZGF0YWJhc2VpZD0xMDAxJnNlcmlhbD0xNjgzMzMxOSZlbWFpbGlkPXN0eWxlc0B0aGVpYWNwLm9yZyZ1c2VyaWQ9c3R5bGVzQHRoZWlhY3Aub3JnJmZsPSZleHRyYT1NdWx0aXZhcmlhdGVJZD0mJiY=&&&104&&&http://1.usa.gov/xcl7jM',\n",
       "       'http://t.co/YTqrMqNg',\n",
       "       'https://twitter.com/nasa_es/status/135176026077671424',\n",
       "       'http://www.facebook.com/l.php?u=http%3A%2F%2F1.usa.gov%2FzkpJBR&h=tAQGg1Y9-AQHRi5e0dVgowZ7VEqZGNoiYCaap8y1tGljJsw',\n",
       "       'https://twitter.com/fairfaxpolice/status/180638681990823939',\n",
       "       'http://es.wikipedia.org/wiki/Inmigraci%C3%B3n_colombiana_en_Estados_Unidos',\n",
       "       'http://www.facebook.com/l.php?u=http%3A%2F%2F1.usa.gov%2FAlybak&h=fAQHzzcTbAQG65TG8dSfv9uoJRgzdlcpHAHJdrANVM_sH3w',\n",
       "       'http://www.facebook.com/l.php?u=http%3A%2F%2F1.usa.gov%2FzJ58jY&h=nAQFQNaQMAQHqao0eMExGZHbSNbmE3frEluszWgtqRml1Jw',\n",
       "       'http://www.facebook.com/l.php?u=http%3A%2F%2F1.usa.gov%2FzkpJBR&h=JAQGpNIqKAQEFjfgXxszNY4ksf7r1L0PMh9WfEsaxi-H1Jw',\n",
       "       'http://www.facebook.com/l.php?u=http%3A%2F%2F1.usa.gov%2FAwl8zA&h=GAQFhTS-kAQG_NLQaqpWuy55A9AjkMHnu3nPQ76RactFA8g',\n",
       "       'http://news.tn.gov/node/8479',\n",
       "       'http://www.latimes.com/news/opinion/opinionla/la-ed-brown-taxes-california-20120316,0,6549021.story',\n",
       "       'http://www.facebook.com/l.php?u=http%3A%2F%2F1.usa.gov%2FzkpJBR&h=SAQHdEuSaAQHWcPRwNlpCecU1YhRbL-iNwclYcE-a-wMduQ',\n",
       "       'http://t.co/MJI346qh',\n",
       "       'https://twitter.com/health_notes/status/180463631983579136',\n",
       "       'http://www.facebook.com/l.php?u=http%3A%2F%2F1.usa.gov%2FzkpJBR&h=GAQHsOnKbAQHG1kuCGUuaFNfkvwKTGKaMGWIOSbtJVXPZng',\n",
       "       'http://t.co/IORJdxKF',\n",
       "       'http://www.facebook.com/l.php?u=http%3A%2F%2F1.usa.gov%2FzkpJBR&h=EAQFCObY5AQF2tlzjU14mXPMIRzYr2UK8s-uVVelMYYn1yw',\n",
       "       'http://www.huffingtonpost.com/2012/03/16/afghanistan-president-end-of-the-rope_n_1353761.html',\n",
       "       'http://www.nea.org/home/19449.htm',\n",
       "       'http://webpages.charter.net/mtwhitneyhiking/shpermit.htm',\n",
       "       'http://www.facebook.com/l.php?u=http%3A%2F%2F1.usa.gov%2FzkpJBR&h=xAQFGQRcgAQHcF-5Rr432toq4cVd_jreUkQ9USrfcLjukEQ',\n",
       "       'http://www.airwarriors.com/community/index.php?threads/the-great-constantly-changing-picture-gallery-part-deux.38482/page-9',\n",
       "       'https://twitter.com/healthfinder/status/179998912524984321',\n",
       "       'http://stocktwits.com/widgets/stream?width=314&height=233&avatars=0&limit=15&title=SVNT%20Messages&partner=cnn&symbol=SVNT&stream_option=padding-left%3A%200px&message_option=padding%3A%2010px%2010px%2010px%200&footer_option=padding-right%3A%200%3B&border_color=fff&border_color_2=ddd&box_color=fff&header_option=padding%3A0&divider_color=ddd&username_color=3295cc&username_size=11&divider_type=solid&link_color=034371&font=Arial%2C%20helvetica&font_option=margin-top%3A%205px%3B&text_color=303030&time_color=979797&time_font_size=10&domain=cnn.com',\n",
       "       'http://t.co/3HQr529e',\n",
       "       'http://www.facebook.com/l.php?u=http%3A%2F%2F1.usa.gov%2FzkpJBR&h=EAQHSwSrqAQE_VUcZkLQefLCx03mb6g67v_9BgD9p1MeoWw',\n",
       "       'http://www.facebook.com/l.php?u=http%3A%2F%2F1.usa.gov%2FzkpJBR&h=kAQF0NFcYAQE6oFV-dRHor8moB8BIOeFhEs9VwvioMpSa6w',\n",
       "       'http://plus.url.google.com/url?sa=z&n=1331925435752&url=http%3A%2F%2F1.usa.gov%2FzkpJBR&usg=0CpKBSakq4_ivCChiuHRGgzLLNg.',\n",
       "       'http://t.co/9zemztv4',\n",
       "       'http://m.facebook.com/l.php?u=http%3A%2F%2F1.usa.gov%2FAlybak&h=bAQF9Uscy',\n",
       "       'http://www.longtermcare.gov/LTC/Main_Site/Resources/Financial_Planning.aspx',\n",
       "       'http://twitter.com',\n",
       "       'http://www.panthersubs.com/_p/std/reg/eW9Info.aspx',\n",
       "       'http://t.co/NKwo9oDD',\n",
       "       'http://www.facebook.com/l.php?u=http%3A%2F%2F1.usa.gov%2Fz4ugBw&h=vAQHrP6e4AQE3M5yHEM3PTh0ZMh_iwhyL2Yk3nBMT_yXTuQ&enc=AZOXkZG8rSWW1WjbJYYHP6cvtfdtBaviORgWVn1OKx0xVivJKXon6DJn-EbzDGcoqDQV3YDzHO5GtvuCgCbC2cUV',\n",
       "       'http://www.facebook.com/l.php?u=http%3A%2F%2F1.usa.gov%2FzK8XmV&h=xAQEB0JF3AQFF_hcQs4tzraImZz-1egAcakf_qh1u3AbyKA&enc=AZM0oCQPIAs5u7qH8ChsvIWjL5KyHh39QvBOBDK8TbyaAdymYGGskID3YFLMkt4mZDtxNfsq1Zrg1ycVp23o-NqC',\n",
       "       'https://twitter.com/usda/status/180351779622494208',\n",
       "       'http://www.facebook.com/l.php?u=http%3A%2F%2F1.usa.gov%2FyQFB59&h=mAQEK0QLKAQECnmqC78ejdFMOL7hg1CeyJHNy-SbK_FvJaw',\n",
       "       'http://t.co/AtugJvHU',\n",
       "       'https://twitter.com/fairfaxpolice/status/180697847367348225',\n",
       "       'http://t.co/rEWtdD7m',\n",
       "       'http://www.shrewsbury-ma.gov/egov/apps/document/center.egov?path=browse&id=9&fDD=23-0&Apply.x=8&Apply.y=6',\n",
       "       'http://nexus.od.nih.gov/all/rock-talk/', 'http://t.co/J3pA7UEK',\n",
       "       'http://www.savewealth.com/taxforms/state/ky/',\n",
       "       'http://www.facebook.com/l.php?u=http%3A%2F%2F1.usa.gov%2FAlybak&h=RAQHvMR-kAQEGkMrsqwamkYjv3eAABLCCnDuZUTHOfUmjIg',\n",
       "       'http://m.facebook.com/l.php?u=http%3A%2F%2Fgo.nasa.gov%2FwqUkTo&h=7AQFhLDaH&enc=AZPHmy1Su7ZuptnaDdEwKDAUxFaEfO-qCbBIVv1v6wJ6m_TT6-berU-mhpYRd8oSW-pZmlQScbFMq58uuWoKwzLBWvg6Wq0mSPVBEMAjzVhKBc1znrRYiduLG-7-nbLBxzC1iiKo_d7igGiqTttPv4SLPM8ksleP-xVc-lPwSrPsw4lmO_6rK2Rjw7ItOEvUzJoncYokaSKHXVfGbj7-oFYih0gUECIxED5cCUbOAAJVfFkroz3M7yFVBZ_GyJCos0212AMYSEM2WZ0A7xcv2Yc3bqSYnKz9ptGOQgS76lfcTgAGrfxudI9CHGT1a7ok4E5htVCyKiLgjyWBTLn6iACi',\n",
       "       'http://m.facebook.com/l.php?u=http%3A%2F%2Fgo.nasa.gov%2FyeE6VR&h=SAQGvvIrC',\n",
       "       'http://m.facebook.com/l.php?u=http%3A%2F%2Fbit.ly%2Fcdcrstar&h=mAQH4iBi4',\n",
       "       'http://messages.finance.yahoo.com/Stocks_%28A_to_Z%29/Stocks_T/threadview?m=te&bn=22756&tid=53109&mid=53109&tof=2&frt=2',\n",
       "       'http://www.facebook.com/l.php?u=http%3A%2F%2F1.usa.gov%2FzkpJBR&h=0AQHGG6mrAQFsQ8Nbxev2erXDdW7Iv7T0FZNrjrFZHbk6VQ',\n",
       "       'http://www.shrewsbury-ma.gov/egov/apps/document/center.egov',\n",
       "       'http://colemanpublishing.com/',\n",
       "       'http://plus.url.google.com/url?sa=z&n=1331925531486&url=http%3A%2F%2Fgo.nasa.gov%2FyeE6VR&usg=y6CjbdVbIPPEYA23NQtTPsLsqno.',\n",
       "       'http://www.facebook.com/l.php?u=http%3A%2F%2F1.usa.gov%2FzkpJBR&h=dAQHUheKOAQGsvNPVn677WtRrgB7EWwUTmaAPozoRS71i9A',\n",
       "       'https://twitter.com/usagov/status/180730509767348225',\n",
       "       'http://www.facebook.com/l.php?u=http%3A%2F%2F1.usa.gov%2FzkpJBR&h=mAQHD8pThAQFMURJ6FlHmfL_xI5ke5KknHw6-dgQa6JFfIA',\n",
       "       'http://t.co/8phkaCCi',\n",
       "       'http://www.facebook.com/l.php?u=http%3A%2F%2F1.usa.gov%2FAAW2DW&h=eAQEB2JWXAQGqINGYGryuhsJYWami5ceGEHJUxw-9VlJ_gg',\n",
       "       'http://m.facebook.com/l.php?u=http%3A%2F%2F1.usa.gov%2FA73vXm&h=iAQFzP7dC',\n",
       "       'http://m.facebook.com/l.php?u=http%3A%2F%2F1.usa.gov%2FyQFB59&h=DAQG2a6ak',\n",
       "       'http://m.facebook.com/l.php?u=http%3A%2F%2F1.usa.gov%2FzkpJBR&h=ZAQFUu35b',\n",
       "       'http://m.facebook.com/l.php?u=http%3A%2F%2F1.usa.gov%2FzkpJBR&h=_AQFUfGWK',\n",
       "       'http://t.co/nn20vRYw',\n",
       "       'http://www.facebook.com/l.php?u=http%3A%2F%2F1.usa.gov%2FzkpJBR&h=qAQHbCj25AQHwE24vhJxWONx77AShBtDKmO0n1Lc8QFcH6A',\n",
       "       'http://nexus.od.nih.gov/all/2010/03/01/structuring-the-research-strategy-section-of-your-application/',\n",
       "       'http://m.facebook.com/l.php?u=http%3A%2F%2F1.usa.gov%2FyV8hww&h=NAQHVCvWg',\n",
       "       'http://t.co/s7f04uvX',\n",
       "       'http://mobile.twitter.com/king_lou/status/180726361252564993',\n",
       "       'http://www.facebook.com/l.php?u=http%3A%2F%2F1.usa.gov%2FyQFB59&h=8AQFzWutnAQHj4ErFYzdYcUJoHlnO5CoH5a9ET7zIkgRgxA',\n",
       "       'http://t.co/4JoYVOCh', 'http://t.co/Oqjmv74f',\n",
       "       'http://libguides.law.missouri.edu/aecontent.php?pid=149419&sid=1277175',\n",
       "       'http://t.co/kwP7tV6P',\n",
       "       'https://twitter.com/nasa/status/179555312183939072',\n",
       "       'http://links.govdelivery.com/track?type=click&enid=ZWFzPTEmbWFpbGluZ2lkPTIwMTIwMzE2LjYyMTM1NDEmbWVzc2FnZWlkPU1EQi1QUkQtQlVMLTIwMTIwMzE2LjYyMTM1NDEmZGF0YWJhc2VpZD0xMDAxJnNlcmlhbD0xNjkxNTY0NyZlbWFpbGlkPWRpcmVjdG9yQGdldGFmbHVzaG90LmNvbSZ1c2VyaWQ9ZGlyZWN0b3JAZ2V0YWZsdXNob3QuY29tJmZsPSZleHRyYT1NdWx0aXZhcmlhdGVJZD0mJiY=&&&100&&&http://1.usa.gov/tCYSGj',\n",
       "       'http://iava.org/redirect?redirect=http://1.usa.gov/x32SUs&org=403&lvl=100&ite=2446&lea=184&ctr=0&par=1',\n",
       "       'http://t.co/DUXWF1dO',\n",
       "       'https://twitter.com/juggajugga/status/180704939725684736',\n",
       "       'http://messages.finance.yahoo.com/Stocks_%28A_to_Z%29/Stocks_T/threadview?m=tm&bn=22756&tid=53109&mid=53109&tof=2&rt=1&frt=1&off=1',\n",
       "       'http://t.co/kJCkNgGq', 'http://t.co/PPOgiDD5',\n",
       "       'http://www.srh.noaa.gov/elp/',\n",
       "       'http://m.facebook.com/l.php?u=http%3A%2F%2F1.usa.gov%2FzkpJBR&h=5AQHcZwJ5',\n",
       "       'http://www.shoeman.org/about/', 'http://t.co/eQTuGBs7',\n",
       "       'http://t.co/WiG3tj4t',\n",
       "       'https://twitter.com/nasa/status/180263072651419648',\n",
       "       'http://luznocaminho.net/2011/06/25/cometa-elenin-todos-precisam-ver-isto/',\n",
       "       'http://www.swaglikeme.com/',\n",
       "       'https://twitter.com/simon_chorley/status/180692856665686016',\n",
       "       'http://www.facebook.com/l.php?u=http%3A%2F%2F1.usa.gov%2FzkpJBR&h=SAQGKVtBFAQGjBpqI-DhAqolHQ1sVUdWzsahBUPdIAXBL0Q',\n",
       "       'http://www.facebook.com/l.php?u=http%3A%2F%2F1.usa.gov%2FwvY5YC&h=nAQFvmzPHAQHg201euu7BAP86nqaz_3n8duT-jP4Y9XmSag',\n",
       "       'https://twitter.com/court_jenifer/status/180730901196587008',\n",
       "       'http://www.facebook.com/l.php?u=http%3A%2F%2F1.usa.gov%2FAAW2DW&h=oAQHss_BpAQFA4hQOehhTikKkmElC4SioXTcT8U5QeF7cGQ',\n",
       "       'https://twitter.com/usfwsnortheast/status/180729482783621120',\n",
       "       'http://www.facebook.com/l.php?u=http%3A%2F%2F1.usa.gov%2FzkpJBR&h=1AQE8bsGjAQHJ6ycnXVXOyH3Q2MVrhQdmJSpgCHzYK9Vw4A',\n",
       "       'http://t.co/mhupt8dx', 'http://t.co/3LD1amzA',\n",
       "       'http://projects.propublica.org/tables/forced-pooling',\n",
       "       'http://www.facebook.com/l.php?u=http%3A%2F%2F1.usa.gov%2FzkpJBR&h=jAQH-GzlDAQEfIhePrHC_XZI-sq13zgwLSF9nyZAUWtjDkQ',\n",
       "       'http://www.facebook.com/l.php?u=http%3A%2F%2F1.usa.gov%2FzkpJBR&h=1AQGDC7MzAQHIgUe7xX7QQeNIb8EOxqD9-37B9j4mQY3-sw',\n",
       "       'http://www.lifescript.com/health/news/reuters/2012/02/16/one_in_10_us_kids_have_alcoholic_parent_study.aspx',\n",
       "       'http://www.facebook.com/l.php?u=http%3A%2F%2F1.usa.gov%2Fx7Gvr5&h=nAQHR19PLAQEkfGngfIxUjHxHfC562y_JH1sg-3OKTCDI2w',\n",
       "       'http://t.co/cq1QdOqn',\n",
       "       'http://plus.url.google.com/url?sa=z&n=1331925777185&url=http%3A%2F%2Ft.co%2FuoDz8rF9&usg=pD8yGZ3Pv9RX0781bFt1GXy144Y.',\n",
       "       'http://www.facebook.com/l.php?u=http%3A%2F%2F1.usa.gov%2FzkpJBR&h=sAQGo3wVEAQFOpNtfKwP8J3YUA80JzrcqJE0-Q8txBbItBw',\n",
       "       'http://www.sfenvironment.org/downloads/library/SFAnnualEnergyBenchmarkSummary.pdf',\n",
       "       'https://twitter.com/leightonching/status/180621138689404928',\n",
       "       'http://t.co/OAlh01eU', 'http://t.co/I1oM1gUa',\n",
       "       'http://seekingalpha.com/instablog/772408-quickchat/403301-quickchat-227-march-14-2012?v=1331921323&source=tracking',\n",
       "       'http://www.facebook.com/l.php?u=http%3A%2F%2F1.usa.gov%2FzkpJBR&h=eAQFX8gH4AQHncktDbKfBCnSW0bFwsE_JHBThc3aAmMNNvA',\n",
       "       'http://www.facebook.com/l.php?u=http%3A%2F%2F1.usa.gov%2Fymqj7c&h=QAQHRHVyhAQHhqQVl8BtNEr4w5k-xeVnRWSmFpylV2N1DiA',\n",
       "       'http://www.facebook.com/l.php?u=http%3A%2F%2F1.usa.gov%2FFOkfai&h=2AQGgIXsEAQFgGaFxlHDO97HoH4SWQlq6O2XvSg-LBCRISw&enc=AZPiL_97YZ4SvJGEy_gShyuCv0ZUYhS6M-tIN5bE9Dm4gv3LsyqpPZxKsDax4hF1_mD4luDENZMtdj1wKjwMfwoDWIubkUqS2o0G4hjkZ4RAnA',\n",
       "       'http://t.co/k864Y853',\n",
       "       'http://www.facebook.com/l.php?u=http%3A%2F%2F1.usa.gov%2FzkpJBR&h=gAQGYRFjSAQF5UgyqiSacHvxiI-Q2vrsJjru4saneDhBX2Q',\n",
       "       'http://www.facebook.com/l.php?u=http%3A%2F%2F1.usa.gov%2FzkpJBR&h=cAQHa67lVAQG6q4cnWtwVZL7pVLagCzQ24F-c6DAwmqA6MQ',\n",
       "       'http://www.facebook.com/l.php?u=http%3A%2F%2F1.usa.gov%2FwZCOwA&h=sAQH9sGGrAQEaYh5O0JG8spdWo0lniVgNfW3tueB-t1f20g',\n",
       "       'http://t.co/qiNRAIZR',\n",
       "       'http://www2.carilion.com/hr/internal/html/benefits/hub/leaves.html',\n",
       "       'http://uftlv.com/InitialPage.php',\n",
       "       'http://www.linkedin.com/share?viewLink=&sid=s967803688&url=http%3A%2F%2Ft%2Eco%2F0zpWSx8z&urlhash=yLM_&uid=5586443520442376192&trk=NUS_UNIU_SHARE-lnk&goback=%2Enmp_*1_*1_*1_*1_*1_*1',\n",
       "       'http://www.facebook.com/l.php?u=http%3A%2F%2F1.usa.gov%2FzkpJBR&h=fAQGcbMn5AQHsBnAxObJfGuwyW6zyYnWT5udIFWDbGDQplA',\n",
       "       'http://www.facebook.com/l.php?u=http%3A%2F%2Fbit.ly%2FGeneral_Qs&h=lAQGsBDar',\n",
       "       'http://www.lincolndailynews.com/News/news031612_ae.shtml',\n",
       "       'http://www.facebook.com/l.php?u=http%3A%2F%2F1.usa.gov%2FzkpJBR&h=tAQEchL64AQFMu2RwO2ASUGAx0kTd1z4h4SjxK_JYYeGDGA',\n",
       "       'http://www.facebook.com/l.php?u=http%3A%2F%2F1.usa.gov%2FzkpJBR&h=gAQHva5b-AQGD5TzjoHxTxq2AFXgYZvbh0tEjvrqPxa_ODQ',\n",
       "       'http://www.rif.org/',\n",
       "       'http://m.facebook.com/l.php?u=http%3A%2F%2F1.usa.gov%2FFOdo0a&h=OAQE3tnti',\n",
       "       'http://t.co/BWzHpXuA',\n",
       "       'http://iconfactory.com/twitterrific/#iPhone',\n",
       "       'http://t.co/vvF7al0H',\n",
       "       'https://twitter.com/senatorharkin/status/180733250682105857',\n",
       "       'https://twitter.com/sensherrodbrown/status/180727214533390336',\n",
       "       'http://t.co/aMJV34ld',\n",
       "       'http://www.commercialappeal.com/news/2011/nov/08/obama-jobs-for-veterans/',\n",
       "       'http://www.sfgate.com/cgi-bin/article.cgi?f=/c/a/2011/10/24/BU411LLKLH.DTL',\n",
       "       'https://twitter.com/donnabrazile/status/180735438036795392',\n",
       "       'http://plus.url.google.com/url?sa=z&n=1331925928075&url=http%3A%2F%2F1.usa.gov%2FzkpJBR&usg=uM7wT8IZ0vsKbtHg4lABnXJqR14.',\n",
       "       'http://t.co/WE0dO179',\n",
       "       'http://fightbac.org/about-foodborne-illness?gclid=CJaU-deS7K4CFSQaQgod0A7AKQ',\n",
       "       'http://www.facebook.com/l.php?u=http%3A%2F%2F1.usa.gov%2FzkpJBR&h=5AQFjLBUnAQHxhS6kBJOJK7TP35cuf54gWdZ4Vqn-BFXi1w',\n",
       "       'http://www.facebook.com/l.php?u=http%3A%2F%2F1.usa.gov%2FzkpJBR&h=FAQEwnhgCAQGiW-OTiucUb-SV07OKOenr-aHXSHc_tgePTQ',\n",
       "       'https://twitter.com/annielowrey/status/180638243434397696',\n",
       "       'http://t.co/XonIvWBX',\n",
       "       'http://www.facebook.com/l.php?u=http%3A%2F%2F1.usa.gov%2FFO3PBI&h=lAQGJQPwgAQG4b-nQ-f2anQExZTq310G4FKL4RhlCST1Qmg',\n",
       "       'http://t.co/DnBQGolS',\n",
       "       'http://www.jk-forum.com/showthread.php?220106-Goodyear-Recalls-Wrangler-Silent-Armor-Tires',\n",
       "       'http://www.theblackriver.net/myhomepage.html',\n",
       "       'http://www.facebook.com/l.php?u=http%3A%2F%2F1.usa.gov%2FzkpJBR&h=vAQFgcHujAQGIafV246JZ4HZxbeCXXtR8MYZU243EMInx9w',\n",
       "       'http://t.co/XEFe0U5v', 'http://t.co/hKzwNgHs',\n",
       "       'http://www.facebook.com/l.php?u=http%3A%2F%2Fgo.nasa.gov%2FyeE6VR&h=NAQF6ko1QAQHLne82N2jEqOawwIi8OVorgvbzdlH9ADq4Ow',\n",
       "       'http://t.co/SJ84pRYp',\n",
       "       'http://espacio2012.blogspot.com/p/monitor-solar.html',\n",
       "       'http://www.facebook.com/l.php?u=http%3A%2F%2F1.usa.gov%2FzkpJBR&h=QAQGnFVnfAQEN9uMf84QxoCrMUgRr9_ZIkoPhPGmEIqQ0sw',\n",
       "       'http://t.co/x6GXAJbK',\n",
       "       'http://www.facebook.com/l.php?u=http%3A%2F%2Fbit.ly%2Fw72qHc&h=FAQE7IM3SAQFYqOC-X3O_yWG8wrKYP-GoFOrHDyzCYdu3sQ',\n",
       "       'http://m.facebook.com/l.php?u=http%3A%2F%2Fgo.nasa.gov%2FyeE6VR&h=dAQFijN-G',\n",
       "       'http://m.facebook.com/l.php?u=http%3A%2F%2F1.usa.gov%2FxoB0ID&h=hAQHssHuA',\n",
       "       'https://twitter.com/tempepolice/status/180732376173903872',\n",
       "       'http://plus.url.google.com/url?sa=z&n=1331926025816&url=http%3A%2F%2F1.usa.gov%2FzkpJBR&usg=cmM9Kh7xeUM3B2wGUgIsqstnr8g.',\n",
       "       'http://messages.finance.yahoo.com/Stocks_%28A_to_Z%29/Stocks_T/threadview?m=te&bn=22756&tid=53109&mid=53109&tof=2&frt=1',\n",
       "       'https://twitter.com/peterisvinkelis/status/180324179764183043',\n",
       "       'http://www.facebook.com/l.php?u=http%3A%2F%2Fgo.nasa.gov%2FyeE6VR&h=QAQH4WY1AAQFC1xxMiwSOH36DhLPRCiudsslhF-23sapQMw',\n",
       "       'http://m.facebook.com/l.php?u=http%3A%2F%2Ft.co%2FJ92HwuTT&h=7AQFBFo7Q',\n",
       "       'http://www.youtube.com/watch?v=MvVJcK3s0RE',\n",
       "       'http://t.co/MjGzKzZh', 'http://t.co/QXolGNpF',\n",
       "       'http://t.co/SL6PMN0R', 'http://t.co/A26yX99i',\n",
       "       'http://www.facebook.com/l.php?u=http%3A%2F%2F1.usa.gov%2FyV8hww&h=MAQH7pYsRAQHyE41bSGNuYXfn721gkpkXDeWjt6JyXTN6mg&enc=AZPax8qrXwD0cXjotDXBSR0zRTBki8u5UfCO_EJZ7Zxe5PlrddsnMrsWx4hqRwnv7OpX5Mpqoy-XJ2wO2vONOJpv',\n",
       "       'http://www.facebook.com/l.php?u=http%3A%2F%2F1.usa.gov%2FzkpJBR&h=EAQEilJb5AQFxDKL91sxxHxC4MGXCOfXt8ZSsaKZGlx53tA',\n",
       "       'http://t.co/IOzgHPxw',\n",
       "       'http://www.nasa.gov/home/hqnews/2012/feb/HQ_12-040_MoonKam.html',\n",
       "       'http://plus.url.google.com/url?sa=z&n=1331926127626&url=http%3A%2F%2F1.usa.gov%2FzkpJBR&usg=vPSOdzGSDYAK-DUPOH9DmFZpHZg.',\n",
       "       'http://www.facebook.com/l.php?u=http%3A%2F%2F1.usa.gov%2FyQFB59&h=IAQE4Kj2pAQF4bDSKj1H2OV2VGwcFU2LxwSFTTft8oMzXFg',\n",
       "       'http://www.facebook.com/l.php?u=http%3A%2F%2F1.usa.gov%2FzkpJBR&h=FAQEDJDsOAQE5EirQ7AYNvOTJHEuhQKaxbdhupZHLaa4P-w',\n",
       "       'http://t.co/oiNz3Dx4',\n",
       "       'http://www.facebook.com/l.php?u=http%3A%2F%2F1.usa.gov%2FAwl8zA&h=4AQFw7R6nAQF6OeghLgfEBkFSDlKehyrYhqGnzcn5AAsxjQ&enc=AZOjZOSdGhxxe3gaILlWR_aWM-S6OfVvzSTlvDxwUudhI80InJFGkETzaf4lVgDK7Ns7uv6fwAuxb0sQUMCKhs3d',\n",
       "       'http://www.facebook.com/l.php?u=http%3A%2F%2Ft.co%2FbY2H7urQ&h=DAQE_Qu5XAQECkn0BdPn6-cCVdYSXMsvarCkqm9O9iNnE-g',\n",
       "       'http://t.co/w3ClI5g9',\n",
       "       'http://www.facebook.com/l.php?u=http%3A%2F%2F1.usa.gov%2FzkpJBR&h=dAQGZHgTAAQG_AARrfolWfSSyAOFQVWUtxnikE1MNAIJ4yQ',\n",
       "       'http://t.co/pc0WJLCd',\n",
       "       'http://www.facebook.com/l.php?u=http%3A%2F%2Fgo.nasa.gov%2FwqUkTo%3Fref%3Dnf&h=7AQHEIc1nAQGiTZcLCg7Hu3eABp9jP3fkckuAKMWm9Qc15A',\n",
       "       'https://twitter.com/reppaulryan/status/180707142850973698',\n",
       "       'http://m.facebook.com/l.php?u=http%3A%2F%2F1.usa.gov%2FwZCOwA&h=kAQHw1WFW',\n",
       "       'http://americasgreatoutdoors.tumblr.com/tagged/Craters-of-the-Moon-National-Monument-and-Preserve',\n",
       "       'http://www.facebook.com/l.php?u=http%3A%2F%2Fbit.ly%2FwIR9AO&h=NAQGkjiM8AQGC9KCs1_9K3HvTWdY_OEiE9HBO3sGzL-12jw',\n",
       "       'http://t.co/nTjyqMvC',\n",
       "       'http://www.groupon.com/deals/ga-lake-tahoe-vacation-resort?c=all&p=18',\n",
       "       'http://t.co/dmlBlYo1',\n",
       "       'http://bl133w.blu133.mail.live.com/mail/InboxLight.aspx?n=142537916',\n",
       "       'http://www.facebook.com/l.php?u=http%3A%2F%2F1.usa.gov%2FzkpJBR&h=WAQH6Mr-QAQGAvjG4jfi07Qd13q8GXiFdmLjFD-bigNPFMg',\n",
       "       'http://www.facebook.com/l.php?u=http%3A%2F%2F1.usa.gov%2FzkpJBR&h=sAQG9MneJAQHOROqPQ_lbIqPIfaom9Yx9tAJVllzNhNfrkA',\n",
       "       'http://t.co/ZQOROtBK',\n",
       "       'http://www.facebook.com/l.php?u=http%3A%2F%2F1.usa.gov%2FzkpJBR&h=BAQE452KzAQHswuIcKzpg18vAgl08RsQ2i3O4Jm3rEK6U6g',\n",
       "       'http://t.co/cctXpHRt',\n",
       "       'http://m.facebook.com/l.php?u=http%3A%2F%2F1.usa.gov%2FyQFB59&h=0AQHSFuwC',\n",
       "       'http://plus.url.google.com/url?sa=z&n=1331926177130&url=http%3A%2F%2F1.usa.gov%2FzkpJBR&usg=JKmXl0fTMuH8dCcHg4LGEV5kYs0.',\n",
       "       'http://www.facebook.com/l.php?u=http%3A%2F%2F1.usa.gov%2FzkpJBR&h=QAQFRlU9lAQHh4uPxhYPhvESX_xCTBLarM8JUeU9JasdTXw',\n",
       "       'http://www.facebook.com/l.php?u=http%3A%2F%2F1.usa.gov%2FzkpJBR&h=GAQFfXoBRAQFp82VL97kHO1HhEIvno5mcYYzOTwSyeuUurg',\n",
       "       'http://t.co/6RGvNutu',\n",
       "       'http://www.facebook.com/l.php?u=http%3A%2F%2F1.usa.gov%2FyQFB59&h=zAQHD456LAQHd6K10NqkwiytZYNE95VSpl6K-Y66f-Fp_rQ',\n",
       "       'http://m.facebook.com/l.php?u=http%3A%2F%2Ft.co%2FtXUsexhP&h=8AQGzgqj1',\n",
       "       'http://www.facebook.com/l.php?u=http%3A%2F%2Fgo.nasa.gov%2FwqUkTo%3Fref%3Dnf&h=YAQFp-ZChAQG5ZkGRcpHjkmZK3W3s9QiVpvCQbT6q9bJ5sA',\n",
       "       'http://t.co/phrF0b1C', 'http://www.shoeman.org/category/faqs/',\n",
       "       'http://t.co/R9pY4JtF', 'http://t.co/RL7r8brS',\n",
       "       'https://twitter.com/iembot_gsp/status/180736614711046145',\n",
       "       'http://t.co/QvZvIOaG',\n",
       "       'http://www.facebook.com/l.php?u=http%3A%2F%2F1.usa.gov%2FAAW2DW&h=TAQH4oQKIAQGWQh5IspvKvctGs-u9jIaBUPmdcAQyziDfyw',\n",
       "       'http://www.craigslist.org/about/help/before_hiring_a_mover',\n",
       "       'http://www.facebook.com/l.php?u=http%3A%2F%2F1.usa.gov%2FAwl8zA&h=4AQH_8ULZAQE8ew2QaBBk7MP_MziTOOSDxV_LojA0MogByQ',\n",
       "       'http://m.facebook.com/l.php?u=http%3A%2F%2F1.usa.gov%2FxoB0ID&h=3AQE5am99&enc=AZNqIptpfaX6-QS3lQUirA6UaganqywA7mGI_Qip2Cx0ewDjohl69iw5h4RQNikTM8nmgp-W0scPXkLitGHv6MGTBFAMPbuxhvJ46wVGRJiNgJrMb-24Ks95pnG9EqN_XUlLcMmHckjo7u2ZDksSBjqvnoS_NR_9Kw9QC8wcyGTqNjesB3Qh3mejBfME3nZphIHBgQ3I1PVEdWTo7N228rkBz0uYcpZuXg3jzQCu4rGLTFYeaAWA_SMfwYAlohwGpl-L4Ak4e5TaiVYa4sJpD37uCahRUlPpjzCYlKpiqgNYxDXCyPkqx0zqZCpVajg8vKHkQScetxNMidqnlxDnuJ7d',\n",
       "       'http://m.facebook.com/l.php?u=http%3A%2F%2F1.usa.gov%2FwzMq9p&h=tAQGlUAYE',\n",
       "       'http://m.facebook.com/home.php?refid=12',\n",
       "       'http://drugster.info/medic/term/sexually-transmitted-diseases-in-women/',\n",
       "       'http://fsweb.wo.fs.fed.us/',\n",
       "       'http://www.twibes.com/user/learningdotcom',\n",
       "       'http://t.co/nerpvFrm', 'http://t.co/ZWnp30Xx',\n",
       "       'http://www.facebook.com/l.php?u=http%3A%2F%2F1.usa.gov%2FzkpJBR&h=gAQFqmq9ZAQH3WInZGtfgh4_a0FyNDriNUwEy24bruFFrfw',\n",
       "       'http://www.facebook.com/l.php?u=http%3A%2F%2F1.usa.gov%2FzkpJBR&h=uAQEMQVVzAQF1a5riHd0uBmoNIPMlGVZN7PS8JV23FmEDuA',\n",
       "       'http://www.facebook.com/l.php?u=http%3A%2F%2Fgo.nasa.gov%2FyeE6VR&h=zAQGxY4gNAQG2x6AXOBo6izLd2TBxdiCoHRXrNACOsRhNZg',\n",
       "       'https://twitter.com/nasa_johnson/status/180718928736161792',\n",
       "       'http://us.mc1302.mail.yahoo.com/mc/welcome?.gx=1&.tm=1331926047&.rand=csln4v4675vba',\n",
       "       'http://t.co/Cu24lqQu', 'http://t.co/YZyOFida',\n",
       "       'http://www.facebook.com/l.php?u=http%3A%2F%2F1.usa.gov%2FzkpJBR&h=1AQHkuGnpAQFY-ElRImeUznpOhJDCFViHlIU2aB9iQL7inQ',\n",
       "       'http://www.facebook.com/l.php?u=http%3A%2F%2F1.usa.gov%2Fx2RE0P&h=aAQGrAUE8AQEGAEw74MWvrUfu8bkig_-0Tkl6MTmYhuptwQ',\n",
       "       'https://twitter.com/astrorobonaut/status/180682724783304704',\n",
       "       'http://m.facebook.com/l.php?u=http%3A%2F%2F1.usa.gov%2FzkpJBR&h=7AQHhYbzC',\n",
       "       'http://www.facebook.com/l.php?u=http%3A%2F%2F1.usa.gov%2Fyd1feN&h=mAQFjX_QYAQEaYvVw2S8G7Lm7Kw8AvCQ6h6Gg-h5jBWx6xQ',\n",
       "       'http://www.facebook.com/l.php?u=http%3A%2F%2F1.usa.gov%2FzkpJBR&h=YAQEEsM3QAQGsvHcNmvXYIJlCIyo04ait4Id4Z2j2Q8Cbaw',\n",
       "       'http://t.co/uQOhjZwI', 'http://www.davincihysterectomy.com',\n",
       "       'https://twitter.com/marscuriosity/status/166966659012247552',\n",
       "       'http://www.facebook.com/home.php?_rdr', 'http://t.co/nT7y8d8T',\n",
       "       'http://t.co/ZKIWjvR', 'http://t.co/55AxDN4J',\n",
       "       'https://twitter.com/joshtnelson/status/180392729413550081',\n",
       "       'http://plus.url.google.com/url?sa=z&n=1331926375729&url=http%3A%2F%2F1.usa.gov%2FzkpJBR&usg=4E909MxkXEdN3Va-SrQ2Jo8BQig.',\n",
       "       'http://t.co/WfehJuFY',\n",
       "       'http://m.facebook.com/l.php?u=http%3A%2F%2F1.usa.gov%2FzT9JJW&h=6AQEWzsw-&enc=AZPAkCU_Mw4kG_elLaYwJvYGYF95Zjj7ItGJW-D5f4TZlkp5xRnCRVlCP-cDklkiCzDbFKcpqThuxX4j1bUxKPi3RZarGcqAd4RO5XLAcdSlHztBygMBTKUIGDHaBGn391OOAGkse-oST5-BW9ZgbRECyuahm19NKonKaaHHLivbvizxcUR0z9UHJoOQhtbxZobjlZGfW1utXyuPoh9ew0iXdAhZeGKpqwlEjlkbElEbvtVVjT7lWw3f-JIwJXzQNa327tojEEm6HBLVw9D6pLp8FneXLu0lubMKDbSMXCuTkAx0nhHuH3RShJ5lT1H4xM8eelpbNYDFFqaFJLM2PYqmR7j3OWeqff_TKC0D8ycdPw',\n",
       "       'http://www.facebook.com/l.php?u=http%3A%2F%2Fgo.nasa.gov%2FyeE6VR&h=gAQEHqwP_',\n",
       "       'http://citizencorps.gov/',\n",
       "       'http://m.facebook.com/l.php?u=http%3A%2F%2F1.usa.gov%2FzkpJBR&h=sAQHAUMsi',\n",
       "       'http://t.co/MhRTvPuz',\n",
       "       'https://twitter.com/louiegiglio/status/180489718780276736',\n",
       "       'http://www.facebook.com/l.php?u=http%3A%2F%2F1.usa.gov%2FtLnWtG&h=vAQEyB_goAQGNa6Z-2PSKAjrhiPfWbHTCJg_C4wAS8QOdXA&enc=AZNbvPTqwI4LDeiHbgIVPYNQcV8Mft9QG-uHJb4b5TTAemUDqWIByxPzXj2LLxCWxBdo0d0oBUDcSF0PrCQDdDE8',\n",
       "       'http://www.ncsha.org/headline/hud-awards-201-million-new-local-homeless-programs',\n",
       "       'http://www.facebook.com/l.php?u=http%3A%2F%2F1.usa.gov%2FzkpJBR&h=xAQGE9AD5AQHm0qIghwLOy8Ja4w1kme0KYd3f3QPy865saQ',\n",
       "       'http://vtcemail.s3.amazonaws.com/images/yesmailtemplate/header_bar_700px.jpg',\n",
       "       'https://twitter.com/fitnessgov/status/179691766792990720',\n",
       "       'http://t.co/hqYIds1',\n",
       "       'http://www.facebook.com/l.php?u=http%3A%2F%2F1.usa.gov%2FzkpJBR&h=CAQGhg9AVAQGAfOccLcUyheu2x2VuwRjUbB61p0OgFFo4WA',\n",
       "       'http://statistically-funny.blogspot.com/2012/03/screening-for-disease-hoping-for.html',\n",
       "       'http://t.co/mBCydQRV',\n",
       "       'http://m.facebook.com/l.php?u=http%3A%2F%2F1.usa.gov%2FoSPTDv&h=4AQHL0nCv',\n",
       "       'http://www.facebook.com/l.php?u=http%3A%2F%2Ft.co%2FypR73jfZ&h=HAQFnvfoLAQFTy2X2PkghLM_BvuobPtQhk8s1QhSFAbDm4A',\n",
       "       'http://www.facebook.com/l.php?u=http%3A%2F%2F1.usa.gov%2FJoPMar3&h=7AQFoMyrtAQHe2v3Y_tNPMGv3XgaEiWmbsEBzQZjhYfvrNA',\n",
       "       'http://www.facebook.com/l.php?u=http%3A%2F%2Fgo.nasa.gov%2FyeE6VR&h=hAQEJ2oo8AQENIFbx_ny-AF8NOkxhd8fuYrDff2qvgZYVOg',\n",
       "       'http://ebooksgratis.com.br/livros-ebooks-gratis/literatura-estrangeira/juvenil-frank-baum-o-magico-de-oz-ilustrado/',\n",
       "       'http://t.co/0sDCswkD',\n",
       "       'http://www.facebook.com/l.php?u=http%3A%2F%2F1.usa.gov%2FzkpJBR&h=YAQGXFZ-3AQEz2mohCJ8Q8az5BcG0GD3u38fu4Tk7A0qKcw',\n",
       "       'http://t.co/1M4k81Sd',\n",
       "       'http://agency.governmentjobs.com/hawaii/default.cfm?action=viewJob&jobID=426058&hit_count=yes&headerFooter=1&promo=0&transfer=1&WDDXJobSearchParams=%3CwddxPacket%20version%3D%271%2E0%27%3E%3Cheader%2F%3E%3Cdata%3E%3Cstruct%3E%3Cvar%20name%3D%27CATEGORYID%27%3E%3Cstring%3E%2D1%3C%2Fstring%3E%3C%2Fvar%3E%3Cvar%20name%3D%27PROMOTIONALJOBS%27%3E%3Cstring%3E0%3C%2Fstring%3E%3C%2Fvar%3E%3Cvar%20name%3D%27TRANSFER%27%3E%3Cstring%3E1%3C%2Fstring%3E%3C%2Fvar%3E%3Cvar%20name%3D%27FIND%5FKEYWORD%27%3E%3Cstring%3E%3C%2Fstring%3E%3C%2Fvar%3E%3C%2Fstruct%3E%3C%2Fdata%3E%3C%2FwddxPacket%3E',\n",
       "       'http://www.facebook.com/l.php?u=http%3A%2F%2Fgo.nasa.gov%2FwqUkTo%3Fref%3Dnf&h=hAQEKJleyAQE1cUNIA_07JSBKwWmJV3qOAqyoNitWc1b2Tg',\n",
       "       'http://publications.usa.gov/USAPubs.php?PubID=3273',\n",
       "       'http://m.facebook.com/l.php?u=http%3A%2F%2F1.usa.gov%2FzkpJBR&h=KAQGBApBH',\n",
       "       'http://www.facebook.com/l.php?u=http%3A%2F%2F1.usa.gov%2FwvY5YC&h=5AQGh4wnb',\n",
       "       'http://www.facebook.com/l.php?u=http%3A%2F%2F1.usa.gov%2FzkpJBR&h=3AQGKGpTXAQHzMkYt_26-oWtJTYdnUYYwxeZhqRNR9lQMUw',\n",
       "       'http://t.co/vsP8vbYV', 'http://www.insurancefraud.org/news.lasso',\n",
       "       'http://t.co/DUtU67tc', 'http://t.co/1vUMvlZU',\n",
       "       'http://www.quantumdiaries.org/2012/03/09/ghost-hunters-an-international-team-tracks-a-disappearing-particle/',\n",
       "       'http://www.facebook.com/l.php?u=http%3A%2F%2Fgo.nasa.gov%2FA3r7z2%3Fref%3Dnf&h=yAQFHhNziAQGgwXh-S8kaz0mdJ9K5158n4TYWscHO5BZwBQ',\n",
       "       'http://libguides.law.missouri.edu/aecontent.php?pid=149419&sid=1269662',\n",
       "       'http://www.sfenvironment.org/downloads/library/SF_Existing_Commercial_Buildings_overview_Sept_16.pdf',\n",
       "       'http://www.facebook.com/l.php?u=http%3A%2F%2F1.usa.gov%2FzkpJBR&h=LAQHrkD2uAQEZt2QpMppRD8RIe1xPh8gr9hyBT4x3WO4RSA',\n",
       "       'http://t.co/I80TZt5K',\n",
       "       'http://yandex.ru/yandsearch?text=mjr.mn&lr=213',\n",
       "       'http://en.wikipedia.org/wiki/Certified_Financial_Planner',\n",
       "       'https://twitter.com/marleybonez/status/180667880403251200',\n",
       "       'http://t.co/jiMtmpcA', 'http://www.the-computers.com',\n",
       "       'http://t.co/yk6AnUj', 'http://1.usa.gov/iaVuBv',\n",
       "       'http://t.co/dVgOs3MN',\n",
       "       'http://www.facebook.com/l.php?u=http%3A%2F%2F1.usa.gov%2FeEPIFD&h=8AQG9JCtjAQFsDfFbt2VEKPUo7hez5mpE8BGpvpnvIuj8gg&enc=AZOzkYOxgLgXikFVVizAOUnDTvfldwoT_qiu56_oan26XpH4r1a-QtdTkEPSFtkjo0e4mk_nGc26me8heHuTMUZz',\n",
       "       'http://t.co/aIxLfnUU',\n",
       "       'http://news.nurse.com/apps/pbcs.dll/article?AID=/20120306/NATIONAL02/103120023&template=printart',\n",
       "       'http://blog.goo.ne.jp/shijinan/e/9794dc7ea7b9517f8ec1a2fa10f7a4b9',\n",
       "       'http://storify.com/ryking/warming-and-weirding-surging-seas/edit',\n",
       "       'https://twitter.com/recalls/status/180696188176175105',\n",
       "       'https://twitter.com/josielawrence1/status/180664047174291456',\n",
       "       'http://t.co/cJg8hVzJ',\n",
       "       'https://twitter.com/dtlett/status/180702175536742401',\n",
       "       'http://site.themarriagebed.com/the-g-spot',\n",
       "       'http://plus.url.google.com/url?sa=z&n=1331926719500&url=http%3A%2F%2F1.usa.gov%2FyLKd2e&usg=0s5VA0-Ady2VKxKrL7cbOiRHij8.',\n",
       "       'http://plus.url.google.com/url?sa=z&n=1331926734894&url=http%3A%2F%2F1.usa.gov%2FzkpJBR&usg=ZN2tDh2c14uj5ja2vPMOhCb8bVA.',\n",
       "       'https://twitter.com/iembot_tae/status/180736627205869569',\n",
       "       'https://twitter.com/healthfinder/status/180737830476185601',\n",
       "       'http://t.co/KJISTmF9',\n",
       "       'https://twitter.com/ashevillepolice/status/180675713148526594',\n",
       "       'http://www.facebook.com/l.php?u=http%3A%2F%2Ft.co%2FmQPylWk3&h=dAQFBtugzAQE1Jle-ro1JavxesL6kj5bbMH8S9x7gB7mvsw',\n",
       "       'http://www.lymphomation.org/statistics.htm',\n",
       "       'https://twitter.com/childseatsafety/status/180730167805739009',\n",
       "       'http://t.co/o9kh01wS',\n",
       "       'http://www.politico.com/news/stories/1111/69072.html',\n",
       "       'http://www.jpl.nasa.gov/education/index.cfm?page=268',\n",
       "       'http://t.co/RJO06YY8', 'http://t.co/xyxb3zNp',\n",
       "       'http://www.facebook.com/l.php?u=http%3A%2F%2Fgo.nasa.gov%2FwqUkTo%3Fref%3Dnf&h=oAQH23P2yAQHdrJUWyL-qzucCKvU-9HEFRiza5a74r2bYhA',\n",
       "       'http://www.ncsha.org/', 'http://t.co/A8TJyibE',\n",
       "       'http://www.facebook.com/l.php?u=http%3A%2F%2F1.usa.gov%2FzkpJBR&h=1AQHS8d62AQETyuStgP94NI9mgq0S__pVUHYllUlDpwII1w',\n",
       "       'http://www.facebook.com/l.php?u=http%3A%2F%2F1.usa.gov%2Fy3reI1&h=nAQFGknZ0AQE_Auz9Y7w0zKCW7ozSrGuhoygtoHLS6Ihq2g',\n",
       "       'http://plus.url.google.com/url?sa=z&n=1331926863438&url=http%3A%2F%2F1.usa.gov%2FzkpJBR&usg=ADCzl1X8b5j1Vx2ZAPzpFi4DM_Q.',\n",
       "       'http://www.facebook.com/l.php?u=http%3A%2F%2F1.usa.gov%2FjQLtP4&h=3AQF8AIR_',\n",
       "       'http://t.co/OEEEvwjU'], dtype=object)"
      ]
     },
     "execution_count": 39,
     "metadata": {},
     "output_type": "execute_result"
    }
   ],
   "source": [
    "frame['r'].unique()"
   ]
  },
  {
   "cell_type": "markdown",
   "metadata": {},
   "source": [
    "- Khi tiếp tục xem cét unique ta thấy có trường direct và nan (giá trị đặc biệt np.nan,  missing value theo chuẩn NumPy.)"
   ]
  },
  {
   "cell_type": "code",
   "execution_count": 37,
   "metadata": {},
   "outputs": [
    {
     "data": {
      "text/plain": [
       "np.int64(1585)"
      ]
     },
     "execution_count": 37,
     "metadata": {},
     "output_type": "execute_result"
    }
   ],
   "source": [
    "(frame['r'] == \"direct\").sum()"
   ]
  },
  {
   "cell_type": "markdown",
   "metadata": {},
   "source": [
    "Trường direct là gì?. \n",
    "- Đây là trường do hệ thống máy chủ của Bitly đã chủ động gán giá trị này trong quá trình ghi lại nhật ký (logging).\n",
    "    1. Ghi nhận \"Referrer\"\n",
    "    Khi trình duyệt (Chrome, Firefox...) truy cập một đường link, nó sẽ gửi một yêu cầu đến máy chủ (trong trường hợp này là máy chủ Bitly). Kèm theo yêu cầu đó, trình duyệt có thể gửi một tiêu đề (HTTP Header) tên là Referer để báo cho máy chủ biết \"tôi đến từ đâu\".\n",
    "    2. Direct. Điều này xảy ra chủ yếu khi:\n",
    "        - 2.1. Người dùng gõ thẳng địa chỉ (ví dụ 1.usa.gov/...) vào thanh địa chỉ của trình duyệt.\n",
    "\n",
    "        - 2.2. Người dùng nhấp vào một link đã lưu (Bookmark).\n",
    "\n",
    "        - 2.3. Người dùng nhấp vào link từ một ứng dụng (như email, Zalo, Teams).\n",
    "\n",
    "        - 2.4. Người dùng có cài đặt bảo mật/quyền riêng tư chặn gửi thông tin referrer.\n",
    "> -> Trong tất cả các trường hợp này, hành vi chung được gọi là truy cập \"Trực tiếp\" (Direct traffic)."
   ]
  },
  {
   "cell_type": "code",
   "execution_count": 34,
   "metadata": {},
   "outputs": [
    {
     "data": {
      "text/plain": [
       "120"
      ]
     },
     "execution_count": 34,
     "metadata": {},
     "output_type": "execute_result"
    }
   ],
   "source": [
    "missing_r_count = (frame[\"r\"].isnull()).sum()\n",
    "int(missing_r_count)"
   ]
  },
  {
   "cell_type": "markdown",
   "metadata": {},
   "source": [
    "> Dữ liệu bị thiếu: Có 120 giá trị null (thiếu).\n",
    "- Đây là hành vi không mong muốn (lỗi). Có thể do một lý do nào đó mà nó không được ghi lại. \n",
    "- Tuy nhiên, về mặt ngữ nghĩa, chúng ta có thể suy luận rằng 120 trường hợp này rất có thể cũng là truy cập trực tiếp.\n",
    "-> Vì vậy có thể fill trường này lại bằng direct"
   ]
  },
  {
   "cell_type": "code",
   "execution_count": 33,
   "metadata": {},
   "outputs": [
    {
     "data": {
      "text/plain": [
       "0"
      ]
     },
     "execution_count": 33,
     "metadata": {},
     "output_type": "execute_result"
    }
   ],
   "source": [
    "missing_r_count2 = (frame[\"r\"] == \"\").sum()\n",
    "int(missing_r_count2)"
   ]
  },
  {
   "cell_type": "markdown",
   "metadata": {},
   "source": [
    "> Không có giá trị \"\""
   ]
  },
  {
   "cell_type": "markdown",
   "metadata": {},
   "source": [
    "- Dữ liệu url đầy đủ"
   ]
  },
  {
   "cell_type": "code",
   "execution_count": 35,
   "metadata": {},
   "outputs": [
    {
     "data": {
      "text/plain": [
       "r\n",
       "direct                                                1585\n",
       "http://www.facebook.com/                               132\n",
       "http://www.AwareMap.com/                               121\n",
       "http://www.shrewsbury-ma.gov/selco/                     64\n",
       "http://t.co/UKGBxj29                                    54\n",
       "http://togetter.com/li/39380                            29\n",
       "https://twitter.com/nasa/status/180662400964493314      26\n",
       "http://yandex.ru/yandsearch?text=1.usa.gov&lr=213       19\n",
       "http://t.co/9JWO28CZ                                    17\n",
       "http://t.co/0zpWSx8z                                    16\n",
       "Name: count, dtype: int64"
      ]
     },
     "execution_count": 35,
     "metadata": {},
     "output_type": "execute_result"
    }
   ],
   "source": [
    "frame['r'].value_counts().head(10)"
   ]
  },
  {
   "cell_type": "markdown",
   "metadata": {},
   "source": [
    "- Dữ liệu không nhất quán:\n",
    "    + Có http://www.facebook.com\n",
    "    + Có http://www.AwareMap.com/\n",
    "    + Có http://m.facebook.com (bản mobile)\n",
    "> -> Mục tiêu phân tích: Chúng ta không quan tâm đến toàn bộ đường link dài (/l...). Chúng ta chỉ muốn biết tên miền gốc (domain) đã giới thiệu người dùng, ví dụ: facebook.com, twitter.com, google.com."
   ]
  },
  {
   "cell_type": "code",
   "execution_count": 9,
   "metadata": {},
   "outputs": [],
   "source": [
    "# Làm sạch cột 'r'\n",
    "clean_r = frame['r'].fillna(\"direct\")\n",
    "clean_r[clean_r == \"\"] = \"direct\""
   ]
  },
  {
   "cell_type": "markdown",
   "metadata": {},
   "source": [
    "- Vậy việc fill trường na bằng Direct có ý nghĩa: Feature Engineering (Tạo đặc trưng): Chúng ta biến một giá trị bị thiếu (NaN) thành một hạng mục (category) có ý nghĩa kinh doanh (Direct).\n",
    "- Điều này giúp chúng ta phân biệt rõ ràng khi phân tích:\n",
    "\n",
    "    + Bao nhiêu người đến từ Google?\n",
    "\n",
    "    + Bao nhiêu người đến từ Facebook?\n",
    "\n",
    "    + Và bao nhiêu người tự tìm đến (Direct)?"
   ]
  },
  {
   "cell_type": "markdown",
   "metadata": {},
   "source": [
    "- Tiến hành tách tên miền:\n",
    "    + Dữ liệu là URL đầy đủ, quá chi tiết. Chúng ta nên rút gọn url gốc http://www.facebook.com/l/7AQE... thành www.facebook.com.\n",
    "    + Dùng một thư viện chuyên dụng để \"tách\" các phần của một URL."
   ]
  },
  {
   "cell_type": "code",
   "execution_count": 7,
   "metadata": {},
   "outputs": [],
   "source": [
    "from urllib.parse import urlparse\n",
    "# Hàm để trích xuất tên miền (netloc) và gom nhóm\n",
    "def get_domain(url_string):\n",
    "    if url_string == \"Direct\":\n",
    "        return \"Direct\"\n",
    "    try:\n",
    "        if '://' not in url_string: # nếu chuỗi không chứa '://', thêm 'http://' vào đầu chuỗi\n",
    "            url_string = 'http://' + url_string\n",
    "        \n",
    "        parsed_url = urlparse(url_string) # phân tích cú pháp URL. Ví dụ url_string = 'http://www.facebook.com/l/7AQE...' sẽ trả về parsed_url.netloc = 'www.facebook.com'\n",
    "        domain = parsed_url.netloc\n",
    "        if domain.startswith('www.'): # loại bỏ tiền tố 'www.' Lý do là vì nhiều trang web có cả hai phiên bản với và không có www, ví dụ: www.facebook.com và facebook.com. Để thống nhất và tránh việc coi hai tên miền này là khác nhau, ta loại bỏ tiền tố 'www.'.\n",
    "            domain = domain[4:]\n",
    "        \n",
    "        # Các tên miền ẩn \n",
    "        \"\"\" \n",
    "            Khi xem dữ liệu, chúng ta thấy rất nhiều t.co. \n",
    "            Kinh nghiệm cho biết đây là dịch vụ rút gọn link của Twitter. \n",
    "            Nếu chỉ lấy t.co thì kết quả phân tích sẽ không rõ ràng.\n",
    "            Ý tưởng: Tạo một quy tắc (rule) đặc biệt để gom nhóm.\n",
    "         \"\"\"\n",
    "        if domain == 't.co': # nếu domain là t.co, trả về twitter.com\n",
    "            return 'twitter.com'\n",
    "        # Các tên miền phụ (Subdomains) và tên miền quốc gia.\n",
    "        \"\"\" \n",
    "        Trong tập dữ liệu chúng ta thấy m.facebook.com, l.facebook.com, facebook.com. \n",
    "        Tương tự google.com, google.ca, google.co.uk, plus.url.google.com.\n",
    "        -> Tất cả chúng nên được gom lại. m.facebook.com nên là facebook.com. google.ca nên là google.com.\n",
    "         \"\"\"\n",
    "        if 'facebook.com' in domain: \n",
    "            return 'facebook.com'\n",
    "        if 'google' in domain:\n",
    "            return 'google.com'\n",
    "            \n",
    "        return domain\n",
    "    except Exception:\n",
    "        return \"Invalid/Other\""
   ]
  },
  {
   "cell_type": "code",
   "execution_count": 10,
   "metadata": {},
   "outputs": [
    {
     "name": "stdout",
     "output_type": "stream",
     "text": [
      "Top 10 nguồn giới thiệu (referrer) hàng đầu:\n",
      "r\n",
      "direct               1705\n",
      "twitter.com           677\n",
      "facebook.com          548\n",
      "AwareMap.com          121\n",
      "shrewsbury-ma.gov      90\n",
      "google.com             47\n",
      "togetter.com           29\n",
      "yandex.ru              23\n",
      "aashtojournal.org      21\n",
      "barackobama.com        18\n",
      "Name: count, dtype: int64\n"
     ]
    }
   ],
   "source": [
    "domains = clean_r.apply(get_domain)\n",
    "domain_counts = domains.value_counts()\n",
    "print(\"Top 10 nguồn giới thiệu (referrer) hàng đầu:\")\n",
    "print(domain_counts.head(10))"
   ]
  },
  {
   "cell_type": "markdown",
   "metadata": {},
   "source": [
    "- Phân tích:\n",
    "    + **Truy cập trực tiếp (Direct):** Nguồn direct và Direct (tổng cộng 1585 + 120 = 1705 lượt) là lớn nhất. Điều này có nghĩa là người dùng đã gõ thẳng địa chỉ 1.usa.gov/... vào trình duyệt, hoặc nhấp từ bookmark, hoặc từ một ứng dụng (như email) mà trình duyệt không ghi nhận là nguồn giới thiệu.\n",
    "\n",
    "    + **Mạng xã hội:** Twitter (twitter.com, được gom từ t.co) là nguồn mạng xã hội lớn nhất với 677 lượt, theo sau là Facebook (facebook.com) với 548 lượt. Điều này cho thấy mạng xã hội là kênh chia sẻ thông tin chính phủ rất quan trọng.\n",
    "\n",
    "    + ***Nguồn cụ thể:*** AwareMap.com (121 lượt) và shrewsbury-ma.gov (90 lượt) là các trang web cụ thể có lượng truy cập đáng kể. shrewsbury-ma.gov có thể là trang web của một thị trấn (Shrewsbury, Massachusetts) đã chia sẻ link usa.gov.\n",
    "\n",
    "    + ***Công cụ tìm kiếm:*** google.com (47 lượt) và yandex.ru (23 lượt - công cụ tìm kiếm của Nga) cũng xuất hiện, nhưng với tỷ lệ thấp hơn nhiều so với mạng xã hội. Điều này cho thấy người dùng chủ yếu phát hiện các link này qua chia sẻ xã hội hơn là tìm kiếm chúng."
   ]
  },
  {
   "cell_type": "markdown",
   "metadata": {},
   "source": [
    "## Trực quan hóa dữ liệu"
   ]
  },
  {
   "cell_type": "markdown",
   "metadata": {},
   "source": [
    "- Chúng ta có thể trực quan hóa dữ liệu này bằng thư viện matplotlib.\n",
    "- Để biểu đồ trông trực quan và rõ ràng hơn, ta cần xử lý trước (data cleaning) những giá trị múi giờ bị thiếu hoặc không xác định trong dữ liệu.\n",
    "\n",
    "- Cụ thể, ta sẽ thay thế các giá trị bị thiếu (NaN) bằng một giá trị thay thế (ví dụ \"Missing\") thông qua phương thức fillna(),\n",
    "- và dùng Boolean indexing để xử lý các chuỗi rỗng (\"\") — tức là những bản ghi có trường tz nhưng không có nội dung."
   ]
  },
  {
   "cell_type": "code",
   "execution_count": 42,
   "metadata": {},
   "outputs": [
    {
     "data": {
      "text/plain": [
       "0     America/New_York\n",
       "1       America/Denver\n",
       "2     America/New_York\n",
       "3    America/Sao_Paulo\n",
       "4     America/New_York\n",
       "Name: tz, dtype: object"
      ]
     },
     "execution_count": 42,
     "metadata": {},
     "output_type": "execute_result"
    }
   ],
   "source": [
    "frame[\"tz\"].head()"
   ]
  },
  {
   "cell_type": "code",
   "execution_count": 46,
   "metadata": {},
   "outputs": [
    {
     "data": {
      "text/plain": [
       "tz\n",
       "America/New_York       1251\n",
       "Unknown                 521\n",
       "America/Chicago         400\n",
       "America/Los_Angeles     382\n",
       "America/Denver          191\n",
       "Name: count, dtype: int64"
      ]
     },
     "execution_count": 46,
     "metadata": {},
     "output_type": "execute_result"
    }
   ],
   "source": [
    "clean_tz = frame[\"tz\"].fillna(\"Missing\")\n",
    "clean_tz[clean_tz == \"\"] = \"Unknown\"\n",
    "tz_counts = clean_tz.value_counts()\n",
    "tz_counts.head()"
   ]
  },
  {
   "cell_type": "code",
   "execution_count": 33,
   "metadata": {},
   "outputs": [
    {
     "data": {
      "text/plain": [
       "<Figure size 1000x400 with 0 Axes>"
      ]
     },
     "execution_count": 33,
     "metadata": {},
     "output_type": "execute_result"
    },
    {
     "data": {
      "text/plain": [
       "<Figure size 1000x400 with 0 Axes>"
      ]
     },
     "metadata": {},
     "output_type": "display_data"
    }
   ],
   "source": [
    "plt.figure(figsize=(10, 4))"
   ]
  },
  {
   "cell_type": "markdown",
   "metadata": {},
   "source": [
    "- Tại thời điểm này, chúng ta có thể sử dụng gói seaborn để tạo biểu đồ thanh ngang:"
   ]
  },
  {
   "cell_type": "code",
   "execution_count": 34,
   "metadata": {},
   "outputs": [
    {
     "data": {
      "text/plain": [
       "<Axes: ylabel='tz'>"
      ]
     },
     "execution_count": 34,
     "metadata": {},
     "output_type": "execute_result"
    },
    {
     "data": {
      "image/png": "[encoded data removed]",
      "text/plain": [
       "<Figure size 1000x600 with 1 Axes>"
      ]
     },
     "metadata": {},
     "output_type": "display_data"
    }
   ],
   "source": [
    "import seaborn as sns\n",
    "subset = tz_counts.head()\n",
    "sns.barplot(y=subset.index, x=subset.to_numpy())"
   ]
  },
  {
   "cell_type": "markdown",
   "metadata": {},
   "source": [
    "## Phân tích tương quan\n",
    "Phân tích tương quan (Correlation Analysis) là một phương pháp thống kê dùng để đo lường mức độ mạnh yếu và chiều hướng của mối quan hệ tuyến tính giữa hai biến số (variable)."
   ]
  },
  {
   "cell_type": "markdown",
   "metadata": {},
   "source": [
    "### Tỷ lệ người dùng Windows vs Non-Windows"
   ]
  },
  {
   "cell_type": "markdown",
   "metadata": {},
   "source": [
    "Việc phân tích tỷ lệ người dùng Windows so với Non-Windows sẽ dựa trên trường a (User Agent):\n",
    "1. Trích xuất thông tin hữu ích từ dữ liệu thô:\n",
    "    + Cột a chứa chuỗi \"User Agent\" - một đoạn văn bản dài và phức tạp, ghi lại thông tin về trình duyệt, hệ điều hành (OS), và đôi khi cả thiết bị của người dùng.\n",
    "    Phân tích này giúp \"bóc tách\" một thông tin cụ thể và quan trọng từ chuỗi đó: Hệ điều hành người dùng đang sử dụng.\n",
    "2. Hiểu rõ hơn về đối tượng người dùng:\n",
    "    + Biết được tỷ lệ người dùng Windows so với các hệ điều hành khác (Mac, Linux, iOS, Android - gộp chung là Non-Windows) giúp hiểu công nghệ mà người truy cập các link usa.gov đang dùng.\n",
    "    + Thông tin này có thể hữu ích cho việc thiết kế trang web (ví dụ: tối ưu cho Windows hay cần chú trọng cả nền tảng khác?), kiểm thử tương thích, hoặc hoạch định hỗ trợ kỹ thuật.\n"
   ]
  },
  {
   "cell_type": "code",
   "execution_count": 35,
   "metadata": {},
   "outputs": [
    {
     "data": {
      "text/plain": [
       "'Mozilla/5.0 (Linux; U; Android 2.2.2; en-us; LG-P9'"
      ]
     },
     "execution_count": 35,
     "metadata": {},
     "output_type": "execute_result"
    }
   ],
   "source": [
    "frame[\"a\"][1]\n",
    "frame[\"a\"][50]\n",
    "frame[\"a\"][51][:50]  # long line"
   ]
  },
  {
   "cell_type": "markdown",
   "metadata": {},
   "source": [
    "- Việc phân tích (parsing) toàn bộ thông tin thú vị trong các chuỗi “agent” (tức là User-Agent strings) có thể trông khá phức tạp — vì mỗi chuỗi chứa nhiều thông tin chi tiết về trình duyệt, hệ điều hành, thiết bị, phiên bản, v.v.\n",
    "\n",
    "- Một chiến lược khả thi để đơn giản hóa là tách (split) token đầu tiên trong chuỗi, vì phần này thường biểu thị loại trình duyệt hoặc khả năng của trình duyệt (browser capability).\n",
    "Sau đó, ta có thể tạo một bảng tóm tắt (summary) khác để phân tích hành vi người dùng dựa trên loại trình duyệt."
   ]
  },
  {
   "cell_type": "code",
   "execution_count": 43,
   "metadata": {},
   "outputs": [
    {
     "data": {
      "text/plain": [
       "Mozilla/5.0                 2594\n",
       "Mozilla/4.0                  601\n",
       "GoogleMaps/RochesterNY       121\n",
       "Opera/9.80                    34\n",
       "TEST_INTERNET_AGENT           24\n",
       "GoogleProducer                21\n",
       "Mozilla/6.0                    5\n",
       "BlackBerry8520/5.0.0.681       4\n",
       "Name: count, dtype: int64"
      ]
     },
     "execution_count": 43,
     "metadata": {},
     "output_type": "execute_result"
    }
   ],
   "source": [
    "results = pd.Series([x.split()[0] for x in frame[\"a\"].dropna()]) # trích xuất hệ điều hành từ chuỗi User Agent\n",
    "results.head(5) # xem 5 dòng đầu tiên của results\n",
    "results.value_counts().head(8)"
   ]
  },
  {
   "cell_type": "markdown",
   "metadata": {},
   "source": [
    "- Bây giờ, giả sử bạn muốn phân tách (decompose) theo loại người dùng và các múi giờ phổ biến nhất (top time zones) theo hai nhóm người dùng:\n",
    "    - Người dùng Windows, và\n",
    "    - Người dùng không phải Windows (non-Windows).\n",
    "- Để đơn giản hóa, ta giả định rằng một người dùng được xem là đang dùng Windows nếu trong chuỗi “agent” (user agent string) có chứa từ “Windows”.\n",
    "\n",
    "- Vì một số bản ghi không có thông tin “agent”, nên ta sẽ loại bỏ (exclude) các bản ghi này khỏi dữ liệu trước khi phân tích."
   ]
  },
  {
   "cell_type": "code",
   "execution_count": 44,
   "metadata": {},
   "outputs": [],
   "source": [
    "cframe = frame[frame[\"a\"].notna()].copy()"
   ]
  },
  {
   "cell_type": "markdown",
   "metadata": {},
   "source": [
    "- Sau đó, chúng ta muốn tính toán giá trị để xác định xem mỗi hàng có phải là Windows hay không:"
   ]
  },
  {
   "cell_type": "code",
   "execution_count": 45,
   "metadata": {},
   "outputs": [
    {
     "data": {
      "text/plain": [
       "0        Windows\n",
       "1    Not Windows\n",
       "2        Windows\n",
       "3    Not Windows\n",
       "4        Windows\n",
       "Name: os, dtype: object"
      ]
     },
     "execution_count": 45,
     "metadata": {},
     "output_type": "execute_result"
    }
   ],
   "source": [
    "cframe[\"os\"] = np.where(cframe[\"a\"].str.contains(\"Windows\"),\n",
    "                        \"Windows\", \"Not Windows\")\n",
    "cframe[\"os\"].head(5)"
   ]
  },
  {
   "cell_type": "markdown",
   "metadata": {},
   "source": [
    "- Tỉ lệ người dùng Windows so với Not Windows. "
   ]
  },
  {
   "cell_type": "code",
   "execution_count": 46,
   "metadata": {},
   "outputs": [
    {
     "data": {
      "text/plain": [
       "os\n",
       "Windows        2246\n",
       "Not Windows    1194\n",
       "Name: count, dtype: int64"
      ]
     },
     "execution_count": 46,
     "metadata": {},
     "output_type": "execute_result"
    }
   ],
   "source": [
    "cframe[\"os\"].value_counts()"
   ]
  },
  {
   "cell_type": "markdown",
   "metadata": {},
   "source": [
    "Tổng số lượt: 2246 + 1194 = 3440 lượt.\n",
    "- Tỷ lệ Windows: (2246 / 3440) * 100 ≈ 65.29%\n",
    "- Tỷ lệ Not Windows: (1194 / 3440) * 100 ≈ 34.71%\n",
    "Phân tích:\n",
    "    Kết quả này xác nhận rằng phần lớn người dùng (khoảng 65%) trong tập dữ liệu này đã truy cập các link sử dụng hệ điều hành Windows. Tuy nhiên, tỷ lệ người dùng Non-Windows (khoảng 35%) cũng rất đáng kể, cho thấy sự đa dạng về nền tảng công nghệ của những người quan tâm đến thông tin từ usa.gov vào thời điểm đó."
   ]
  },
  {
   "cell_type": "markdown",
   "metadata": {},
   "source": [
    "### Phân bố hệ điều hành khác nhau theo múi giờ."
   ]
  },
  {
   "cell_type": "markdown",
   "metadata": {},
   "source": [
    "- Sau đó, bạn có thể nhóm dữ liệu theo cột múi giờ và danh sách hệ điều hành mới này:"
   ]
  },
  {
   "cell_type": "code",
   "execution_count": 48,
   "metadata": {},
   "outputs": [],
   "source": [
    "by_tz_os = cframe.groupby([\"tz\", \"os\"])"
   ]
  },
  {
   "cell_type": "markdown",
   "metadata": {},
   "source": [
    "- Số lượng nhóm, tương tự như hàm value_counts, có thể được tính bằng\n",
    "size. Kết quả này sau đó được định dạng lại thành một bảng với unstack:"
   ]
  },
  {
   "cell_type": "code",
   "execution_count": 49,
   "metadata": {},
   "outputs": [
    {
     "data": {
      "text/html": [
       "<div>\n",
       "<style scoped>\n",
       "    .dataframe tbody tr th:only-of-type {\n",
       "        vertical-align: middle;\n",
       "    }\n",
       "\n",
       "    .dataframe tbody tr th {\n",
       "        vertical-align: top;\n",
       "    }\n",
       "\n",
       "    .dataframe thead th {\n",
       "        text-align: right;\n",
       "    }\n",
       "</style>\n",
       "<table border=\"1\" class=\"dataframe\">\n",
       "  <thead>\n",
       "    <tr style=\"text-align: right;\">\n",
       "      <th>os</th>\n",
       "      <th>Not Windows</th>\n",
       "      <th>Windows</th>\n",
       "    </tr>\n",
       "    <tr>\n",
       "      <th>tz</th>\n",
       "      <th></th>\n",
       "      <th></th>\n",
       "    </tr>\n",
       "  </thead>\n",
       "  <tbody>\n",
       "    <tr>\n",
       "      <th></th>\n",
       "      <td>245.0</td>\n",
       "      <td>276.0</td>\n",
       "    </tr>\n",
       "    <tr>\n",
       "      <th>Africa/Cairo</th>\n",
       "      <td>0.0</td>\n",
       "      <td>3.0</td>\n",
       "    </tr>\n",
       "    <tr>\n",
       "      <th>Africa/Casablanca</th>\n",
       "      <td>0.0</td>\n",
       "      <td>1.0</td>\n",
       "    </tr>\n",
       "    <tr>\n",
       "      <th>Africa/Ceuta</th>\n",
       "      <td>0.0</td>\n",
       "      <td>2.0</td>\n",
       "    </tr>\n",
       "    <tr>\n",
       "      <th>Africa/Johannesburg</th>\n",
       "      <td>0.0</td>\n",
       "      <td>1.0</td>\n",
       "    </tr>\n",
       "  </tbody>\n",
       "</table>\n",
       "</div>"
      ],
      "text/plain": [
       "os                   Not Windows  Windows\n",
       "tz                                       \n",
       "                           245.0    276.0\n",
       "Africa/Cairo                 0.0      3.0\n",
       "Africa/Casablanca            0.0      1.0\n",
       "Africa/Ceuta                 0.0      2.0\n",
       "Africa/Johannesburg          0.0      1.0"
      ]
     },
     "execution_count": 49,
     "metadata": {},
     "output_type": "execute_result"
    }
   ],
   "source": [
    "agg_counts = by_tz_os.size().unstack().fillna(0)\n",
    "agg_counts.head()"
   ]
  },
  {
   "cell_type": "markdown",
   "metadata": {},
   "source": [
    "- Kết quả này cho thấy 5 múi giờ đầu tiên (theo thứ tự bảng chữ cái, bắt đầu từ Châu Phi) và số lượng người dùng tương ứng:\n",
    "\n",
    "    + Africa/Cairo: 0 người dùng được xác định là \"Not Windows\", 3 người dùng được xác định là \"Windows\".\n",
    "\n",
    "    + Africa/Casablanca: 0 \"Not Windows\", 1 \"Windows\".\n",
    "\n",
    "    + Africa/Ceuta: 0 \"Not Windows\", 2 \"Windows\".\n",
    "\n",
    "    + Africa/Johannesburg: 0 \"Not Windows\", 1 \"Windows\".\n",
    "\n",
    "    + Africa/Lusaka: 0 \"Not Windows\", 1 \"Windows\".\n",
    "\n",
    "Quan sát ban đầu: Đối với các múi giờ Châu Phi cụ thể này trong tập dữ liệu, tất cả người dùng được ghi nhận đều sử dụng Windows. Tuy nhiên, cần lưu ý rằng số lượng rất thấp, vì vậy điều này có thể không đại diện cho một xu hướng rộng rãi."
   ]
  },
  {
   "cell_type": "markdown",
   "metadata": {},
   "source": [
    "- Tiếp tục, chúng ta sẽ chọn ra các múi giờ (time zones) có tổng số người dùng cao nhất trong toàn bộ dữ liệu.\n",
    "\n",
    "- Để làm điều này, ta sẽ tạo một mảng chỉ số gián tiếp (indirect index array) dựa trên số lượng bản ghi (row counts) trong bảng tổng hợp agg_counts.\n",
    "- Sau khi tính tổng số bản ghi của từng múi giờ bằng cách gọi agg_counts.sum(\"columns\"), ta có thể sử dụng phương thức argsort() để lấy ra một mảng chỉ số sắp xếp các giá trị theo thứ tự tăng dần."
   ]
  },
  {
   "cell_type": "code",
   "execution_count": 50,
   "metadata": {},
   "outputs": [
    {
     "data": {
      "text/plain": [
       "array([ 2,  7,  5,  4, 14, 11,  9,  8, 24, 26])"
      ]
     },
     "execution_count": 50,
     "metadata": {},
     "output_type": "execute_result"
    }
   ],
   "source": [
    "indexer = agg_counts.sum(\"columns\").argsort()\n",
    "indexer.values[:10]"
   ]
  },
  {
   "cell_type": "markdown",
   "metadata": {},
   "source": [
    "- Sử dụng lệnh take để chọn các hàng theo thứ tự đó, sau đó cắt bỏ 10 hàng cuối cùng (giá trị lớn nhất):"
   ]
  },
  {
   "cell_type": "code",
   "execution_count": 51,
   "metadata": {},
   "outputs": [
    {
     "data": {
      "text/html": [
       "<div>\n",
       "<style scoped>\n",
       "    .dataframe tbody tr th:only-of-type {\n",
       "        vertical-align: middle;\n",
       "    }\n",
       "\n",
       "    .dataframe tbody tr th {\n",
       "        vertical-align: top;\n",
       "    }\n",
       "\n",
       "    .dataframe thead th {\n",
       "        text-align: right;\n",
       "    }\n",
       "</style>\n",
       "<table border=\"1\" class=\"dataframe\">\n",
       "  <thead>\n",
       "    <tr style=\"text-align: right;\">\n",
       "      <th>os</th>\n",
       "      <th>Not Windows</th>\n",
       "      <th>Windows</th>\n",
       "    </tr>\n",
       "    <tr>\n",
       "      <th>tz</th>\n",
       "      <th></th>\n",
       "      <th></th>\n",
       "    </tr>\n",
       "  </thead>\n",
       "  <tbody>\n",
       "    <tr>\n",
       "      <th>America/Sao_Paulo</th>\n",
       "      <td>13.0</td>\n",
       "      <td>20.0</td>\n",
       "    </tr>\n",
       "    <tr>\n",
       "      <th>Europe/Madrid</th>\n",
       "      <td>16.0</td>\n",
       "      <td>19.0</td>\n",
       "    </tr>\n",
       "    <tr>\n",
       "      <th>Pacific/Honolulu</th>\n",
       "      <td>0.0</td>\n",
       "      <td>36.0</td>\n",
       "    </tr>\n",
       "    <tr>\n",
       "      <th>Asia/Tokyo</th>\n",
       "      <td>2.0</td>\n",
       "      <td>35.0</td>\n",
       "    </tr>\n",
       "    <tr>\n",
       "      <th>Europe/London</th>\n",
       "      <td>43.0</td>\n",
       "      <td>31.0</td>\n",
       "    </tr>\n",
       "    <tr>\n",
       "      <th>America/Denver</th>\n",
       "      <td>132.0</td>\n",
       "      <td>59.0</td>\n",
       "    </tr>\n",
       "    <tr>\n",
       "      <th>America/Los_Angeles</th>\n",
       "      <td>130.0</td>\n",
       "      <td>252.0</td>\n",
       "    </tr>\n",
       "    <tr>\n",
       "      <th>America/Chicago</th>\n",
       "      <td>115.0</td>\n",
       "      <td>285.0</td>\n",
       "    </tr>\n",
       "    <tr>\n",
       "      <th></th>\n",
       "      <td>245.0</td>\n",
       "      <td>276.0</td>\n",
       "    </tr>\n",
       "    <tr>\n",
       "      <th>America/New_York</th>\n",
       "      <td>339.0</td>\n",
       "      <td>912.0</td>\n",
       "    </tr>\n",
       "  </tbody>\n",
       "</table>\n",
       "</div>"
      ],
      "text/plain": [
       "os                   Not Windows  Windows\n",
       "tz                                       \n",
       "America/Sao_Paulo           13.0     20.0\n",
       "Europe/Madrid               16.0     19.0\n",
       "Pacific/Honolulu             0.0     36.0\n",
       "Asia/Tokyo                   2.0     35.0\n",
       "Europe/London               43.0     31.0\n",
       "America/Denver             132.0     59.0\n",
       "America/Los_Angeles        130.0    252.0\n",
       "America/Chicago            115.0    285.0\n",
       "                           245.0    276.0\n",
       "America/New_York           339.0    912.0"
      ]
     },
     "execution_count": 51,
     "metadata": {},
     "output_type": "execute_result"
    }
   ],
   "source": [
    "count_subset = agg_counts.take(indexer[-10:])\n",
    "count_subset"
   ]
  },
  {
   "cell_type": "markdown",
   "metadata": {},
   "source": [
    "Nhận Xét Ban Đầu:\n",
    "- Múi giờ phổ biến nhất: Thuộc về múi giờ America/New_York, cho thấy đây là khu vực có lượng truy cập cao nhất trong top 10 này. Theo sau đó là múi giờ \"\" (Unknown/Không xác định), America/Chicago, và America/Los_Angeles.\n",
    "- Tỉ lệ của Windows: Trong hầu hết các múi giờ được hiển thị (đặc biệt là các múi giờ lớn ở Mỹ như New York, Chicago, Los Angeles) Windows chiếm tỷ lệ lớn hơn so với phần Not Windows. Điều này củng cố kết luận rằng đa số người dùng trong tập dữ liệu này sử dụng Windows.\n",
    "- Sự khác biệt theo khu vực:\n",
    "\n",
    "    + Tỷ lệ Non-Windows cao: Múi giờ Europe/London và America/Denver dường như có tỷ lệ người dùng Non-Windows (màu cam) tương đối cao hơn so với các múi giờ khác trong top 10.\n",
    "\n",
    "    + Tỷ lệ Windows rất cao: Múi giờ như Pacific/Honolulu và Asia/Tokyo gần như hoàn toàn là người dùng Windows.\n",
    "- Dữ liệu không xác định: Múi giờ \"\" (Unknown) có số lượng truy cập đáng kể và tỷ lệ giữa Windows và Non-Windows khá cân bằng hơn so với America/New_York."
   ]
  },
  {
   "cell_type": "code",
   "execution_count": 44,
   "metadata": {},
   "outputs": [
    {
     "data": {
      "text/plain": [
       "<Figure size 1000x600 with 0 Axes>"
      ]
     },
     "execution_count": 44,
     "metadata": {},
     "output_type": "execute_result"
    },
    {
     "data": {
      "text/plain": [
       "<Figure size 1000x600 with 0 Axes>"
      ]
     },
     "metadata": {},
     "output_type": "display_data"
    }
   ],
   "source": [
    "plt.figure()"
   ]
  },
  {
   "cell_type": "markdown",
   "metadata": {},
   "source": [
    "- Sau đó, chúng ta có thể trực quan hóa kết quả bằng biểu đồ cột nhóm (grouped bar plot) để so sánh số lượng người dùng Windows và Non-Windows trong từng múi giờ.\n",
    "- Để thực hiện việc này, ta sẽ sử dụng hàm barplot() của thư viện seaborn (tham khảo Hình 13-2 trong sách).\n",
    "Trước khi vẽ, ta cần chuẩn bị lại cấu trúc dữ liệu sao cho phù hợp với định dạng đầu vào của seaborn.\n",
    "\n",
    "- Cụ thể, ta sẽ gọi:\n",
    "    - count_subset.stack() để chuyển các cột hệ điều hành (Windows / Non-Windows) thành dạng hàng (rows),\n",
    "rồi dùng reset_index() để đưa các nhãn cột và chỉ số thành các cột dữ liệu thực tế, giúp seaborn dễ dàng nhận biết các trường khi vẽ."
   ]
  },
  {
   "cell_type": "code",
   "execution_count": 45,
   "metadata": {},
   "outputs": [
    {
     "data": {
      "text/plain": [
       "<Axes: xlabel='total', ylabel='tz'>"
      ]
     },
     "execution_count": 45,
     "metadata": {},
     "output_type": "execute_result"
    },
    {
     "data": {
      "image/png": "[encoded data removed]",
      "text/plain": [
       "<Figure size 1000x600 with 1 Axes>"
      ]
     },
     "metadata": {},
     "output_type": "display_data"
    }
   ],
   "source": [
    "count_subset = count_subset.stack()\n",
    "count_subset.name = \"total\"\n",
    "count_subset = count_subset.reset_index()\n",
    "count_subset.head(10)\n",
    "sns.barplot(x=\"total\", y=\"tz\", hue=\"os\",  data=count_subset)"
   ]
  },
  {
   "cell_type": "markdown",
   "metadata": {},
   "source": [
    "Việc xem xét tỷ lệ phần trăm tương đối của người dùng Windows trong các nhóm nhỏ hơn khá khó khăn, vì vậy hãy chuẩn hóa tỷ lệ phần trăm của các nhóm thành tổng bằng 1:"
   ]
  },
  {
   "cell_type": "code",
   "execution_count": 46,
   "metadata": {},
   "outputs": [
    {
     "name": "stderr",
     "output_type": "stream",
     "text": [
      "C:\\Users\\kn260\\AppData\\Local\\Temp\\ipykernel_20132\\1595230757.py:5: DeprecationWarning: DataFrameGroupBy.apply operated on the grouping columns. This behavior is deprecated, and in a future version of pandas the grouping columns will be excluded from the operation. Either pass `include_groups=False` to exclude the groupings or explicitly select the grouping columns after groupby to silence this warning.\n",
      "  results = count_subset.groupby(\"tz\").apply(norm_total)\n"
     ]
    }
   ],
   "source": [
    "def norm_total(group):\n",
    "    group[\"normed_total\"] = group[\"total\"] / group[\"total\"].sum()\n",
    "    return group\n",
    "\n",
    "results = count_subset.groupby(\"tz\").apply(norm_total)"
   ]
  },
  {
   "cell_type": "code",
   "execution_count": 47,
   "metadata": {},
   "outputs": [
    {
     "data": {
      "text/plain": [
       "<Figure size 1000x600 with 0 Axes>"
      ]
     },
     "execution_count": 47,
     "metadata": {},
     "output_type": "execute_result"
    },
    {
     "data": {
      "text/plain": [
       "<Figure size 1000x600 with 0 Axes>"
      ]
     },
     "metadata": {},
     "output_type": "display_data"
    }
   ],
   "source": [
    "plt.figure()"
   ]
  },
  {
   "cell_type": "code",
   "execution_count": 48,
   "metadata": {},
   "outputs": [
    {
     "data": {
      "text/plain": [
       "<Axes: xlabel='normed_total', ylabel='tz'>"
      ]
     },
     "execution_count": 48,
     "metadata": {},
     "output_type": "execute_result"
    },
    {
     "data": {
      "image/png": "[encoded data removed]",
      "text/plain": [
       "<Figure size 1000x600 with 1 Axes>"
      ]
     },
     "metadata": {},
     "output_type": "display_data"
    }
   ],
   "source": [
    "sns.barplot(x=\"normed_total\", y=\"tz\", hue=\"os\",  data=results)"
   ]
  },
  {
   "cell_type": "code",
   "execution_count": 49,
   "metadata": {},
   "outputs": [],
   "source": [
    "g = count_subset.groupby(\"tz\")\n",
    "results2 = count_subset[\"total\"] / g[\"total\"].transform(\"sum\")"
   ]
  },
  {
   "cell_type": "markdown",
   "metadata": {},
   "source": [
    "## Phân tích Hành vi Thời gian"
   ]
  },
  {
   "cell_type": "markdown",
   "metadata": {},
   "source": [
    "### Khung giờ (theo t) nào có lượng truy cập cao nhất?"
   ]
  },
  {
   "cell_type": "markdown",
   "metadata": {},
   "source": [
    "Để phân tích khung giờ truy cập, chúng ta cần chuyển đổi cột timestamp t sang định dạng datetime và sau đó trích xuất giờ trong ngày."
   ]
  },
  {
   "cell_type": "code",
   "execution_count": 7,
   "metadata": {},
   "outputs": [
    {
     "data": {
      "text/plain": [
       "0    1.331923e+09\n",
       "1    1.331923e+09\n",
       "2    1.331923e+09\n",
       "3    1.331923e+09\n",
       "4    1.331923e+09\n",
       "Name: t, dtype: float64"
      ]
     },
     "execution_count": 7,
     "metadata": {},
     "output_type": "execute_result"
    }
   ],
   "source": [
    "frame[\"t\"].head()"
   ]
  },
  {
   "cell_type": "markdown",
   "metadata": {},
   "source": [
    "- Các giá trị **1.331923e+09** là dấu thời gian Unix (Unix timestamp), thường biểu thị số giây kể từ ngày 1 tháng 1 năm 1970 (Epoch), được lưu dưới dạng số thực (float) và hiển thị ở dạng khoa học."
   ]
  },
  {
   "cell_type": "code",
   "execution_count": 17,
   "metadata": {},
   "outputs": [
    {
     "name": "stderr",
     "output_type": "stream",
     "text": [
      "C:\\Users\\kn260\\AppData\\Local\\Temp\\ipykernel_11884\\3906498394.py:2: SettingWithCopyWarning: \n",
      "A value is trying to be set on a copy of a slice from a DataFrame.\n",
      "Try using .loc[row_indexer,col_indexer] = value instead\n",
      "\n",
      "See the caveats in the documentation: https://pandas.pydata.org/pandas-docs/stable/user_guide/indexing.html#returning-a-view-versus-a-copy\n",
      "  valid_time_clicks['click_datetime'] = pd.to_datetime(valid_time_clicks['t'], unit='s') # chuyển đổi cột 't' sang định dạng datetime\n"
     ]
    }
   ],
   "source": [
    "valid_time_clicks = frame.dropna(subset=['t']) # loại bỏ các dòng có giá trị NaN trong cột 't'\n",
    "valid_time_clicks['click_datetime'] = pd.to_datetime(valid_time_clicks['t'], unit='s') # chuyển đổi cột 't' sang định dạng datetime"
   ]
  },
  {
   "cell_type": "code",
   "execution_count": null,
   "metadata": {},
   "outputs": [
    {
     "data": {
      "text/plain": [
       "0   2012-03-16 18:40:47\n",
       "1   2012-03-16 18:40:49\n",
       "2   2012-03-16 18:40:50\n",
       "3   2012-03-16 18:40:49\n",
       "4   2012-03-16 18:40:51\n",
       "Name: click_datetime, dtype: datetime64[ns]"
      ]
     },
     "execution_count": 20,
     "metadata": {},
     "output_type": "execute_result"
    }
   ],
   "source": [
    "valid_time_clicks[\"click_datetime\"].head()"
   ]
  },
  {
   "cell_type": "code",
   "execution_count": null,
   "metadata": {},
   "outputs": [
    {
     "name": "stderr",
     "output_type": "stream",
     "text": [
      "C:\\Users\\kn260\\AppData\\Local\\Temp\\ipykernel_11884\\1819556215.py:1: SettingWithCopyWarning: \n",
      "A value is trying to be set on a copy of a slice from a DataFrame.\n",
      "Try using .loc[row_indexer,col_indexer] = value instead\n",
      "\n",
      "See the caveats in the documentation: https://pandas.pydata.org/pandas-docs/stable/user_guide/indexing.html#returning-a-view-versus-a-copy\n",
      "  valid_time_clicks['click_datetime_vn'] = valid_time_clicks['click_datetime'] + pd.Timedelta(hours=7)\n"
     ]
    }
   ],
   "source": [
    "valid_time_clicks['click_datetime_vn'] = valid_time_clicks['click_datetime'] + pd.Timedelta(hours=7) # chuyển đổi sang múi giờ Việt Nam (UTC+7)"
   ]
  },
  {
   "cell_type": "code",
   "execution_count": 29,
   "metadata": {},
   "outputs": [
    {
     "data": {
      "text/plain": [
       "0      2012-03-17 01:40:47\n",
       "1      2012-03-17 01:40:49\n",
       "2      2012-03-17 01:40:50\n",
       "3      2012-03-17 01:40:49\n",
       "4      2012-03-17 01:40:51\n",
       "               ...        \n",
       "3555   2012-03-17 02:40:41\n",
       "3556   2012-03-17 02:40:44\n",
       "3557   2012-03-17 02:40:46\n",
       "3558   2012-03-17 02:40:47\n",
       "3559   2012-03-17 02:40:49\n",
       "Name: click_datetime_vn, Length: 3440, dtype: datetime64[ns]"
      ]
     },
     "execution_count": 29,
     "metadata": {},
     "output_type": "execute_result"
    }
   ],
   "source": [
    "valid_time_clicks['click_datetime_vn']"
   ]
  },
  {
   "cell_type": "code",
   "execution_count": 28,
   "metadata": {},
   "outputs": [
    {
     "name": "stderr",
     "output_type": "stream",
     "text": [
      "C:\\Users\\kn260\\AppData\\Local\\Temp\\ipykernel_11884\\225114283.py:2: SettingWithCopyWarning: \n",
      "A value is trying to be set on a copy of a slice from a DataFrame.\n",
      "Try using .loc[row_indexer,col_indexer] = value instead\n",
      "\n",
      "See the caveats in the documentation: https://pandas.pydata.org/pandas-docs/stable/user_guide/indexing.html#returning-a-view-versus-a-copy\n",
      "  valid_time_clicks['click_hour_vn'] = valid_time_clicks['click_datetime_vn'].dt.hour\n"
     ]
    },
    {
     "data": {
      "text/plain": [
       "0       1\n",
       "1       1\n",
       "2       1\n",
       "3       1\n",
       "4       1\n",
       "       ..\n",
       "3555    2\n",
       "3556    2\n",
       "3557    2\n",
       "3558    2\n",
       "3559    2\n",
       "Name: click_hour_vn, Length: 3440, dtype: int32"
      ]
     },
     "execution_count": 28,
     "metadata": {},
     "output_type": "execute_result"
    }
   ],
   "source": [
    "# Trích xuất giờ từ cột 'click_datetime_vn'\n",
    "valid_time_clicks['click_hour_vn'] = valid_time_clicks['click_datetime_vn'].dt.hour\n",
    "valid_time_clicks['click_hour_vn']"
   ]
  },
  {
   "cell_type": "code",
   "execution_count": null,
   "metadata": {},
   "outputs": [],
   "source": [
    "# Đếm số lượt click theo giờ trong ngày (0-23) ở múi giờ Việt Nam\n",
    "hourly_counts = valid_time_clicks['click_hour_vn'].value_counts().sort_index()"
   ]
  },
  {
   "cell_type": "code",
   "execution_count": 23,
   "metadata": {},
   "outputs": [
    {
     "data": {
      "text/plain": [
       "click_hour_vn\n",
       "1    1252\n",
       "2    2188\n",
       "Name: count, dtype: int64"
      ]
     },
     "execution_count": 23,
     "metadata": {},
     "output_type": "execute_result"
    }
   ],
   "source": [
    "hourly_counts.head()"
   ]
  },
  {
   "cell_type": "code",
   "execution_count": null,
   "metadata": {},
   "outputs": [],
   "source": [
    "# Tìm giờ có số lượt click cao nhất\n",
    "peak_hour = hourly_counts.idxmax()\n",
    "peak_count = hourly_counts.max()"
   ]
  },
  {
   "cell_type": "code",
   "execution_count": 13,
   "metadata": {},
   "outputs": [
    {
     "name": "stdout",
     "output_type": "stream",
     "text": [
      "Khung giờ có lượng truy cập cao nhất (giờ Việt Nam): 2h với 2188 lượt truy cập.\n"
     ]
    }
   ],
   "source": [
    "print(f\"Khung giờ có lượng truy cập cao nhất (giờ Việt Nam): {peak_hour}h với {peak_count} lượt truy cập.\")"
   ]
  },
  {
   "cell_type": "code",
   "execution_count": 14,
   "metadata": {},
   "outputs": [
    {
     "name": "stderr",
     "output_type": "stream",
     "text": [
      "C:\\Users\\kn260\\AppData\\Local\\Temp\\ipykernel_11884\\2182369925.py:3: FutureWarning: \n",
      "\n",
      "Passing `palette` without assigning `hue` is deprecated and will be removed in v0.14.0. Assign the `x` variable to `hue` and set `legend=False` for the same effect.\n",
      "\n",
      "  sns.barplot(x=hourly_counts.index, y=hourly_counts.values, palette=\"viridis\")\n"
     ]
    },
    {
     "data": {
      "image/png": "[encoded data removed]",
      "text/plain": [
       "<Figure size 1200x600 with 1 Axes>"
      ]
     },
     "metadata": {},
     "output_type": "display_data"
    }
   ],
   "source": [
    "# Visualize hourly clicks\n",
    "plt.figure(figsize=(12, 6))\n",
    "sns.barplot(x=hourly_counts.index, y=hourly_counts.values, palette=\"viridis\")\n",
    "plt.title('Số lượt truy cập theo Khung Giờ trong Ngày (Giờ Việt Nam GMT+7)')\n",
    "plt.xlabel('Giờ trong Ngày')\n",
    "plt.ylabel('Số lượt Truy cập')\n",
    "plt.xticks(range(0, 24))\n",
    "plt.grid(axis='y', linestyle='--')\n",
    "plt.show()"
   ]
  },
  {
   "cell_type": "markdown",
   "metadata": {},
   "source": [
    "### Có mối tương quan giữa thời điểm tạo link (hc) và thời điểm click (t) không?"
   ]
  },
  {
   "cell_type": "markdown",
   "metadata": {},
   "source": [
    "- Kiểm tra hai cột t và hc"
   ]
  },
  {
   "cell_type": "code",
   "execution_count": 38,
   "metadata": {},
   "outputs": [
    {
     "data": {
      "text/plain": [
       "0       1.331923e+09\n",
       "1       1.331923e+09\n",
       "2       1.331923e+09\n",
       "3       1.331923e+09\n",
       "4       1.331923e+09\n",
       "            ...     \n",
       "3555    1.331927e+09\n",
       "3556    1.331927e+09\n",
       "3557    1.331927e+09\n",
       "3558    1.331927e+09\n",
       "3559    1.331927e+09\n",
       "Name: t, Length: 3560, dtype: float64"
      ]
     },
     "execution_count": 38,
     "metadata": {},
     "output_type": "execute_result"
    }
   ],
   "source": [
    "frame[\"t\"] "
   ]
  },
  {
   "cell_type": "code",
   "execution_count": 39,
   "metadata": {},
   "outputs": [
    {
     "data": {
      "text/plain": [
       "0       1.331823e+09\n",
       "1       1.308262e+09\n",
       "2       1.331920e+09\n",
       "3       1.331923e+09\n",
       "4       1.273672e+09\n",
       "            ...     \n",
       "3555    1.301298e+09\n",
       "3556    1.307530e+09\n",
       "3557    1.308262e+09\n",
       "3558    1.327529e+09\n",
       "3559    1.312898e+09\n",
       "Name: hc, Length: 3560, dtype: float64"
      ]
     },
     "execution_count": 39,
     "metadata": {},
     "output_type": "execute_result"
    }
   ],
   "source": [
    "frame['hc']"
   ]
  },
  {
   "cell_type": "markdown",
   "metadata": {},
   "source": [
    "Tạo DataFrame mới time_diff_df, loại bỏ các hàng có giá trị thiếu (NaN) ở cột 't' và 'hc'. .copy() đảm bảo DataFrame mới độc lập."
   ]
  },
  {
   "cell_type": "code",
   "execution_count": null,
   "metadata": {},
   "outputs": [],
   "source": [
    "# Xóa các dòng mà cột 't' hoặc 'hc' có giá trị NaN\n",
    "time_diff_df = frame.dropna(subset=['t', 'hc']).copy()"
   ]
  },
  {
   "cell_type": "code",
   "execution_count": null,
   "metadata": {},
   "outputs": [],
   "source": [
    "# Tính toán khoảng thời gian (tính bằng giây) từ lúc tạo link (hc) đến lúc click (t) và lưu vào cột mới time_to_click_sec.\n",
    "time_diff_df['time_to_click_sec'] = time_diff_df['t'] - time_diff_df['hc']"
   ]
  },
  {
   "cell_type": "code",
   "execution_count": 32,
   "metadata": {},
   "outputs": [
    {
     "data": {
      "text/plain": [
       "0         100329.0\n",
       "1       23660856.0\n",
       "2           3309.0\n",
       "3            181.0\n",
       "4       58250840.0\n",
       "           ...    \n",
       "3555    30628362.0\n",
       "3556    24396597.0\n",
       "3557    23664453.0\n",
       "3558     4398320.0\n",
       "3559    19029179.0\n",
       "Name: time_to_click_sec, Length: 3440, dtype: float64"
      ]
     },
     "execution_count": 32,
     "metadata": {},
     "output_type": "execute_result"
    }
   ],
   "source": [
    "time_diff_df['time_to_click_sec'] "
   ]
  },
  {
   "cell_type": "code",
   "execution_count": null,
   "metadata": {},
   "outputs": [],
   "source": [
    "# Loại bỏ các hàng có giá trị time_to_click_sec âm (thời gian click trước thời gian tạo, có thể do lỗi dữ liệu).\n",
    "time_diff_df = time_diff_df[time_diff_df['time_to_click_sec'] >= 0]"
   ]
  },
  {
   "cell_type": "code",
   "execution_count": null,
   "metadata": {},
   "outputs": [],
   "source": [
    "# Chuyển đổi khoảng thời gian từ giây (cột time_to_click_sec) sang định dạng Timedelta (ví dụ: \"X days HH:MM:SS\") dễ đọc hơn, lưu vào cột time_to_click.\n",
    "time_diff_df['time_to_click'] = pd.to_timedelta(time_diff_df['time_to_click_sec'], unit='s')"
   ]
  },
  {
   "cell_type": "code",
   "execution_count": 35,
   "metadata": {},
   "outputs": [
    {
     "name": "stdout",
     "output_type": "stream",
     "text": [
      "Thống kê thời gian từ lúc tạo link đến lúc click:\n",
      "count                           3440\n",
      "mean     136 days 12:42:39.903197674\n",
      "std      220 days 05:45:22.315187212\n",
      "min                  0 days 00:00:09\n",
      "25%           0 days 03:58:54.250000\n",
      "50%          13 days 19:26:53.500000\n",
      "75%         143 days 01:57:30.250000\n",
      "max               1150 days 06:42:51\n",
      "Name: time_to_click, dtype: object\n"
     ]
    }
   ],
   "source": [
    "# Get descriptive statistics\n",
    "print(\"Thống kê thời gian từ lúc tạo link đến lúc click:\")\n",
    "print(time_diff_df['time_to_click'].describe())"
   ]
  },
  {
   "cell_type": "markdown",
   "metadata": {},
   "source": [
    "- Phân tích thống kê:\n",
    "    + Có 3440 lượt click hợp lệ (đã loại bỏ NaN và giá trị âm)\n",
    "    + Thời gian trung bình từ lúc tạo đến lúc click là khoảng 136.5 ngày\n",
    "    + Độ lệch chuẩn rất lớn (220 ngày), cho thấy sự biến động cao\n",
    "    + Thời gian click nhanh nhất là 9 giây sau khi tạo\n",
    "    + 25% lượt click xảy ra trong vòng chưa đầy 4 giờ\n",
    "    + 50% lượt click (trung vị) xảy ra trong vòng khoảng 13.8 ngày\n",
    "    + 75% lượt click xảy ra trong vòng 143 ngày\n",
    "    + Thời gian để một link được click lâu nhất là ~3 năm\n",
    "- Sự chênh lệch Mean vs Median (50%): Giá trị trung bình (mean ≈ 136.5 ngày) lớn hơn rất nhiều so với trung vị (median ≈ 13.8 ngày). Điều này cho thấy phân phối thời gian bị lệch phải (right-skewed). Có một số lượng đáng kể các link được click sau một thời gian rất dài (như giá trị max), kéo giá trị trung bình lên cao. Trung vị cho thấy một nửa số lượt click xảy ra tương đối nhanh hơn (trong vòng khoảng 2 tuần).\n",
    "- Độ lệch chuẩn (std): Giá trị std (220 ngày) còn lớn hơn cả giá trị trung bình, khẳng định sự phân tán rất rộng của dữ liệu. Thời gian chờ click rất khác nhau giữa các link."
   ]
  },
  {
   "cell_type": "code",
   "execution_count": 36,
   "metadata": {},
   "outputs": [],
   "source": [
    "# Visualize the distribution (using seconds for histogram might be skewed, let's try hours)\n",
    "time_diff_df['time_to_click_hours'] = time_diff_df['time_to_click_sec'] / 3600"
   ]
  },
  {
   "cell_type": "code",
   "execution_count": 37,
   "metadata": {},
   "outputs": [
    {
     "data": {
      "image/png": "[encoded data removed]",
      "text/plain": [
       "<Figure size 1200x600 with 1 Axes>"
      ]
     },
     "metadata": {},
     "output_type": "display_data"
    }
   ],
   "source": [
    "plt.figure(figsize=(12, 6))\n",
    "# Plotting distribution for links clicked within, say, 24 hours for better visibility\n",
    "sns.histplot(time_diff_df[time_diff_df['time_to_click_hours'] <= 24]['time_to_click_hours'], bins=24, kde=False)\n",
    "plt.title('Phân phối Thời gian từ Tạo link đến Click (trong 24 giờ đầu)')\n",
    "plt.xlabel('Số giờ sau khi tạo link')\n",
    "plt.ylabel('Số lượt Click')\n",
    "plt.show()"
   ]
  },
  {
   "cell_type": "markdown",
   "metadata": {},
   "source": [
    "- Biểu đồ Histogram: trực quan hóa phân phối trong 24 giờ đầu tiên:\n",
    "    + Tập trung ở giờ đầu: Cột cao nhất nằm ở khoảng 0-1 giờ sau khi link được tạo. Điều này cho thấy rất nhiều lượt click xảy ra gần như ngay lập tức sau khi link được tạo và chia sẻ.\n",
    "    + Giảm dần: Số lượt click giảm nhanh chóng trong các giờ tiếp theo.\n",
    "    + Đuôi dài (Long Tail): Mặc dù biểu đồ chỉ hiển thị 24 giờ, kết quả describe() (với max là 1150 ngày) cho thấy phân phối này có một \"đuôi\" rất dài, tức là vẫn có lượt click xảy ra sau nhiều ngày, nhiều tháng, thậm chí nhiều năm.\n"
   ]
  },
  {
   "cell_type": "markdown",
   "metadata": {},
   "source": [
    "## Phân tích Địa lý"
   ]
  },
  {
   "cell_type": "markdown",
   "metadata": {},
   "source": [
    "### Người dùng từ ngoài nước Mỹ (c != 'US') chiếm bao nhiêu phần trăm?"
   ]
  },
  {
   "cell_type": "markdown",
   "metadata": {},
   "source": [
    "- Kiểm tra dữ liệu cột"
   ]
  },
  {
   "cell_type": "code",
   "execution_count": 44,
   "metadata": {},
   "outputs": [
    {
     "data": {
      "text/plain": [
       "0    US\n",
       "1    US\n",
       "2    US\n",
       "3    BR\n",
       "4    US\n",
       "Name: c, dtype: object"
      ]
     },
     "execution_count": 44,
     "metadata": {},
     "output_type": "execute_result"
    }
   ],
   "source": [
    "frame['c'].head()"
   ]
  },
  {
   "cell_type": "code",
   "execution_count": null,
   "metadata": {},
   "outputs": [
    {
     "data": {
      "text/plain": [
       "np.int64(641)"
      ]
     },
     "execution_count": 45,
     "metadata": {},
     "output_type": "execute_result"
    }
   ],
   "source": [
    "frame['c'].isna().sum()"
   ]
  },
  {
   "cell_type": "code",
   "execution_count": 40,
   "metadata": {},
   "outputs": [
    {
     "name": "stderr",
     "output_type": "stream",
     "text": [
      "C:\\Users\\kn260\\AppData\\Local\\Temp\\ipykernel_11884\\3014534758.py:3: FutureWarning: ChainedAssignmentError: behaviour will change in pandas 3.0!\n",
      "You are setting values through chained assignment. Currently this works in certain cases, but when using Copy-on-Write (which will become the default behaviour in pandas 3.0) this will never work to update the original DataFrame or Series, because the intermediate object on which we are setting values will behave as a copy.\n",
      "A typical example is when you are setting values in a column of a DataFrame, like:\n",
      "\n",
      "df[\"col\"][row_indexer] = value\n",
      "\n",
      "Use `df.loc[row_indexer, \"col\"] = values` instead, to perform the assignment in a single step and ensure this keeps updating the original `df`.\n",
      "\n",
      "See the caveats in the documentation: https://pandas.pydata.org/pandas-docs/stable/user_guide/indexing.html#returning-a-view-versus-a-copy\n",
      "\n",
      "  frame['clean_c'][frame['clean_c'] == ''] = 'Unknown'\n",
      "C:\\Users\\kn260\\AppData\\Local\\Temp\\ipykernel_11884\\3014534758.py:3: SettingWithCopyWarning: \n",
      "A value is trying to be set on a copy of a slice from a DataFrame\n",
      "\n",
      "See the caveats in the documentation: https://pandas.pydata.org/pandas-docs/stable/user_guide/indexing.html#returning-a-view-versus-a-copy\n",
      "  frame['clean_c'][frame['clean_c'] == ''] = 'Unknown'\n"
     ]
    }
   ],
   "source": [
    "# Clean the country column 'c' similar to 'tz'\n",
    "frame['clean_c'] = frame['c'].fillna('Unknown')\n",
    "frame['clean_c'][frame['clean_c'] == ''] = 'Unknown'"
   ]
  },
  {
   "cell_type": "code",
   "execution_count": 41,
   "metadata": {},
   "outputs": [],
   "source": [
    "# Count total valid entries (excluding 'Unknown') vs non-US entries\n",
    "total_known_country = frame[frame['clean_c'] != 'Unknown'].shape[0]\n",
    "us_users = frame[frame['clean_c'] == 'US'].shape[0]\n",
    "non_us_users = total_known_country - us_users"
   ]
  },
  {
   "cell_type": "code",
   "execution_count": 42,
   "metadata": {},
   "outputs": [
    {
     "name": "stdout",
     "output_type": "stream",
     "text": [
      "Tổng số lượt truy cập có thông tin quốc gia: 2919\n",
      "Số lượt truy cập từ Mỹ (US): 2305\n",
      "Số lượt truy cập từ ngoài nước Mỹ: 614\n",
      "Tỷ lệ người dùng từ ngoài nước Mỹ: 21.03%\n"
     ]
    }
   ],
   "source": [
    "if total_known_country > 0:\n",
    "    percent_non_us = (non_us_users / total_known_country) * 100\n",
    "    print(f\"Tổng số lượt truy cập có thông tin quốc gia: {total_known_country}\")\n",
    "    print(f\"Số lượt truy cập từ Mỹ (US): {us_users}\")\n",
    "    print(f\"Số lượt truy cập từ ngoài nước Mỹ: {non_us_users}\")\n",
    "    print(f\"Tỷ lệ người dùng từ ngoài nước Mỹ: {percent_non_us:.2f}%\")\n",
    "else:\n",
    "    print(\"Không có dữ liệu quốc gia hợp lệ để tính toán tỷ lệ.\")"
   ]
  },
  {
   "cell_type": "markdown",
   "metadata": {},
   "source": [
    "- Mỹ chiếm đa số: Trong số 2919 lượt truy cập có thông tin quốc gia hợp lệ, có tới 2305 lượt đến từ Hoa Kỳ ('US'). Điều này hoàn toàn dễ hiểu vì đây là dữ liệu từ trang usa.gov.\n",
    "- Tỷ lệ truy cập quốc tế: Người dùng từ ngoài nước Mỹ chiếm khoảng 21.03% (614 lượt). Đây là một tỷ lệ đáng kể, cho thấy thông tin từ chính phủ Mỹ cũng thu hút sự quan tâm của người dùng quốc tế."
   ]
  },
  {
   "cell_type": "code",
   "execution_count": 43,
   "metadata": {},
   "outputs": [
    {
     "name": "stdout",
     "output_type": "stream",
     "text": [
      "\n",
      "Top 10 quốc gia (ngoài Mỹ) có lượt truy cập:\n",
      "clean_c\n",
      "GB    74\n",
      "CA    60\n",
      "ES    37\n",
      "JP    37\n",
      "BR    35\n",
      "DE    28\n",
      "IT    27\n",
      "NL    22\n",
      "MX    19\n",
      "PL    16\n",
      "Name: count, dtype: int64\n"
     ]
    },
    {
     "name": "stderr",
     "output_type": "stream",
     "text": [
      "C:\\Users\\kn260\\AppData\\Local\\Temp\\ipykernel_11884\\3098470023.py:2: UserWarning: Boolean Series key will be reindexed to match DataFrame index.\n",
      "  top_non_us_countries = frame[frame['clean_c'] != 'US'][frame['clean_c'] != 'Unknown']['clean_c'].value_counts().head(10)\n"
     ]
    }
   ],
   "source": [
    "# Optionally, view the top non-US countries\n",
    "top_non_us_countries = frame[frame['clean_c'] != 'US'][frame['clean_c'] != 'Unknown']['clean_c'].value_counts().head(10)\n",
    "print(\"\\nTop 10 quốc gia (ngoài Mỹ) có lượt truy cập:\")\n",
    "print(top_non_us_countries)"
   ]
  },
  {
   "cell_type": "markdown",
   "metadata": {},
   "source": [
    "- Top quốc gia ngoài Mỹ:\n",
    "    + Vương quốc Anh (GB) và Canada (CA) là hai quốc gia dẫn đầu với số lượt truy cập cao nhất từ bên ngoài Hoa Kỳ (74 và 60 lượt). Điều này có thể phản ánh mối quan hệ gần gũi về văn hóa, kinh tế hoặc ngôn ngữ.\n",
    "    + Các quốc gia khác trong top 10 bao gồm Tây Ban Nha (ES), Nhật Bản (JP), Brazil (BR), Đức (DE), Ý (IT), Hà Lan (NL), Mexico (MX) và Ba Lan (PL).\n",
    "    + Sự hiện diện của các quốc gia từ nhiều châu lục (Châu Âu, Bắc Mỹ, Nam Mỹ, Châu Á) cho thấy sự quan tâm đa dạng trên toàn cầu."
   ]
  },
  {
   "cell_type": "markdown",
   "metadata": {},
   "source": [
    "### Những bang (gr) hoặc thành phố (cy) nào có lượng truy cập lớn nhất?"
   ]
  },
  {
   "cell_type": "code",
   "execution_count": null,
   "metadata": {},
   "outputs": [],
   "source": [
    "# Đếm những bang (gr) hoặc thành phố (cy) có lượng truy cập lớn nhất\n",
    "top_regions = frame['gr'].dropna().value_counts().head(10)"
   ]
  },
  {
   "cell_type": "code",
   "execution_count": 47,
   "metadata": {},
   "outputs": [
    {
     "name": "stdout",
     "output_type": "stream",
     "text": [
      "Top 10 Bang/Vùng (gr) có lượng truy cập cao nhất:\n",
      "gr\n",
      "CA    279\n",
      "NY    204\n",
      "TX    140\n",
      "UT    133\n",
      "MA    121\n",
      "FL    118\n",
      "GA    108\n",
      "VA    108\n",
      "DC     98\n",
      "MD     95\n",
      "Name: count, dtype: int64\n"
     ]
    }
   ],
   "source": [
    "print(\"Top 10 Bang/Vùng (gr) có lượng truy cập cao nhất:\")\n",
    "print(top_regions)"
   ]
  },
  {
   "cell_type": "markdown",
   "metadata": {},
   "source": [
    "- Top 10 bang/ vùng có lượng truy cập cao nhất:\n",
    "    + CA: California là bang có lượng truy cập cao nhất với 279 lượt, bỏ khá xa các bang còn lại.\n",
    "    + NY: New York đứng thứ hai với 204 lượt.\n",
    "- Các bang tiếp theo như Texas (TX), Utah (UT), và Massachusetts (MA) cũng có lượng truy cập đáng kể (trên 120 lượt).\n",
    "    + TX: Texas \n",
    "    + UT: Utah\n",
    "    + MA: Massachusetts\n",
    "    + FL: Florida\n",
    "- Và các ban có lượt truy cập ít hơn\n",
    "    + GA: Georgia\n",
    "    + VA: Virginia\n",
    "    + DC: District of Columbia\n",
    "    + MD: Maryland\n",
    "> Danh sách top 10 cho thấy sự quan tâm đến thông tin usa.gov tập trung ở các bang đông dân hoặc có các trung tâm công nghệ/chính trị lớn (như CA, NY, TX, DC, MA, VA)."
   ]
  },
  {
   "cell_type": "code",
   "execution_count": 48,
   "metadata": {},
   "outputs": [
    {
     "name": "stderr",
     "output_type": "stream",
     "text": [
      "C:\\Users\\kn260\\AppData\\Local\\Temp\\ipykernel_11884\\3116297028.py:3: FutureWarning: \n",
      "\n",
      "Passing `palette` without assigning `hue` is deprecated and will be removed in v0.14.0. Assign the `y` variable to `hue` and set `legend=False` for the same effect.\n",
      "\n",
      "  sns.barplot(y=top_regions.index, x=top_regions.values, palette=\"magma\")\n"
     ]
    },
    {
     "data": {
      "image/png": "[encoded data removed]",
      "text/plain": [
       "<Figure size 1000x500 with 1 Axes>"
      ]
     },
     "metadata": {},
     "output_type": "display_data"
    }
   ],
   "source": [
    "# Visualize Top Regions\n",
    "plt.figure(figsize=(10, 5))\n",
    "sns.barplot(y=top_regions.index, x=top_regions.values, palette=\"magma\")\n",
    "plt.title('Top 10 Bang/Vùng (gr) theo Lượt truy cập')\n",
    "plt.xlabel('Số lượt Truy cập')\n",
    "plt.ylabel('Bang/Vùng (gr)')\n",
    "plt.show()"
   ]
  },
  {
   "cell_type": "code",
   "execution_count": 49,
   "metadata": {},
   "outputs": [],
   "source": [
    "# Top Cities (cy)\n",
    "top_cities = frame['cy'].dropna().value_counts().head(10)"
   ]
  },
  {
   "cell_type": "code",
   "execution_count": 50,
   "metadata": {},
   "outputs": [
    {
     "name": "stdout",
     "output_type": "stream",
     "text": [
      "\n",
      "Top 10 Thành phố (cy) có lượng truy cập cao nhất:\n",
      "cy\n",
      "Provo           121\n",
      "White Plains    104\n",
      "Washington       98\n",
      "Palo Alto        68\n",
      "Shrewsbury       46\n",
      "Acworth          38\n",
      "Dallas           33\n",
      "Paramus          32\n",
      "Nogata           29\n",
      "Los Angeles      28\n",
      "Name: count, dtype: int64\n"
     ]
    }
   ],
   "source": [
    "print(\"\\nTop 10 Thành phố (cy) có lượng truy cập cao nhất:\")\n",
    "print(top_cities)"
   ]
  },
  {
   "cell_type": "markdown",
   "metadata": {},
   "source": [
    "- Top 10 thành phố:\n",
    "    + Provo: Likely Provo, Utah Provo là thành phố có lượng truy cập cao nhất với 121 lượt, chiếm phần lớn số lượt truy cập từ bang Utah (UT: 133). \n",
    "    + White Plains: Likely White Plains, New York đứng thứ hai với 104 lượt, cũng chiếm một phần đáng kể của bang New York (NY: 204).\n",
    "    + Washington: Washington D.C. đứng thứ ba với 98 lượt, tương ứng với số lượt của DC trong top 10 bang.\n",
    "- Các thành phố khác như Palo Alto (California) và Shrewsbury (Massachusetts) cũng nằm trong top 5, tương ứng với các bang có lượng truy cập cao.\n",
    "    + Palo Alto: Likely Palo Alto, California\n",
    "    + Shrewsbury: Likely Shrewsbury, Massachusetts\n",
    "    + Acworth: Likely Acworth, Georgia\n",
    "    + Dallas: Likely Dallas, Texas\n",
    "    + Paramus: Likely Paramus, New Jersey (NJ không trong top 10 bang)\n",
    "    + Nogata: Could be Nogata, Japan (JP) or misspelled/unclear sự xuất hiện khá lạ về lượt truy cập này là của Nhật bản.\n",
    "    + Los Angeles: Los Angeles, California"
   ]
  },
  {
   "cell_type": "markdown",
   "metadata": {},
   "source": [
    "- Top 10 bang/ vùng có lượng truy cập cao nhất:\n",
    "    + CA: California là bang có lượng truy cập cao nhất với 279 lượt, bỏ khá xa các bang còn lại.\n",
    "    + NY: New York\n",
    "    + TX: Texas\n",
    "    + UT: Utah\n",
    "    + MA: Massachusetts\n",
    "    + FL: Florida\n",
    "    + GA: Georgia\n",
    "    + VA: Virginia\n",
    "    + DC: District of Columbia\n",
    "    + MD: Maryland"
   ]
  },
  {
   "cell_type": "code",
   "execution_count": 51,
   "metadata": {},
   "outputs": [
    {
     "name": "stderr",
     "output_type": "stream",
     "text": [
      "C:\\Users\\kn260\\AppData\\Local\\Temp\\ipykernel_11884\\3989916683.py:3: FutureWarning: \n",
      "\n",
      "Passing `palette` without assigning `hue` is deprecated and will be removed in v0.14.0. Assign the `y` variable to `hue` and set `legend=False` for the same effect.\n",
      "\n",
      "  sns.barplot(y=top_cities.index, x=top_cities.values, palette=\"magma\")\n"
     ]
    },
    {
     "data": {
      "image/png": "[encoded data removed]",
      "text/plain": [
       "<Figure size 1000x500 with 1 Axes>"
      ]
     },
     "metadata": {},
     "output_type": "display_data"
    }
   ],
   "source": [
    "# Visualize Top Cities\n",
    "plt.figure(figsize=(10, 5))\n",
    "sns.barplot(y=top_cities.index, x=top_cities.values, palette=\"magma\")\n",
    "plt.title('Top 10 Thành phố (cy) theo Lượt truy cập')\n",
    "plt.xlabel('Số lượt Truy cập')\n",
    "plt.ylabel('Thành phố (cy)')\n",
    "plt.show()"
   ]
  },
  {
   "cell_type": "markdown",
   "metadata": {},
   "source": [
    "## Phân tích Nguồn truy cập (Referrer)"
   ]
  },
  {
   "cell_type": "markdown",
   "metadata": {},
   "source": [
    "### Có sự khác biệt referrer theo hệ điều hành?"
   ]
  },
  {
   "cell_type": "code",
   "execution_count": null,
   "metadata": {},
   "outputs": [],
   "source": [
    "ref_os_r = frame # Giả sử frame là DataFrame đã được định nghĩa trước đó"
   ]
  },
  {
   "cell_type": "code",
   "execution_count": null,
   "metadata": {},
   "outputs": [],
   "source": [
    "ref_os_r['domain'] = ref_os_r['r'].apply(get_domain) # Trích xuất tên miền từ cột 'r' và lưu vào cột mới 'domain'"
   ]
  },
  {
   "cell_type": "code",
   "execution_count": null,
   "metadata": {},
   "outputs": [
    {
     "data": {
      "text/plain": [
       "0        Windows\n",
       "1    Not Windows\n",
       "2        Windows\n",
       "3    Not Windows\n",
       "4        Windows\n",
       "Name: os, dtype: object"
      ]
     },
     "execution_count": 29,
     "metadata": {},
     "output_type": "execute_result"
    }
   ],
   "source": [
    "ref_os_r[\"os\"] = np.where(ref_os_r[\"a\"].str.contains(\"Windows\"),\n",
    "                        \"Windows\", \"Not Windows\") # Phân loại hệ điều hành thành \"Windows\" và \"Not Windows\"\n",
    "ref_os_r[\"os\"].head(5)"
   ]
  },
  {
   "cell_type": "code",
   "execution_count": null,
   "metadata": {},
   "outputs": [],
   "source": [
    "ref_os_r = ref_os_r.fillna({\"os\": \"unknown\", \"domain\": \"unknown\"}) # Điền giá trị \"unknown\" cho các ô NaN trong cột 'os' và 'domain'"
   ]
  },
  {
   "cell_type": "code",
   "execution_count": 31,
   "metadata": {},
   "outputs": [
    {
     "data": {
      "text/plain": [
       "0           Windows\n",
       "1       Not Windows\n",
       "2           Windows\n",
       "3       Not Windows\n",
       "4           Windows\n",
       "           ...     \n",
       "3555        Windows\n",
       "3556        Windows\n",
       "3557    Not Windows\n",
       "3558    Not Windows\n",
       "3559        Windows\n",
       "Name: os, Length: 3560, dtype: object"
      ]
     },
     "execution_count": 31,
     "metadata": {},
     "output_type": "execute_result"
    }
   ],
   "source": [
    "ref_os_r['os']"
   ]
  },
  {
   "cell_type": "code",
   "execution_count": null,
   "metadata": {},
   "outputs": [],
   "source": [
    "result = ref_os_r.groupby([\"domain\", \"os\"]).size().unstack(fill_value=0) # Nhóm theo 'domain' và 'os', đếm số lượng, điền giá trị 0 cho các ô trống"
   ]
  },
  {
   "cell_type": "code",
   "execution_count": 33,
   "metadata": {},
   "outputs": [
    {
     "data": {
      "text/html": [
       "<div>\n",
       "<style scoped>\n",
       "    .dataframe tbody tr th:only-of-type {\n",
       "        vertical-align: middle;\n",
       "    }\n",
       "\n",
       "    .dataframe tbody tr th {\n",
       "        vertical-align: top;\n",
       "    }\n",
       "\n",
       "    .dataframe thead th {\n",
       "        text-align: right;\n",
       "    }\n",
       "</style>\n",
       "<table border=\"1\" class=\"dataframe\">\n",
       "  <thead>\n",
       "    <tr style=\"text-align: right;\">\n",
       "      <th>os</th>\n",
       "      <th>Not Windows</th>\n",
       "      <th>Windows</th>\n",
       "    </tr>\n",
       "    <tr>\n",
       "      <th>domain</th>\n",
       "      <th></th>\n",
       "      <th></th>\n",
       "    </tr>\n",
       "  </thead>\n",
       "  <tbody>\n",
       "    <tr>\n",
       "      <th>1.usa.gov</th>\n",
       "      <td>0</td>\n",
       "      <td>1</td>\n",
       "    </tr>\n",
       "    <tr>\n",
       "      <th>36ohk6dgmcd1n-c.c.yom.mail.yahoo.net</th>\n",
       "      <td>0</td>\n",
       "      <td>4</td>\n",
       "    </tr>\n",
       "    <tr>\n",
       "      <th>AwareMap.com</th>\n",
       "      <td>121</td>\n",
       "      <td>0</td>\n",
       "    </tr>\n",
       "    <tr>\n",
       "      <th>Invalid/Other</th>\n",
       "      <td>0</td>\n",
       "      <td>120</td>\n",
       "    </tr>\n",
       "    <tr>\n",
       "      <th>aashtojournal.org</th>\n",
       "      <td>0</td>\n",
       "      <td>21</td>\n",
       "    </tr>\n",
       "    <tr>\n",
       "      <th>...</th>\n",
       "      <td>...</td>\n",
       "      <td>...</td>\n",
       "    </tr>\n",
       "    <tr>\n",
       "      <th>www2.carilion.com</th>\n",
       "      <td>0</td>\n",
       "      <td>1</td>\n",
       "    </tr>\n",
       "    <tr>\n",
       "      <th>yandex.ru</th>\n",
       "      <td>0</td>\n",
       "      <td>23</td>\n",
       "    </tr>\n",
       "    <tr>\n",
       "      <th>yourlife.usatoday.com</th>\n",
       "      <td>0</td>\n",
       "      <td>1</td>\n",
       "    </tr>\n",
       "    <tr>\n",
       "      <th>youtube.com</th>\n",
       "      <td>1</td>\n",
       "      <td>0</td>\n",
       "    </tr>\n",
       "    <tr>\n",
       "      <th>yt-gadget003.appspot.com</th>\n",
       "      <td>0</td>\n",
       "      <td>1</td>\n",
       "    </tr>\n",
       "  </tbody>\n",
       "</table>\n",
       "<p>148 rows × 2 columns</p>\n",
       "</div>"
      ],
      "text/plain": [
       "os                                    Not Windows  Windows\n",
       "domain                                                    \n",
       "1.usa.gov                                       0        1\n",
       "36ohk6dgmcd1n-c.c.yom.mail.yahoo.net            0        4\n",
       "AwareMap.com                                  121        0\n",
       "Invalid/Other                                   0      120\n",
       "aashtojournal.org                               0       21\n",
       "...                                           ...      ...\n",
       "www2.carilion.com                               0        1\n",
       "yandex.ru                                       0       23\n",
       "yourlife.usatoday.com                           0        1\n",
       "youtube.com                                     1        0\n",
       "yt-gadget003.appspot.com                        0        1\n",
       "\n",
       "[148 rows x 2 columns]"
      ]
     },
     "execution_count": 33,
     "metadata": {},
     "output_type": "execute_result"
    }
   ],
   "source": [
    "result"
   ]
  },
  {
   "cell_type": "code",
   "execution_count": 44,
   "metadata": {},
   "outputs": [
    {
     "data": {
      "text/plain": [
       "np.int64(0)"
      ]
     },
     "execution_count": 44,
     "metadata": {},
     "output_type": "execute_result"
    }
   ],
   "source": [
    "ref_os_r[\"domain\"].isnull().sum()"
   ]
  },
  {
   "cell_type": "code",
   "execution_count": 45,
   "metadata": {},
   "outputs": [
    {
     "data": {
      "text/plain": [
       "np.int64(0)"
      ]
     },
     "execution_count": 45,
     "metadata": {},
     "output_type": "execute_result"
    }
   ],
   "source": [
    "ref_os_r['os'].isnull().sum()"
   ]
  },
  {
   "cell_type": "code",
   "execution_count": 42,
   "metadata": {},
   "outputs": [
    {
     "data": {
      "text/html": [
       "<div>\n",
       "<style scoped>\n",
       "    .dataframe tbody tr th:only-of-type {\n",
       "        vertical-align: middle;\n",
       "    }\n",
       "\n",
       "    .dataframe tbody tr th {\n",
       "        vertical-align: top;\n",
       "    }\n",
       "\n",
       "    .dataframe thead th {\n",
       "        text-align: right;\n",
       "    }\n",
       "</style>\n",
       "<table border=\"1\" class=\"dataframe\">\n",
       "  <thead>\n",
       "    <tr style=\"text-align: right;\">\n",
       "      <th>os</th>\n",
       "      <th>Not Windows</th>\n",
       "      <th>Windows</th>\n",
       "    </tr>\n",
       "    <tr>\n",
       "      <th>domain</th>\n",
       "      <th></th>\n",
       "      <th></th>\n",
       "    </tr>\n",
       "  </thead>\n",
       "  <tbody>\n",
       "    <tr>\n",
       "      <th>direct</th>\n",
       "      <td>501</td>\n",
       "      <td>1084</td>\n",
       "    </tr>\n",
       "    <tr>\n",
       "      <th>facebook.com</th>\n",
       "      <td>152</td>\n",
       "      <td>396</td>\n",
       "    </tr>\n",
       "    <tr>\n",
       "      <th>twitter.com</th>\n",
       "      <td>346</td>\n",
       "      <td>331</td>\n",
       "    </tr>\n",
       "    <tr>\n",
       "      <th>Invalid/Other</th>\n",
       "      <td>0</td>\n",
       "      <td>120</td>\n",
       "    </tr>\n",
       "    <tr>\n",
       "      <th>shrewsbury-ma.gov</th>\n",
       "      <td>12</td>\n",
       "      <td>78</td>\n",
       "    </tr>\n",
       "    <tr>\n",
       "      <th>google.com</th>\n",
       "      <td>15</td>\n",
       "      <td>32</td>\n",
       "    </tr>\n",
       "    <tr>\n",
       "      <th>togetter.com</th>\n",
       "      <td>0</td>\n",
       "      <td>29</td>\n",
       "    </tr>\n",
       "    <tr>\n",
       "      <th>yandex.ru</th>\n",
       "      <td>0</td>\n",
       "      <td>23</td>\n",
       "    </tr>\n",
       "    <tr>\n",
       "      <th>aashtojournal.org</th>\n",
       "      <td>0</td>\n",
       "      <td>21</td>\n",
       "    </tr>\n",
       "    <tr>\n",
       "      <th>srh.noaa.gov</th>\n",
       "      <td>0</td>\n",
       "      <td>17</td>\n",
       "    </tr>\n",
       "  </tbody>\n",
       "</table>\n",
       "</div>"
      ],
      "text/plain": [
       "os                 Not Windows  Windows\n",
       "domain                                 \n",
       "direct                     501     1084\n",
       "facebook.com               152      396\n",
       "twitter.com                346      331\n",
       "Invalid/Other                0      120\n",
       "shrewsbury-ma.gov           12       78\n",
       "google.com                  15       32\n",
       "togetter.com                 0       29\n",
       "yandex.ru                    0       23\n",
       "aashtojournal.org            0       21\n",
       "srh.noaa.gov                 0       17"
      ]
     },
     "execution_count": 42,
     "metadata": {},
     "output_type": "execute_result"
    }
   ],
   "source": [
    "ref_os_pivot = ref_os_r.pivot_table(\n",
    "    index=\"domain\", \n",
    "    columns=\"os\", \n",
    "    aggfunc=\"size\", \n",
    "    fill_value=0\n",
    ")\n",
    "\n",
    "ref_os_pivot.sort_values(by=\"Windows\", ascending=False).head(10)\n"
   ]
  },
  {
   "cell_type": "markdown",
   "metadata": {},
   "source": [
    "- Có sự khác biệt rõ ràng giữa referrer theo hệ điều hành:\n",
    "    + Windows users truy cập từ facebook.com, direct, google.com, các domain lạ (Invalid/yandex/etc) nhiều hơn hẳn.\n",
    "    + Non-Windows users lại thích Twitter hơn — Twitter có 346 so với 331, đây là điểm ngược chiều so với các domain khác.\n",
    "    + Nhiều referrer chỉ tồn tại trên Windows (Invalid/Other, togetter.com, yandex.ru,...)\n",
    "- Về hành vi người dùng:\n",
    "    + Windows có xu hướng là desktop → người dùng hay gõ/remove ref trực tiếp (direct) + click từ Facebook nhiều.\n",
    "    + Non-Windows có thể là mobile/iOS/Linux/Mac → Twitter chiếm ưu thế (hợp với thói quen mobile).\n"
   ]
  },
  {
   "cell_type": "markdown",
   "metadata": {},
   "source": [
    "### Có sự khác biệt referrer theo múi giờ không?"
   ]
  },
  {
   "cell_type": "code",
   "execution_count": 72,
   "metadata": {},
   "outputs": [
    {
     "data": {
      "text/plain": [
       "0                              http://www.facebook.com/l/7AQEFzjSi/1.usa.gov/wfLQtf\n",
       "1                                                          http://www.AwareMap.com/\n",
       "2                                                              http://t.co/03elZC4Q\n",
       "3                                                                            direct\n",
       "4                                               http://www.shrewsbury-ma.gov/selco/\n",
       "                                           ...                                     \n",
       "3555                                                                         direct\n",
       "3556    http://www.facebook.com/l.php?u=http%3A%2F%2F1.usa.gov%2FjQLtP4&h=3AQF8AIR_\n",
       "3557                                                       http://www.AwareMap.com/\n",
       "3558                                                                         direct\n",
       "3559                                                           http://t.co/OEEEvwjU\n",
       "Name: r, Length: 3560, dtype: object"
      ]
     },
     "execution_count": 72,
     "metadata": {},
     "output_type": "execute_result"
    }
   ],
   "source": [
    "frame['r']"
   ]
  },
  {
   "cell_type": "code",
   "execution_count": 73,
   "metadata": {},
   "outputs": [],
   "source": [
    "ref_tz['r'] = frame['r']"
   ]
  },
  {
   "cell_type": "code",
   "execution_count": 74,
   "metadata": {},
   "outputs": [],
   "source": [
    "ref_tz['tz'] = frame[\"tz\"]"
   ]
  },
  {
   "cell_type": "code",
   "execution_count": 75,
   "metadata": {},
   "outputs": [],
   "source": [
    "ref_tz['tz'] = ref_tz[\"tz\"].fillna(\"Missing\")"
   ]
  },
  {
   "cell_type": "code",
   "execution_count": 76,
   "metadata": {},
   "outputs": [],
   "source": [
    "ref_tz['domain'] = ref_tz['r'].apply(get_domain)"
   ]
  },
  {
   "cell_type": "code",
   "execution_count": 64,
   "metadata": {},
   "outputs": [
    {
     "data": {
      "text/plain": [
       "0          America/New_York\n",
       "1            America/Denver\n",
       "2          America/New_York\n",
       "3         America/Sao_Paulo\n",
       "4          America/New_York\n",
       "               ...         \n",
       "3555       America/New_York\n",
       "3556        America/Chicago\n",
       "3557         America/Denver\n",
       "3558    America/Los_Angeles\n",
       "3559       America/New_York\n",
       "Name: tz, Length: 3560, dtype: object"
      ]
     },
     "execution_count": 64,
     "metadata": {},
     "output_type": "execute_result"
    }
   ],
   "source": [
    "ref_tz['tz']"
   ]
  },
  {
   "cell_type": "code",
   "execution_count": 77,
   "metadata": {},
   "outputs": [
    {
     "data": {
      "text/plain": [
       "0              facebook.com\n",
       "1              AwareMap.com\n",
       "2               twitter.com\n",
       "3                    direct\n",
       "4         shrewsbury-ma.gov\n",
       "                ...        \n",
       "3558                 direct\n",
       "3559            twitter.com\n",
       "r             Invalid/Other\n",
       "tz            Invalid/Other\n",
       "domain        Invalid/Other\n",
       "Name: domain, Length: 3563, dtype: object"
      ]
     },
     "execution_count": 77,
     "metadata": {},
     "output_type": "execute_result"
    }
   ],
   "source": [
    "ref_tz['domain']"
   ]
  },
  {
   "cell_type": "code",
   "execution_count": 78,
   "metadata": {},
   "outputs": [],
   "source": [
    "ref_tz = pd.DataFrame(ref_tz)"
   ]
  },
  {
   "cell_type": "code",
   "execution_count": 79,
   "metadata": {},
   "outputs": [
    {
     "data": {
      "text/plain": [
       "0              facebook.com\n",
       "1              AwareMap.com\n",
       "2               twitter.com\n",
       "3                    direct\n",
       "4         shrewsbury-ma.gov\n",
       "                ...        \n",
       "3558                 direct\n",
       "3559            twitter.com\n",
       "r             Invalid/Other\n",
       "tz            Invalid/Other\n",
       "domain        Invalid/Other\n",
       "Name: domain, Length: 3563, dtype: object"
      ]
     },
     "execution_count": 79,
     "metadata": {},
     "output_type": "execute_result"
    }
   ],
   "source": [
    "ref_tz['domain']"
   ]
  },
  {
   "cell_type": "code",
   "execution_count": 80,
   "metadata": {},
   "outputs": [
    {
     "data": {
      "text/html": [
       "<div>\n",
       "<style scoped>\n",
       "    .dataframe tbody tr th:only-of-type {\n",
       "        vertical-align: middle;\n",
       "    }\n",
       "\n",
       "    .dataframe tbody tr th {\n",
       "        vertical-align: top;\n",
       "    }\n",
       "\n",
       "    .dataframe thead th {\n",
       "        text-align: right;\n",
       "    }\n",
       "</style>\n",
       "<table border=\"1\" class=\"dataframe\">\n",
       "  <thead>\n",
       "    <tr style=\"text-align: right;\">\n",
       "      <th>tz</th>\n",
       "      <th></th>\n",
       "      <th>Africa/Cairo</th>\n",
       "      <th>Africa/Casablanca</th>\n",
       "      <th>Africa/Ceuta</th>\n",
       "      <th>Africa/Johannesburg</th>\n",
       "      <th>Africa/Lusaka</th>\n",
       "      <th>America/Anchorage</th>\n",
       "      <th>America/Argentina/Buenos_Aires</th>\n",
       "      <th>America/Argentina/Cordoba</th>\n",
       "      <th>America/Argentina/Mendoza</th>\n",
       "      <th>...</th>\n",
       "      <th>Europe/Stockholm</th>\n",
       "      <th>Europe/Uzhgorod</th>\n",
       "      <th>Europe/Vienna</th>\n",
       "      <th>Europe/Vilnius</th>\n",
       "      <th>Europe/Volgograd</th>\n",
       "      <th>Europe/Warsaw</th>\n",
       "      <th>Europe/Zurich</th>\n",
       "      <th>Missing</th>\n",
       "      <th>Pacific/Auckland</th>\n",
       "      <th>Pacific/Honolulu</th>\n",
       "    </tr>\n",
       "    <tr>\n",
       "      <th>domain</th>\n",
       "      <th></th>\n",
       "      <th></th>\n",
       "      <th></th>\n",
       "      <th></th>\n",
       "      <th></th>\n",
       "      <th></th>\n",
       "      <th></th>\n",
       "      <th></th>\n",
       "      <th></th>\n",
       "      <th></th>\n",
       "      <th></th>\n",
       "      <th></th>\n",
       "      <th></th>\n",
       "      <th></th>\n",
       "      <th></th>\n",
       "      <th></th>\n",
       "      <th></th>\n",
       "      <th></th>\n",
       "      <th></th>\n",
       "      <th></th>\n",
       "      <th></th>\n",
       "    </tr>\n",
       "  </thead>\n",
       "  <tbody>\n",
       "    <tr>\n",
       "      <th>1.usa.gov</th>\n",
       "      <td>0</td>\n",
       "      <td>0</td>\n",
       "      <td>0</td>\n",
       "      <td>0</td>\n",
       "      <td>0</td>\n",
       "      <td>0</td>\n",
       "      <td>0</td>\n",
       "      <td>0</td>\n",
       "      <td>0</td>\n",
       "      <td>0</td>\n",
       "      <td>...</td>\n",
       "      <td>0</td>\n",
       "      <td>0</td>\n",
       "      <td>0</td>\n",
       "      <td>0</td>\n",
       "      <td>0</td>\n",
       "      <td>1</td>\n",
       "      <td>0</td>\n",
       "      <td>0</td>\n",
       "      <td>0</td>\n",
       "      <td>0</td>\n",
       "    </tr>\n",
       "    <tr>\n",
       "      <th>36ohk6dgmcd1n-c.c.yom.mail.yahoo.net</th>\n",
       "      <td>1</td>\n",
       "      <td>0</td>\n",
       "      <td>0</td>\n",
       "      <td>0</td>\n",
       "      <td>0</td>\n",
       "      <td>0</td>\n",
       "      <td>0</td>\n",
       "      <td>0</td>\n",
       "      <td>0</td>\n",
       "      <td>0</td>\n",
       "      <td>...</td>\n",
       "      <td>0</td>\n",
       "      <td>0</td>\n",
       "      <td>0</td>\n",
       "      <td>0</td>\n",
       "      <td>0</td>\n",
       "      <td>0</td>\n",
       "      <td>0</td>\n",
       "      <td>0</td>\n",
       "      <td>0</td>\n",
       "      <td>0</td>\n",
       "    </tr>\n",
       "    <tr>\n",
       "      <th>AwareMap.com</th>\n",
       "      <td>0</td>\n",
       "      <td>0</td>\n",
       "      <td>0</td>\n",
       "      <td>0</td>\n",
       "      <td>0</td>\n",
       "      <td>0</td>\n",
       "      <td>0</td>\n",
       "      <td>0</td>\n",
       "      <td>0</td>\n",
       "      <td>0</td>\n",
       "      <td>...</td>\n",
       "      <td>0</td>\n",
       "      <td>0</td>\n",
       "      <td>0</td>\n",
       "      <td>0</td>\n",
       "      <td>0</td>\n",
       "      <td>0</td>\n",
       "      <td>0</td>\n",
       "      <td>0</td>\n",
       "      <td>0</td>\n",
       "      <td>0</td>\n",
       "    </tr>\n",
       "    <tr>\n",
       "      <th>Invalid/Other</th>\n",
       "      <td>0</td>\n",
       "      <td>0</td>\n",
       "      <td>0</td>\n",
       "      <td>0</td>\n",
       "      <td>0</td>\n",
       "      <td>0</td>\n",
       "      <td>0</td>\n",
       "      <td>0</td>\n",
       "      <td>0</td>\n",
       "      <td>0</td>\n",
       "      <td>...</td>\n",
       "      <td>0</td>\n",
       "      <td>0</td>\n",
       "      <td>0</td>\n",
       "      <td>0</td>\n",
       "      <td>0</td>\n",
       "      <td>0</td>\n",
       "      <td>0</td>\n",
       "      <td>123</td>\n",
       "      <td>0</td>\n",
       "      <td>0</td>\n",
       "    </tr>\n",
       "    <tr>\n",
       "      <th>aashtojournal.org</th>\n",
       "      <td>1</td>\n",
       "      <td>0</td>\n",
       "      <td>0</td>\n",
       "      <td>0</td>\n",
       "      <td>0</td>\n",
       "      <td>0</td>\n",
       "      <td>0</td>\n",
       "      <td>0</td>\n",
       "      <td>0</td>\n",
       "      <td>0</td>\n",
       "      <td>...</td>\n",
       "      <td>0</td>\n",
       "      <td>0</td>\n",
       "      <td>0</td>\n",
       "      <td>0</td>\n",
       "      <td>0</td>\n",
       "      <td>0</td>\n",
       "      <td>0</td>\n",
       "      <td>0</td>\n",
       "      <td>0</td>\n",
       "      <td>0</td>\n",
       "    </tr>\n",
       "    <tr>\n",
       "      <th>abclocal.go.com</th>\n",
       "      <td>0</td>\n",
       "      <td>0</td>\n",
       "      <td>0</td>\n",
       "      <td>0</td>\n",
       "      <td>0</td>\n",
       "      <td>0</td>\n",
       "      <td>0</td>\n",
       "      <td>0</td>\n",
       "      <td>0</td>\n",
       "      <td>0</td>\n",
       "      <td>...</td>\n",
       "      <td>0</td>\n",
       "      <td>0</td>\n",
       "      <td>0</td>\n",
       "      <td>0</td>\n",
       "      <td>0</td>\n",
       "      <td>0</td>\n",
       "      <td>0</td>\n",
       "      <td>0</td>\n",
       "      <td>0</td>\n",
       "      <td>0</td>\n",
       "    </tr>\n",
       "    <tr>\n",
       "      <th>addins.kwwl.com</th>\n",
       "      <td>1</td>\n",
       "      <td>0</td>\n",
       "      <td>0</td>\n",
       "      <td>0</td>\n",
       "      <td>0</td>\n",
       "      <td>0</td>\n",
       "      <td>0</td>\n",
       "      <td>0</td>\n",
       "      <td>0</td>\n",
       "      <td>0</td>\n",
       "      <td>...</td>\n",
       "      <td>0</td>\n",
       "      <td>0</td>\n",
       "      <td>0</td>\n",
       "      <td>0</td>\n",
       "      <td>0</td>\n",
       "      <td>0</td>\n",
       "      <td>0</td>\n",
       "      <td>0</td>\n",
       "      <td>0</td>\n",
       "      <td>0</td>\n",
       "    </tr>\n",
       "    <tr>\n",
       "      <th>addins.wrex.com</th>\n",
       "      <td>1</td>\n",
       "      <td>0</td>\n",
       "      <td>0</td>\n",
       "      <td>0</td>\n",
       "      <td>0</td>\n",
       "      <td>0</td>\n",
       "      <td>0</td>\n",
       "      <td>0</td>\n",
       "      <td>0</td>\n",
       "      <td>0</td>\n",
       "      <td>...</td>\n",
       "      <td>0</td>\n",
       "      <td>0</td>\n",
       "      <td>0</td>\n",
       "      <td>0</td>\n",
       "      <td>0</td>\n",
       "      <td>0</td>\n",
       "      <td>0</td>\n",
       "      <td>0</td>\n",
       "      <td>0</td>\n",
       "      <td>0</td>\n",
       "    </tr>\n",
       "    <tr>\n",
       "      <th>agency.governmentjobs.com</th>\n",
       "      <td>1</td>\n",
       "      <td>0</td>\n",
       "      <td>0</td>\n",
       "      <td>0</td>\n",
       "      <td>0</td>\n",
       "      <td>0</td>\n",
       "      <td>0</td>\n",
       "      <td>0</td>\n",
       "      <td>0</td>\n",
       "      <td>0</td>\n",
       "      <td>...</td>\n",
       "      <td>0</td>\n",
       "      <td>0</td>\n",
       "      <td>0</td>\n",
       "      <td>0</td>\n",
       "      <td>0</td>\n",
       "      <td>0</td>\n",
       "      <td>0</td>\n",
       "      <td>0</td>\n",
       "      <td>0</td>\n",
       "      <td>0</td>\n",
       "    </tr>\n",
       "    <tr>\n",
       "      <th>airwarriors.com</th>\n",
       "      <td>0</td>\n",
       "      <td>0</td>\n",
       "      <td>0</td>\n",
       "      <td>0</td>\n",
       "      <td>0</td>\n",
       "      <td>0</td>\n",
       "      <td>0</td>\n",
       "      <td>0</td>\n",
       "      <td>0</td>\n",
       "      <td>0</td>\n",
       "      <td>...</td>\n",
       "      <td>0</td>\n",
       "      <td>0</td>\n",
       "      <td>0</td>\n",
       "      <td>0</td>\n",
       "      <td>0</td>\n",
       "      <td>0</td>\n",
       "      <td>0</td>\n",
       "      <td>0</td>\n",
       "      <td>0</td>\n",
       "      <td>0</td>\n",
       "    </tr>\n",
       "  </tbody>\n",
       "</table>\n",
       "<p>10 rows × 98 columns</p>\n",
       "</div>"
      ],
      "text/plain": [
       "tz                                       Africa/Cairo  Africa/Casablanca  \\\n",
       "domain                                                                     \n",
       "1.usa.gov                             0             0                  0   \n",
       "36ohk6dgmcd1n-c.c.yom.mail.yahoo.net  1             0                  0   \n",
       "AwareMap.com                          0             0                  0   \n",
       "Invalid/Other                         0             0                  0   \n",
       "aashtojournal.org                     1             0                  0   \n",
       "abclocal.go.com                       0             0                  0   \n",
       "addins.kwwl.com                       1             0                  0   \n",
       "addins.wrex.com                       1             0                  0   \n",
       "agency.governmentjobs.com             1             0                  0   \n",
       "airwarriors.com                       0             0                  0   \n",
       "\n",
       "tz                                    Africa/Ceuta  Africa/Johannesburg  \\\n",
       "domain                                                                    \n",
       "1.usa.gov                                        0                    0   \n",
       "36ohk6dgmcd1n-c.c.yom.mail.yahoo.net             0                    0   \n",
       "AwareMap.com                                     0                    0   \n",
       "Invalid/Other                                    0                    0   \n",
       "aashtojournal.org                                0                    0   \n",
       "abclocal.go.com                                  0                    0   \n",
       "addins.kwwl.com                                  0                    0   \n",
       "addins.wrex.com                                  0                    0   \n",
       "agency.governmentjobs.com                        0                    0   \n",
       "airwarriors.com                                  0                    0   \n",
       "\n",
       "tz                                    Africa/Lusaka  America/Anchorage  \\\n",
       "domain                                                                   \n",
       "1.usa.gov                                         0                  0   \n",
       "36ohk6dgmcd1n-c.c.yom.mail.yahoo.net              0                  0   \n",
       "AwareMap.com                                      0                  0   \n",
       "Invalid/Other                                     0                  0   \n",
       "aashtojournal.org                                 0                  0   \n",
       "abclocal.go.com                                   0                  0   \n",
       "addins.kwwl.com                                   0                  0   \n",
       "addins.wrex.com                                   0                  0   \n",
       "agency.governmentjobs.com                         0                  0   \n",
       "airwarriors.com                                   0                  0   \n",
       "\n",
       "tz                                    America/Argentina/Buenos_Aires  \\\n",
       "domain                                                                 \n",
       "1.usa.gov                                                          0   \n",
       "36ohk6dgmcd1n-c.c.yom.mail.yahoo.net                               0   \n",
       "AwareMap.com                                                       0   \n",
       "Invalid/Other                                                      0   \n",
       "aashtojournal.org                                                  0   \n",
       "abclocal.go.com                                                    0   \n",
       "addins.kwwl.com                                                    0   \n",
       "addins.wrex.com                                                    0   \n",
       "agency.governmentjobs.com                                          0   \n",
       "airwarriors.com                                                    0   \n",
       "\n",
       "tz                                    America/Argentina/Cordoba  \\\n",
       "domain                                                            \n",
       "1.usa.gov                                                     0   \n",
       "36ohk6dgmcd1n-c.c.yom.mail.yahoo.net                          0   \n",
       "AwareMap.com                                                  0   \n",
       "Invalid/Other                                                 0   \n",
       "aashtojournal.org                                             0   \n",
       "abclocal.go.com                                               0   \n",
       "addins.kwwl.com                                               0   \n",
       "addins.wrex.com                                               0   \n",
       "agency.governmentjobs.com                                     0   \n",
       "airwarriors.com                                               0   \n",
       "\n",
       "tz                                    America/Argentina/Mendoza  ...  \\\n",
       "domain                                                           ...   \n",
       "1.usa.gov                                                     0  ...   \n",
       "36ohk6dgmcd1n-c.c.yom.mail.yahoo.net                          0  ...   \n",
       "AwareMap.com                                                  0  ...   \n",
       "Invalid/Other                                                 0  ...   \n",
       "aashtojournal.org                                             0  ...   \n",
       "abclocal.go.com                                               0  ...   \n",
       "addins.kwwl.com                                               0  ...   \n",
       "addins.wrex.com                                               0  ...   \n",
       "agency.governmentjobs.com                                     0  ...   \n",
       "airwarriors.com                                               0  ...   \n",
       "\n",
       "tz                                    Europe/Stockholm  Europe/Uzhgorod  \\\n",
       "domain                                                                    \n",
       "1.usa.gov                                            0                0   \n",
       "36ohk6dgmcd1n-c.c.yom.mail.yahoo.net                 0                0   \n",
       "AwareMap.com                                         0                0   \n",
       "Invalid/Other                                        0                0   \n",
       "aashtojournal.org                                    0                0   \n",
       "abclocal.go.com                                      0                0   \n",
       "addins.kwwl.com                                      0                0   \n",
       "addins.wrex.com                                      0                0   \n",
       "agency.governmentjobs.com                            0                0   \n",
       "airwarriors.com                                      0                0   \n",
       "\n",
       "tz                                    Europe/Vienna  Europe/Vilnius  \\\n",
       "domain                                                                \n",
       "1.usa.gov                                         0               0   \n",
       "36ohk6dgmcd1n-c.c.yom.mail.yahoo.net              0               0   \n",
       "AwareMap.com                                      0               0   \n",
       "Invalid/Other                                     0               0   \n",
       "aashtojournal.org                                 0               0   \n",
       "abclocal.go.com                                   0               0   \n",
       "addins.kwwl.com                                   0               0   \n",
       "addins.wrex.com                                   0               0   \n",
       "agency.governmentjobs.com                         0               0   \n",
       "airwarriors.com                                   0               0   \n",
       "\n",
       "tz                                    Europe/Volgograd  Europe/Warsaw  \\\n",
       "domain                                                                  \n",
       "1.usa.gov                                            0              1   \n",
       "36ohk6dgmcd1n-c.c.yom.mail.yahoo.net                 0              0   \n",
       "AwareMap.com                                         0              0   \n",
       "Invalid/Other                                        0              0   \n",
       "aashtojournal.org                                    0              0   \n",
       "abclocal.go.com                                      0              0   \n",
       "addins.kwwl.com                                      0              0   \n",
       "addins.wrex.com                                      0              0   \n",
       "agency.governmentjobs.com                            0              0   \n",
       "airwarriors.com                                      0              0   \n",
       "\n",
       "tz                                    Europe/Zurich  Missing  \\\n",
       "domain                                                         \n",
       "1.usa.gov                                         0        0   \n",
       "36ohk6dgmcd1n-c.c.yom.mail.yahoo.net              0        0   \n",
       "AwareMap.com                                      0        0   \n",
       "Invalid/Other                                     0      123   \n",
       "aashtojournal.org                                 0        0   \n",
       "abclocal.go.com                                   0        0   \n",
       "addins.kwwl.com                                   0        0   \n",
       "addins.wrex.com                                   0        0   \n",
       "agency.governmentjobs.com                         0        0   \n",
       "airwarriors.com                                   0        0   \n",
       "\n",
       "tz                                    Pacific/Auckland  Pacific/Honolulu  \n",
       "domain                                                                    \n",
       "1.usa.gov                                            0                 0  \n",
       "36ohk6dgmcd1n-c.c.yom.mail.yahoo.net                 0                 0  \n",
       "AwareMap.com                                         0                 0  \n",
       "Invalid/Other                                        0                 0  \n",
       "aashtojournal.org                                    0                 0  \n",
       "abclocal.go.com                                      0                 0  \n",
       "addins.kwwl.com                                      0                 0  \n",
       "addins.wrex.com                                      0                 0  \n",
       "agency.governmentjobs.com                            0                 0  \n",
       "airwarriors.com                                      0                 0  \n",
       "\n",
       "[10 rows x 98 columns]"
      ]
     },
     "execution_count": 80,
     "metadata": {},
     "output_type": "execute_result"
    }
   ],
   "source": [
    "ref_tz_pivot = ref_tz.pivot_table(\n",
    "    index=\"domain\",\n",
    "    columns=\"tz\",\n",
    "    aggfunc=\"size\",\n",
    "    fill_value=0\n",
    ")\n",
    "\n",
    "ref_tz_pivot.head(10)\n"
   ]
  },
  {
   "cell_type": "code",
   "execution_count": null,
   "metadata": {},
   "outputs": [
    {
     "name": "stdout",
     "output_type": "stream",
     "text": [
      "tz\n",
      "America/New_York       1251\n",
      "                        521\n",
      "America/Chicago         400\n",
      "America/Los_Angeles     382\n",
      "America/Denver          191\n",
      "Name: count, dtype: int64\n"
     ]
    }
   ],
   "source": [
    "tz_clicks = ref_tz.groupby(\"tz\")[\"domain\"].value_counts().reset_index(name=\"count\")\n",
    "# sắp xếp theo tz có tổng lượt cao nhất\n",
    "tz_total = tz_clicks.groupby(\"tz\")[\"count\"].sum().sort_values(ascending=False)\n",
    "print(tz_total.head())\n"
   ]
  },
  {
   "cell_type": "code",
   "execution_count": 83,
   "metadata": {},
   "outputs": [
    {
     "data": {
      "image/png": "[encoded data removed]",
      "text/plain": [
       "<Figure size 1000x600 with 1 Axes>"
      ]
     },
     "metadata": {},
     "output_type": "display_data"
    }
   ],
   "source": [
    "import matplotlib.pyplot as plt\n",
    "\n",
    "tz_total = ref_tz.groupby(\"tz\")[\"domain\"].count().sort_values(ascending=False)\n",
    "\n",
    "tz_total.head(10).plot(kind=\"bar\")  # lấy top 10 tz\n",
    "plt.title(\"Top Timezones by Total Referrer Clicks\")\n",
    "plt.ylabel(\"Clicks count\")\n",
    "plt.xlabel(\"Timezone\")\n",
    "plt.show()\n"
   ]
  },
  {
   "cell_type": "markdown",
   "metadata": {},
   "source": [
    "- Sự khác biệt về referrer và múi giờ khá đáng kể:\n",
    "    + Lượng click từ referrer (nguồn truy cập) không phân bố đều giữa các múi giờ, mà tập trung mạnh vào một số khu vực nhất định.\n",
    "    + America/New_York ~1250 Vượt trội, chiếm phần lớn, đây là múi giờ miền Đông Hoa Kỳ — hoạt động cao nhất.\n",
    "    + America/Chicago / Los_Angeles 400–500 Cũng mạnh nhưng thấp hơn khá nhiều, đại diện cho miền Trung, Tây Mỹ.\n",
    "    + 2 cột dữ liệu missing Có khả năng do lỗi thông tin TZ, khá đáng kể.\n",
    "> Referrer hoạt động mạnh nhất ở các múi giờ Bắc Mỹ (đặc biệt là Eastern Time – America/New_York). Các khu vực châu Âu và châu Á truy cập thấp hơn rất nhiều. Điều này cho thấy người dùng mục tiêu rõ ràng nghiêng về khu vực US, không phân bố toàn cầu."
   ]
  },
  {
   "cell_type": "markdown",
   "metadata": {},
   "source": [
    "# Kết thúc"
   ]
  }
 ],
 "metadata": {
  "kernelspec": {
   "display_name": "Python 3",
   "language": "python",
   "name": "python3"
  },
  "language_info": {
   "codemirror_mode": {
    "name": "ipython",
    "version": 3
   },
   "file_extension": ".py",
   "mimetype": "text/x-python",
   "name": "python",
   "nbconvert_exporter": "python",
   "pygments_lexer": "ipython3",
   "version": "3.12.5"
  }
 },
 "nbformat": 4,
 "nbformat_minor": 4
}

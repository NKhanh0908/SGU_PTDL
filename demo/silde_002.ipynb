{
  "cells": [
    {
      "cell_type": "markdown",
      "metadata": {
        "colab_type": "text",
        "id": "view-in-github"
      },
      "source": [
        "<a href=\"https://colab.research.google.com/github/NKhanh0908/SGU_PTDL/blob/main/demo/silde_002.ipynb\" target=\"_parent\"><img src=\"https://colab.research.google.com/assets/colab-badge.svg\" alt=\"Open In Colab\"/></a>"
      ]
    },
    {
      "cell_type": "markdown",
      "id": "7a140137",
      "metadata": {
        "id": "7a140137"
      },
      "source": [
        "# Python Programming"
      ]
    },
    {
      "cell_type": "markdown",
      "id": "5cd4293f",
      "metadata": {
        "id": "5cd4293f"
      },
      "source": [
        "## 1. PYTHON CƠ BẢN"
      ]
    },
    {
      "cell_type": "markdown",
      "id": "e5fe5e6f",
      "metadata": {
        "id": "e5fe5e6f"
      },
      "source": [
        "### 1.1 Hello World và Cú pháp cơ bản"
      ]
    },
    {
      "cell_type": "code",
      "execution_count": null,
      "id": "b8e191b4",
      "metadata": {
        "id": "b8e191b4",
        "outputId": "c9493049-4ac7-4cf0-8092-0fc2daca81ea"
      },
      "outputs": [
        {
          "name": "stdout",
          "output_type": "stream",
          "text": [
            "Hello World\n",
            "Hello World\n"
          ]
        }
      ],
      "source": [
        "# Câu lệnh đơn giản xuất thông tin ra màn hình\n",
        "print(\"Hello World\")"
      ]
    },
    {
      "cell_type": "markdown",
      "id": "b182a260",
      "metadata": {
        "id": "b182a260"
      },
      "source": [
        "### 1.2 Comments (Chú thích)"
      ]
    },
    {
      "cell_type": "code",
      "execution_count": null,
      "id": "2bb9a154",
      "metadata": {
        "id": "2bb9a154"
      },
      "outputs": [],
      "source": [
        "# Đây là comment - dòng này không được thực thi\n",
        "# comment để giải thích code\n",
        "score = 80  # comment có thể viết ở cuối dòng"
      ]
    },
    {
      "cell_type": "markdown",
      "id": "a1c83810",
      "metadata": {
        "id": "a1c83810"
      },
      "source": [
        "### 1.3 Indentation (Thụt lề)"
      ]
    },
    {
      "cell_type": "code",
      "execution_count": null,
      "id": "b96269f3",
      "metadata": {
        "id": "b96269f3",
        "outputId": "b2614f00-2d22-4d06-bb60-c6a18906d874"
      },
      "outputs": [
        {
          "name": "stdout",
          "output_type": "stream",
          "text": [
            "Pass\n"
          ]
        }
      ],
      "source": [
        "score = 80\n",
        "if score >= 60:\n",
        "    print(\"Pass\")  # Thụt lề 4 spaces"
      ]
    },
    {
      "cell_type": "markdown",
      "id": "1f12d9a7",
      "metadata": {
        "id": "1f12d9a7"
      },
      "source": [
        "### 1.4 Kiểm tra phiên bản Python"
      ]
    },
    {
      "cell_type": "code",
      "execution_count": null,
      "id": "42a4a436",
      "metadata": {
        "id": "42a4a436",
        "outputId": "550e607f-394b-416b-a555-69252851a3fd"
      },
      "outputs": [
        {
          "name": "stdout",
          "output_type": "stream",
          "text": [
            "Python Version: 3.12.10\n"
          ]
        }
      ],
      "source": [
        "from platform import python_version #Import module platform để kiểm tra phiên bản\n",
        "print(\"Python Version:\", python_version()) #Hàm python_version() trả về phiên bản hiện tại"
      ]
    },
    {
      "cell_type": "markdown",
      "id": "8a763b82",
      "metadata": {
        "id": "8a763b82"
      },
      "source": [
        "## 2. BIẾN VÀ KIỂU DỮ LIỆU"
      ]
    },
    {
      "cell_type": "markdown",
      "id": "ac59b90b",
      "metadata": {
        "id": "ac59b90b"
      },
      "source": [
        "### 2.1 Khai báo biến"
      ]
    },
    {
      "cell_type": "code",
      "execution_count": null,
      "id": "0132a519",
      "metadata": {
        "id": "0132a519",
        "outputId": "d2691048-27dd-4bdd-d489-d1e863d3bc35"
      },
      "outputs": [
        {
          "name": "stdout",
          "output_type": "stream",
          "text": [
            "<class 'int'>\n",
            "<class 'float'>\n",
            "<class 'str'>\n",
            "<class 'str'>\n",
            "<class 'str'>\n",
            "3\n"
          ]
        }
      ],
      "source": [
        "# Các kiểu biến cơ bản\n",
        "x = 2          # Số nguyên (int)\n",
        "print(type(x))\n",
        "price = 2.5    # Số thực (float)\n",
        "print(type(price))\n",
        "word = 'Hello' # Chuỗi (string)\n",
        "print(type(word))\n",
        "word = \"Hello\" # Cũng là chuỗi\n",
        "print(type(word))\n",
        "word = '''Hello'''  # Chuỗi nhiều dòng\n",
        "print(type(word))\n",
        "\n",
        "# Sử dụng biến\n",
        "x = 2\n",
        "y = x + 1  # y = 3\n",
        "print(y)"
      ]
    },
    {
      "cell_type": "markdown",
      "id": "006756c6",
      "metadata": {
        "id": "006756c6"
      },
      "source": [
        "### 2.2 Các kiểu dữ liệu cơ bản"
      ]
    },
    {
      "cell_type": "code",
      "execution_count": null,
      "id": "8c264eb9",
      "metadata": {
        "id": "8c264eb9",
        "outputId": "c3aeff62-4220-4040-9704-fcef1db82c6f"
      },
      "outputs": [
        {
          "name": "stdout",
          "output_type": "stream",
          "text": [
            "<class 'str'>\n",
            "<class 'int'>\n",
            "<class 'float'>\n",
            "<class 'complex'>\n",
            "<class 'bool'>\n",
            "<class 'bool'>\n",
            "<class 'NoneType'>\n"
          ]
        }
      ],
      "source": [
        "# Kiểu số\n",
        "x = \"Hello World\"  # str (string)\n",
        "print(type(x))\n",
        "x = 2             # int (integer)\n",
        "print(type(x))\n",
        "x = 2.5           # float\n",
        "print(type(x))\n",
        "x = 7j            # complex (số phức)\n",
        "print(type(x))\n",
        "\n",
        "# Kiểu boolean\n",
        "x = True          # bool\n",
        "print(type(x))\n",
        "x = False         # bool\n",
        "print(type(x))\n",
        "\n",
        "# Kiểu đặc biệt\n",
        "x = None          # NoneType\n",
        "print(type(x))"
      ]
    },
    {
      "cell_type": "markdown",
      "id": "4380dc05",
      "metadata": {
        "id": "4380dc05"
      },
      "source": [
        "### 2.3 Ép kiểu (Type Casting)"
      ]
    },
    {
      "cell_type": "code",
      "execution_count": null,
      "id": "8daea771",
      "metadata": {
        "id": "8daea771",
        "outputId": "9d679f94-bd89-4afa-836b-20ddf12721d4"
      },
      "outputs": [
        {
          "name": "stdout",
          "output_type": "stream",
          "text": [
            "3 <class 'str'>\n",
            "3 <class 'int'>\n",
            "3.0 <class 'float'>\n"
          ]
        }
      ],
      "source": [
        "x = str(3)    # x sẽ là '3'\n",
        "y = int(3)    # y sẽ là 3\n",
        "z = float(3)  # z sẽ là 3.0\n",
        "\n",
        "print(x, type(x))\n",
        "print(y, type(y))\n",
        "print(z, type(z))"
      ]
    },
    {
      "cell_type": "markdown",
      "id": "5c1b5769",
      "metadata": {
        "id": "5c1b5769"
      },
      "source": [
        "### 2.4 Kiểm tra kiểu số"
      ]
    },
    {
      "cell_type": "code",
      "execution_count": null,
      "id": "ba37eed0",
      "metadata": {
        "id": "ba37eed0",
        "outputId": "0f8ad49a-e4f8-46cd-e7a6-3b5df830a434"
      },
      "outputs": [
        {
          "name": "stdout",
          "output_type": "stream",
          "text": [
            "2 <class 'int'>\n",
            "3.4 <class 'float'>\n",
            "7j <class 'complex'>\n"
          ]
        }
      ],
      "source": [
        "x = 2    # int\n",
        "y = 3.4  # float\n",
        "z = 7j   # complex\n",
        "\n",
        "print(x, type(x))\n",
        "print(y, type(y))\n",
        "print(z, type(z))"
      ]
    },
    {
      "cell_type": "markdown",
      "id": "c3a320de",
      "metadata": {
        "id": "c3a320de"
      },
      "source": [
        "## 3. TOÁN TỬ TOÁN HỌC"
      ]
    },
    {
      "cell_type": "markdown",
      "id": "ed2a8dc4",
      "metadata": {
        "id": "ed2a8dc4"
      },
      "source": [
        "### 3.1 Các phép toán cơ bản"
      ]
    },
    {
      "cell_type": "code",
      "execution_count": null,
      "id": "0f5eb19a",
      "metadata": {
        "id": "0f5eb19a",
        "outputId": "2a5c3b15-b4da-4b68-bf4a-d7e7a25b7a0e"
      },
      "outputs": [
        {
          "name": "stdout",
          "output_type": "stream",
          "text": [
            "7 + 2 = 9\n",
            "7 - 2 = 5\n",
            "7 * 2 = 14\n",
            "7 / 2 = 3.5\n",
            "7 // 2 = 3\n",
            "7 % 2 = 1\n",
            "7 ** 2 = 49\n"
          ]
        }
      ],
      "source": [
        "print('7 + 2 =', 7 + 2)   # Cộng\n",
        "print('7 - 2 =', 7 - 2)   # Trừ\n",
        "print('7 * 2 =', 7 * 2)   # Nhân\n",
        "print('7 / 2 =', 7 / 2)   # Chia\n",
        "print('7 // 2 =', 7 // 2) # Chia lấy phần nguyên\n",
        "print('7 % 2 =', 7 % 2)   # Chia lấy phần dư\n",
        "print('7 ** 2 =', 7 ** 2) # Lũy thừa"
      ]
    },
    {
      "cell_type": "markdown",
      "id": "57a0bf87",
      "metadata": {
        "id": "57a0bf87"
      },
      "source": [
        "### 3.2 Toán tử Boolean"
      ]
    },
    {
      "cell_type": "code",
      "execution_count": null,
      "id": "24e1d7c9",
      "metadata": {
        "id": "24e1d7c9",
        "outputId": "09d41190-b1f6-4884-a880-5bec7e3daebc"
      },
      "outputs": [
        {
          "name": "stdout",
          "output_type": "stream",
          "text": [
            "True\n",
            "False\n",
            "False\n"
          ]
        }
      ],
      "source": [
        "print(3 > 2)   # True\n",
        "print(3 == 2)  # False\n",
        "print(3 < 2)   # False"
      ]
    },
    {
      "cell_type": "markdown",
      "id": "68cad1ef",
      "metadata": {
        "id": "68cad1ef"
      },
      "source": [
        "## 4. ỨNG DỤNG THỰC TẾ"
      ]
    },
    {
      "cell_type": "markdown",
      "id": "1c85a7b5",
      "metadata": {
        "id": "1c85a7b5"
      },
      "source": [
        "### 4.1 Máy tính BMI"
      ]
    },
    {
      "cell_type": "code",
      "execution_count": null,
      "id": "ffc298f6",
      "metadata": {
        "id": "ffc298f6",
        "outputId": "1bbcdaf1-df1d-4d5b-c90f-9319476cd3cd"
      },
      "outputs": [
        {
          "name": "stdout",
          "output_type": "stream",
          "text": [
            "Your BMI is: 20.8\n"
          ]
        }
      ],
      "source": [
        "# BMI Calculator - Máy tính chỉ số BMI\n",
        "height_cm = 170  # Chiều cao (cm)\n",
        "weight_kg = 60   # Cân nặng (kg)\n",
        "\n",
        "height_m = height_cm / 100           # Chuyển sang mét\n",
        "BMI = weight_kg / (height_m ** 2)    # Công thức BMI\n",
        "\n",
        "print(\"Your BMI is: \" + str(round(BMI, 1)))"
      ]
    },
    {
      "cell_type": "markdown",
      "id": "46ad0d33",
      "metadata": {
        "id": "46ad0d33"
      },
      "source": [
        "### 4.2 Tính giá trị tương lai (Future Value)"
      ]
    },
    {
      "cell_type": "markdown",
      "id": "da36aef2",
      "metadata": {
        "id": "da36aef2"
      },
      "source": [
        "#### Cách 1: Tính trực tiếp"
      ]
    },
    {
      "cell_type": "code",
      "execution_count": null,
      "id": "049db27d",
      "metadata": {
        "id": "049db27d",
        "outputId": "58ed32d8-ab2c-46f6-fa84-b26befa2030f"
      },
      "outputs": [
        {
          "name": "stdout",
          "output_type": "stream",
          "text": [
            "fv =  194.87\n"
          ]
        }
      ],
      "source": [
        "# Tính $100 sau 7 năm với lãi suất 10%\n",
        "fv = 100 * 1.1 ** 7\n",
        "print('fv = ', round(fv, 2))"
      ]
    },
    {
      "cell_type": "markdown",
      "id": "d62e6028",
      "metadata": {
        "id": "d62e6028"
      },
      "source": [
        "#### Cách 2: Sử dụng biến"
      ]
    },
    {
      "cell_type": "code",
      "execution_count": null,
      "id": "7b23debd",
      "metadata": {
        "id": "7b23debd",
        "outputId": "1f7ae971-589b-4fbe-801e-9e1e3cfb2112"
      },
      "outputs": [
        {
          "name": "stdout",
          "output_type": "stream",
          "text": [
            "194.87\n"
          ]
        }
      ],
      "source": [
        "pv = 100  # Present Value - Giá trị hiện tại\n",
        "r = 0.1   # Interest Rate - Lãi suất (10%)\n",
        "n = 7     # Number of years - Số năm\n",
        "\n",
        "fv = pv * ((1 + r) ** n)  # Công thức FV\n",
        "print(round(fv, 2))"
      ]
    },
    {
      "cell_type": "markdown",
      "id": "a0a70c1d",
      "metadata": {
        "id": "a0a70c1d"
      },
      "source": [
        "#### Cách 3: Sử dụng phần trăm"
      ]
    },
    {
      "cell_type": "code",
      "execution_count": null,
      "id": "8fdc42a0",
      "metadata": {
        "id": "8fdc42a0",
        "outputId": "81cc18e3-3e9e-4d74-bfc1-3f259f3df37a"
      },
      "outputs": [
        {
          "name": "stdout",
          "output_type": "stream",
          "text": [
            "194.87\n"
          ]
        }
      ],
      "source": [
        "amount = 100\n",
        "interest = 10    # 10% = 0.01 * 10\n",
        "years = 7\n",
        "\n",
        "future_value = amount * ((1 + (0.01 * interest)) ** years)\n",
        "print(round(future_value, 2))"
      ]
    },
    {
      "cell_type": "markdown",
      "id": "5dedd6c9",
      "metadata": {
        "id": "5dedd6c9"
      },
      "source": [
        "## 5. CẤU TRÚC DỮ LIỆU"
      ]
    },
    {
      "cell_type": "markdown",
      "id": "4445a0ae",
      "metadata": {
        "id": "4445a0ae"
      },
      "source": [
        "### 5.1 Lists (Danh sách) - []"
      ]
    },
    {
      "cell_type": "code",
      "execution_count": null,
      "id": "663e9c07",
      "metadata": {
        "id": "663e9c07",
        "outputId": "a2de7eca-29a7-4cf9-9d03-d8433cdf7013"
      },
      "outputs": [
        {
          "name": "stdout",
          "output_type": "stream",
          "text": [
            "4\n",
            "60\n",
            "70\n",
            "90\n"
          ]
        }
      ],
      "source": [
        "# Tạo và truy cập list\n",
        "x = [60, 70, 80, 90]\n",
        "\n",
        "print(len(x))    # Độ dài list\n",
        "print(x[0])      # Phần tử đầu tiên\n",
        "print(x[1])      # Phần tử thứ hai\n",
        "print(x[-1])     # Phần tử cuối cùng"
      ]
    },
    {
      "cell_type": "markdown",
      "id": "394ecf6d",
      "metadata": {
        "id": "394ecf6d"
      },
      "source": [
        "### 5.2 Tuples (Bộ) - ()"
      ]
    },
    {
      "cell_type": "code",
      "execution_count": null,
      "id": "667185e5",
      "metadata": {
        "id": "667185e5",
        "outputId": "6d06a468-9d1b-400b-aa30-61c40ea101f4"
      },
      "outputs": [
        {
          "name": "stdout",
          "output_type": "stream",
          "text": [
            "10\n",
            "20\n",
            "30\n",
            "50\n"
          ]
        }
      ],
      "source": [
        "# Tuple không thể thay đổi\n",
        "x = (10, 20, 30, 40, 50)\n",
        "\n",
        "print(x[0])   # 10\n",
        "print(x[1])   # 20\n",
        "print(x[2])   # 30\n",
        "print(x[-1])  # 50"
      ]
    },
    {
      "cell_type": "markdown",
      "id": "4da8555d",
      "metadata": {
        "id": "4da8555d"
      },
      "source": [
        "### 5.3 Sets (Tập hợp) - {}"
      ]
    },
    {
      "cell_type": "code",
      "execution_count": null,
      "id": "98e4a757",
      "metadata": {
        "id": "98e4a757",
        "outputId": "4b14c1f7-cc63-4259-e3dd-91e385a5bae6"
      },
      "outputs": [
        {
          "name": "stdout",
          "output_type": "stream",
          "text": [
            "True\n",
            "False\n",
            "True\n",
            "3\n",
            "3\n",
            "2\n"
          ]
        }
      ],
      "source": [
        "animals = {'cat', 'dog'}\n",
        "\n",
        "print('cat' in animals)    # Kiểm tra có tồn tại\n",
        "print('fish' in animals)   # False\n",
        "\n",
        "animals.add('fish')        # Thêm phần tử\n",
        "print('fish' in animals)   # True\n",
        "print(len(animals))        # 3\n",
        "\n",
        "animals.add('cat')         # Thêm phần tử đã có\n",
        "print(len(animals))        # Vẫn 3 (không trùng lặp)\n",
        "\n",
        "animals.remove('cat')      # Xóa phần tử\n",
        "print(len(animals))        # 2"
      ]
    },
    {
      "cell_type": "markdown",
      "id": "fc0832ae",
      "metadata": {
        "id": "fc0832ae"
      },
      "source": [
        "### 5.4 Dictionary (Từ điển) - {key: value}"
      ]
    },
    {
      "cell_type": "code",
      "execution_count": null,
      "id": "0811a912",
      "metadata": {
        "id": "0811a912",
        "outputId": "648dae39-9c40-4834-face-a8234642c792"
      },
      "outputs": [
        {
          "name": "stdout",
          "output_type": "stream",
          "text": [
            "English\n"
          ]
        }
      ],
      "source": [
        "k = {'EN': 'English', 'FR': 'French'}\n",
        "print(k['EN'])  # Truy cập qua key"
      ]
    },
    {
      "cell_type": "markdown",
      "id": "b71fc767",
      "metadata": {
        "id": "b71fc767"
      },
      "source": [
        "### 5.5 Tổng hợp cấu trúc dữ liệu"
      ]
    },
    {
      "cell_type": "code",
      "execution_count": null,
      "id": "54b46064",
      "metadata": {
        "id": "54b46064",
        "outputId": "cb03001b-f3f3-403a-eeb9-1bc63e39dfde"
      },
      "outputs": [
        {
          "name": "stdout",
          "output_type": "stream",
          "text": [
            "['apple', 'banana', 'cherry']\n",
            "('red', 'green', 'blue')\n",
            "{'dog', 'cat'}\n",
            "{'name': 'Tom', 'age': 20}\n"
          ]
        }
      ],
      "source": [
        "fruits = [\"apple\", \"banana\", \"cherry\"]     # lists []\n",
        "print(fruits)\n",
        "colors = (\"red\", \"green\", \"blue\")          # tuples ()\n",
        "print(colors)\n",
        "animals = {'cat', 'dog'}                   # sets {}\n",
        "print(animals)\n",
        "person = {\"name\": \"Tom\", \"age\": 20}        # dictionaries {}\n",
        "print(person)"
      ]
    },
    {
      "cell_type": "markdown",
      "id": "e771f95d",
      "metadata": {
        "id": "e771f95d"
      },
      "source": [
        "## 6. ỨNG DỤNG TÀI CHÍNH"
      ]
    },
    {
      "cell_type": "markdown",
      "id": "d5b63d2e",
      "metadata": {
        "id": "d5b63d2e"
      },
      "source": [
        "### 6.1 Sử dụng Lists"
      ]
    },
    {
      "cell_type": "code",
      "execution_count": null,
      "id": "a19c73b3",
      "metadata": {
        "id": "a19c73b3",
        "outputId": "3b1d04d0-89e3-41de-dd96-abd326cb51df"
      },
      "outputs": [
        {
          "name": "stdout",
          "output_type": "stream",
          "text": [
            "Total expenses: 293.5\n"
          ]
        }
      ],
      "source": [
        "# Tính tổng chi phí\n",
        "expenses = [72.50, 80.75, 50.00, 90.25]\n",
        "total_expenses = sum(expenses)\n",
        "print(\"Total expenses:\", total_expenses)"
      ]
    },
    {
      "cell_type": "markdown",
      "id": "e9742dd8",
      "metadata": {
        "id": "e9742dd8"
      },
      "source": [
        "### 6.2 Sử dụng Tuples"
      ]
    },
    {
      "cell_type": "code",
      "execution_count": null,
      "id": "9b69562b",
      "metadata": {
        "id": "9b69562b",
        "outputId": "3d58dfff-b6d6-4192-e097-2685f2d3beda"
      },
      "outputs": [
        {
          "name": "stdout",
          "output_type": "stream",
          "text": [
            "Account name: Cash Account number: 1001\n",
            "Account name: Accounts Receivable Account number: 1002\n",
            "Account name: Inventory Account number: 1003\n"
          ]
        }
      ],
      "source": [
        "# Thông tin tài khoản\n",
        "accounts = ((\"Cash\", 1001),\n",
        "           (\"Accounts Receivable\", 1002),\n",
        "           (\"Inventory\", 1003))\n",
        "\n",
        "for account in accounts:\n",
        "    print(\"Account name:\", account[0], \"Account number:\", account[1])"
      ]
    },
    {
      "cell_type": "markdown",
      "id": "52cfe0f6",
      "metadata": {
        "id": "52cfe0f6"
      },
      "source": [
        "### 6.3 Sử dụng Sets"
      ]
    },
    {
      "cell_type": "code",
      "execution_count": null,
      "id": "faf0758e",
      "metadata": {
        "id": "faf0758e",
        "outputId": "f2ac0b6f-c816-4600-9c00-e471802c4692"
      },
      "outputs": [
        {
          "name": "stdout",
          "output_type": "stream",
          "text": [
            "Account number 1004 is not in use.\n"
          ]
        }
      ],
      "source": [
        "# Kiểm tra số tài khoản\n",
        "account_numbers = {1001, 1002, 1003}\n",
        "new_account_number = 1004\n",
        "\n",
        "if new_account_number not in account_numbers:\n",
        "    print(\"Account number\", new_account_number, \"is not in use.\")"
      ]
    },
    {
      "cell_type": "markdown",
      "id": "a79ebc81",
      "metadata": {
        "id": "a79ebc81"
      },
      "source": [
        "### 6.4 Sử dụng Dictionaries"
      ]
    },
    {
      "cell_type": "code",
      "execution_count": null,
      "id": "17037a00",
      "metadata": {
        "id": "17037a00",
        "outputId": "caf3fbcd-bd2f-40c1-afcb-ef2dda6b703c"
      },
      "outputs": [
        {
          "name": "stdout",
          "output_type": "stream",
          "text": [
            "Account number: 1001\n",
            "Account name: Cash\n",
            "Account balance: 500.0\n",
            "Account type: Asset\n",
            "Account number: 1002\n",
            "Account name: Accounts Receivable\n",
            "Account balance: 1000.0\n",
            "Account type: Asset\n",
            "Account number: 2001\n",
            "Account name: Accounts Payable\n",
            "Account balance: 750.0\n",
            "Account type: Liability\n"
          ]
        }
      ],
      "source": [
        "# Hệ thống tài khoản phức tạp\n",
        "accounts = {\n",
        "    \"1001\": {\"name\": \"Cash\", \"balance\": 500.00, \"type\": \"Asset\"},\n",
        "    \"1002\": {\"name\": \"Accounts Receivable\", \"balance\": 1000.00, \"type\": \"Asset\"},\n",
        "    \"2001\": {\"name\": \"Accounts Payable\", \"balance\": 750.00, \"type\": \"Liability\"}\n",
        "}\n",
        "\n",
        "for account_number, account_info in accounts.items():\n",
        "    print(\"Account number:\", account_number)\n",
        "    print(\"Account name:\", account_info[\"name\"])\n",
        "    print(\"Account balance:\", account_info[\"balance\"])\n",
        "    print(\"Account type:\", account_info[\"type\"])"
      ]
    },
    {
      "cell_type": "markdown",
      "id": "e96b7b11",
      "metadata": {
        "id": "e96b7b11"
      },
      "source": [
        "## 7. CẤU TRÚC ĐIỀU KHIỂN"
      ]
    },
    {
      "cell_type": "markdown",
      "id": "b508caf6",
      "metadata": {
        "id": "b508caf6"
      },
      "source": [
        "### 7.1 Câu lệnh If"
      ]
    },
    {
      "cell_type": "code",
      "execution_count": null,
      "id": "37a5d5e5",
      "metadata": {
        "id": "37a5d5e5",
        "outputId": "30268020-ab7e-4be7-b159-8b74b918d4bb"
      },
      "outputs": [
        {
          "name": "stdout",
          "output_type": "stream",
          "text": [
            "Pass\n"
          ]
        }
      ],
      "source": [
        "# If đơn giản\n",
        "score = 80\n",
        "if score >= 60:\n",
        "    print(\"Pass\")"
      ]
    },
    {
      "cell_type": "markdown",
      "id": "39b12538",
      "metadata": {
        "id": "39b12538"
      },
      "source": [
        "### 7.2 If-Else"
      ]
    },
    {
      "cell_type": "code",
      "execution_count": null,
      "id": "09cc2efe",
      "metadata": {
        "id": "09cc2efe",
        "outputId": "072e5c03-b44f-4a77-a987-1a7dc7552d18"
      },
      "outputs": [
        {
          "name": "stdout",
          "output_type": "stream",
          "text": [
            "Pass\n"
          ]
        }
      ],
      "source": [
        "score = 80\n",
        "if score >= 60:\n",
        "    print(\"Pass\")\n",
        "else:\n",
        "    print(\"Fail\")"
      ]
    },
    {
      "cell_type": "markdown",
      "id": "94139c4a",
      "metadata": {
        "id": "94139c4a"
      },
      "source": [
        "### 7.3 If-Elif-Else"
      ]
    },
    {
      "cell_type": "code",
      "execution_count": null,
      "id": "a1831990",
      "metadata": {
        "id": "a1831990",
        "outputId": "cff03bb5-380c-41a1-ad62-585a1fd12773"
      },
      "outputs": [
        {
          "name": "stdout",
          "output_type": "stream",
          "text": [
            "A\n"
          ]
        }
      ],
      "source": [
        "score = 95\n",
        "if score >= 90:\n",
        "    print(\"A\")\n",
        "elif score >= 60:\n",
        "    print(\"Pass\")\n",
        "else:\n",
        "    print(\"Fail\")"
      ]
    },
    {
      "cell_type": "markdown",
      "id": "021451c0",
      "metadata": {
        "id": "021451c0"
      },
      "source": [
        "### 7.4 Hệ thống chấm điểm"
      ]
    },
    {
      "cell_type": "code",
      "execution_count": null,
      "id": "ae7c39a5",
      "metadata": {
        "id": "ae7c39a5",
        "outputId": "6e102b8f-c53f-4a09-c0e9-36ec2f5a7f7e"
      },
      "outputs": [
        {
          "name": "stdout",
          "output_type": "stream",
          "text": [
            "A\n"
          ]
        }
      ],
      "source": [
        "score = 90\n",
        "grade = \"\"\n",
        "\n",
        "if score >= 90:\n",
        "    grade = \"A\"\n",
        "elif score >= 80:\n",
        "    grade = \"B\"\n",
        "elif score >= 70:\n",
        "    grade = \"C\"\n",
        "elif score >= 60:\n",
        "    grade = \"D\"\n",
        "else:\n",
        "    grade = \"E\"\n",
        "\n",
        "print(grade)"
      ]
    },
    {
      "cell_type": "markdown",
      "id": "e7df1ca7",
      "metadata": {
        "id": "e7df1ca7"
      },
      "source": [
        "## 8. VÒNG LẶP"
      ]
    },
    {
      "cell_type": "markdown",
      "id": "059d294d",
      "metadata": {
        "id": "059d294d"
      },
      "source": [
        "### 8.1 For Loop với range"
      ]
    },
    {
      "cell_type": "code",
      "execution_count": null,
      "id": "1bfa2ccf",
      "metadata": {
        "id": "1bfa2ccf",
        "outputId": "88e5617e-8b1a-4ba1-d8cb-dd8405d53c81"
      },
      "outputs": [
        {
          "name": "stdout",
          "output_type": "stream",
          "text": [
            "1\n",
            "2\n",
            "3\n",
            "4\n",
            "5\n"
          ]
        }
      ],
      "source": [
        "for i in range(1, 6):\n",
        "    print(i)"
      ]
    },
    {
      "cell_type": "markdown",
      "id": "6ecd9018",
      "metadata": {
        "id": "6ecd9018"
      },
      "source": [
        "### 8.2 Vòng lặp lồng nhau"
      ]
    },
    {
      "cell_type": "code",
      "execution_count": null,
      "id": "a0b70d13",
      "metadata": {
        "id": "a0b70d13",
        "outputId": "ccbf3c53-7d07-43b7-e614-d7b2a48713e2"
      },
      "outputs": [
        {
          "name": "stdout",
          "output_type": "stream",
          "text": [
            "1  *  1  =  1\n",
            "1  *  2  =  2\n",
            "1  *  3  =  3\n",
            "1  *  4  =  4\n",
            "1  *  5  =  5\n",
            "1  *  6  =  6\n",
            "1  *  7  =  7\n",
            "1  *  8  =  8\n",
            "1  *  9  =  9\n",
            "2  *  1  =  2\n",
            "2  *  2  =  4\n",
            "2  *  3  =  6\n",
            "2  *  4  =  8\n",
            "2  *  5  =  10\n",
            "2  *  6  =  12\n",
            "2  *  7  =  14\n",
            "2  *  8  =  16\n",
            "2  *  9  =  18\n",
            "3  *  1  =  3\n",
            "3  *  2  =  6\n",
            "3  *  3  =  9\n",
            "3  *  4  =  12\n",
            "3  *  5  =  15\n",
            "3  *  6  =  18\n",
            "3  *  7  =  21\n",
            "3  *  8  =  24\n",
            "3  *  9  =  27\n",
            "4  *  1  =  4\n",
            "4  *  2  =  8\n",
            "4  *  3  =  12\n",
            "4  *  4  =  16\n",
            "4  *  5  =  20\n",
            "4  *  6  =  24\n",
            "4  *  7  =  28\n",
            "4  *  8  =  32\n",
            "4  *  9  =  36\n",
            "5  *  1  =  5\n",
            "5  *  2  =  10\n",
            "5  *  3  =  15\n",
            "5  *  4  =  20\n",
            "5  *  5  =  25\n",
            "5  *  6  =  30\n",
            "5  *  7  =  35\n",
            "5  *  8  =  40\n",
            "5  *  9  =  45\n",
            "6  *  1  =  6\n",
            "6  *  2  =  12\n",
            "6  *  3  =  18\n",
            "6  *  4  =  24\n",
            "6  *  5  =  30\n",
            "6  *  6  =  36\n",
            "6  *  7  =  42\n",
            "6  *  8  =  48\n",
            "6  *  9  =  54\n",
            "7  *  1  =  7\n",
            "7  *  2  =  14\n",
            "7  *  3  =  21\n",
            "7  *  4  =  28\n",
            "7  *  5  =  35\n",
            "7  *  6  =  42\n",
            "7  *  7  =  49\n",
            "7  *  8  =  56\n",
            "7  *  9  =  63\n",
            "8  *  1  =  8\n",
            "8  *  2  =  16\n",
            "8  *  3  =  24\n",
            "8  *  4  =  32\n",
            "8  *  5  =  40\n",
            "8  *  6  =  48\n",
            "8  *  7  =  56\n",
            "8  *  8  =  64\n",
            "8  *  9  =  72\n",
            "9  *  1  =  9\n",
            "9  *  2  =  18\n",
            "9  *  3  =  27\n",
            "9  *  4  =  36\n",
            "9  *  5  =  45\n",
            "9  *  6  =  54\n",
            "9  *  7  =  63\n",
            "9  *  8  =  72\n",
            "9  *  9  =  81\n"
          ]
        }
      ],
      "source": [
        "# Bảng cửu chương\n",
        "for i in range(1, 10):\n",
        "    for j in range(1, 10):\n",
        "        print(i, ' * ', j, ' = ', i*j)"
      ]
    },
    {
      "cell_type": "markdown",
      "id": "f7cd2674",
      "metadata": {
        "id": "f7cd2674"
      },
      "source": [
        "### 8.3 While Loop"
      ]
    },
    {
      "cell_type": "code",
      "execution_count": null,
      "id": "df511b17",
      "metadata": {
        "id": "df511b17",
        "outputId": "b05d095d-8aa3-4888-bad5-f41d82e5137a"
      },
      "outputs": [
        {
          "name": "stdout",
          "output_type": "stream",
          "text": [
            "10\n",
            "11\n",
            "12\n",
            "13\n",
            "14\n",
            "15\n",
            "16\n",
            "17\n",
            "18\n",
            "19\n"
          ]
        }
      ],
      "source": [
        "age = 10\n",
        "while age < 20:\n",
        "    print(age)\n",
        "    age = age + 1"
      ]
    },
    {
      "cell_type": "markdown",
      "id": "5ce20a56",
      "metadata": {
        "id": "5ce20a56"
      },
      "source": [
        "## 9. HÀM (FUNCTIONS)"
      ]
    },
    {
      "cell_type": "markdown",
      "id": "62311ada",
      "metadata": {
        "id": "62311ada"
      },
      "source": [
        "### 9.1 Định nghĩa hàm"
      ]
    },
    {
      "cell_type": "code",
      "execution_count": null,
      "id": "a26f6413",
      "metadata": {
        "id": "a26f6413",
        "outputId": "c03e9a5d-d4ae-47c0-ea4a-1f212508fd3f"
      },
      "outputs": [
        {
          "name": "stdout",
          "output_type": "stream",
          "text": [
            "194.87\n"
          ]
        }
      ],
      "source": [
        "def getfv(pv, r, n):\n",
        "    \"\"\"Tính giá trị tương lai\"\"\"\n",
        "    fv = pv * ((1 + r) ** n)\n",
        "    return fv\n",
        "\n",
        "# Sử dụng hàm\n",
        "fv = getfv(100, 0.1, 7)\n",
        "print(round(fv, 2))"
      ]
    },
    {
      "cell_type": "markdown",
      "id": "7d824ca9",
      "metadata": {
        "id": "7d824ca9"
      },
      "source": [
        "## 10. LỚP VÀ ĐỐI TƯỢNG (CLASSES & OBJECTS)"
      ]
    },
    {
      "cell_type": "markdown",
      "id": "a18dcada",
      "metadata": {
        "id": "a18dcada"
      },
      "source": [
        "### 10.1 Lớp đơn giản"
      ]
    },
    {
      "cell_type": "code",
      "execution_count": null,
      "id": "d3cefd2c",
      "metadata": {
        "id": "d3cefd2c",
        "outputId": "1fb4a589-604c-4b0f-baec-ecaca677c088"
      },
      "outputs": [
        {
          "name": "stdout",
          "output_type": "stream",
          "text": [
            "5\n"
          ]
        }
      ],
      "source": [
        "class MyClass:\n",
        "    x = 5\n",
        "\n",
        "c1 = MyClass()\n",
        "print(c1.x)"
      ]
    },
    {
      "cell_type": "markdown",
      "id": "b772742a",
      "metadata": {
        "id": "b772742a"
      },
      "source": [
        "### 10.2 Lớp với Constructor"
      ]
    },
    {
      "cell_type": "code",
      "execution_count": null,
      "id": "0cf64ee3",
      "metadata": {
        "id": "0cf64ee3",
        "outputId": "6d9d5969-1034-49eb-d807-cff4d3482292"
      },
      "outputs": [
        {
          "name": "stdout",
          "output_type": "stream",
          "text": [
            "Alan\n",
            "20\n"
          ]
        }
      ],
      "source": [
        "class Person:\n",
        "    def __init__(self, name, age):\n",
        "        self.name = name\n",
        "        self.age = age\n",
        "\n",
        "p1 = Person(\"Alan\", 20)\n",
        "print(p1.name)\n",
        "print(p1.age)"
      ]
    },
    {
      "cell_type": "markdown",
      "id": "db30cca4",
      "metadata": {
        "id": "db30cca4"
      },
      "source": [
        "### 10.3 Lớp với phương thức"
      ]
    },
    {
      "cell_type": "code",
      "execution_count": null,
      "id": "6b412323",
      "metadata": {
        "id": "6b412323",
        "outputId": "a3642157-fdae-4f88-fedb-15d7c8c981f5"
      },
      "outputs": [
        {
          "name": "stdout",
          "output_type": "stream",
          "text": [
            "Hello my name is Alan\n",
            "Alan\n",
            "20\n"
          ]
        }
      ],
      "source": [
        "class Person:\n",
        "    def __init__(self, name, age):\n",
        "        self.name = name\n",
        "        self.age = age\n",
        "\n",
        "    def myfunc(self):\n",
        "        print(\"Hello my name is \" + self.name)\n",
        "\n",
        "p1 = Person(\"Alan\", 20)\n",
        "p1.myfunc()\n",
        "print(p1.name)\n",
        "print(p1.age)"
      ]
    },
    {
      "cell_type": "markdown",
      "id": "1ec28b7a",
      "metadata": {
        "id": "1ec28b7a"
      },
      "source": [
        "### 10.4 Ví dụ thực tế - Lớp Vehicle"
      ]
    },
    {
      "cell_type": "code",
      "execution_count": null,
      "id": "58f69fbd",
      "metadata": {
        "id": "58f69fbd",
        "outputId": "26cae4eb-3b6b-46ef-8e2d-62e0a5a4f1fa"
      },
      "outputs": [
        {
          "name": "stdout",
          "output_type": "stream",
          "text": [
            "Fer is a red convertible worth $60000.00.\n",
            "Fer\n",
            "Jump is a blue van worth $10000.00.\n",
            "Jump\n"
          ]
        }
      ],
      "source": [
        "class Vehicle:\n",
        "    name = \"\"\n",
        "    kind = \"car\"\n",
        "    color = \"\"\n",
        "    value = 100.00\n",
        "\n",
        "    def description(self):\n",
        "        desc_str = \"%s is a %s %s worth $%.2f.\" % (\n",
        "            self.name, self.color, self.kind, self.value)\n",
        "        return desc_str\n",
        "\n",
        "# Tạo đối tượng\n",
        "car1 = Vehicle()\n",
        "car1.name = \"Fer\"\n",
        "car1.color = \"red\"\n",
        "car1.kind = \"convertible\"\n",
        "car1.value = 60000.00\n",
        "\n",
        "car2 = Vehicle()\n",
        "car2.name = \"Jump\"\n",
        "car2.color = \"blue\"\n",
        "car2.kind = \"van\"\n",
        "car2.value = 10000.00\n",
        "\n",
        "print(car1.description())\n",
        "print(car1.name)\n",
        "print(car2.description())\n",
        "print(car2.name)"
      ]
    },
    {
      "cell_type": "markdown",
      "id": "4642941d",
      "metadata": {
        "id": "4642941d"
      },
      "source": [
        "## 11. MODULES (PHÂN MẢNH CODE)"
      ]
    },
    {
      "cell_type": "markdown",
      "id": "2fbf11ce",
      "metadata": {
        "id": "2fbf11ce"
      },
      "source": [
        "### 11.1 Tạo Module"
      ]
    },
    {
      "cell_type": "code",
      "execution_count": null,
      "id": "0848d7e0",
      "metadata": {
        "id": "0848d7e0"
      },
      "outputs": [],
      "source": [
        "# Tạo file mymodule.py\n",
        "# def greeting(name):\n",
        "#     print(\"Hello, \" + name)"
      ]
    },
    {
      "cell_type": "markdown",
      "id": "cf465770",
      "metadata": {
        "id": "cf465770"
      },
      "source": [
        "### 11.2 Sử dụng Module"
      ]
    },
    {
      "cell_type": "code",
      "execution_count": null,
      "id": "a47035bd",
      "metadata": {
        "id": "a47035bd",
        "outputId": "23498ac6-8f88-43e6-de38-6581aa6c7642"
      },
      "outputs": [
        {
          "name": "stdout",
          "output_type": "stream",
          "text": [
            "Hello, Alan\n"
          ]
        }
      ],
      "source": [
        "import mymodule\n",
        "mymodule.greeting(\"Alan\")"
      ]
    },
    {
      "cell_type": "markdown",
      "id": "81ef43d3",
      "metadata": {
        "id": "81ef43d3"
      },
      "source": [
        "### 11.3 Tạo và import module động"
      ]
    },
    {
      "cell_type": "code",
      "execution_count": null,
      "id": "2e888029",
      "metadata": {
        "id": "2e888029",
        "outputId": "dc0a2670-4463-431d-cbdd-03c8be501f23"
      },
      "outputs": [
        {
          "name": "stdout",
          "output_type": "stream",
          "text": [
            "mymodule.py\n",
            "def greeting(name):\n",
            "    print(\"Hello, \" + name)\n",
            "\n",
            "Hello, Alan\n"
          ]
        }
      ],
      "source": [
        "# Tạo file module\n",
        "filename = 'mymodule.py'\n",
        "with open(filename, 'w') as file:\n",
        "    text = '''def greeting(name):\n",
        "    print(\"Hello, \" + name)\n",
        "'''\n",
        "    file.write(text)\n",
        "\n",
        "# Đọc và kiểm tra nội dung\n",
        "with open(filename, 'r') as file:\n",
        "    text = file.read()\n",
        "    print(filename)\n",
        "    print(text)\n",
        "\n",
        "# Import và sử dụng\n",
        "import mymodule\n",
        "mymodule.greeting(\"Alan\")"
      ]
    },
    {
      "cell_type": "markdown",
      "id": "a6c1e643",
      "metadata": {
        "id": "a6c1e643"
      },
      "source": [
        "### 11.4 Hàm main()"
      ]
    },
    {
      "cell_type": "code",
      "execution_count": null,
      "id": "879ec66e",
      "metadata": {
        "id": "879ec66e",
        "outputId": "7a6a6af2-f399-46e3-ac34-23a04586fc02"
      },
      "outputs": [
        {
          "name": "stdout",
          "output_type": "stream",
          "text": [
            "Hello World!\n"
          ]
        }
      ],
      "source": [
        "def main():\n",
        "    print(\"Hello World!\")\n",
        "\n",
        "if __name__ == \"__main__\":\n",
        "    main()"
      ]
    },
    {
      "cell_type": "markdown",
      "id": "aa4a083f",
      "metadata": {
        "id": "aa4a083f"
      },
      "source": [
        "## 12. XỬ LÝ FILE"
      ]
    },
    {
      "cell_type": "markdown",
      "id": "05c21bac",
      "metadata": {
        "id": "05c21bac"
      },
      "source": [
        "### 12.1 Ghi và đọc file cơ bản"
      ]
    },
    {
      "cell_type": "code",
      "execution_count": null,
      "id": "10a1a03e",
      "metadata": {
        "id": "10a1a03e",
        "outputId": "25069144-52b0-4581-bb7c-ab3b59e7b019"
      },
      "outputs": [
        {
          "name": "stdout",
          "output_type": "stream",
          "text": [
            "Hello World\n"
          ]
        }
      ],
      "source": [
        "# Ghi file\n",
        "f = open(\"myfile.txt\", \"w\") # Mở file để ghi\n",
        "f.write(\"Hello World\") # Ghi nội dung\n",
        "f.close() # Đóng file\n",
        "\n",
        "# Đọc file\n",
        "f = open(\"myfile.txt\", \"r\") # Mở file để đọc\n",
        "text = f.read() # Đọc nội dung\n",
        "print(text) # In nội dung\n",
        "f.close() # Đóng file"
      ]
    },
    {
      "cell_type": "markdown",
      "id": "2d64ee3f",
      "metadata": {
        "id": "2d64ee3f"
      },
      "source": [
        "### 12.2 Sử dụng with statement (khuyến nghị)"
      ]
    },
    {
      "cell_type": "code",
      "execution_count": null,
      "id": "7921a309",
      "metadata": {
        "id": "7921a309",
        "outputId": "e684b5e7-1882-459f-8889-8420a92190d0"
      },
      "outputs": [
        {
          "name": "stdout",
          "output_type": "stream",
          "text": [
            "Hello World\n"
          ]
        }
      ],
      "source": [
        "# Ghi file với with\n",
        "with open('myfile.txt', 'w') as file:\n",
        "    file.write('Hello World')\n",
        "\n",
        "# Đọc file với with\n",
        "with open('myfile.txt', 'r') as file:\n",
        "    text = file.read()\n",
        "    print(text)"
      ]
    },
    {
      "cell_type": "markdown",
      "id": "6656a958",
      "metadata": {
        "id": "6656a958"
      },
      "source": [
        "### 12.3 Ghi nhiều dòng"
      ]
    },
    {
      "cell_type": "code",
      "execution_count": null,
      "id": "82ddf4b6",
      "metadata": {
        "id": "82ddf4b6",
        "outputId": "8ce16ca5-2ed8-4c41-dde3-47d002094522"
      },
      "outputs": [
        {
          "name": "stdout",
          "output_type": "stream",
          "text": [
            "Hello World\n",
            "Python File IO\n"
          ]
        }
      ],
      "source": [
        "with open('myfile.txt', 'w') as file:\n",
        "    file.write('Hello World\\nPython File IO')\n",
        "\n",
        "with open('myfile.txt', 'r') as file:\n",
        "    text = file.read()\n",
        "    print(text)"
      ]
    },
    {
      "cell_type": "markdown",
      "id": "8f52d9a5",
      "metadata": {
        "id": "8f52d9a5"
      },
      "source": [
        "### 12.4 Append (thêm vào file)"
      ]
    },
    {
      "cell_type": "code",
      "execution_count": null,
      "id": "4b8b1d59",
      "metadata": {
        "id": "4b8b1d59",
        "outputId": "112c34aa-a755-4a7a-f12c-327e765de53a"
      },
      "outputs": [
        {
          "name": "stdout",
          "output_type": "stream",
          "text": [
            "Hello World\n",
            "Python File IO\n",
            "New line\n"
          ]
        }
      ],
      "source": [
        "with open('myfile.txt', 'a+') as file:\n",
        "    file.write('\\n' + 'New line') # Thêm dòng mới\n",
        "\n",
        "with open('myfile.txt', 'r') as file:\n",
        "    text = file.read()\n",
        "    print(text)"
      ]
    },
    {
      "cell_type": "markdown",
      "id": "080afa38",
      "metadata": {
        "id": "080afa38"
      },
      "source": [
        "### 12.5 Làm việc với OS"
      ]
    },
    {
      "cell_type": "code",
      "execution_count": null,
      "id": "d3577e54",
      "metadata": {
        "id": "d3577e54",
        "outputId": "38ffca21-aba1-4334-b42a-78a8ce634199"
      },
      "outputs": [
        {
          "name": "stdout",
          "output_type": "stream",
          "text": [
            "d:\\University\\PTDL\\Repository_github\\SGU_PTDL_2025\\demo_slide\n",
            "['myfile.txt', 'mymodule.py', 'silde_002_code.ipynb', 'slide_003_code.ipynb', '__pycache__']\n",
            "d:\\University\\PTDL\\Repository_github\\SGU_PTDL_2025\\demo_slide\\sample_data\n",
            "[]\n"
          ]
        }
      ],
      "source": [
        "import os\n",
        "\n",
        "# Lấy thư mục hiện tại\n",
        "cwd = os.getcwd()\n",
        "print(cwd)\n",
        "\n",
        "# Liệt kê file trong thư mục\n",
        "print(os.listdir(cwd))\n",
        "\n",
        "# Tạo đường dẫn\n",
        "path = os.path.join(cwd, 'sample_data') # Tạo đường dẫn\n",
        "print(path) # In đường dẫn\n",
        "\n",
        "# Kiểm tra và tạo thư mục nếu chưa tồn tại\n",
        "if not os.path.exists(path):\n",
        "\tos.makedirs(path)\n",
        "\n",
        "print(os.listdir(path)) # Liệt kê file trong thư mục sample_data"
      ]
    },
    {
      "cell_type": "markdown",
      "id": "36373427",
      "metadata": {
        "id": "36373427"
      },
      "source": [
        "### 12.6 Xóa file và folder"
      ]
    },
    {
      "cell_type": "code",
      "execution_count": null,
      "id": "47a75dfc",
      "metadata": {
        "id": "47a75dfc",
        "outputId": "7c4434ac-e234-44e9-9bc8-094238e5a186"
      },
      "outputs": [
        {
          "name": "stdout",
          "output_type": "stream",
          "text": [
            "myfile.txt removed\n"
          ]
        }
      ],
      "source": [
        "import os\n",
        "\n",
        "# Xóa file\n",
        "if os.path.exists(\"myfile.txt\"):\n",
        "    os.remove(\"myfile.txt\")\n",
        "    print(\"myfile.txt removed\")\n",
        "else:\n",
        "    print(\"The file does not exist\")\n",
        "\n",
        "# Tạo và xóa folder\n",
        "os.mkdir(\"myfolder1\")      # Tạo folder\n",
        "os.rmdir(\"myfolder1\")      # Xóa folder"
      ]
    },
    {
      "cell_type": "markdown",
      "id": "74741ff8",
      "metadata": {
        "id": "74741ff8"
      },
      "source": [
        "## 13. XỬ LÝ NGOẠI LỆ (EXCEPTION HANDLING)"
      ]
    },
    {
      "cell_type": "markdown",
      "id": "13123c19",
      "metadata": {
        "id": "13123c19"
      },
      "source": [
        "### 13.1 Try-Except cơ bản"
      ]
    },
    {
      "cell_type": "code",
      "execution_count": null,
      "id": "186bee4a",
      "metadata": {
        "id": "186bee4a",
        "outputId": "47bd05a7-ad3d-491f-ef22-c267c5852980"
      },
      "outputs": [
        {
          "name": "stdout",
          "output_type": "stream",
          "text": [
            "(10, 20, 30, 40, 50)\n"
          ]
        }
      ],
      "source": [
        "try: # Thử chạy đoạn code này\n",
        "    print(x)\n",
        "except: # Nếu lỗi xảy ra thì chạy đoạn code này\n",
        "    print(\"Exception Error\")"
      ]
    },
    {
      "cell_type": "markdown",
      "id": "2f22e4e4",
      "metadata": {
        "id": "2f22e4e4"
      },
      "source": [
        "### 13.2 Try-Except-Finally"
      ]
    },
    {
      "cell_type": "code",
      "execution_count": null,
      "id": "b38806a8",
      "metadata": {
        "id": "b38806a8",
        "outputId": "974eea27-51fc-4339-8b73-6fb13616504f"
      },
      "outputs": [
        {
          "name": "stdout",
          "output_type": "stream",
          "text": [
            "Hello\n",
            "Finally process\n"
          ]
        }
      ],
      "source": [
        "try:\n",
        "    print(\"Hello\")\n",
        "except:\n",
        "    print(\"Exception Error\")\n",
        "finally: # Luôn chạy đoạn code này\n",
        "    print(\"Finally process\")"
      ]
    },
    {
      "cell_type": "markdown",
      "id": "59dafc30",
      "metadata": {
        "id": "59dafc30"
      },
      "source": [
        "### 13.3 Try-Except-Else"
      ]
    },
    {
      "cell_type": "code",
      "execution_count": null,
      "id": "7b84cb2d",
      "metadata": {
        "id": "7b84cb2d",
        "outputId": "bec1b415-b629-42ab-ac91-88a5513cd3bb"
      },
      "outputs": [
        {
          "name": "stdout",
          "output_type": "stream",
          "text": [
            "Hello\n",
            "No exception\n"
          ]
        }
      ],
      "source": [
        "try:\n",
        "    print(\"Hello\")\n",
        "except:\n",
        "    print(\"Exception Error\")\n",
        "else: # Nếu không lỗi thì chạy đoạn code này\n",
        "    print(\"No exception\")"
      ]
    },
    {
      "cell_type": "markdown",
      "id": "b23a92c7",
      "metadata": {
        "id": "b23a92c7"
      },
      "source": [
        "### 13.4 Đầy đủ Try-Except-Else-Finally"
      ]
    },
    {
      "cell_type": "code",
      "execution_count": null,
      "id": "16452736",
      "metadata": {
        "id": "16452736",
        "outputId": "6bc8c452-c5fa-467b-8d01-78d243c6de24"
      },
      "outputs": [
        {
          "name": "stdout",
          "output_type": "stream",
          "text": [
            "Hello\n",
            "No exception\n",
            "Finally process\n"
          ]
        }
      ],
      "source": [
        "try:\n",
        "    print(\"Hello\")\n",
        "except:\n",
        "    print(\"Exception Error\")\n",
        "else:\n",
        "    print(\"No exception\")\n",
        "finally:\n",
        "    print(\"Finally process\")"
      ]
    },
    {
      "cell_type": "markdown",
      "id": "e7e6f772",
      "metadata": {
        "id": "e7e6f772"
      },
      "source": [
        "### 13.5 Ứng dụng thực tế"
      ]
    },
    {
      "cell_type": "code",
      "execution_count": null,
      "id": "90b99c5e",
      "metadata": {
        "id": "90b99c5e",
        "outputId": "ca249c0d-6fd3-4b96-c478-ecf5932605e2"
      },
      "outputs": [
        {
          "name": "stdout",
          "output_type": "stream",
          "text": [
            "The total value of the shares is: 20.0\n",
            "Thank you.\n"
          ]
        }
      ],
      "source": [
        "try:\n",
        "    price = float(input(\"Enter the price of the stock (e.g. 10):\"))\n",
        "    shares = int(input(\"Enter the number of shares (e.g. 2):\"))\n",
        "    total = price * shares\n",
        "except Exception as e:\n",
        "    print(\"Exception error:\", str(e))\n",
        "else:\n",
        "    print(\"The total value of the shares is:\", total)\n",
        "finally:\n",
        "    print(\"Thank you.\")"
      ]
    },
    {
      "cell_type": "markdown",
      "id": "29078b19",
      "metadata": {
        "id": "29078b19"
      },
      "source": [
        "### 13.6 Xử lý lỗi file"
      ]
    },
    {
      "cell_type": "code",
      "execution_count": null,
      "id": "7755687f",
      "metadata": {
        "id": "7755687f",
        "outputId": "30d32b65-f172-426e-bc02-03ba73ea72ab"
      },
      "outputs": [
        {
          "name": "stdout",
          "output_type": "stream",
          "text": [
            "Exception file Error\n"
          ]
        }
      ],
      "source": [
        "# Lỗi khi mở file không tồn tại\n",
        "try:\n",
        "    file = open(\"myfile.txt\")\n",
        "    file.write(\"Python write file\")\n",
        "    print(\"file saved\")\n",
        "except:\n",
        "    print(\"Exception file Error\")"
      ]
    },
    {
      "cell_type": "code",
      "execution_count": null,
      "id": "271fcb6c",
      "metadata": {
        "id": "271fcb6c",
        "outputId": "990f9206-e0dd-4dd6-f266-e12b2cff4d09"
      },
      "outputs": [
        {
          "name": "stdout",
          "output_type": "stream",
          "text": [
            "file saved\n",
            "Finally process\n"
          ]
        }
      ],
      "source": [
        "# Xử lý đúng cách\n",
        "try:\n",
        "    file = open(\"myfile.txt\", 'w')  # Mở với mode 'w'\n",
        "    file.write(\"Python write file\")\n",
        "    print(\"file saved\")\n",
        "except:\n",
        "    print(\"Exception file Error\")\n",
        "finally:\n",
        "    file.close() # Đóng file\n",
        "    print(\"Finally process\")"
      ]
    },
    {
      "cell_type": "markdown",
      "id": "c899a28e",
      "metadata": {
        "id": "c899a28e"
      },
      "source": [
        "# Kết thúc"
      ]
    },
    {
      "cell_type": "code",
      "execution_count": 3,
      "id": "c2c26335",
      "metadata": {},
      "outputs": [
        {
          "name": "stderr",
          "output_type": "stream",
          "text": [
            "[NbConvertApp] Converting notebook silde_002.ipynb to html\n",
            "C:\\Users\\kn260\\AppData\\Local\\Programs\\Python\\Python312\\Lib\\site-packages\\nbformat\\__init__.py:96: MissingIDFieldWarning: Cell is missing an id field, this will become a hard error in future nbformat versions. You may want to use `normalize()` on your notebooks before validations (available since nbformat 5.1.4). Previous versions of nbformat are fixing this issue transparently, and will stop doing so in the future.\n",
            "  validate(nb)\n",
            "[NbConvertApp] Writing 411892 bytes to silde_002.html\n"
          ]
        }
      ],
      "source": [
        "!jupyter nbconvert --to html \"silde_002.ipynb\""
      ]
    }
  ],
  "metadata": {
    "colab": {
      "include_colab_link": true,
      "provenance": []
    },
    "kernelspec": {
      "display_name": "Python 3",
      "language": "python",
      "name": "python3"
    },
    "language_info": {
      "codemirror_mode": {
        "name": "ipython",
        "version": 3
      },
      "file_extension": ".py",
      "mimetype": "text/x-python",
      "name": "python",
      "nbconvert_exporter": "python",
      "pygments_lexer": "ipython3",
      "version": "3.12.5"
    }
  },
  "nbformat": 4,
  "nbformat_minor": 5
}

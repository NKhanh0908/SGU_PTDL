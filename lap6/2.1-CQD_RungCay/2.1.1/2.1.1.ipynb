{
 "cells": [
  {
   "cell_type": "markdown",
   "id": "ca3d7a5f",
   "metadata": {},
   "source": [
    "## Câu 1: Quy trình khai phá dữ liệu CRISP – DM (Cross Industry Standard Process for Data Mining) là gì? Quy trình khai phá dữ liệu SEMMA (Sample, Explore, Modify, Model, Access) là gì?"
   ]
  },
  {
   "cell_type": "markdown",
   "id": "b1c6c163",
   "metadata": {},
   "source": [
    "### CRISP-DM (Cross Industry Standard Process for Data Mining)"
   ]
  },
  {
   "cell_type": "markdown",
   "id": "fb141d73",
   "metadata": {},
   "source": [
    "- Đây là một khung phương pháp luận (methodology framework), được xem là tiêu chuẩn công nghiệp để quản lý một dự án khoa học dữ liệu. Nó tập trung vào việc giải quyết vấn đề kinh doanh và mang tính lặp lại (iterative).\n",
    "CRISP-DM bao gồm 6 giai đoạn:\n",
    "1.\tBusiness Understanding (Hiểu nghiệp vụ):\n",
    "    -\tMục tiêu: Xác định rõ mục tiêu kinh doanh. Bạn muốn đạt được điều gì? (ví dụ: \"giảm 20% khách hàng rời bỏ\", \"tăng 15% tỷ lệ chuyển đổi quảng cáo\").\n",
    "    -\tTừ vựng chuyên môn: \"Mục tiêu nghiệp vụ\" (Business Objective) là kết quả kinh doanh, khác với \"mục tiêu mô hình\" (Model Objective) là chỉ số kỹ thuật (ví dụ: \"đạt độ chính xác 90%\"). Giai đoạn này đảm bảo mô hình được xây dựng để phục vụ mục tiêu kinh doanh.\n",
    "2.\tData Understanding (Hiểu dữ liệu):\n",
    "    -\tMục tiêu: Thu thập và khám phá dữ liệu ban đầu.\n",
    "    -\tHoạt động: Xem xét các bảng dữ liệu, ý nghĩa của từng cột (data dictionary), kiểu dữ liệu (số, chữ, ngày tháng), dữ liệu có bị thiếu (missing values) không, phân phối của dữ liệu (data distribution).\n",
    "    -\tTừ vựng chuyên môn: EDA (Exploratory Data Analysis) - Phân tích dữ liệu khám phá. Sử dụng các thống kê mô tả (descriptive statistics) và trực quan hóa (visualization) để \"làm quen\" với dữ liệu.\n",
    "3.\tData Preparation (Chuẩn bị dữ liệu):\n",
    "    -\tMục tiêu: Chuyển đổi dữ liệu thô thành định dạng \"sạch\" và \"sẵn sàng\" cho mô hình.\n",
    "    -\tHoạt động: Thường là giai đoạn tốn thời gian nhất. Bao gồm:\n",
    "        -\tLàm sạch (Cleaning): Xử lý giá trị thiếu (vd: điền giá trị trung bình, xóa dòng).\n",
    "        -\tBiến đổi (Transformation): Chuẩn hóa (scaling) dữ liệu (vd: đưa về thang 0-1), chuyển đổi biến hạng mục (categorical) thành số (vd: One-Hot Encoding).\n",
    "        -\tTạo đặc trưng (Feature Engineering): Tạo ra các cột dữ liệu (features) mới có ý nghĩa hơn từ các cột cũ (vd: từ cột \"ngày sinh\" tạo ra cột \"tuổi\").\n",
    "4.\tModeling (Mô hình hóa):\n",
    "    -\tMục tiêu: Lựa chọn và huấn luyện các thuật toán máy học.\n",
    "    -\tHoạt động: Thử nghiệm nhiều thuật toán (Cây quyết định, Hồi quy Logistic, Random Forest, SVM...), chọn ra thuật toán cho kết quả tốt nhất dựa trên một chỉ số đo lường (metric) đã định.\n",
    "    -\tTừ vựng chuyên môn: Train/Test Split - Chia dữ liệu thành 2 phần: train (để huấn luyện) và test (để đánh giá).\n",
    "5.\tEvaluation (Đánh giá):\n",
    "    -\tMục tiêu: Đánh giá hiệu quả của mô hình và quan trọng hơn là xem nó có đáp ứng mục tiêu kinh doanh (ở bước 1) không.\n",
    "    -\tHoạt động: Xem xét các chỉ số như Accuracy, Precision, Recall, F1-Score, ROC-AUC. Đặt câu hỏi: \"Mô hình 90% chính xác này có thực sự giúp giảm tỷ lệ khách hàng rời bỏ không?\"\n",
    "    -\tTừ vựng chuyên môn: Confusion Matrix (Ma trận nhầm lẫn) - Một bảng cho thấy mô hình dự đoán đúng/sai ở từng lớp.\n",
    "6.\tDeployment (Triển khai):\n",
    "    -\tMục tiêu: Tích hợp mô hình vào quy trình nghiệp vụ thực tế.\n",
    "    -\tHoạt động: Đưa mô hình lên máy chủ (server) để nó có thể nhận dữ liệu mới và trả về dự đoán (ví dụ: qua một API). Giai đoạn này cũng bao gồm việc theo dõi và bảo trì mô hình.\n"
   ]
  },
  {
   "cell_type": "markdown",
   "id": "fdabb7d9",
   "metadata": {},
   "source": [
    "### SEMMA (Sample, Explore, Modify, Model, Assess)"
   ]
  },
  {
   "cell_type": "markdown",
   "id": "337e640c",
   "metadata": {},
   "source": [
    "- Đây là một quy trình (process) được phát triển bởi viện SAS, tập trung nhiều hơn vào các bước kỹ thuật.\n",
    "    \n",
    "    -\tSample (Lấy mẫu): Lấy một tập dữ liệu con đại diện từ một nguồn dữ liệu khổng lồ.\n",
    "    \n",
    "    -\tExplore (Khám phá): Tương tự Data Understanding, trực quan hóa và tìm kiếm các mối quan hệ.\n",
    "    \n",
    "    -\tModify (Điều chỉnh): Tương tự Data Preparation, biến đổi và lựa chọn các đặc trưng.\n",
    "    \n",
    "    -\tModel (Mô hình hóa): Tương tự Modeling, áp dụng các thuật toán.\n",
    "    \n",
    "    -\tAssess (Đánh giá): Tương tự Evaluation, đánh giá hiệu quả kỹ thuật của mô hình.\n"
   ]
  },
  {
   "cell_type": "markdown",
   "id": "ebaf248c",
   "metadata": {},
   "source": [
    "### So sánh: \n",
    "\n"
   ]
  },
  {
   "cell_type": "markdown",
   "id": "4f667066",
   "metadata": {},
   "source": [
    "\n",
    "-\tCRISP-DM là một phương pháp luận quản lý dự án toàn diện. Nó bao gồm cả bối cảnh kinh doanh (bước 1) và kế hoạch triển khai (bước 6).\n",
    "\n",
    "-\tSEMMA là một quy trình kỹ thuật tập trung vào các bước xây dựng mô hình. Nó giống như một phiên bản chi tiết của các bước 2, 3, 4, 5 trong CRISP-DM."
   ]
  },
  {
   "cell_type": "markdown",
   "id": "3b5ad68d",
   "metadata": {},
   "source": [
    "## Câu 2: Cây quyết định hoạt động như thế nào? Hãy giải thích các thành phần chính (nút gốc, nút lá, nhánh) và cách cây đưa ra dự đoán."
   ]
  },
  {
   "cell_type": "markdown",
   "id": "af403b5b",
   "metadata": {},
   "source": [
    "### 2.1. Cách hoạt động và các thành phần"
   ]
  },
  {
   "cell_type": "markdown",
   "id": "631baed6",
   "metadata": {},
   "source": [
    "\n",
    "- Hãy tưởng tượng Cây Quyết Định như một trò chơi \"20 câu hỏi\". Bạn có một đối tượng, và bạn liên tục đặt các câu hỏi \"Có/Không\" (hoặc - các câu hỏi chia nhánh) để tìm ra đối tượng đó là gì.\n",
    "\n",
    "- Cây quyết định hoạt động giống như một sơ đồ \"Nếu... thì...\" (If-Then) để đưa ra quyết định. Nó phân chia dữ liệu thành các nhóm nhỏ hơn dựa trên các câu hỏi về đặc trưng.\n",
    "\n",
    "    -\tNút gốc (Root Node): Nút trên cùng, chứa toàn bộ tập dữ liệu ban đầu. Đây là điểm bắt đầu phân chia. Được chọn dựa trên tiêu chí phân tách tốt nhất.\n",
    "\n",
    "    -\tNút trong (Internal Node / Decision Node): Các nút đại diện cho một bài kiểm tra (một câu hỏi)/điều kiện về một đặc trưng. Mỗi nhánh là một kết quả của điều kiện. Ví dụ: \"Tuổi > 30?\"\n",
    "\n",
    "    -\tNhánh (Branch): Đại diện cho kết quả của bài kiểm tra (ví dụ: \"Đúng\" hoặc \"Sai\"). Mỗi nhánh dẫn đến một nút con.\n",
    "    \n",
    "    -\tNút lá (Leaf Node / Terminal Node): Nút cuối cùng, không phân chia nữa. Nó chứa dự đoán cuối cùng (ví dụ: \"Sẽ mua hàng\" hoặc \"Không mua hàng\").\n"
   ]
  },
  {
   "cell_type": "markdown",
   "id": "2223ff41",
   "metadata": {},
   "source": [
    "### Cách đưa ra dự đoán:"
   ]
  },
  {
   "cell_type": "markdown",
   "id": "38d5299e",
   "metadata": {},
   "source": [
    "- Để dự đoán cho một điểm dữ liệu mới, chỉ cần \"thả\" nó từ nút gốc, trả lời các câu hỏi ở mỗi nút trong và đi theo các nhánh tương ứng cho đến khi nó rơi vào một nút lá. Kết quả ở nút lá đó chính là dự đoán."
   ]
  },
  {
   "cell_type": "markdown",
   "id": "9ca0ad3d",
   "metadata": {},
   "source": [
    "Quy trình dự đoán (ví dụ phân loại khách hàng có mua hay không):\n",
    "1.\tBắt đầu từ nút gốc.\n",
    "2.\tKiểm tra điều kiện (VD: Thu nhập > 50 triệu?).\n",
    "3.\tDi chuyển theo nhánh tương ứng.\n",
    "4.\tLặp lại cho đến khi đến nút lá → trả về dự đoán.\n"
   ]
  },
  {
   "cell_type": "markdown",
   "id": "1a98fa46",
   "metadata": {},
   "source": [
    "## Câu 3: Các tiêu chí phân tách (splitting criteria) như Gini Index, Entropy, hay Information Gain được sử dụng trong cây quyết định là gì? Chúng khác nhau ra sao?"
   ]
  },
  {
   "cell_type": "markdown",
   "id": "b7e38bde",
   "metadata": {},
   "source": [
    "### Tiêu chí phân tách (Splitting Criteria)"
   ]
  },
  {
   "cell_type": "markdown",
   "id": "53672a8c",
   "metadata": {},
   "source": [
    "- Đây là các công thức toán học được sử dụng để quyết định xem nên dùng đặc trưng nào để chia ở mỗi nút, và chia ở ngưỡng nào là tốt nhất. \"Tốt nhất\" nghĩa là tạo ra các nút con \"thuần khiết\" nhất (các nút con chứa phần lớn là một lớp).\n",
    "- Có 3 tiêu chí phổ biến để đo lường độ \"hỗn loạn\" (impurity) hoặc \"lợi ích\" (gain):\n",
    "* Giả sử tại một nút có lớp k với tỉ lệ p_i cho mỗi class i.\n"
   ]
  },
  {
   "cell_type": "markdown",
   "id": "a08965cb",
   "metadata": {},
   "source": [
    "#### Entropy (Độ hỗn loạn): "
   ]
  },
  {
   "cell_type": "markdown",
   "id": "6f115d01",
   "metadata": {},
   "source": [
    "Đến từ **Lý thuyết Thông tin**.  \n",
    "Nó đo lường mức độ *\"hỗn loạn\"* hoặc *\"bất định\"* của một tập dữ liệu.\n",
    "\n",
    "---\n",
    "\n",
    "**Công thức:**\n",
    "\n",
    "$$\n",
    "Entropy = -\\sum_{i=1}^{k} p_i \\log_2(p_i)\n",
    "$$\n",
    "\n",
    "---\n",
    "\n",
    "**Giải thích:**\n",
    "\n",
    "- Nếu nút **\"thuần khiết\"** (100% A):  \n",
    "  $$\n",
    "  Entropy = - (1 \\cdot \\log_2(1) + 0 \\cdot \\log_2(0)) = 0\n",
    "  $$  \n",
    "  → **Bất định = 0**\n",
    "\n",
    "- Nếu nút **\"hỗn loạn\" tối đa** (50% A, 50% B):  \n",
    "  $$\n",
    "  Entropy = - (0.5 \\cdot \\log_2(0.5) + 0.5 \\cdot \\log_2(0.5)) = 1\n",
    "  $$  \n",
    "  → **Bất định tối đa**\n"
   ]
  },
  {
   "cell_type": "markdown",
   "id": "e18bff23",
   "metadata": {},
   "source": [
    "#### Information Gain (Lợi ích Thông tin):"
   ]
  },
  {
   "cell_type": "markdown",
   "id": "b2e2d23d",
   "metadata": {},
   "source": [
    "- Khái niệm: Đây là tiêu chí đi kèm với Entropy. Nó đo lường mức độ giảm của Entropy sau khi thực hiện một phép chia.\n",
    "\n",
    "- IG = Entropy(cha) - Weighted_Average (Entropy(con))  \n",
    "\n",
    "- Thuật toán sẽ chọn phép chia nào cho Information Gain cao nhất.\n"
   ]
  },
  {
   "cell_type": "markdown",
   "id": "70ccc396",
   "metadata": {},
   "source": [
    "#### Gini Index (Chỉ số Gini):"
   ]
  },
  {
   "cell_type": "markdown",
   "id": "0d92c53a",
   "metadata": {},
   "source": [
    "Đo lường **xác suất một phần tử được chọn ngẫu nhiên trong nút bị phân loại sai**,  \n",
    "nếu nó được gán nhãn ngẫu nhiên theo tỷ lệ của các lớp trong nút đó.\n",
    "\n",
    "---\n",
    "\n",
    "**Công thức:**\n",
    "\n",
    "$$\n",
    "Gini = 1 - \\sum_{i=1}^{k} p_i^2\n",
    "$$\n",
    "\n",
    "---\n",
    "\n",
    "**Giải thích:**\n",
    "\n",
    "- Nếu nút là **\"thuần khiết\"** (100% lớp A):  \n",
    "  \\( p_A = 1, \\; p_B = 0 \\)\n",
    "\n",
    "  $$\n",
    "  Gini = 1 - (1^2 + 0^2) = 0\n",
    "  $$  \n",
    "  → **Độ hỗn loạn = 0 (hoàn hảo)**\n",
    "\n",
    "- Nếu nút **\"hỗn loạn\" tối đa** (50% A, 50% B):  \n",
    "  \\( p_A = 0.5, \\; p_B = 0.5 \\)\n",
    "\n",
    "  $$\n",
    "  Gini = 1 - (0.5^2 + 0.5^2) = 1 - 0.5 = 0.5\n",
    "  $$  \n",
    "  → **Hỗn loạn tối đa**\n",
    "\n",
    "---\n",
    "\n",
    "**Cách dùng:**  \n",
    "- Cây quyết định sẽ **chọn phép chia** nào tạo ra **các nút con có Gini trung bình thấp nhất** (tính theo trọng số).  \n",
    "- Đây là **mặc định trong Scikit-learn** vì nó **tính toán nhanh** hơn so với Entropy.  \n",
    "- Tương tự như *Information Gain (IG)*, thuật toán sẽ chọn **phép chia làm giảm Gini nhiều nhất**.\n"
   ]
  },
  {
   "cell_type": "markdown",
   "id": "122c8dce",
   "metadata": {},
   "source": [
    "### Chúng khác nhau ra sao?"
   ]
  },
  {
   "cell_type": "markdown",
   "id": "1e4beb55",
   "metadata": {},
   "source": [
    "- Về bản chất cả hai đo “độ hỗn tạp”. Entropy thường nhạy hơn với các thay đổi nhỏ ở xác suất cực đại, Gini tính toán đơn giản hơn.\n",
    "\n",
    "- Trong thực tế, kết quả hay gần tương đương; Gini hơi nhanh hơn tính toán và là mặc định trong nhiều cài đặt (ví dụ scikit-learn dùng criterion='gini' mặc định cho DecisionTreeClassifier)\n",
    "\n",
    "- Gini tính toán nhanh hơn một chút vì không có hàm log. Đây là lý do nó thường được dùng làm mặc định trong Scikit-learn.\n",
    "\n",
    "- Entropy có xu hướng tạo ra các cây cân bằng hơn một chút.\n"
   ]
  },
  {
   "cell_type": "markdown",
   "id": "9880042b",
   "metadata": {},
   "source": [
    "## Câu 4: Rừng cây (Random Forest) là gì? Nó khác gì so với một cây quyết định đơn lẻ? Tại sao Random Forest thường có hiệu suất tốt hơn cây quyết định trong các bài toán phân loại?"
   ]
  },
  {
   "cell_type": "markdown",
   "id": "7cc0d4f9",
   "metadata": {},
   "source": [
    "### Random Forest là gì?"
   ]
  },
  {
   "cell_type": "markdown",
   "id": "4dc32b16",
   "metadata": {},
   "source": [
    "- Random Forest là một thuật toán Ensemble Learning (Học tập tổ hợp). Ensemble Learning: Kỹ thuật kết hợp nhiều mô hình máy học (gọi là \"mô hình yếu\" - weak learners) để tạo ra một mô hình dự đoán \"mạnh\" (strong learner) duy nhất. Ý tưởng cốt lõi là \"trí tuệ đám đông\": nhiều mô hình đơn giản khi kết hợp lại sẽ tốt hơn một mô hình phức tạp duy nhất.\n",
    "\n",
    "- Thay vì chỉ xây dựng một cây quyết định duy nhất, nó xây dựng hàng trăm hoặc hàng ngàn cây quyết định khác nhau và sau đó kết hợp dự đoán của chúng lại.\n",
    "\n",
    "    - Với bài toán Phân loại (Classification): Kết quả cuối cùng là lớp được \"bỏ phiếu\" (vote) nhiều nhất bởi các cây.\n",
    "    - Với bài toán Hồi quy (Regression): Kết quả cuối cùng là giá trị trung bình dự đoán của tất cả các cây.\n"
   ]
  },
  {
   "cell_type": "markdown",
   "id": "9bd36fb7",
   "metadata": {},
   "source": [
    "### Khác biệt so với Cây Quyết định đơn lẻ"
   ]
  },
  {
   "cell_type": "markdown",
   "id": "9a4f108a",
   "metadata": {},
   "source": [
    "- Một cây quyết định đơn lẻ có một vấn đề lớn: Overfitting (Quá khớp).\n",
    "\t- Overfitting: Hiện tượng mô hình học \"thuộc lòng\" dữ liệu huấn luyện, bao gồm cả nhiễu (noise) và các điểm dữ liệu đặc biệt. Kết quả là nó dự đoán hoàn hảo trên dữ liệu đã thấy (training data) nhưng dự đoán rất tệ trên dữ liệu mới (test data). Một cây quyết định nếu để mọc quá sâu sẽ gần như chắc chắn bị overfitting.\n",
    "\n",
    "- Sự \"ngẫu nhiên\" (Random) trong Random Forest đến từ hai nguồn:\n",
    "\n",
    "\t- Bagging (Bootstrap Aggregating): Lấy mẫu có hoàn lại từ tập dữ liệu gốc.\n",
    "        - Cách làm: Giả sử bạn có 1000 dữ liệu. Để xây dựng Cây 1, RF sẽ chọn ngẫu nhiên 1000 dữ liệu có hoàn lại (nghĩa là một số dòng có thể được chọn nhiều lần, một số dòng bị bỏ qua). Để xây dựng Cây 2, nó lặp lại quy trình, tạo ra một tập 1000 dữ liệu khác.\n",
    "\n",
    "        - Kết quả: Mỗi cây trong rừng được huấn luyện trên một tập dữ liệu hơi khác nhau, làm cho chúng trở nên \"đa dạng\".\n",
    "\n",
    "        - Tập dữ liệu con này được tạo bằng cách lấy mẫu có hoàn lại (bootstrap sampling) từ dữ liệu gốc. Điều này có nghĩa là một số điểm dữ liệu có thể xuất hiện nhiều lần, một số khác có thể không xuất hiện.\n",
    "\n",
    "\t- Random Subspace of Features (Không gian đặc trưng ngẫu nhiên):\n",
    "        - Cách làm: Khi một cây (ví dụ Cây 1) đang ở một nút và cần tìm phép chia tốt nhất, nó không được xem xét tất cả các đặc trưng (ví dụ: 20 đặc trưng). Nó chỉ được xem xét một tập con ngẫu nhiên (ví dụ: √(20 )  ≈4-5 đặc trưng).\n",
    "\n",
    "        - Kết quả: Điều này ngăn cản một vài đặc trưng \"mạnh\" (ví dụ: \"tuổi\") luôn được chọn ở nút gốc của mọi cây. Nó buộc các cây khác phải khám phá các đặc trưng khác, làm tăng thêm sự đa dạng.\n",
    "\n",
    "        - Tại mỗi nút của mỗi cây, khi tìm phép chia tốt nhất, cây không được xem xét tất cả các đặc trưng.\n",
    "        \n",
    "        - Nó chỉ được xem xét một tập con ngẫu nhiên của các đặc trưng (ví dụ: chỉ 10 trong tổng số 50 đặc trưng).\n"
   ]
  },
  {
   "cell_type": "markdown",
   "id": "1919e8b9",
   "metadata": {},
   "source": [
    "### Tại sao Random Forest thường tốt hơn?"
   ]
  },
  {
   "cell_type": "markdown",
   "id": "6ccf887b",
   "metadata": {},
   "source": [
    "- Giảm Overfitting (Quá khớp):\n",
    "\n",
    "    - Một cây quyết định đơn lẻ (nếu để mọc quá sâu) rất dễ bị overfitting. Nó học thuộc lòng cả nhiễu (noise) trong dữ liệu huấn luyện, dẫn đến dự đoán kém trên dữ liệu mới.\n",
    "\n",
    "    - Random Forest giải quyết vấn đề này. Bằng cách huấn luyện nhiều cây trên các tập dữ liệu/đặc trưng con khác nhau, các cây này sẽ \"overfit\" theo những cách khác nhau. Khi lấy trung bình/vote dự đoán, các lỗi (do overfitting) này sẽ tự triệt tiêu lẫn nhau.\n",
    "    \n",
    "- Độ chính xác cao và ổn định: Do giảm được overfitting, mô hình trở nên ổn định (robust) và có khả năng tổng quát hóa tốt hơn trên dữ liệu mới.\n"
   ]
  },
  {
   "cell_type": "markdown",
   "id": "d20d6bef",
   "metadata": {},
   "source": [
    "## Câu 5: Những ưu điểm và hạn chế của cây quyết định và Random Forest là gì? Trong trường hợp nào thì cây quyết định có thể hoạt động kém hiệu quả?"
   ]
  },
  {
   "cell_type": "markdown",
   "id": "c6af5af5",
   "metadata": {},
   "source": [
    "### Ưu điểm và Hạn chế"
   ]
  },
  {
   "cell_type": "markdown",
   "id": "c1554a4a",
   "metadata": {},
   "source": [
    "| **Tính năng** | **Cây Quyết Định (Decision Tree)** | **Rừng Cây (Random Forest)** |\n",
    "|:--------------:|:----------------------------------|:-----------------------------|\n",
    "| **Ưu điểm** | 1. Dễ hiểu, dễ diễn giải (*White-box*).<br>2. Không cần chuẩn hóa dữ liệu (*scaling*).<br>3. Xử lý tốt cả dữ liệu số và hạng mục.<br>4. Tốc độ dự đoán nhanh. | 1. Độ chính xác rất cao.<br>2. Chống *overfitting* cực tốt.<br>3. Xử lý tốt dữ liệu lớn, nhiều chiều.<br>4. Có thể đo lường độ quan trọng của đặc trưng. |\n",
    "| **Hạn chế** | 1. Rất dễ bị *overfitting*.<br>2. Không ổn định (thay đổi nhỏ trong dữ liệu có thể tạo ra cây khác biệt lớn).<br>3. Có thể bị thiên vị với các đặc trưng có nhiều giá trị. | 1. Mô hình *Hộp đen* (*Black-box*): Rất khó diễn giải tại sao mô hình đưa ra một dự đoán cụ thể.<br>2. Tốn tài nguyên (CPU, RAM) và thời gian huấn luyện (vì phải xây dựng nhiều cây). |\n"
   ]
  },
  {
   "cell_type": "markdown",
   "id": "795923c7",
   "metadata": {},
   "source": [
    "### Khi nào Cây Quyết định hoạt động kém hiệu quả?"
   ]
  },
  {
   "cell_type": "markdown",
   "id": "15064bca",
   "metadata": {},
   "source": [
    "- Khi dữ liệu có nhiều nhiễu: Cây sẽ cố gắng \"học\" cả nhiễu, dẫn đến overfitting nghiêm trọng.\n",
    "\n",
    "- Khi các mối quan hệ phức tạp, phi tuyến tính: Một cây đơn lẻ khó có thể bắt chước các ranh giới quyết định phức tạp mà không trở nên quá sâu và quá khớp.\n",
    "\n",
    "- Khi dữ liệu có các đặc trưng tương quan cao: Cây có thể chọn ngẫu nhiên một trong số chúng, làm cho mô hình không ổn định.\n"
   ]
  },
  {
   "cell_type": "markdown",
   "id": "9c213b81",
   "metadata": {},
   "source": [
    "## Câu 6: Viết đoạn code mẫu bằng Python (sử dụng Scikit-learn) để xây dựng một mô hình cây quyết định không? Hãy mô tả các bước thực hiện"
   ]
  },
  {
   "cell_type": "markdown",
   "id": "e7e1a495",
   "metadata": {},
   "source": [
    "### Import thư viện"
   ]
  },
  {
   "cell_type": "code",
   "execution_count": 19,
   "id": "46153790",
   "metadata": {},
   "outputs": [],
   "source": [
    "# 1. Import các thư viện cần thiết\n",
    "from sklearn.tree import DecisionTreeClassifier          # Mô hình cây quyết định\n",
    "from sklearn.model_selection import train_test_split     # Chia dữ liệu train/test\n",
    "from sklearn.metrics import accuracy_score, classification_report  # Đánh giá mô hình\n",
    "from sklearn.datasets import load_iris                   # Dữ liệu mẫu Iris\n",
    "import pandas as pd                                      # Xử lý dữ liệu dạng bảng"
   ]
  },
  {
   "cell_type": "markdown",
   "id": "633db7cb",
   "metadata": {},
   "source": [
    "#### - from sklearn.tree import DecisionTreeClassifier:"
   ]
  },
  {
   "cell_type": "markdown",
   "id": "71be7df6",
   "metadata": {},
   "source": [
    "- Thư viện: sklearn.tree (một mô-đun trong thư viện scikit-learn).\n",
    "- Công cụ: DecisionTreeClassifier.\n",
    "- Mục đích: Đây là \"bộ não\" mà bạn sẽ dùng để huấn luyện. Nó là một mô hình học máy thuộc loại Cây Quyết Định (Decision Tree), chuyên dùng cho các bài toán phân loại (Classifier). Ví dụ: phân loại hoa, email rác, hay dự đoán đậu/rớt."
   ]
  },
  {
   "cell_type": "markdown",
   "id": "7f7cb428",
   "metadata": {},
   "source": [
    "#### - from sklearn.model_selection import train_test_split:"
   ]
  },
  {
   "cell_type": "markdown",
   "id": "f8030c7c",
   "metadata": {},
   "source": [
    "- Thư viện: sklearn.model_selection.\n",
    "- Công cụ: train_test_split.\n",
    "- Mục đích: Đây là một hàm tiện ích cực kỳ quan trọng. Khi bạn có một bộ dữ liệu, bạn không thể dùng toàn bộ nó để huấn luyện mô hình Phải chia nó ra:\n",
    "\n",
    "    - Tập huấn luyện (train): Dùng để \"dạy\" cho mô hình.\n",
    "\n",
    "    - Tập kiểm tra (test): Dùng để \"thi\" (đánh giá) xem mô hình học tốt đến đâu trên dữ liệu nó chưa từng thấy.\n",
    "\n",
    "- Hàm này giúp làm việc đó một cách tự động và ngẫu nhiên."
   ]
  },
  {
   "cell_type": "markdown",
   "id": "cbe4e258",
   "metadata": {},
   "source": [
    "#### - from sklearn.metrics import accuracy_score, classification_report:"
   ]
  },
  {
   "cell_type": "markdown",
   "id": "9eb0a0f1",
   "metadata": {},
   "source": [
    "- Thư viện: sklearn.metrics (mô-đun \"đo lường\" của scikit-learn).\n",
    "\n",
    "- Công cụ: accuracy_score và classification_report.\n",
    "\n",
    "- Mục đích: Sau khi mô hình \"làm bài thi\" trên tập test, bạn cần \"chấm điểm\".\n",
    "\n",
    "    - accuracy_score: Tính độ chính xác (tỷ lệ dự đoán đúng trên tổng số dự đoán). Đây là con số cơ bản nhất.\n",
    "\n",
    "    - classification_report: Cung cấp một báo cáo chi tiết hơn, bao gồm Precision, Recall, F1-score, giúp bạn hiểu rõ mô hình hoạt động tốt/tệ ở những lớp (nhóm) nào."
   ]
  },
  {
   "cell_type": "markdown",
   "id": "0672dc10",
   "metadata": {},
   "source": [
    "#### - from sklearn.datasets import load_iris"
   ]
  },
  {
   "cell_type": "markdown",
   "id": "aa52d9d4",
   "metadata": {},
   "source": [
    "- Thư viện: sklearn.datasets (chứa các bộ dữ liệu mẫu).\n",
    "\n",
    "- Công cụ: load_iris.\n",
    "\n",
    "- Mục đích: Tải bộ dữ liệu hoa diên vĩ (Iris). Đây là bộ dữ liệu \"Hello, World!\" của học máy. Nó chứa thông tin về 3 loài hoa diên vĩ và các đặc điểm (chiều dài/rộng đài hoa, cánh hoa) để phân biệt chúng. Bạn dùng nó để thực hành huấn luyện mô hình.\n"
   ]
  },
  {
   "cell_type": "markdown",
   "id": "638efdfc",
   "metadata": {},
   "source": [
    "#### - import pandas as pd:"
   ]
  },
  {
   "cell_type": "markdown",
   "id": "5e983a40",
   "metadata": {},
   "source": [
    "-  Thư viện: pandas (một thư viện cực mạnh để xử lý dữ liệu).\n",
    "\n",
    "- Công cụ: Cả thư viện, và đặt \"biệt danh\" cho nó là pd (đây là một quy ước chung).\n",
    "\n",
    "- Mục đích: Giúp bạn đọc, ghi, và thao tác với dữ liệu (thường là từ file CSV, Excel) dưới dạng bảng (gọi là DataFrame) một cách dễ dàng, giống như bạn làm việc với Excel nhưng bằng code."
   ]
  },
  {
   "cell_type": "markdown",
   "id": "67bc8ccf",
   "metadata": {},
   "source": [
    "### Tải dữ liệu"
   ]
  },
  {
   "cell_type": "markdown",
   "id": "b256a334",
   "metadata": {},
   "source": [
    "Nó lấy bộ dữ liệu Iris (mà ta đã import công cụ load_iris ở bước 1) và định dạng nó thành hai biến chuẩn trong học máy: X (đặc trưng) và y (nhãn)."
   ]
  },
  {
   "cell_type": "code",
   "execution_count": 20,
   "id": "58c879ba",
   "metadata": {},
   "outputs": [],
   "source": [
    "# 2. Tải dữ liệu Iris\n",
    "iris = load_iris()                                       # Tải dataset Iris từ sklearn\n",
    "X = pd.DataFrame(iris.data, columns=iris.feature_names)  # Đặc trưng: 4 cột (sepal length, ...)\n",
    "y = iris.target                                          # Nhãn: 0, 1, 2 (setosa, versicolor, virginica)"
   ]
  },
  {
   "cell_type": "markdown",
   "id": "9bbf88a3",
   "metadata": {},
   "source": [
    "#### iris = load_iris()"
   ]
  },
  {
   "cell_type": "markdown",
   "id": "085f8975",
   "metadata": {},
   "source": [
    "- Hành động: Dòng này gọi hàm load_iris() đã import.\n",
    "\n",
    "- Kết quả: Hàm này tải bộ dữ liệu hoa diên vĩ (Iris) vào biến iris.\n",
    "\n",
    "- Lưu ý: Biến iris lúc này không phải là một bảng dữ liệu đơn giản. Nó là một đối tượng đặc biệt của scikit-learn (gọi là \"Bunch\") chứa nhiều thông tin khác nhau, giống như một \"hộp\" chứa:\n",
    "\n",
    "    - iris.data: Dữ liệu (các số đo)\n",
    "\n",
    "    - iris.target: Nhãn (loài hoa)\n",
    "\n",
    "    - iris.feature_names: Tên của các cột dữ liệu\n",
    "\n",
    "    - iris.target_names: Tên của các loài hoa"
   ]
  },
  {
   "cell_type": "markdown",
   "id": "47323072",
   "metadata": {},
   "source": [
    "#### X = pd.DataFrame(iris.data, columns=iris.feature_names)"
   ]
  },
  {
   "cell_type": "markdown",
   "id": "c059aaca",
   "metadata": {},
   "source": [
    "- Hành động: Dòng này sử dụng pandas (đã import với tên pd) để tạo một DataFrame (bảng dữ liệu).\n",
    "\n",
    "- Phân tích:\n",
    "\n",
    "    - iris.data: Đây là dữ liệu \"thô\" - một mảng (array) chứa các số đo của hoa (ví dụ: [5.1, 3.5, 1.4, 0.2]).\n",
    "\n",
    "    - columns=iris.feature_names: Lấy tên của các cột (ví dụ: 'sepal length (cm)', 'sepal width (cm)', ...) và gán chúng làm tiêu đề cho bảng.\n",
    "\n",
    "- Kết quả: Biến X giờ là một bảng pandas hoàn chỉnh, rất dễ đọc. Nó chứa tất cả các đặc trưng (features) hay còn gọi là dữ liệu đầu vào mà mô hình sẽ dùng để học.\n",
    "\n",
    "    - X (viết hoa): Theo quy ước, X là ma trận chứa các đặc trưng."
   ]
  },
  {
   "cell_type": "markdown",
   "id": "16c755fb",
   "metadata": {},
   "source": [
    "#### y = iris.target"
   ]
  },
  {
   "cell_type": "markdown",
   "id": "463b9d73",
   "metadata": {},
   "source": [
    "- Hành động: Dòng này lấy mảng (array) các nhãn từ đối tượng iris và gán vào biến y.\n",
    "\n",
    "- Kết quả: Biến y là một mảng chứa các con số 0, 1, hoặc 2. Mỗi con số này đại diện cho một loài hoa (ví dụ: 0 = setosa, 1 = versicolor, 2 = virginica). Đây chính là nhãn (labels) hay dữ liệu đầu ra mà chúng ta muốn mô hình dự đoán.\n",
    "\n",
    "- y (viết thường): Theo quy ước, y là vector chứa nhãn (target)."
   ]
  },
  {
   "cell_type": "markdown",
   "id": "01a4f558",
   "metadata": {},
   "source": [
    "### Chia dữ liệu"
   ]
  },
  {
   "cell_type": "markdown",
   "id": "6998b0df",
   "metadata": {},
   "source": [
    "- Mục đích của đoạn code này là chia bộ dữ liệu (X và y) đã chuẩn bị ở bước 2 thành hai phần riêng biệt:\n",
    "\n",
    "    - Tập huấn luyện (Training set): Dùng để \"dạy\" cho mô hình.\n",
    "\n",
    "    - Tập kiểm tra (Test set): Dùng để \"kiểm tra\" xem mô hình học tốt đến đâu, bằng cách dùng dữ liệu mà nó chưa bao giờ thấy.\n",
    "\n",
    "- Hãy tưởng tượng ta đang dạy học sinh:\n",
    "\n",
    "    - Tập huấn luyện (train): Là bộ đề cương và bài tập có lời giải (X_train, y_train) cho học sinh ôn tập.\n",
    "\n",
    "    - Tập kiểm tra (test): Là bài thi cuối kỳ (X_test), mà bạn giữ đáp án (y_test) để chấm điểm."
   ]
  },
  {
   "cell_type": "code",
   "execution_count": 21,
   "id": "80695fb8",
   "metadata": {},
   "outputs": [],
   "source": [
    "# 3. Chia dữ liệu thành tập huấn luyện (80%) và kiểm tra (20%)\n",
    "X_train, X_test, y_train, y_test = train_test_split(\n",
    "    X, y, \n",
    "    test_size=0.2,       # 20% cho test\n",
    "    random_state=42,     # Đảm bảo kết quả lặp lại được\n",
    "    stratify=y           # Giữ tỷ lệ lớp giống nhau ở train/test (tránh mất cân bằng)\n",
    ")"
   ]
  },
  {
   "cell_type": "markdown",
   "id": "697d9432",
   "metadata": {},
   "source": [
    "#### X_train, X_test, y_train, y_test = train_test_split(...)"
   ]
  },
  {
   "cell_type": "markdown",
   "id": "0b49f71f",
   "metadata": {},
   "source": [
    "- Hàm train_test_split nhận vào dữ liệu X và y, xáo trộn chúng, rồi chia ra làm 4 phần:\n",
    "\n",
    "    - X_train: (80% của X) Các đặc trưng (câu hỏi) dùng để huấn luyện.\n",
    "\n",
    "    - X_test: (20% của X) Các đặc trưng (câu hỏi) dùng để kiểm tra.\n",
    "\n",
    "    - y_train: (80% của y) Các nhãn (đáp án) tương ứng với X_train.\n",
    "\n",
    "    - y_test: (20% của y) Các nhãn (đáp án) tương ứng với X_test, dùng để chấm điểm."
   ]
  },
  {
   "cell_type": "markdown",
   "id": "bab1d93b",
   "metadata": {},
   "source": [
    "#### Giải thích các tham số (arguments)"
   ]
  },
  {
   "cell_type": "markdown",
   "id": "957521a6",
   "metadata": {},
   "source": [
    "- X, y:\n",
    "\n",
    "    - Đây là hai biến chứa toàn bộ dữ liệu của bạn (đã chuẩn bị ở bước 2).\n",
    "\n",
    "- test_size=0.2:\n",
    "\n",
    "    - Quy định tỷ lệ của tập kiểm tra.\n",
    "\n",
    "    - 0.2 có nghĩa là 20% dữ liệu sẽ được dùng làm tập test (kiểm tra), 80% còn lại sẽ dùng làm tập train (huấn luyện).\n",
    "\n",
    "- random_state=42:\n",
    "\n",
    "    - Hàm train_test_split sẽ xáo trộn (shuffle) dữ liệu của bạn một cách ngẫu nhiên trước khi chia.\n",
    "\n",
    "    - Việc đặt random_state (có thể là số 42 hoặc bất kỳ số nào khác) giống như \"gieo một hạt giống\" cho sự ngẫu nhiên này. Nó đảm bảo rằng mỗi lần bạn chạy lại code, kết quả của việc chia dữ liệu luôn giống hệt nhau.\n",
    "\n",
    "    - Điều này cực kỳ quan trọng để đảm bảo tính lặp lại (reproducibility). Nếu không có nó, mỗi lần chạy, bạn có thể nhận được một kết quả độ chính xác khác nhau một chút, gây khó khăn cho việc gỡ lỗi hoặc so sánh mô hình.\n",
    "\n",
    "- stratify=y:\n",
    "\n",
    "    - Đây là một tham số rất quan trọng, đặc biệt với bài toán phân loại.\n",
    "\n",
    "    - Nó yêu cầu hàm train_test_split phải phân tầng dựa trên nhãn y.\n",
    "\n",
    "    - Nghĩa là: Nếu trong dữ liệu gốc y của bạn có 50 hoa loại A, 50 hoa loại B, 50 hoa loại C (tỷ lệ 1:1:1), thì stratify=y sẽ đảm bảo rằng cả tập train và tập test cũng sẽ có tỷ lệ 1:1:1 (hoặc xấp xỉ) như vậy.\n",
    "\n",
    "    - Nó giúp tránh mất cân bằng dữ liệu ngẫu nhiên (ví dụ: tránh trường hợp tập test xui xẻo không có hoa loại A nào)."
   ]
  },
  {
   "cell_type": "markdown",
   "id": "17a30fde",
   "metadata": {},
   "source": [
    "### Khởi tạo mô hình"
   ]
  },
  {
   "cell_type": "markdown",
   "id": "373ba7ec",
   "metadata": {},
   "source": [
    "- Ở bước này, ta chưa \"dạy\" (huấn luyện) mô hình. Ta chỉ đang \"chỉnh\" các thông số (gọi là siêu tham số - hyperparameters) cho mô hình DecisionTreeClassifier trước khi nó bắt đầu học.\n",
    "\n",
    "- Hãy tưởng tượng chúng ta đang chuẩn bị một cỗ máy. Bước này giống như việc chúng ta vặn các nút điều chỉnh trên cỗ máy đó.\n",
    "\n",
    "- dt = DecisionTreeClassifier(...)\n",
    "\n",
    "- Ta tạo một \"bản thiết kế\" cho Cây Quyết Định và lưu vào biến dt. Các tham số bên trong quyết định cách thức cái cây này sẽ được xây dựng."
   ]
  },
  {
   "cell_type": "code",
   "execution_count": 22,
   "id": "e061a232",
   "metadata": {},
   "outputs": [],
   "source": [
    "# 4. Khởi tạo mô hình cây quyết định\n",
    "dt = DecisionTreeClassifier(\n",
    "    criterion='gini',        # Tiêu chí phân tách: Gini Index (nhanh, phổ biến)\n",
    "    max_depth=3,             # Giới hạn độ sâu cây = 3 → tránh overfitting\n",
    "    min_samples_split=2,     # Ít nhất 2 mẫu mới được chia nhánh\n",
    "    min_samples_leaf=1,      # Ít nhất 1 mẫu ở mỗi lá\n",
    "    random_state=42          # Đảm bảo cây giống nhau mỗi lần chạy\n",
    ")"
   ]
  },
  {
   "cell_type": "markdown",
   "id": "7d815e58",
   "metadata": {},
   "source": [
    "#### criterion='gini'"
   ]
  },
  {
   "cell_type": "markdown",
   "id": "37e4a2d8",
   "metadata": {},
   "source": [
    "- Tiêu chí: Đây là \"tiêu chí\" mà cây dùng để quyết định cách chia nhánh tốt nhất.\n",
    "\n",
    "- Mục đích: Tại mỗi bước, cây sẽ tự hỏi: \"Nếu tôi chia dữ liệu bằng đặc trưng A (ví dụ: sepal length < 5.0), thì các nhóm con thu được có 'sạch' (thuần nhất) hơn không?\".\n",
    "\n",
    "- 'gini' (Gini Impurity): Là một trong hai phương pháp phổ biến nhất (cùng với 'entropy') để đo độ \"vẩn đục\" hoặc \"hỗn loạn\" của một nhóm. Cây sẽ luôn cố gắng chọn cách chia nào làm giảm Gini Impurity nhiều nhất, tức là tạo ra các nhóm con \"thuần nhất\" nhất (ví dụ: một nhóm chứa toàn hoa loại A, một nhóm chứa toàn hoa loại B). Nó rất hiệu quả và thường được dùng mặc định."
   ]
  },
  {
   "cell_type": "markdown",
   "id": "9dc0a4ce",
   "metadata": {},
   "source": [
    "#### max_depth=3"
   ]
  },
  {
   "cell_type": "markdown",
   "id": "d51ab9ed",
   "metadata": {},
   "source": [
    "- Độ sâu tối đa: Đây là tham số cực kỳ quan trọng để chống học vẹt (overfitting).\n",
    "\n",
    "- Ý nghĩa: Nó giới hạn cây chỉ được phép \"hỏi\" tối đa 3 câu hỏi liên tiếp (tức là cây chỉ có 3 tầng, tính cả gốc).\n",
    "\n",
    "- Tại sao? Nếu bạn không giới hạn (max_depth=None), cây sẽ cố gắng phát triển đến khi nào nó phân loại đúng 100% dữ liệu huấn luyện. Nó sẽ học thuộc lòng cả những chi tiết nhiễu, dẫn đến việc \"học vẹt\" và dự đoán rất tệ trên dữ liệu mới (tập test). Bằng cách giới hạn độ sâu, bạn bắt nó phải học những quy luật tổng quát hơn."
   ]
  },
  {
   "cell_type": "markdown",
   "id": "52ff56c0",
   "metadata": {},
   "source": [
    "#### min_samples_split=2"
   ]
  },
  {
   "cell_type": "markdown",
   "id": "a964a4ad",
   "metadata": {},
   "source": [
    "- Số mẫu tối thiểu để chia: Một nút (nhánh) trong cây phải có ít nhất 2 mẫu thì nó mới được phép xem xét việc chia nhỏ tiếp. Nếu nó chỉ còn 1 mẫu, nó sẽ dừng lại và trở thành một \"lá\" (kết quả dự đoán). Đây thường là giá trị mặc định."
   ]
  },
  {
   "cell_type": "markdown",
   "id": "9dfb94bf",
   "metadata": {},
   "source": [
    "#### min_samples_leaf=1"
   ]
  },
  {
   "cell_type": "markdown",
   "id": "95854811",
   "metadata": {},
   "source": [
    "- Số mẫu tối thiểu ở lá: Sau khi chia, mỗi \"lá\" (nhánh con) mới được tạo ra phải có ít nhất 1 mẫu. Đây cũng là giá trị mặc định.\n",
    "\n",
    "- (Nếu bạn tăng giá trị này, ví dụ min_samples_leaf=5, bạn cũng đang yêu cầu cây phải tổng quát hơn, vì mỗi quyết định cuối cùng phải dựa trên ít nhất 5 mẫu)."
   ]
  },
  {
   "cell_type": "markdown",
   "id": "e498162f",
   "metadata": {},
   "source": [
    "#### random_state=42"
   ]
  },
  {
   "cell_type": "markdown",
   "id": "50e15ed1",
   "metadata": {},
   "source": [
    "- Trạng thái ngẫu nhiên: Tương tự như ở train_test_split.\n",
    "\n",
    "- Tại sao cần ở đây? Đôi khi, thuật toán Cây Quyết Định khi tìm cách chia tốt nhất, có thể thấy 2 đặc trưng (ví dụ: sepal length và sepal width) đều tốt như nhau. Nó sẽ phải chọn ngẫu nhiên một trong hai.\n",
    "\n",
    "- Bằng cách đặt random_state=42, bạn đảm bảo rằng nếu có sự \"chọn ngẫu nhiên\" nào xảy ra, nó sẽ luôn chọn cùng một kiểu mỗi lần bạn chạy code. Điều này đảm bảo kết quả của bạn hoàn toàn lặp lại được."
   ]
  },
  {
   "cell_type": "markdown",
   "id": "5372de24",
   "metadata": {},
   "source": [
    "### Huấn luyện mô hình"
   ]
  },
  {
   "cell_type": "markdown",
   "id": "a08c89f3",
   "metadata": {},
   "source": [
    "Đây chính là khoảnh khắc \"học\" thực sự của cỗ máy. Nếu các bước trước là chuẩn bị (1, 2, 3) và cấu hình (4), thì bước này là lúc bạn nhấn nút \"Chạy\" để mô hình bắt đầu học."
   ]
  },
  {
   "cell_type": "code",
   "execution_count": 23,
   "id": "c03877b0",
   "metadata": {},
   "outputs": [
    {
     "data": {
      "text/html": [
       "<style>#sk-container-id-3 {\n",
       "  /* Definition of color scheme common for light and dark mode */\n",
       "  --sklearn-color-text: #000;\n",
       "  --sklearn-color-text-muted: #666;\n",
       "  --sklearn-color-line: gray;\n",
       "  /* Definition of color scheme for unfitted estimators */\n",
       "  --sklearn-color-unfitted-level-0: #fff5e6;\n",
       "  --sklearn-color-unfitted-level-1: #f6e4d2;\n",
       "  --sklearn-color-unfitted-level-2: #ffe0b3;\n",
       "  --sklearn-color-unfitted-level-3: chocolate;\n",
       "  /* Definition of color scheme for fitted estimators */\n",
       "  --sklearn-color-fitted-level-0: #f0f8ff;\n",
       "  --sklearn-color-fitted-level-1: #d4ebff;\n",
       "  --sklearn-color-fitted-level-2: #b3dbfd;\n",
       "  --sklearn-color-fitted-level-3: cornflowerblue;\n",
       "\n",
       "  /* Specific color for light theme */\n",
       "  --sklearn-color-text-on-default-background: var(--sg-text-color, var(--theme-code-foreground, var(--jp-content-font-color1, black)));\n",
       "  --sklearn-color-background: var(--sg-background-color, var(--theme-background, var(--jp-layout-color0, white)));\n",
       "  --sklearn-color-border-box: var(--sg-text-color, var(--theme-code-foreground, var(--jp-content-font-color1, black)));\n",
       "  --sklearn-color-icon: #696969;\n",
       "\n",
       "  @media (prefers-color-scheme: dark) {\n",
       "    /* Redefinition of color scheme for dark theme */\n",
       "    --sklearn-color-text-on-default-background: var(--sg-text-color, var(--theme-code-foreground, var(--jp-content-font-color1, white)));\n",
       "    --sklearn-color-background: var(--sg-background-color, var(--theme-background, var(--jp-layout-color0, #111)));\n",
       "    --sklearn-color-border-box: var(--sg-text-color, var(--theme-code-foreground, var(--jp-content-font-color1, white)));\n",
       "    --sklearn-color-icon: #878787;\n",
       "  }\n",
       "}\n",
       "\n",
       "#sk-container-id-3 {\n",
       "  color: var(--sklearn-color-text);\n",
       "}\n",
       "\n",
       "#sk-container-id-3 pre {\n",
       "  padding: 0;\n",
       "}\n",
       "\n",
       "#sk-container-id-3 input.sk-hidden--visually {\n",
       "  border: 0;\n",
       "  clip: rect(1px 1px 1px 1px);\n",
       "  clip: rect(1px, 1px, 1px, 1px);\n",
       "  height: 1px;\n",
       "  margin: -1px;\n",
       "  overflow: hidden;\n",
       "  padding: 0;\n",
       "  position: absolute;\n",
       "  width: 1px;\n",
       "}\n",
       "\n",
       "#sk-container-id-3 div.sk-dashed-wrapped {\n",
       "  border: 1px dashed var(--sklearn-color-line);\n",
       "  margin: 0 0.4em 0.5em 0.4em;\n",
       "  box-sizing: border-box;\n",
       "  padding-bottom: 0.4em;\n",
       "  background-color: var(--sklearn-color-background);\n",
       "}\n",
       "\n",
       "#sk-container-id-3 div.sk-container {\n",
       "  /* jupyter's `normalize.less` sets `[hidden] { display: none; }`\n",
       "     but bootstrap.min.css set `[hidden] { display: none !important; }`\n",
       "     so we also need the `!important` here to be able to override the\n",
       "     default hidden behavior on the sphinx rendered scikit-learn.org.\n",
       "     See: https://github.com/scikit-learn/scikit-learn/issues/21755 */\n",
       "  display: inline-block !important;\n",
       "  position: relative;\n",
       "}\n",
       "\n",
       "#sk-container-id-3 div.sk-text-repr-fallback {\n",
       "  display: none;\n",
       "}\n",
       "\n",
       "div.sk-parallel-item,\n",
       "div.sk-serial,\n",
       "div.sk-item {\n",
       "  /* draw centered vertical line to link estimators */\n",
       "  background-image: linear-gradient(var(--sklearn-color-text-on-default-background), var(--sklearn-color-text-on-default-background));\n",
       "  background-size: 2px 100%;\n",
       "  background-repeat: no-repeat;\n",
       "  background-position: center center;\n",
       "}\n",
       "\n",
       "/* Parallel-specific style estimator block */\n",
       "\n",
       "#sk-container-id-3 div.sk-parallel-item::after {\n",
       "  content: \"\";\n",
       "  width: 100%;\n",
       "  border-bottom: 2px solid var(--sklearn-color-text-on-default-background);\n",
       "  flex-grow: 1;\n",
       "}\n",
       "\n",
       "#sk-container-id-3 div.sk-parallel {\n",
       "  display: flex;\n",
       "  align-items: stretch;\n",
       "  justify-content: center;\n",
       "  background-color: var(--sklearn-color-background);\n",
       "  position: relative;\n",
       "}\n",
       "\n",
       "#sk-container-id-3 div.sk-parallel-item {\n",
       "  display: flex;\n",
       "  flex-direction: column;\n",
       "}\n",
       "\n",
       "#sk-container-id-3 div.sk-parallel-item:first-child::after {\n",
       "  align-self: flex-end;\n",
       "  width: 50%;\n",
       "}\n",
       "\n",
       "#sk-container-id-3 div.sk-parallel-item:last-child::after {\n",
       "  align-self: flex-start;\n",
       "  width: 50%;\n",
       "}\n",
       "\n",
       "#sk-container-id-3 div.sk-parallel-item:only-child::after {\n",
       "  width: 0;\n",
       "}\n",
       "\n",
       "/* Serial-specific style estimator block */\n",
       "\n",
       "#sk-container-id-3 div.sk-serial {\n",
       "  display: flex;\n",
       "  flex-direction: column;\n",
       "  align-items: center;\n",
       "  background-color: var(--sklearn-color-background);\n",
       "  padding-right: 1em;\n",
       "  padding-left: 1em;\n",
       "}\n",
       "\n",
       "\n",
       "/* Toggleable style: style used for estimator/Pipeline/ColumnTransformer box that is\n",
       "clickable and can be expanded/collapsed.\n",
       "- Pipeline and ColumnTransformer use this feature and define the default style\n",
       "- Estimators will overwrite some part of the style using the `sk-estimator` class\n",
       "*/\n",
       "\n",
       "/* Pipeline and ColumnTransformer style (default) */\n",
       "\n",
       "#sk-container-id-3 div.sk-toggleable {\n",
       "  /* Default theme specific background. It is overwritten whether we have a\n",
       "  specific estimator or a Pipeline/ColumnTransformer */\n",
       "  background-color: var(--sklearn-color-background);\n",
       "}\n",
       "\n",
       "/* Toggleable label */\n",
       "#sk-container-id-3 label.sk-toggleable__label {\n",
       "  cursor: pointer;\n",
       "  display: flex;\n",
       "  width: 100%;\n",
       "  margin-bottom: 0;\n",
       "  padding: 0.5em;\n",
       "  box-sizing: border-box;\n",
       "  text-align: center;\n",
       "  align-items: start;\n",
       "  justify-content: space-between;\n",
       "  gap: 0.5em;\n",
       "}\n",
       "\n",
       "#sk-container-id-3 label.sk-toggleable__label .caption {\n",
       "  font-size: 0.6rem;\n",
       "  font-weight: lighter;\n",
       "  color: var(--sklearn-color-text-muted);\n",
       "}\n",
       "\n",
       "#sk-container-id-3 label.sk-toggleable__label-arrow:before {\n",
       "  /* Arrow on the left of the label */\n",
       "  content: \"▸\";\n",
       "  float: left;\n",
       "  margin-right: 0.25em;\n",
       "  color: var(--sklearn-color-icon);\n",
       "}\n",
       "\n",
       "#sk-container-id-3 label.sk-toggleable__label-arrow:hover:before {\n",
       "  color: var(--sklearn-color-text);\n",
       "}\n",
       "\n",
       "/* Toggleable content - dropdown */\n",
       "\n",
       "#sk-container-id-3 div.sk-toggleable__content {\n",
       "  max-height: 0;\n",
       "  max-width: 0;\n",
       "  overflow: hidden;\n",
       "  text-align: left;\n",
       "  /* unfitted */\n",
       "  background-color: var(--sklearn-color-unfitted-level-0);\n",
       "}\n",
       "\n",
       "#sk-container-id-3 div.sk-toggleable__content.fitted {\n",
       "  /* fitted */\n",
       "  background-color: var(--sklearn-color-fitted-level-0);\n",
       "}\n",
       "\n",
       "#sk-container-id-3 div.sk-toggleable__content pre {\n",
       "  margin: 0.2em;\n",
       "  border-radius: 0.25em;\n",
       "  color: var(--sklearn-color-text);\n",
       "  /* unfitted */\n",
       "  background-color: var(--sklearn-color-unfitted-level-0);\n",
       "}\n",
       "\n",
       "#sk-container-id-3 div.sk-toggleable__content.fitted pre {\n",
       "  /* unfitted */\n",
       "  background-color: var(--sklearn-color-fitted-level-0);\n",
       "}\n",
       "\n",
       "#sk-container-id-3 input.sk-toggleable__control:checked~div.sk-toggleable__content {\n",
       "  /* Expand drop-down */\n",
       "  max-height: 200px;\n",
       "  max-width: 100%;\n",
       "  overflow: auto;\n",
       "}\n",
       "\n",
       "#sk-container-id-3 input.sk-toggleable__control:checked~label.sk-toggleable__label-arrow:before {\n",
       "  content: \"▾\";\n",
       "}\n",
       "\n",
       "/* Pipeline/ColumnTransformer-specific style */\n",
       "\n",
       "#sk-container-id-3 div.sk-label input.sk-toggleable__control:checked~label.sk-toggleable__label {\n",
       "  color: var(--sklearn-color-text);\n",
       "  background-color: var(--sklearn-color-unfitted-level-2);\n",
       "}\n",
       "\n",
       "#sk-container-id-3 div.sk-label.fitted input.sk-toggleable__control:checked~label.sk-toggleable__label {\n",
       "  background-color: var(--sklearn-color-fitted-level-2);\n",
       "}\n",
       "\n",
       "/* Estimator-specific style */\n",
       "\n",
       "/* Colorize estimator box */\n",
       "#sk-container-id-3 div.sk-estimator input.sk-toggleable__control:checked~label.sk-toggleable__label {\n",
       "  /* unfitted */\n",
       "  background-color: var(--sklearn-color-unfitted-level-2);\n",
       "}\n",
       "\n",
       "#sk-container-id-3 div.sk-estimator.fitted input.sk-toggleable__control:checked~label.sk-toggleable__label {\n",
       "  /* fitted */\n",
       "  background-color: var(--sklearn-color-fitted-level-2);\n",
       "}\n",
       "\n",
       "#sk-container-id-3 div.sk-label label.sk-toggleable__label,\n",
       "#sk-container-id-3 div.sk-label label {\n",
       "  /* The background is the default theme color */\n",
       "  color: var(--sklearn-color-text-on-default-background);\n",
       "}\n",
       "\n",
       "/* On hover, darken the color of the background */\n",
       "#sk-container-id-3 div.sk-label:hover label.sk-toggleable__label {\n",
       "  color: var(--sklearn-color-text);\n",
       "  background-color: var(--sklearn-color-unfitted-level-2);\n",
       "}\n",
       "\n",
       "/* Label box, darken color on hover, fitted */\n",
       "#sk-container-id-3 div.sk-label.fitted:hover label.sk-toggleable__label.fitted {\n",
       "  color: var(--sklearn-color-text);\n",
       "  background-color: var(--sklearn-color-fitted-level-2);\n",
       "}\n",
       "\n",
       "/* Estimator label */\n",
       "\n",
       "#sk-container-id-3 div.sk-label label {\n",
       "  font-family: monospace;\n",
       "  font-weight: bold;\n",
       "  display: inline-block;\n",
       "  line-height: 1.2em;\n",
       "}\n",
       "\n",
       "#sk-container-id-3 div.sk-label-container {\n",
       "  text-align: center;\n",
       "}\n",
       "\n",
       "/* Estimator-specific */\n",
       "#sk-container-id-3 div.sk-estimator {\n",
       "  font-family: monospace;\n",
       "  border: 1px dotted var(--sklearn-color-border-box);\n",
       "  border-radius: 0.25em;\n",
       "  box-sizing: border-box;\n",
       "  margin-bottom: 0.5em;\n",
       "  /* unfitted */\n",
       "  background-color: var(--sklearn-color-unfitted-level-0);\n",
       "}\n",
       "\n",
       "#sk-container-id-3 div.sk-estimator.fitted {\n",
       "  /* fitted */\n",
       "  background-color: var(--sklearn-color-fitted-level-0);\n",
       "}\n",
       "\n",
       "/* on hover */\n",
       "#sk-container-id-3 div.sk-estimator:hover {\n",
       "  /* unfitted */\n",
       "  background-color: var(--sklearn-color-unfitted-level-2);\n",
       "}\n",
       "\n",
       "#sk-container-id-3 div.sk-estimator.fitted:hover {\n",
       "  /* fitted */\n",
       "  background-color: var(--sklearn-color-fitted-level-2);\n",
       "}\n",
       "\n",
       "/* Specification for estimator info (e.g. \"i\" and \"?\") */\n",
       "\n",
       "/* Common style for \"i\" and \"?\" */\n",
       "\n",
       ".sk-estimator-doc-link,\n",
       "a:link.sk-estimator-doc-link,\n",
       "a:visited.sk-estimator-doc-link {\n",
       "  float: right;\n",
       "  font-size: smaller;\n",
       "  line-height: 1em;\n",
       "  font-family: monospace;\n",
       "  background-color: var(--sklearn-color-background);\n",
       "  border-radius: 1em;\n",
       "  height: 1em;\n",
       "  width: 1em;\n",
       "  text-decoration: none !important;\n",
       "  margin-left: 0.5em;\n",
       "  text-align: center;\n",
       "  /* unfitted */\n",
       "  border: var(--sklearn-color-unfitted-level-1) 1pt solid;\n",
       "  color: var(--sklearn-color-unfitted-level-1);\n",
       "}\n",
       "\n",
       ".sk-estimator-doc-link.fitted,\n",
       "a:link.sk-estimator-doc-link.fitted,\n",
       "a:visited.sk-estimator-doc-link.fitted {\n",
       "  /* fitted */\n",
       "  border: var(--sklearn-color-fitted-level-1) 1pt solid;\n",
       "  color: var(--sklearn-color-fitted-level-1);\n",
       "}\n",
       "\n",
       "/* On hover */\n",
       "div.sk-estimator:hover .sk-estimator-doc-link:hover,\n",
       ".sk-estimator-doc-link:hover,\n",
       "div.sk-label-container:hover .sk-estimator-doc-link:hover,\n",
       ".sk-estimator-doc-link:hover {\n",
       "  /* unfitted */\n",
       "  background-color: var(--sklearn-color-unfitted-level-3);\n",
       "  color: var(--sklearn-color-background);\n",
       "  text-decoration: none;\n",
       "}\n",
       "\n",
       "div.sk-estimator.fitted:hover .sk-estimator-doc-link.fitted:hover,\n",
       ".sk-estimator-doc-link.fitted:hover,\n",
       "div.sk-label-container:hover .sk-estimator-doc-link.fitted:hover,\n",
       ".sk-estimator-doc-link.fitted:hover {\n",
       "  /* fitted */\n",
       "  background-color: var(--sklearn-color-fitted-level-3);\n",
       "  color: var(--sklearn-color-background);\n",
       "  text-decoration: none;\n",
       "}\n",
       "\n",
       "/* Span, style for the box shown on hovering the info icon */\n",
       ".sk-estimator-doc-link span {\n",
       "  display: none;\n",
       "  z-index: 9999;\n",
       "  position: relative;\n",
       "  font-weight: normal;\n",
       "  right: .2ex;\n",
       "  padding: .5ex;\n",
       "  margin: .5ex;\n",
       "  width: min-content;\n",
       "  min-width: 20ex;\n",
       "  max-width: 50ex;\n",
       "  color: var(--sklearn-color-text);\n",
       "  box-shadow: 2pt 2pt 4pt #999;\n",
       "  /* unfitted */\n",
       "  background: var(--sklearn-color-unfitted-level-0);\n",
       "  border: .5pt solid var(--sklearn-color-unfitted-level-3);\n",
       "}\n",
       "\n",
       ".sk-estimator-doc-link.fitted span {\n",
       "  /* fitted */\n",
       "  background: var(--sklearn-color-fitted-level-0);\n",
       "  border: var(--sklearn-color-fitted-level-3);\n",
       "}\n",
       "\n",
       ".sk-estimator-doc-link:hover span {\n",
       "  display: block;\n",
       "}\n",
       "\n",
       "/* \"?\"-specific style due to the `<a>` HTML tag */\n",
       "\n",
       "#sk-container-id-3 a.estimator_doc_link {\n",
       "  float: right;\n",
       "  font-size: 1rem;\n",
       "  line-height: 1em;\n",
       "  font-family: monospace;\n",
       "  background-color: var(--sklearn-color-background);\n",
       "  border-radius: 1rem;\n",
       "  height: 1rem;\n",
       "  width: 1rem;\n",
       "  text-decoration: none;\n",
       "  /* unfitted */\n",
       "  color: var(--sklearn-color-unfitted-level-1);\n",
       "  border: var(--sklearn-color-unfitted-level-1) 1pt solid;\n",
       "}\n",
       "\n",
       "#sk-container-id-3 a.estimator_doc_link.fitted {\n",
       "  /* fitted */\n",
       "  border: var(--sklearn-color-fitted-level-1) 1pt solid;\n",
       "  color: var(--sklearn-color-fitted-level-1);\n",
       "}\n",
       "\n",
       "/* On hover */\n",
       "#sk-container-id-3 a.estimator_doc_link:hover {\n",
       "  /* unfitted */\n",
       "  background-color: var(--sklearn-color-unfitted-level-3);\n",
       "  color: var(--sklearn-color-background);\n",
       "  text-decoration: none;\n",
       "}\n",
       "\n",
       "#sk-container-id-3 a.estimator_doc_link.fitted:hover {\n",
       "  /* fitted */\n",
       "  background-color: var(--sklearn-color-fitted-level-3);\n",
       "}\n",
       "</style><div id=\"sk-container-id-3\" class=\"sk-top-container\"><div class=\"sk-text-repr-fallback\"><pre>DecisionTreeClassifier(max_depth=3, random_state=42)</pre><b>In a Jupyter environment, please rerun this cell to show the HTML representation or trust the notebook. <br />On GitHub, the HTML representation is unable to render, please try loading this page with nbviewer.org.</b></div><div class=\"sk-container\" hidden><div class=\"sk-item\"><div class=\"sk-estimator fitted sk-toggleable\"><input class=\"sk-toggleable__control sk-hidden--visually\" id=\"sk-estimator-id-3\" type=\"checkbox\" checked><label for=\"sk-estimator-id-3\" class=\"sk-toggleable__label fitted sk-toggleable__label-arrow\"><div><div>DecisionTreeClassifier</div></div><div><a class=\"sk-estimator-doc-link fitted\" rel=\"noreferrer\" target=\"_blank\" href=\"https://scikit-learn.org/1.6/modules/generated/sklearn.tree.DecisionTreeClassifier.html\">?<span>Documentation for DecisionTreeClassifier</span></a><span class=\"sk-estimator-doc-link fitted\">i<span>Fitted</span></span></div></label><div class=\"sk-toggleable__content fitted\"><pre>DecisionTreeClassifier(max_depth=3, random_state=42)</pre></div> </div></div></div></div>"
      ],
      "text/plain": [
       "DecisionTreeClassifier(max_depth=3, random_state=42)"
      ]
     },
     "execution_count": 23,
     "metadata": {},
     "output_type": "execute_result"
    }
   ],
   "source": [
    "# 5. Huấn luyện mô hình trên tập train\n",
    "dt.fit(X_train, y_train)     # Mô hình học cách chia dữ liệu dựa trên Gini"
   ]
  },
  {
   "cell_type": "markdown",
   "id": "b4692bfd",
   "metadata": {},
   "source": [
    "#### dt.fit(X_train, y_train)"
   ]
  },
  {
   "cell_type": "markdown",
   "id": "07e2ce64",
   "metadata": {},
   "source": [
    "- dt: Đây là mô hình Cây Quyết Định mà bạn đã khởi tạo ở bước 4 (vẫn còn là \"giấy trắng\" nhưng đã có khung sườn).\n",
    "\n",
    "- .fit(...): Đây là phương thức (hành động) \"dạy\" hoặc \"huấn luyện\" (fit). Đây là tên hàm chuẩn trong thư viện scikit-learn cho việc huấn luyện.\n",
    "\n",
    "- X_train (Đặc trưng huấn luyện): Bạn đưa cho mô hình 120 mẫu \"câu hỏi\" (ví dụ: các số đo chiều dài/rộng của đài và cánh hoa).\n",
    "\n",
    "- y_train (Nhãn huấn luyện): Đồng thời, bạn đưa cho nó 120 \"đáp án\" tương ứng (ví dụ: 0, 1, 2 - là các loài hoa)."
   ]
  },
  {
   "cell_type": "markdown",
   "id": "f3a18cea",
   "metadata": {},
   "source": [
    "### Dự đoán"
   ]
  },
  {
   "cell_type": "markdown",
   "id": "e18b5103",
   "metadata": {},
   "source": [
    "Đây là lúc dùng mô hình đã huấn luyện (ở bước 5) để \"làm bài thi\". Đưa cho nó bộ \"đề thi\" (X_test) mà nó chưa bao giờ thấy, và yêu cầu nó đưa ra \"đáp án\"."
   ]
  },
  {
   "cell_type": "code",
   "execution_count": 24,
   "id": "d95a6712",
   "metadata": {},
   "outputs": [],
   "source": [
    "# 6. Dự đoán trên tập test\n",
    "y_pred = dt.predict(X_test)  # Trả về nhãn dự đoán cho 30 mẫu test"
   ]
  },
  {
   "cell_type": "markdown",
   "id": "52ff8bc6",
   "metadata": {},
   "source": [
    "#### y_pred = dt.predict(X_test)\n"
   ]
  },
  {
   "cell_type": "markdown",
   "id": "93d8e338",
   "metadata": {},
   "source": [
    "\n",
    "- dt: Đây là mô hình Cây Quyết Định đã được huấn luyện của bạn. Nó đã học các quy luật từ dữ liệu X_train.\n",
    "\n",
    "- .predict(...): Đây là phương thức (hành động) \"dự đoán\".\n",
    "\n",
    "X_test: Đây là input (đầu vào). Bạn đưa cho mô hình 30 mẫu \"câu hỏi\" (đặc trưng của 30 bông hoa) mà nó chưa từng thấy. Quan trọng là bạn không đưa y_test (đáp án thật) cho nó."
   ]
  },
  {
   "cell_type": "markdown",
   "id": "e8fd6f95",
   "metadata": {},
   "source": [
    "#### Quá trình \"Dự đoán\" diễn ra như thế nào?"
   ]
  },
  {
   "cell_type": "markdown",
   "id": "481bde6a",
   "metadata": {},
   "source": [
    "Khi dòng code này chạy, mô hình dt sẽ:\n",
    "\n",
    "1. Lấy từng hàng dữ liệu (từng bông hoa) trong X_test.\n",
    "\n",
    "2. Đưa bông hoa đó qua \"cây\" quy luật mà nó đã học. Ví dụ:\n",
    "\n",
    "    - Câu hỏi 1 (gốc): \"Bông hoa này có petal length < 2.5 không?\"\n",
    "\n",
    "    - Câu trả lời: \"Có.\"\n",
    "\n",
    "    - Kết luận (lá): \"Vậy tôi dự đoán đây là hoa loài 0 (setosa).\"\n",
    "\n",
    "    - (Hoặc) Câu trả lời: \"Không.\"\n",
    "\n",
    "    - Câu hỏi 2 (nhánh): \"Vậy nó có petal width < 1.7 không?\"\n",
    "\n",
    "    - ... và cứ thế cho đến khi đi đến \"lá\" (kết luận) cuối cùng.\n",
    "\n",
    "3. Quá trình này lặp lại cho tất cả 30 bông hoa trong X_test.\n",
    "\n",
    "Kết quả\n",
    "- y_pred (viết tắt của \"predicted y\"): Đây là output (đầu ra). Nó là một mảng (array) chứa 30 \"dự đoán\" của mô hình cho 30 bông hoa.\n",
    "\n",
    "Ví dụ: [0, 1, 2, 0, 1, 1, ...]"
   ]
  },
  {
   "cell_type": "markdown",
   "id": "1e16475e",
   "metadata": {},
   "source": [
    "### Đánh giá mô hình"
   ]
  },
  {
   "cell_type": "markdown",
   "id": "ef281b1f",
   "metadata": {},
   "source": [
    "Sau khi bạn đã có \"đáp án thật\" (y_test) và \"bài làm của mô hình\" (y_pred), bước này là lúc \"chấm điểm\" để xem mô hình của bạn hoạt động tốt đến đâu."
   ]
  },
  {
   "cell_type": "code",
   "execution_count": 25,
   "id": "6dc872a2",
   "metadata": {},
   "outputs": [
    {
     "name": "stdout",
     "output_type": "stream",
     "text": [
      "Độ chính xác: 0.967\n",
      "              precision    recall  f1-score   support\n",
      "\n",
      "      setosa       1.00      1.00      1.00        10\n",
      "  versicolor       1.00      0.90      0.95        10\n",
      "   virginica       0.91      1.00      0.95        10\n",
      "\n",
      "    accuracy                           0.97        30\n",
      "   macro avg       0.97      0.97      0.97        30\n",
      "weighted avg       0.97      0.97      0.97        30\n",
      "\n"
     ]
    }
   ],
   "source": [
    "# 7. Đánh giá mô hình\n",
    "print(f\"Độ chính xác: {accuracy_score(y_test, y_pred):.3f}\")  # % dự đoán đúng\n",
    "print(classification_report(y_test, y_pred, target_names=iris.target_names))"
   ]
  },
  {
   "cell_type": "markdown",
   "id": "6aecc6a3",
   "metadata": {},
   "source": [
    "#### print(f\"Độ chính xác: {accuracy_score(y_test, y_pred):.3f}\")"
   ]
  },
  {
   "cell_type": "markdown",
   "id": "b62691dc",
   "metadata": {},
   "source": [
    "- Hành động: Dòng này in ra Độ chính xác (Accuracy) tổng thể của mô hình.\n",
    "\n",
    "- Phân tích:\n",
    "\n",
    "    - accuracy_score(y_test, y_pred): Đây là hàm bạn đã import ở bước 1. Nó nhận vào 2 đầu vào:\n",
    "\n",
    "    1. y_test: Mảng chứa đáp án thật (ví dụ: [0, 1, 2, 0, ...]).\n",
    "\n",
    "    2. y_pred: Mảng chứa dự đoán của mô hình (ví dụ: [0, 1, 1, 0, ...]).\n",
    "\n",
    "    - Hàm này so sánh hai mảng trên, đếm xem có bao nhiêu vị trí trùng khớp (dự đoán đúng) và chia cho tổng số mẫu (là 30, trong trường hợp này).\n",
    "\n",
    "    - f\"...\": Đây là một f-string trong Python, cho phép bạn nhúng giá trị của biến vào trong chuỗi.\n",
    "\n",
    "    - :.3f: Đây là một quy tắc định dạng. Nó yêu cầu Python lấy kết quả của accuracy_score (ví dụ: 0.96666...) và làm tròn nó, chỉ hiển thị 3 chữ số thập phân (ví dụ: 0.967).\n",
    "\n",
    "- Kết quả ví dụ: Độ chính xác: 0.967 (Nghĩa là mô hình dự đoán đúng 96.7% số mẫu trong tập test)."
   ]
  },
  {
   "cell_type": "markdown",
   "id": "f2f5f9ff",
   "metadata": {},
   "source": [
    "#### print(classification_report(y_test, y_pred, target_names=iris.target_names))"
   ]
  },
  {
   "cell_type": "markdown",
   "id": "8b6160af",
   "metadata": {},
   "source": [
    "- Hành động: Dòng này in ra một báo cáo phân loại chi tiết, cho bạn cái nhìn sâu hơn là chỉ một con số \"accuracy\".\n",
    "\n",
    "- Phân tích:\n",
    "\n",
    "    - classification_report(y_test, y_pred, ...): Hàm này cũng so sánh đáp án thật và đáp án dự đoán.\n",
    "\n",
    "    - target_names=iris.target_names: Đây là một tham số rất hữu ích. Thay vì in kết quả cho các lớp 0, 1, 2, nó sẽ dùng tên thật của các loài hoa (ví dụ: 'setosa', 'versicolor', 'virginica') mà được lưu trong iris.target_names (tải ở bước 2). Điều này làm cho báo cáo dễ đọc hơn nhiều.\n",
    "\n",
    "- Báo cáo này bao gồm các chỉ số gì?\n",
    "\n",
    "    - Precision (Độ chính xác): Trong tất cả các mẫu mà mô hình dự đoán là loài A, bao nhiêu % thực sự là loài A? (Chỉ số này đo lường: \"Khi mô hình nói là A, tôi có thể tin nó không?\")\n",
    "\n",
    "    - Recall (Độ phủ): Trong tất cả các mẫu thực sự là loài A, mô hình tìm thấy được bao nhiêu %? (Chỉ số này đo lường: \"Mô hình có bỏ sót loài A nào không?\")\n",
    "\n",
    "    - F1-score: Là điểm trung bình (harmonic mean) của Precision và Recall. Nó là một con số duy nhất cân bằng cả hai yếu tố trên.\n",
    "\n",
    "    - Support: Số lượng mẫu thực tế của mỗi loài có trong tập test."
   ]
  },
  {
   "cell_type": "markdown",
   "id": "7bd20120",
   "metadata": {},
   "source": [
    "## Câu 7: Làm thế nào để triển khai một mô hình Random Forest trong Python? Bạn thường thiết lập các tham số nào (ví dụ: n_estimators, max_depth)?"
   ]
  },
  {
   "cell_type": "markdown",
   "id": "5899d85b",
   "metadata": {},
   "source": [
    "### Import thư viện"
   ]
  },
  {
   "cell_type": "code",
   "execution_count": 26,
   "id": "06ed9b7d",
   "metadata": {},
   "outputs": [],
   "source": [
    "from sklearn.ensemble import RandomForestClassifier\n",
    "import matplotlib.pyplot as plt\n",
    "import seaborn as sns\n",
    "import numpy as np"
   ]
  },
  {
   "cell_type": "markdown",
   "id": "bc3e2f49",
   "metadata": {},
   "source": [
    "### from sklearn.ensemble import RandomForestClassifier"
   ]
  },
  {
   "cell_type": "markdown",
   "id": "ccd96506",
   "metadata": {},
   "source": [
    "- Thư viện: sklearn.ensemble (mô-đun \"tập hợp\" của scikit-learn).\n",
    "\n",
    "- Công cụ: RandomForestClassifier (Mô hình Rừng Ngẫu Nhiên Phân loại).\n",
    "\n",
    "- Mục đích:\n",
    "\n",
    "    - Đây là một mô hình học máy \"nâng cấp\" so với DecisionTreeClassifier (Cây Quyết Định) mà bạn dùng trước đó.\n",
    "\n",
    "    - Analogy (Phép ví von): Nếu DecisionTreeClassifier là một chuyên gia đưa ra quyết định, thì RandomForestClassifier là một ủy ban (hay \"khu rừng\") gồm rất nhiều chuyên gia (cây) khác nhau.\n",
    "\n",
    "    - Khi dự đoán, mỗi cây trong rừng sẽ đưa ra một \"phiếu bầu\". Quyết định cuối cùng sẽ dựa trên \"phiếu bầu\" của số đông.\n",
    "\n",
    "    - Lợi ich: Mô hình này thường cho độ chính xác cao hơn và ít bị \"học vẹt\" (overfitting) hơn nhiều so với một cây quyết định đơn lẻ."
   ]
  },
  {
   "cell_type": "markdown",
   "id": "9541e4ec",
   "metadata": {},
   "source": [
    "#### import matplotlib.pyplot as plt"
   ]
  },
  {
   "cell_type": "markdown",
   "id": "6f59636c",
   "metadata": {},
   "source": [
    "- Thư viện: matplotlib.pyplot (thư viện vẽ biểu đồ cơ bản và phổ biến nhất trong Python).\n",
    "\n",
    "- Biệt danh: as plt (đây là quy ước chung, \"plt\" là viết tắt của \"plot\").\n",
    "\n",
    "- Mục đích:\n",
    "\n",
    "    - Đây là công cụ \"cơ bản\" để bạn vẽ bất cứ thứ gì.\n",
    "\n",
    "    - Analogy: Hãy coi plt như là \"bút và giấy\" (hoặc hộp bút chì màu cơ bản) của bạn. Nó cho phép bạn vẽ các biểu đồ cơ bản như biểu đồ đường (line charts), biểu đồ phân tán (scatter plots), biểu đồ cột (bar charts), v.v.\n",
    "\n",
    "    - Bạn sẽ dùng nó để trực quan hóa dữ liệu của mình hoặc kết quả của mô hình."
   ]
  },
  {
   "cell_type": "markdown",
   "id": "2429b025",
   "metadata": {},
   "source": [
    "#### import seaborn as sns"
   ]
  },
  {
   "cell_type": "markdown",
   "id": "ff530b27",
   "metadata": {},
   "source": [
    "- Thư viện: seaborn (một thư viện vẽ biểu đồ khác).\n",
    "\n",
    "- Biệt danh: as sns (đây là quy ước chung).\n",
    "\n",
    "- Mục đích:\n",
    "\n",
    "    - Đây là thư viện được xây dựng dựa trên matplotlib (plt) nhưng làm cho biểu đồ của bạn đẹp hơn và cho phép vẽ các biểu đồ thống kê phức tạp một cách dễ dàng.\n",
    "\n",
    "    - Analogy: Nếu plt là hộp bút chì màu cơ bản, thì sns là \"Bộ Hộp Bút Màu Cao Cấp\" (Deluxe Art Kit). Nó vẫn dùng chì màu (plt) ở bên dưới, nhưng nó cung cấp các hàm tiện lợi để tạo ra các biểu đồ bóng bẩy, đẹp mắt (như heatmaps, pair plots, violin plots) chỉ bằng một vài dòng code.\n",
    "\n",
    "    - Nó rất tuyệt vời cho việc Phân tích Dữ liệu Khám phá (EDA)."
   ]
  },
  {
   "cell_type": "markdown",
   "id": "5fbdeac5",
   "metadata": {},
   "source": [
    "### Khởi tạo Random Forest"
   ]
  },
  {
   "cell_type": "code",
   "execution_count": 27,
   "id": "c262dc73",
   "metadata": {},
   "outputs": [],
   "source": [
    "# 1. Khởi tạo Random Forest với các tham số quan trọng\n",
    "rf = RandomForestClassifier(\n",
    "    n_estimators=200,        # Số cây: 200 (càng nhiều → càng ổn định, nhưng chậm hơn)\n",
    "    max_depth=None,          # Không giới hạn độ sâu (mỗi cây học tối đa)\n",
    "    max_features='sqrt',     # Mỗi lần chia: chỉ dùng sqrt(4)=2 đặc trưng ngẫu nhiên\n",
    "    min_samples_split=2,     # Ít nhất 2 mẫu để chia\n",
    "    min_samples_leaf=1,      # Ít nhất 1 mẫu ở lá\n",
    "    bootstrap=True,          # Lấy mẫu có hoàn lại (Bagging) → mỗi cây thấy ~63% dữ liệu\n",
    "    random_state=42,         # Kết quả lặp lại\n",
    "    n_jobs=-1                # Dùng TẤT CẢ CPU → nhanh hơn\n",
    ")"
   ]
  },
  {
   "cell_type": "markdown",
   "id": "12d94ee2",
   "metadata": {},
   "source": [
    "rf = RandomForestClassifier(...)\n",
    "\n",
    "Bạn đang tạo một \"khu rừng\" (rf) và thiết lập các \"luật\" để xây dựng khu rừng đó."
   ]
  },
  {
   "cell_type": "markdown",
   "id": "3f71f3f6",
   "metadata": {},
   "source": [
    "#### Giải thích chi tiết từng tham số"
   ]
  },
  {
   "cell_type": "markdown",
   "id": "9f28c8c4",
   "metadata": {},
   "source": [
    "- n_estimators=200\n",
    "\n",
    "    - Số lượng Cây: Đây là tham số quan trọng nhất. Nó quy định \"khu rừng\" của bạn sẽ có 200 Cây Quyết Định.\n",
    "\n",
    "    - Càng nhiều cây, mô hình càng ổn định và chính xác (giống như hỏi ý kiến 200 người sẽ tốt hơn hỏi 1 người), nhưng sẽ mất nhiều thời gian huấn luyện hơn.\n",
    "\n",
    "- max_depth=None\n",
    "\n",
    "    - Độ sâu tối đa (của mỗi cây): Khác với Cây Quyết Định (bạn set là 3), ở đây bạn để None (không giới hạn).\n",
    "\n",
    "    - Ý nghĩa: Bạn cho phép mỗi cây trong 200 cây được phát triển \"hết cỡ\" (học vẹt) trên phần dữ liệu của nó.\n",
    "\n",
    "    - Tại sao? Một cây đơn lẻ học vẹt sẽ rất tệ. Nhưng trong Rừng Ngẫu nhiên, bạn có 200 \"chuyên gia học vẹt\" khác nhau (vì dữ liệu và đặc trưng chúng thấy là ngẫu nhiên), khi lấy ý kiến số đông, các lỗi \"học vẹt\" sẽ tự triệt tiêu lẫn nhau, chỉ giữ lại các quy luật chung đúng đắn.\n",
    "\n",
    "- max_features='sqrt'\n",
    "\n",
    "    - Số đặc trưng tối đa (để chia nhánh): Đây là một phần quan trọng của sự \"Ngẫu nhiên\" (Random).\n",
    "\n",
    "    - Ý nghĩa: Khi mỗi cây quyết định chia nhánh, nó không được nhìn vào tất cả 4 đặc trưng (sepal length, sepal width...). Thay vào đó, nó chỉ được phép nhìn vào một tập con ngẫu nhiên các đặc trưng.\n",
    "\n",
    "    - 'sqrt' có nghĩa là nó sẽ chọn ngẫu nhiên sqrt(tổng số đặc trưng). Với dữ liệu Iris (có 4 đặc trưng), sqrt(4) = 2.\n",
    "\n",
    "    - Kết quả: Tại mỗi lần chia, cây chỉ được chọn ra 2 trong 4 đặc trưng để tìm cách chia tốt nhất. Điều này làm cho 200 cây trong rừng trở nên rất đa dạng (vì chúng không dùng chung các đặc trưng tốt nhất).\n",
    "\n",
    "- min_samples_split=2 & min_samples_leaf=1\n",
    "\n",
    "    - Ý nghĩa: Tương tự như Cây Quyết Định, đây là các tham số cơ bản để kiểm soát việc dừng chia nhánh (thường để mặc định).\n",
    "\n",
    "- bootstrap=True\n",
    "\n",
    "    - Lấy mẫu có hoàn lại (Bagging): Đây là phần quan trọng thứ hai của \"Ngẫu nhiên\".\n",
    "\n",
    "    - Ý nghĩa: Khi huấn luyện Cây số 1 (trong 200 cây), nó không dùng toàn bộ 120 mẫu X_train. Thay vào đó, nó \"bốc\" ngẫu nhiên 120 mẫu có hoàn lại từ X_train.\n",
    "\n",
    "    - Kết quả: Trung bình, mỗi cây sẽ chỉ \"nhìn thấy\" khoảng 63% dữ liệu huấn luyện gốc. Điều này đảm bảo mỗi cây học được một \"góc nhìn\" hơi khác nhau về dữ liệu.\n",
    "\n",
    "- random_state=42\n",
    "\n",
    "    - Trạng thái ngẫu nhiên: Đảm bảo rằng tất cả các yếu tố \"ngẫu nhiên\" (chọn mẫu bootstrap, chọn đặc trưng max_features) đều lặp lại được. Mỗi lần chạy, bạn sẽ nhận được chính xác 200 cây giống hệt nhau.\n",
    "\n",
    "- n_jobs=-1\n",
    "\n",
    "    - Sử dụng CPU: Đây là một tham số tối ưu tốc độ.\n",
    "\n",
    "    - -1 có nghĩa là \"sử dụng tất cả các lõi (cores) CPU\" mà máy tính của bạn có.\n",
    "\n",
    "    - Kết quả: Mô hình sẽ huấn luyện 200 cây này song song (ví dụ, nếu bạn có 8 lõi, nó có thể huấn luyện 8 cây cùng lúc), làm cho quá trình huấn luyện nhanh hơn đáng kể."
   ]
  },
  {
   "cell_type": "markdown",
   "id": "baf1e333",
   "metadata": {},
   "source": [
    "### Huấn luyện"
   ]
  },
  {
   "cell_type": "code",
   "execution_count": 28,
   "id": "8535d33b",
   "metadata": {},
   "outputs": [
    {
     "data": {
      "text/html": [
       "<style>#sk-container-id-4 {\n",
       "  /* Definition of color scheme common for light and dark mode */\n",
       "  --sklearn-color-text: #000;\n",
       "  --sklearn-color-text-muted: #666;\n",
       "  --sklearn-color-line: gray;\n",
       "  /* Definition of color scheme for unfitted estimators */\n",
       "  --sklearn-color-unfitted-level-0: #fff5e6;\n",
       "  --sklearn-color-unfitted-level-1: #f6e4d2;\n",
       "  --sklearn-color-unfitted-level-2: #ffe0b3;\n",
       "  --sklearn-color-unfitted-level-3: chocolate;\n",
       "  /* Definition of color scheme for fitted estimators */\n",
       "  --sklearn-color-fitted-level-0: #f0f8ff;\n",
       "  --sklearn-color-fitted-level-1: #d4ebff;\n",
       "  --sklearn-color-fitted-level-2: #b3dbfd;\n",
       "  --sklearn-color-fitted-level-3: cornflowerblue;\n",
       "\n",
       "  /* Specific color for light theme */\n",
       "  --sklearn-color-text-on-default-background: var(--sg-text-color, var(--theme-code-foreground, var(--jp-content-font-color1, black)));\n",
       "  --sklearn-color-background: var(--sg-background-color, var(--theme-background, var(--jp-layout-color0, white)));\n",
       "  --sklearn-color-border-box: var(--sg-text-color, var(--theme-code-foreground, var(--jp-content-font-color1, black)));\n",
       "  --sklearn-color-icon: #696969;\n",
       "\n",
       "  @media (prefers-color-scheme: dark) {\n",
       "    /* Redefinition of color scheme for dark theme */\n",
       "    --sklearn-color-text-on-default-background: var(--sg-text-color, var(--theme-code-foreground, var(--jp-content-font-color1, white)));\n",
       "    --sklearn-color-background: var(--sg-background-color, var(--theme-background, var(--jp-layout-color0, #111)));\n",
       "    --sklearn-color-border-box: var(--sg-text-color, var(--theme-code-foreground, var(--jp-content-font-color1, white)));\n",
       "    --sklearn-color-icon: #878787;\n",
       "  }\n",
       "}\n",
       "\n",
       "#sk-container-id-4 {\n",
       "  color: var(--sklearn-color-text);\n",
       "}\n",
       "\n",
       "#sk-container-id-4 pre {\n",
       "  padding: 0;\n",
       "}\n",
       "\n",
       "#sk-container-id-4 input.sk-hidden--visually {\n",
       "  border: 0;\n",
       "  clip: rect(1px 1px 1px 1px);\n",
       "  clip: rect(1px, 1px, 1px, 1px);\n",
       "  height: 1px;\n",
       "  margin: -1px;\n",
       "  overflow: hidden;\n",
       "  padding: 0;\n",
       "  position: absolute;\n",
       "  width: 1px;\n",
       "}\n",
       "\n",
       "#sk-container-id-4 div.sk-dashed-wrapped {\n",
       "  border: 1px dashed var(--sklearn-color-line);\n",
       "  margin: 0 0.4em 0.5em 0.4em;\n",
       "  box-sizing: border-box;\n",
       "  padding-bottom: 0.4em;\n",
       "  background-color: var(--sklearn-color-background);\n",
       "}\n",
       "\n",
       "#sk-container-id-4 div.sk-container {\n",
       "  /* jupyter's `normalize.less` sets `[hidden] { display: none; }`\n",
       "     but bootstrap.min.css set `[hidden] { display: none !important; }`\n",
       "     so we also need the `!important` here to be able to override the\n",
       "     default hidden behavior on the sphinx rendered scikit-learn.org.\n",
       "     See: https://github.com/scikit-learn/scikit-learn/issues/21755 */\n",
       "  display: inline-block !important;\n",
       "  position: relative;\n",
       "}\n",
       "\n",
       "#sk-container-id-4 div.sk-text-repr-fallback {\n",
       "  display: none;\n",
       "}\n",
       "\n",
       "div.sk-parallel-item,\n",
       "div.sk-serial,\n",
       "div.sk-item {\n",
       "  /* draw centered vertical line to link estimators */\n",
       "  background-image: linear-gradient(var(--sklearn-color-text-on-default-background), var(--sklearn-color-text-on-default-background));\n",
       "  background-size: 2px 100%;\n",
       "  background-repeat: no-repeat;\n",
       "  background-position: center center;\n",
       "}\n",
       "\n",
       "/* Parallel-specific style estimator block */\n",
       "\n",
       "#sk-container-id-4 div.sk-parallel-item::after {\n",
       "  content: \"\";\n",
       "  width: 100%;\n",
       "  border-bottom: 2px solid var(--sklearn-color-text-on-default-background);\n",
       "  flex-grow: 1;\n",
       "}\n",
       "\n",
       "#sk-container-id-4 div.sk-parallel {\n",
       "  display: flex;\n",
       "  align-items: stretch;\n",
       "  justify-content: center;\n",
       "  background-color: var(--sklearn-color-background);\n",
       "  position: relative;\n",
       "}\n",
       "\n",
       "#sk-container-id-4 div.sk-parallel-item {\n",
       "  display: flex;\n",
       "  flex-direction: column;\n",
       "}\n",
       "\n",
       "#sk-container-id-4 div.sk-parallel-item:first-child::after {\n",
       "  align-self: flex-end;\n",
       "  width: 50%;\n",
       "}\n",
       "\n",
       "#sk-container-id-4 div.sk-parallel-item:last-child::after {\n",
       "  align-self: flex-start;\n",
       "  width: 50%;\n",
       "}\n",
       "\n",
       "#sk-container-id-4 div.sk-parallel-item:only-child::after {\n",
       "  width: 0;\n",
       "}\n",
       "\n",
       "/* Serial-specific style estimator block */\n",
       "\n",
       "#sk-container-id-4 div.sk-serial {\n",
       "  display: flex;\n",
       "  flex-direction: column;\n",
       "  align-items: center;\n",
       "  background-color: var(--sklearn-color-background);\n",
       "  padding-right: 1em;\n",
       "  padding-left: 1em;\n",
       "}\n",
       "\n",
       "\n",
       "/* Toggleable style: style used for estimator/Pipeline/ColumnTransformer box that is\n",
       "clickable and can be expanded/collapsed.\n",
       "- Pipeline and ColumnTransformer use this feature and define the default style\n",
       "- Estimators will overwrite some part of the style using the `sk-estimator` class\n",
       "*/\n",
       "\n",
       "/* Pipeline and ColumnTransformer style (default) */\n",
       "\n",
       "#sk-container-id-4 div.sk-toggleable {\n",
       "  /* Default theme specific background. It is overwritten whether we have a\n",
       "  specific estimator or a Pipeline/ColumnTransformer */\n",
       "  background-color: var(--sklearn-color-background);\n",
       "}\n",
       "\n",
       "/* Toggleable label */\n",
       "#sk-container-id-4 label.sk-toggleable__label {\n",
       "  cursor: pointer;\n",
       "  display: flex;\n",
       "  width: 100%;\n",
       "  margin-bottom: 0;\n",
       "  padding: 0.5em;\n",
       "  box-sizing: border-box;\n",
       "  text-align: center;\n",
       "  align-items: start;\n",
       "  justify-content: space-between;\n",
       "  gap: 0.5em;\n",
       "}\n",
       "\n",
       "#sk-container-id-4 label.sk-toggleable__label .caption {\n",
       "  font-size: 0.6rem;\n",
       "  font-weight: lighter;\n",
       "  color: var(--sklearn-color-text-muted);\n",
       "}\n",
       "\n",
       "#sk-container-id-4 label.sk-toggleable__label-arrow:before {\n",
       "  /* Arrow on the left of the label */\n",
       "  content: \"▸\";\n",
       "  float: left;\n",
       "  margin-right: 0.25em;\n",
       "  color: var(--sklearn-color-icon);\n",
       "}\n",
       "\n",
       "#sk-container-id-4 label.sk-toggleable__label-arrow:hover:before {\n",
       "  color: var(--sklearn-color-text);\n",
       "}\n",
       "\n",
       "/* Toggleable content - dropdown */\n",
       "\n",
       "#sk-container-id-4 div.sk-toggleable__content {\n",
       "  max-height: 0;\n",
       "  max-width: 0;\n",
       "  overflow: hidden;\n",
       "  text-align: left;\n",
       "  /* unfitted */\n",
       "  background-color: var(--sklearn-color-unfitted-level-0);\n",
       "}\n",
       "\n",
       "#sk-container-id-4 div.sk-toggleable__content.fitted {\n",
       "  /* fitted */\n",
       "  background-color: var(--sklearn-color-fitted-level-0);\n",
       "}\n",
       "\n",
       "#sk-container-id-4 div.sk-toggleable__content pre {\n",
       "  margin: 0.2em;\n",
       "  border-radius: 0.25em;\n",
       "  color: var(--sklearn-color-text);\n",
       "  /* unfitted */\n",
       "  background-color: var(--sklearn-color-unfitted-level-0);\n",
       "}\n",
       "\n",
       "#sk-container-id-4 div.sk-toggleable__content.fitted pre {\n",
       "  /* unfitted */\n",
       "  background-color: var(--sklearn-color-fitted-level-0);\n",
       "}\n",
       "\n",
       "#sk-container-id-4 input.sk-toggleable__control:checked~div.sk-toggleable__content {\n",
       "  /* Expand drop-down */\n",
       "  max-height: 200px;\n",
       "  max-width: 100%;\n",
       "  overflow: auto;\n",
       "}\n",
       "\n",
       "#sk-container-id-4 input.sk-toggleable__control:checked~label.sk-toggleable__label-arrow:before {\n",
       "  content: \"▾\";\n",
       "}\n",
       "\n",
       "/* Pipeline/ColumnTransformer-specific style */\n",
       "\n",
       "#sk-container-id-4 div.sk-label input.sk-toggleable__control:checked~label.sk-toggleable__label {\n",
       "  color: var(--sklearn-color-text);\n",
       "  background-color: var(--sklearn-color-unfitted-level-2);\n",
       "}\n",
       "\n",
       "#sk-container-id-4 div.sk-label.fitted input.sk-toggleable__control:checked~label.sk-toggleable__label {\n",
       "  background-color: var(--sklearn-color-fitted-level-2);\n",
       "}\n",
       "\n",
       "/* Estimator-specific style */\n",
       "\n",
       "/* Colorize estimator box */\n",
       "#sk-container-id-4 div.sk-estimator input.sk-toggleable__control:checked~label.sk-toggleable__label {\n",
       "  /* unfitted */\n",
       "  background-color: var(--sklearn-color-unfitted-level-2);\n",
       "}\n",
       "\n",
       "#sk-container-id-4 div.sk-estimator.fitted input.sk-toggleable__control:checked~label.sk-toggleable__label {\n",
       "  /* fitted */\n",
       "  background-color: var(--sklearn-color-fitted-level-2);\n",
       "}\n",
       "\n",
       "#sk-container-id-4 div.sk-label label.sk-toggleable__label,\n",
       "#sk-container-id-4 div.sk-label label {\n",
       "  /* The background is the default theme color */\n",
       "  color: var(--sklearn-color-text-on-default-background);\n",
       "}\n",
       "\n",
       "/* On hover, darken the color of the background */\n",
       "#sk-container-id-4 div.sk-label:hover label.sk-toggleable__label {\n",
       "  color: var(--sklearn-color-text);\n",
       "  background-color: var(--sklearn-color-unfitted-level-2);\n",
       "}\n",
       "\n",
       "/* Label box, darken color on hover, fitted */\n",
       "#sk-container-id-4 div.sk-label.fitted:hover label.sk-toggleable__label.fitted {\n",
       "  color: var(--sklearn-color-text);\n",
       "  background-color: var(--sklearn-color-fitted-level-2);\n",
       "}\n",
       "\n",
       "/* Estimator label */\n",
       "\n",
       "#sk-container-id-4 div.sk-label label {\n",
       "  font-family: monospace;\n",
       "  font-weight: bold;\n",
       "  display: inline-block;\n",
       "  line-height: 1.2em;\n",
       "}\n",
       "\n",
       "#sk-container-id-4 div.sk-label-container {\n",
       "  text-align: center;\n",
       "}\n",
       "\n",
       "/* Estimator-specific */\n",
       "#sk-container-id-4 div.sk-estimator {\n",
       "  font-family: monospace;\n",
       "  border: 1px dotted var(--sklearn-color-border-box);\n",
       "  border-radius: 0.25em;\n",
       "  box-sizing: border-box;\n",
       "  margin-bottom: 0.5em;\n",
       "  /* unfitted */\n",
       "  background-color: var(--sklearn-color-unfitted-level-0);\n",
       "}\n",
       "\n",
       "#sk-container-id-4 div.sk-estimator.fitted {\n",
       "  /* fitted */\n",
       "  background-color: var(--sklearn-color-fitted-level-0);\n",
       "}\n",
       "\n",
       "/* on hover */\n",
       "#sk-container-id-4 div.sk-estimator:hover {\n",
       "  /* unfitted */\n",
       "  background-color: var(--sklearn-color-unfitted-level-2);\n",
       "}\n",
       "\n",
       "#sk-container-id-4 div.sk-estimator.fitted:hover {\n",
       "  /* fitted */\n",
       "  background-color: var(--sklearn-color-fitted-level-2);\n",
       "}\n",
       "\n",
       "/* Specification for estimator info (e.g. \"i\" and \"?\") */\n",
       "\n",
       "/* Common style for \"i\" and \"?\" */\n",
       "\n",
       ".sk-estimator-doc-link,\n",
       "a:link.sk-estimator-doc-link,\n",
       "a:visited.sk-estimator-doc-link {\n",
       "  float: right;\n",
       "  font-size: smaller;\n",
       "  line-height: 1em;\n",
       "  font-family: monospace;\n",
       "  background-color: var(--sklearn-color-background);\n",
       "  border-radius: 1em;\n",
       "  height: 1em;\n",
       "  width: 1em;\n",
       "  text-decoration: none !important;\n",
       "  margin-left: 0.5em;\n",
       "  text-align: center;\n",
       "  /* unfitted */\n",
       "  border: var(--sklearn-color-unfitted-level-1) 1pt solid;\n",
       "  color: var(--sklearn-color-unfitted-level-1);\n",
       "}\n",
       "\n",
       ".sk-estimator-doc-link.fitted,\n",
       "a:link.sk-estimator-doc-link.fitted,\n",
       "a:visited.sk-estimator-doc-link.fitted {\n",
       "  /* fitted */\n",
       "  border: var(--sklearn-color-fitted-level-1) 1pt solid;\n",
       "  color: var(--sklearn-color-fitted-level-1);\n",
       "}\n",
       "\n",
       "/* On hover */\n",
       "div.sk-estimator:hover .sk-estimator-doc-link:hover,\n",
       ".sk-estimator-doc-link:hover,\n",
       "div.sk-label-container:hover .sk-estimator-doc-link:hover,\n",
       ".sk-estimator-doc-link:hover {\n",
       "  /* unfitted */\n",
       "  background-color: var(--sklearn-color-unfitted-level-3);\n",
       "  color: var(--sklearn-color-background);\n",
       "  text-decoration: none;\n",
       "}\n",
       "\n",
       "div.sk-estimator.fitted:hover .sk-estimator-doc-link.fitted:hover,\n",
       ".sk-estimator-doc-link.fitted:hover,\n",
       "div.sk-label-container:hover .sk-estimator-doc-link.fitted:hover,\n",
       ".sk-estimator-doc-link.fitted:hover {\n",
       "  /* fitted */\n",
       "  background-color: var(--sklearn-color-fitted-level-3);\n",
       "  color: var(--sklearn-color-background);\n",
       "  text-decoration: none;\n",
       "}\n",
       "\n",
       "/* Span, style for the box shown on hovering the info icon */\n",
       ".sk-estimator-doc-link span {\n",
       "  display: none;\n",
       "  z-index: 9999;\n",
       "  position: relative;\n",
       "  font-weight: normal;\n",
       "  right: .2ex;\n",
       "  padding: .5ex;\n",
       "  margin: .5ex;\n",
       "  width: min-content;\n",
       "  min-width: 20ex;\n",
       "  max-width: 50ex;\n",
       "  color: var(--sklearn-color-text);\n",
       "  box-shadow: 2pt 2pt 4pt #999;\n",
       "  /* unfitted */\n",
       "  background: var(--sklearn-color-unfitted-level-0);\n",
       "  border: .5pt solid var(--sklearn-color-unfitted-level-3);\n",
       "}\n",
       "\n",
       ".sk-estimator-doc-link.fitted span {\n",
       "  /* fitted */\n",
       "  background: var(--sklearn-color-fitted-level-0);\n",
       "  border: var(--sklearn-color-fitted-level-3);\n",
       "}\n",
       "\n",
       ".sk-estimator-doc-link:hover span {\n",
       "  display: block;\n",
       "}\n",
       "\n",
       "/* \"?\"-specific style due to the `<a>` HTML tag */\n",
       "\n",
       "#sk-container-id-4 a.estimator_doc_link {\n",
       "  float: right;\n",
       "  font-size: 1rem;\n",
       "  line-height: 1em;\n",
       "  font-family: monospace;\n",
       "  background-color: var(--sklearn-color-background);\n",
       "  border-radius: 1rem;\n",
       "  height: 1rem;\n",
       "  width: 1rem;\n",
       "  text-decoration: none;\n",
       "  /* unfitted */\n",
       "  color: var(--sklearn-color-unfitted-level-1);\n",
       "  border: var(--sklearn-color-unfitted-level-1) 1pt solid;\n",
       "}\n",
       "\n",
       "#sk-container-id-4 a.estimator_doc_link.fitted {\n",
       "  /* fitted */\n",
       "  border: var(--sklearn-color-fitted-level-1) 1pt solid;\n",
       "  color: var(--sklearn-color-fitted-level-1);\n",
       "}\n",
       "\n",
       "/* On hover */\n",
       "#sk-container-id-4 a.estimator_doc_link:hover {\n",
       "  /* unfitted */\n",
       "  background-color: var(--sklearn-color-unfitted-level-3);\n",
       "  color: var(--sklearn-color-background);\n",
       "  text-decoration: none;\n",
       "}\n",
       "\n",
       "#sk-container-id-4 a.estimator_doc_link.fitted:hover {\n",
       "  /* fitted */\n",
       "  background-color: var(--sklearn-color-fitted-level-3);\n",
       "}\n",
       "</style><div id=\"sk-container-id-4\" class=\"sk-top-container\"><div class=\"sk-text-repr-fallback\"><pre>RandomForestClassifier(n_estimators=200, n_jobs=-1, random_state=42)</pre><b>In a Jupyter environment, please rerun this cell to show the HTML representation or trust the notebook. <br />On GitHub, the HTML representation is unable to render, please try loading this page with nbviewer.org.</b></div><div class=\"sk-container\" hidden><div class=\"sk-item\"><div class=\"sk-estimator fitted sk-toggleable\"><input class=\"sk-toggleable__control sk-hidden--visually\" id=\"sk-estimator-id-4\" type=\"checkbox\" checked><label for=\"sk-estimator-id-4\" class=\"sk-toggleable__label fitted sk-toggleable__label-arrow\"><div><div>RandomForestClassifier</div></div><div><a class=\"sk-estimator-doc-link fitted\" rel=\"noreferrer\" target=\"_blank\" href=\"https://scikit-learn.org/1.6/modules/generated/sklearn.ensemble.RandomForestClassifier.html\">?<span>Documentation for RandomForestClassifier</span></a><span class=\"sk-estimator-doc-link fitted\">i<span>Fitted</span></span></div></label><div class=\"sk-toggleable__content fitted\"><pre>RandomForestClassifier(n_estimators=200, n_jobs=-1, random_state=42)</pre></div> </div></div></div></div>"
      ],
      "text/plain": [
       "RandomForestClassifier(n_estimators=200, n_jobs=-1, random_state=42)"
      ]
     },
     "execution_count": 28,
     "metadata": {},
     "output_type": "execute_result"
    }
   ],
   "source": [
    "# 2. Huấn luyện\n",
    "rf.fit(X_train, y_train)"
   ]
  },
  {
   "cell_type": "markdown",
   "id": "0b19ecda",
   "metadata": {},
   "source": [
    "#### rf.fit(X_train, y_train)"
   ]
  },
  {
   "cell_type": "markdown",
   "id": "086a17b1",
   "metadata": {},
   "source": [
    "- rf: Đây là mô hình Rừng Ngẫu nhiên vừa khởi tạo (với 200 cây, chạy đa lõi, v.v.).\n",
    "\n",
    "- .fit(...): Phương thức \"huấn luyện\".\n",
    "\n",
    "- X_train, y_train: Dữ liệu huấn luyện (120 mẫu câu hỏi và đáp án)."
   ]
  },
  {
   "cell_type": "markdown",
   "id": "ae08a220",
   "metadata": {},
   "source": [
    "#### Quá trình \"Học\" của Rừng Ngẫu nhiên"
   ]
  },
  {
   "cell_type": "markdown",
   "id": "cdee76d5",
   "metadata": {},
   "source": [
    "Khi dòng code này chạy, một quá trình phức tạp và mạnh mẽ hơn sẽ diễn ra so với Cây Quyết Định:\n",
    "\n",
    "1. Phân chia công việc: Vì đã đặt n_jobs=-1, máy tính sẽ huy động tất cả các lõi CPU của mình.\n",
    "\n",
    "2. Xây dựng 200 cây song song:\n",
    "\n",
    "    - Nó sẽ bắt đầu xây dựng 200 Cây Quyết Định riêng biệt, thường là chạy song song trên các lõi CPU khác nhau.\n",
    "\n",
    "    - Cây 1 sẽ được huấn luyện trên một mẫu bootstrap (ngẫu nhiên, có hoàn lại) của X_train và y_train, và chỉ được dùng sqrt(4)=2 đặc trưng ngẫu nhiên ở mỗi lần chia.\n",
    "\n",
    "    - Cây 2 cũng sẽ được huấn luyện trên một mẫu bootstrap khác của X_train và y_train, và cũng dùng 2 đặc trưng ngẫu nhiên khác.\n",
    "\n",
    "    - ... Quá trình này lặp lại cho đến khi Cây 200 được xây dựng xong.\n",
    "\n",
    "3. Hoàn thành: Quá trình này có thể mất nhiều thời gian hơn một chút so với việc huấn luyện 1 cây đơn lẻ, nhưng kết quả là có được một \"ủy ban\" gồm 200 \"chuyên gia\" đa dạng."
   ]
  },
  {
   "cell_type": "markdown",
   "id": "6de1609d",
   "metadata": {},
   "source": [
    "### Dự đoán"
   ]
  },
  {
   "cell_type": "code",
   "execution_count": 29,
   "id": "4c6047be",
   "metadata": {},
   "outputs": [],
   "source": [
    "# 3. Dự đoán\n",
    "y_pred_rf = rf.predict(X_test)"
   ]
  },
  {
   "cell_type": "markdown",
   "id": "7bf216c5",
   "metadata": {},
   "source": [
    "#### y_pred_rf = rf.predict(X_test)"
   ]
  },
  {
   "cell_type": "markdown",
   "id": "5ba16a7e",
   "metadata": {},
   "source": [
    "- rf: Đây là mô hình Rừng Ngẫu nhiên đã được huấn luyện (từ bước rf.fit). Nó đang chứa 200 Cây Quyết Định con bên trong.\n",
    "\n",
    "- .predict(X_test): Bạn yêu cầu mô hình rf đưa ra dự đoán cho \"bộ đề thi\" (X_test - 30 mẫu) mà nó chưa từng thấy."
   ]
  },
  {
   "cell_type": "markdown",
   "id": "c9113a2e",
   "metadata": {},
   "source": [
    "#### Quá trình \"Dự đoán\" của Rừng Ngẫu nhiên (Voting)"
   ]
  },
  {
   "cell_type": "markdown",
   "id": "24c9eacb",
   "metadata": {},
   "source": [
    "- Đây là điểm khác biệt mấu chốt so với Cây Quyết Định. Khi rf.predict chạy, nó không chỉ đi theo một con đường, mà nó thực hiện nguyên tắc bỏ phiếu (voting):\n",
    "\n",
    "    1. Mô hình lấy bông hoa đầu tiên từ X_test.\n",
    "\n",
    "    2. Nó đưa bông hoa này cho tất cả 200 Cây Quyết Định mà nó đang có.\n",
    "\n",
    "    3. Cây 1 nhìn vào bông hoa và \"bỏ phiếu\": Tôi nghĩ đây là loài 'versicolor' (lớp 1).\n",
    "\n",
    "    4. Cây 2 cũng nhìn vào và \"bỏ phiếu\": Tôi nghĩ đây là loài 'virginica' (lớp 2).\n",
    "\n",
    "    5. Cây 3 bỏ phiếu: Tôi nghĩ đây là loài 'versicolor' (lớp 1).\n",
    "\n",
    "    6. ... Quá trình này lặp lại cho tất cả 200 cây.\n",
    "\n",
    "    7. Cuối cùng, mô hình rf đếm tất cả 200 phiếu bầu.\n",
    "\n",
    "        - Ví dụ: 5 phiếu cho 'setosa' (0), 130 phiếu cho 'versicolor' (1), 65 phiếu cho 'virginica' (2).\n",
    "\n",
    "    8. Dự đoán cuối cùng cho bông hoa đó là loài có số phiếu cao nhất (trong ví dụ này là 'versicolor' (1)).\n",
    "\n",
    "- Quá trình \"bỏ phiếu\" này được lặp lại cho tất cả 30 bông hoa trong X_test.\n",
    "\n",
    "- Kết quả\n",
    "    - y_pred_rf: Biến này (viết tắt của \"predicted y for Random Forest\") là một mảng (array) chứa 30 dự đoán cuối cùng (sau khi đã bỏ phiếu) cho 30 mẫu trong X_test.\n",
    "\n",
    "        - Ví dụ: [1, 2, 1, 0, 1, 1, ...]"
   ]
  },
  {
   "cell_type": "markdown",
   "id": "516c1161",
   "metadata": {},
   "source": [
    "### Đánh giá"
   ]
  },
  {
   "cell_type": "code",
   "execution_count": 30,
   "id": "2a680574",
   "metadata": {},
   "outputs": [
    {
     "name": "stdout",
     "output_type": "stream",
     "text": [
      "Random Forest Accuracy: 0.900\n"
     ]
    }
   ],
   "source": [
    "# 4. Đánh giá\n",
    "print(f\"Random Forest Accuracy: {accuracy_score(y_test, y_pred_rf):.3f}\")"
   ]
  },
  {
   "cell_type": "markdown",
   "id": "5c18e422",
   "metadata": {},
   "source": [
    "#### print(f\"Random Forest Accuracy: {accuracy_score(y_test, y_pred_rf):.3f}\")"
   ]
  },
  {
   "cell_type": "markdown",
   "id": "2a69bc4d",
   "metadata": {},
   "source": [
    "- Hành động: Tính toán và in ra Độ chính xác (Accuracy) tổng thể của mô hình Rừng Ngẫu nhiên.\n",
    "\n",
    "- Phân tích:\n",
    "\n",
    "    - accuracy_score(y_test, y_pred_rf):\n",
    "\n",
    "    - Đây là hàm \"chấm điểm\" accuracy_score (bạn đã import ở bước 1 của file gốc).\n",
    "\n",
    "    - Nó so sánh 2 mảng:\n",
    "\n",
    "    - y_test: Đáp án thật (của 30 mẫu test).\n",
    "\n",
    "    - y_pred_rf: Đáp án dự đoán của Rừng Ngẫu nhiên (từ bước 3).\n",
    "\n",
    "    - Nó đếm số lần dự đoán đúng và chia cho tổng số mẫu (30).\n",
    "\n",
    "- :.3f:\n",
    "\n",
    "    - Đây là một quy tắc định dạng (format) bên trong f-string.\n",
    "\n",
    "    - Nó yêu cầu Python lấy kết quả (ví dụ 1.0 hoặc 0.96666...) và làm tròn đến 3 chữ số thập phân (ví dụ: 1.000 hoặc 0.967).\n",
    "\n",
    "- print(...): In kết quả cuối cùng ra màn hình."
   ]
  },
  {
   "cell_type": "markdown",
   "id": "0a7616fd",
   "metadata": {},
   "source": [
    "### Tham số quan trọng"
   ]
  },
  {
   "cell_type": "markdown",
   "id": "0ab11ae8",
   "metadata": {},
   "source": [
    "| Tham số | Mô tả | Gợi ý |\n",
    "| --- | --- | --- |\n",
    "| n_estimators | Số cây | 100–500 | \n",
    "| max_depth | Độ sâu tối đa | None hoặc 10–30 | \n",
    "| max_features | Số đặc trưng ngẫu nhiên | 'sqrt' hoặc 'log2' | \n",
    "| min_samples_leaf | Số mẫu tối thiểu ở lá | 1–5 | "
   ]
  },
  {
   "cell_type": "markdown",
   "id": "b078e783",
   "metadata": {},
   "source": [
    "## Câu 8: Làm thế nào để đánh giá tầm quan trọng của các đặc trưng (feature importance) trong Random Forest bằng Python?"
   ]
  },
  {
   "cell_type": "markdown",
   "id": "5f38d571",
   "metadata": {},
   "source": [
    "### Lấy thông tin"
   ]
  },
  {
   "cell_type": "code",
   "execution_count": 31,
   "id": "5d947e8f",
   "metadata": {},
   "outputs": [],
   "source": [
    "# 1. Lấy độ quan trọng từ mô hình Random Forest\n",
    "importances = rf.feature_importances_          # Mảng [0.1, 0.05, 0.45, 0.40]\n",
    "feature_names = iris.feature_names             # ['sepal length', 'sepal width', ...]"
   ]
  },
  {
   "cell_type": "markdown",
   "id": "da33c20f",
   "metadata": {},
   "source": [
    "#### importances = rf.feature_importances_"
   ]
  },
  {
   "cell_type": "markdown",
   "id": "78b8a5e0",
   "metadata": {},
   "source": [
    "- rf: Đây là mô hình Rừng Ngẫu nhiên đã được huấn luyện.\n",
    "\n",
    "- .feature_importances_: Đây là một thuộc tính (attribute) của mô hình rf. Nó được tự động tính toán trong quá trình huấn luyện.\n",
    "\n",
    "- Cách nó tính (Đơn giản): Mô hình Rừng Ngẫu nhiên đo xem mỗi đặc trưng (ví dụ: petal length) đã giúp giảm độ \"vẩn đục\" (Gini Impurity) tốt như thế nào trên toàn bộ 200 cây trong rừng. Đặc trưng nào giúp \"làm sạch\" dữ liệu nhiều nhất sẽ có điểm importance cao nhất.\n",
    "\n",
    "- Kết quả: importances là một mảng (array) chứa các con số, tổng của chúng bằng 1 (hoặc 100%).\n",
    "\n",
    "    - Ví dụ: [0.1, 0.05, 0.45, 0.40]\n",
    "\n",
    "    - Diễn giải: Điều này có nghĩa là đặc trưng đầu tiên chiếm 10% độ quan trọng, đặc trưng thứ hai chiếm 5%, đặc trưng thứ ba chiếm 45%, và đặc trưng cuối cùng chiếm 40% độ quan trọng trong việc phân loại."
   ]
  },
  {
   "cell_type": "markdown",
   "id": "f33abbf6",
   "metadata": {},
   "source": [
    "#### feature_names = iris.feature_names"
   ]
  },
  {
   "cell_type": "markdown",
   "id": "4e9c69e7",
   "metadata": {},
   "source": [
    "- iris: Đây là đối tượng dữ liệu gốc mà bạn đã tải ở bước 2 (bằng load_iris()).\n",
    "\n",
    "- .feature_names: Đây là thuộc tính của đối tượng iris, chứa một danh sách (list) các tên (kiểu chữ) của các đặc trưng.\n",
    "\n",
    "- Kết quả: feature_names là một danh sách:\n",
    "\n",
    "    : ['sepal length (cm)', 'sepal width (cm)', 'petal length (cm)', 'petal width (cm)']"
   ]
  },
  {
   "cell_type": "markdown",
   "id": "828423cf",
   "metadata": {},
   "source": [
    "### Sắp xếp"
   ]
  },
  {
   "cell_type": "code",
   "execution_count": 32,
   "id": "10f82a44",
   "metadata": {},
   "outputs": [],
   "source": [
    "# 2. Sắp xếp giảm dần\n",
    "indices = np.argsort(importances)[::-1]         # Vị trí từ cao → thấp"
   ]
  },
  {
   "cell_type": "markdown",
   "id": "dee0a90f",
   "metadata": {},
   "source": [
    "#### np.argsort(importances)"
   ]
  },
  {
   "cell_type": "markdown",
   "id": "5ece0a99",
   "metadata": {},
   "source": [
    "- Hành động: Hàm np.argsort không sắp xếp các giá trị (numbers). Thay vào đó, nó trả về một mảng chứa vị trí (indices) của các giá trị đó nếu chúng được sắp xếp theo thứ tự tăng dần (ascending).\n",
    "\n",
    "- Ví dụ (dựa trên bước trước):\n",
    "\n",
    "    - Giả sử importances là: [0.1, 0.05, 0.45, 0.40]\n",
    "\n",
    "    - (Các vị trí tương ứng là: 0, 1, 2, 3)\n",
    "\n",
    "    - Nếu sắp xếp giá trị tăng dần, ta có: 0.05, 0.1, 0.40, 0.45\n",
    "\n",
    "    - np.argsort sẽ trả về vị trí của các giá trị đó:\n",
    "\n",
    "        - Giá trị nhỏ nhất (0.05) ở vị trí 1.\n",
    "\n",
    "        - Giá trị nhỏ nhì (0.1) ở vị trí 0.\n",
    "\n",
    "        - Giá trị lớn ba (0.40) ở vị trí 3.\n",
    "\n",
    "        - Giá trị lớn nhất (0.45) ở vị trí 2.\n",
    "\n",
    "    - Kết quả của np.argsort(importances) là: [1, 0, 3, 2]"
   ]
  },
  {
   "cell_type": "markdown",
   "id": "74fd6f1f",
   "metadata": {},
   "source": [
    "#### [...][::-1]"
   ]
  },
  {
   "cell_type": "markdown",
   "id": "df2bea70",
   "metadata": {},
   "source": [
    "- Hành động: Cú pháp [::-1] là một \"chiêu\" (slice notation) trong Python để đảo ngược (reverse) thứ tự của một mảng (array) hoặc danh sách (list).\n",
    "\n",
    "- Ví dụ (tiếp theo):\n",
    "\n",
    "    - Nó lấy kết quả từ bước 1 là [1, 0, 3, 2].\n",
    "\n",
    "    - Nó đảo ngược mảng này lại.\n",
    "\n",
    "    - Kết quả cuối cùng là: [2, 3, 0, 1]"
   ]
  },
  {
   "cell_type": "markdown",
   "id": "0155ab8f",
   "metadata": {},
   "source": [
    "### Vẽ biểu đồ"
   ]
  },
  {
   "cell_type": "code",
   "execution_count": 33,
   "id": "42135adb",
   "metadata": {},
   "outputs": [
    {
     "name": "stderr",
     "output_type": "stream",
     "text": [
      "C:\\Users\\khoat\\AppData\\Local\\Temp\\ipykernel_25552\\2997482603.py:3: FutureWarning: \n",
      "\n",
      "Passing `palette` without assigning `hue` is deprecated and will be removed in v0.14.0. Assign the `y` variable to `hue` and set `legend=False` for the same effect.\n",
      "\n",
      "  sns.barplot(\n"
     ]
    },
    {
     "data": {
      "image/png": "[encoded data removed]",
      "text/plain": [
       "<Figure size 1000x600 with 1 Axes>"
      ]
     },
     "metadata": {},
     "output_type": "display_data"
    }
   ],
   "source": [
    "# 3. Vẽ biểu đồ cột ngang (dễ đọc)\n",
    "plt.figure(figsize=(10, 6))\n",
    "sns.barplot(\n",
    "    x=importances[indices], \n",
    "    y=np.array(feature_names)[indices],\n",
    "    palette=\"viridis\"\n",
    ")\n",
    "plt.title(\"Tầm quan trọng đặc trưng - Random Forest\", fontsize=14)\n",
    "plt.xlabel(\"Độ quan trọng (Gini Importance)\")\n",
    "plt.tight_layout()\n",
    "plt.show()"
   ]
  },
  {
   "cell_type": "markdown",
   "id": "9330b0f6",
   "metadata": {},
   "source": [
    "#### plt.figure(figsize=(10, 6))"
   ]
  },
  {
   "cell_type": "markdown",
   "id": "13e67bfe",
   "metadata": {},
   "source": [
    "- Hành động: Tạo một \"khung tranh\" (figure) để vẽ.\n",
    "\n",
    "- plt.figure(...): Gọi thư viện matplotlib (plt) để bắt đầu một hình vẽ mới.\n",
    "\n",
    "- figsize=(10, 6): Thiết lập kích thước của khung tranh là 10 inches (rộng) x 6 inches (cao). Làm vậy để biểu đồ trông to và rõ ràng hơn so với kích thước mặc định."
   ]
  },
  {
   "cell_type": "markdown",
   "id": "5b916fda",
   "metadata": {},
   "source": [
    "#### sns.barplot(...)"
   ]
  },
  {
   "cell_type": "markdown",
   "id": "e262f67c",
   "metadata": {},
   "source": [
    "- Hành động: Vẽ biểu đồ cột bằng thư viện seaborn (sns).\n",
    "\n",
    "- x=importances[indices]:\n",
    "\n",
    "    - Thiết lập trục X (trục ngang): Đây sẽ là độ dài của các thanh.\n",
    "\n",
    "    - Giá trị: Bạn đang dùng \"chiêu\" indexing của NumPy.\n",
    "\n",
    "        - indices là [2, 3, 0, 1] (từ bước 2).\n",
    "\n",
    "        - importances là [0.1, 0.05, 0.45, 0.40].\n",
    "\n",
    "        - importances[indices] sẽ tạo ra mảng mới: [0.45, 0.40, 0.1, 0.05].\n",
    "\n",
    "- Kết quả: Các thanh sẽ được vẽ với độ dài đã được sắp xếp giảm dần."
   ]
  },
  {
   "cell_type": "markdown",
   "id": "b357a56c",
   "metadata": {},
   "source": [
    "#### y=np.array(feature_names)[indices]:"
   ]
  },
  {
   "cell_type": "markdown",
   "id": "95b8a8f7",
   "metadata": {},
   "source": [
    "- Thiết lập trục Y (trục dọc): Đây sẽ là nhãn của các thanh.\n",
    "\n",
    "- Giá trị: Tương tự, bạn sắp xếp lại tên đặc trưng:\n",
    "\n",
    "    - feature_names là ['sepal length', 'sepal width', 'petal length', 'petal width'].\n",
    "\n",
    "    - np.array(feature_names)[indices] sẽ tạo mảng mới: ['petal length', 'petal width', 'sepal length', 'sepal width'].\n",
    "\n",
    "- Kết quả: Biểu đồ sẽ là biểu đồ cột ngang (vì y là chữ, x là số), với đặc trưng quan trọng nhất (petal length) ở trên cùng."
   ]
  },
  {
   "cell_type": "markdown",
   "id": "c07012c6",
   "metadata": {},
   "source": [
    "#### palette=\"viridis\":"
   ]
  },
  {
   "cell_type": "markdown",
   "id": "37d6603d",
   "metadata": {},
   "source": [
    "- Thiết lập màu sắc: Sử dụng bảng màu (palette) tên là \"viridis\". Đây là một bảng màu phổ biến, chuyển từ vàng sang xanh lá rồi tới xanh dương đậm, trông rất chuyên nghiệp và dễ nhìn."
   ]
  },
  {
   "cell_type": "markdown",
   "id": "a950e65f",
   "metadata": {},
   "source": [
    "#### plt.title(\"Tầm quan trọng đặc trưng - Random Forest\", fontsize=14)"
   ]
  },
  {
   "cell_type": "markdown",
   "id": "c8901e47",
   "metadata": {},
   "source": [
    "- Hành động: Thêm tiêu đề cho biểu đồ.\n",
    "\n",
    "- fontsize=14: Tăng cỡ chữ của tiêu đề lên 14-point cho dễ đọc."
   ]
  },
  {
   "cell_type": "markdown",
   "id": "1f792099",
   "metadata": {},
   "source": [
    "#### plt.xlabel(\"Độ quan trọng (Gini Importance)\")"
   ]
  },
  {
   "cell_type": "markdown",
   "id": "d41c9232",
   "metadata": {},
   "source": [
    "- Hành động: Thêm nhãn cho trục X (trục ngang).\n",
    "\n",
    "- Ý nghĩa: Giải thích cho người xem biết các con số 0.1, 0.2... trên trục X có nghĩa là \"Độ quan trọng\" (được tính bằng Gini)."
   ]
  },
  {
   "cell_type": "markdown",
   "id": "a0796a99",
   "metadata": {},
   "source": [
    "#### plt.tight_layout()"
   ]
  },
  {
   "cell_type": "markdown",
   "id": "22a9593a",
   "metadata": {},
   "source": [
    "- Hành động: Một lệnh \"thần kỳ\" của matplotlib.\n",
    "\n",
    "- Nó tự động căn chỉnh lại các thành phần (tiêu đề, nhãn trục) để chúng không bị đè lên nhau hoặc bị cắt xén ra khỏi khung tranh."
   ]
  },
  {
   "cell_type": "markdown",
   "id": "3b406ee2",
   "metadata": {},
   "source": [
    "#### plt.show()"
   ]
  },
  {
   "cell_type": "markdown",
   "id": "16b9d2aa",
   "metadata": {},
   "source": [
    "- Hành động: Hiển thị biểu đồ ra màn hình.\n",
    "\n",
    "- Nếu không có lệnh này, bạn đã \"vẽ\" biểu đồ trong bộ nhớ, nhưng nó sẽ không bao giờ xuất hiện."
   ]
  },
  {
   "cell_type": "markdown",
   "id": "93c130d6",
   "metadata": {},
   "source": [
    "### In thông tin số liệu"
   ]
  },
  {
   "cell_type": "code",
   "execution_count": 34,
   "id": "6851f422",
   "metadata": {},
   "outputs": [
    {
     "name": "stdout",
     "output_type": "stream",
     "text": [
      "Bảng Feature Importance:\n",
      "  • petal length (cm)        : 0.4538\n",
      "  • petal width (cm)         : 0.4124\n",
      "  • sepal length (cm)        : 0.1159\n",
      "  • sepal width (cm)         : 0.0179\n"
     ]
    }
   ],
   "source": [
    "# 4. In bảng số liệu\n",
    "print(\"Bảng Feature Importance:\")\n",
    "for i in indices:\n",
    "    print(f\"  • {feature_names[i]:25}: {importances[i]:.4f}\")"
   ]
  },
  {
   "cell_type": "markdown",
   "id": "2014f732",
   "metadata": {},
   "source": [
    "#### print(f\" • {feature_names[i]:25}: {importances[i]:.4f}\")"
   ]
  },
  {
   "cell_type": "markdown",
   "id": "41f9e6b1",
   "metadata": {},
   "source": [
    "- Hành động: Đây là \"trái tim\" của vòng lặp, nó in ra một dòng đã được định dạng.\n",
    "\n",
    "- Phân tích (bên trong f-string):\n",
    "\n",
    "    - feature_names[i]: Lấy tên của đặc trưng tại vị trí i.\n",
    "\n",
    "        - Lần 1 (i=2): Lấy feature_names[2] (ví dụ: 'petal length (cm)').\n",
    "\n",
    "    - {...:25}: Đây là cú pháp định dạng căn lề (Padding). Nó yêu cầu Python: \"Hãy lấy chuỗi feature_names[i], và đảm bảo nó chiếm tổng cộng 25 ký tự (bằng cách thêm các dấu cách vào bên phải nếu cần)\".\n",
    "\n",
    "        - Mục đích: Điều này đảm bảo tất cả các dấu hai chấm (:) sẽ thẳng hàng một cách hoàn hảo, tạo ra một bảng rất dễ đọc.\n",
    "\n",
    "    - importances[i]: Lấy giá trị độ quan trọng tại vị trí i.\n",
    "\n",
    "        - Lần 1 (i=2): Lấy importances[2] (ví dụ: 0.45).\n",
    "\n",
    "    - {...:.4f}: Đây là cú pháp định dạng số (Number Formatting). Nó yêu cầu: \"Hãy lấy con số này, định dạng nó như một số thập phân (f), và giữ lại đúng 4 chữ số sau dấu phẩy.\"\n",
    "\n",
    "        - Ví dụ: 0.45 sẽ trở thành 0.4500, và 0.1 sẽ thành 0.1000."
   ]
  },
  {
   "cell_type": "markdown",
   "id": "903ba4cf",
   "metadata": {},
   "source": [
    "## Câu 9: Điều chỉnh siêu tham số (Hyperparameter Tuning)"
   ]
  },
  {
   "cell_type": "markdown",
   "id": "4f9163e0",
   "metadata": {},
   "source": [
    "### Phương pháp 1: GridSearchCV (Tìm kiếm lưới – toàn bộ tổ hợp)"
   ]
  },
  {
   "cell_type": "markdown",
   "id": "e4cac40d",
   "metadata": {},
   "source": [
    "#### Khai báo và định nghĩa than số"
   ]
  },
  {
   "cell_type": "markdown",
   "id": "3eaeacde",
   "metadata": {},
   "source": [
    "Đoạn code này là bước chuẩn bị cho một kỹ thuật rất quan trọng gọi là Tinh chỉnh Siêu tham số (Hyperparameter Tuning).\n",
    "\n",
    "Mục đích là để tự động tìm ra bộ cấu hình (tham số) tốt nhất cho mô hình của bạn (ví dụ: Rừng Ngẫu nhiên - rf), thay vì bạn phải \"đoán mò\" các giá trị như n_estimators=200 hay max_depth=3."
   ]
  },
  {
   "cell_type": "code",
   "execution_count": 35,
   "id": "00808d9a",
   "metadata": {},
   "outputs": [],
   "source": [
    "from sklearn.model_selection import GridSearchCV\n",
    "\n",
    "# 1. Định nghĩa không gian tham số cần thử\n",
    "param_grid = {\n",
    "    'n_estimators': [100, 200, 300],     # Thử 3 giá trị\n",
    "    'max_depth': [None, 10, 20],         # Thử 3 giá trị\n",
    "    'min_samples_split': [2, 5],         # Thử 2 giá trị\n",
    "    'max_features': ['sqrt', 'log2']     # Thử 2 giá trị\n",
    "}\n"
   ]
  },
  {
   "cell_type": "markdown",
   "id": "1a856e3d",
   "metadata": {},
   "source": [
    "##### from sklearn.model_selection import GridSearchCV"
   ]
  },
  {
   "cell_type": "markdown",
   "id": "a321a7c2",
   "metadata": {},
   "source": [
    "- Thư viện: sklearn.model_selection (một mô-đun của scikit-learn).\n",
    "\n",
    "- Công cụ: GridSearchCV.\n",
    "\n",
    "- Ý nghĩa: Tên của nó nói lên tất cả:\n",
    "\n",
    "    - Grid Search (Tìm kiếm dạng lưới): Bạn cung cấp cho nó một \"lưới\" (grid) các tham số (như param_grid bên dưới), nó sẽ thử tất cả các tổ hợp trong lưới đó.\n",
    "\n",
    "    - CV (Cross-Validation - Kiểm định chéo): Đây là cách \"chấm điểm\" an toàn. Thay vì chỉ dùng một lần chia train/test, nó sẽ chia tập huấn luyện (train) thành nhiều phần (ví dụ 5 phần - gọi là 5-fold CV). Nó huấn luyện trên 4 phần và kiểm tra trên phần còn lại, lặp lại 5 lần. Điều này cho ra một điểm số ổn định hơn, tránh \"ăn may\"."
   ]
  },
  {
   "cell_type": "markdown",
   "id": "18cecf18",
   "metadata": {},
   "source": [
    "##### param_grid = { ... }"
   ]
  },
  {
   "cell_type": "markdown",
   "id": "83c3cf48",
   "metadata": {},
   "source": [
    "- Hành động: Bạn đang định nghĩa một \"từ điển\" (dictionary) chứa \"lưới\" các tham số mà bạn muốn GridSearchCV thử nghiệm.\n",
    "\n",
    "- Phân tích:\n",
    "\n",
    "    - 'n_estimators': [100, 200, 300]: Yêu cầu thử 3 giá trị cho số lượng cây.\n",
    "\n",
    "    - 'max_depth': [None, 10, 20]: Yêu cầu thử 3 giá trị cho độ sâu tối đa.\n",
    "\n",
    "    - 'min_samples_split': [2, 5]: Yêu cầu thử 2 giá trị cho số mẫu tối thiểu để chia.\n",
    "\n",
    "    - 'max_features': ['sqrt', 'log2']: Yêu cầu thử 2 giá trị cho số đặc trưng ngẫu nhiên."
   ]
  },
  {
   "cell_type": "markdown",
   "id": "d9da27fd",
   "metadata": {},
   "source": [
    "#### Khởi tạo"
   ]
  },
  {
   "cell_type": "markdown",
   "id": "fd87b5ec",
   "metadata": {},
   "source": [
    "Ở bước 2 này, ta khởi tạo (lắp ráp) \"cỗ máy tìm kiếm\" (GridSearchCV) và \"cấu hình\" cho nó.\n",
    "\n",
    "grid_search = GridSearchCV(...)\n",
    "\n",
    "Chúng ta đang tạo một đối tượng \"người tìm kiếm\" (grid_search), đối tượng này sẽ nhận nhiệm vụ chạy thử tất cả 36 tổ hợp tham số mà bạn đã định nghĩa."
   ]
  },
  {
   "cell_type": "code",
   "execution_count": 36,
   "id": "023ef986",
   "metadata": {},
   "outputs": [],
   "source": [
    "# 2. Khởi tạo GridSearch\n",
    "grid_search = GridSearchCV(\n",
    "    estimator=RandomForestClassifier(random_state=42),\n",
    "    param_grid=param_grid,\n",
    "    cv=5,                    # 5-fold cross validation\n",
    "    scoring='accuracy',      # Đánh giá bằng độ chính xác\n",
    "    n_jobs=-1,               # Dùng tất cả CPU\n",
    "    verbose=1                # In tiến trình\n",
    ")"
   ]
  },
  {
   "cell_type": "markdown",
   "id": "553bd35b",
   "metadata": {},
   "source": [
    "##### estimator=RandomForestClassifier(random_state=42)"
   ]
  },
  {
   "cell_type": "markdown",
   "id": "9d1e568c",
   "metadata": {},
   "source": [
    "- estimator (Mô hình ước tính): Đây là mô hình lõi mà GridSearchCV sẽ dùng để thử nghiệm.\n",
    "\n",
    "- RandomForestClassifier(...): Bạn nói với nó: \"Hãy dùng mô hình Rừng Ngẫu nhiên nhé.\"\n",
    "\n",
    "- random_state=42: Rất quan trọng! Nó đảm bảo rằng bản thân mô hình Rừng Ngẫu nhiên (ví dụ: cách nó chọn mẫu bootstrap, chọn đặc trưng ngẫu nhiên) sẽ nhất quán trong mọi lần thử, giúp cho việc so sánh các tham số khác (như n_estimators) trở nên công bằng."
   ]
  },
  {
   "cell_type": "markdown",
   "id": "ef753a95",
   "metadata": {},
   "source": [
    "##### param_grid=param_grid"
   ]
  },
  {
   "cell_type": "markdown",
   "id": "4b6f2037",
   "metadata": {},
   "source": [
    "- param_grid (Lưới tham số): Đây là \"từ điển\" chứa 36 tổ hợp mà bạn đã định nghĩa ở bước 1.\n",
    "\n",
    "- Bạn đang \"nạp\" 36 kịch bản này vào cho \"cỗ máy tìm kiếm\"."
   ]
  },
  {
   "cell_type": "markdown",
   "id": "8f413d54",
   "metadata": {},
   "source": [
    "##### cv=5"
   ]
  },
  {
   "cell_type": "markdown",
   "id": "d8475127",
   "metadata": {},
   "source": [
    "- cv (Cross-Validation - Kiểm định chéo): Đây là cách chấm điểm cho mỗi tổ hợp.\n",
    "\n",
    "- Thay vì chỉ chia train/test 1 lần (có thể bị \"xui\" hoặc \"hên\"), nó sẽ dùng Kiểm định chéo 5 lần:\n",
    "\n",
    "    1. Nó lấy tập X_train của bạn và chia làm 5 phần (folds).\n",
    "\n",
    "    2. Nó huấn luyện tổ hợp A trên 4 phần, và \"thi\" trên phần 1.\n",
    "\n",
    "    3. Nó huấn luyện tổ hợp A trên 4 phần khác, và \"thi\" trên phần 2.\n",
    "\n",
    "    4. ... lặp lại 5 lần.\n",
    "\n",
    "- Kết quả: Điểm số của tổ hợp A sẽ là điểm trung bình của 5 lần \"thi\" đó. Điều này đảm bảo kết quả đánh giá rất ổn định và đáng tin cậy."
   ]
  },
  {
   "cell_type": "markdown",
   "id": "b54e129c",
   "metadata": {},
   "source": [
    "##### scoring='accuracy'"
   ]
  },
  {
   "cell_type": "markdown",
   "id": "9fc1c821",
   "metadata": {},
   "source": [
    "- scoring (Tiêu chí chấm điểm): Bạn nói rõ với \"cỗ máy\": \"Hãy dùng Độ chính xác (accuracy) làm thước đo để tìm ra người chiến thắng.\"\n",
    "\n",
    "- Tổ hợp nào có accuracy trung bình (từ 5 lần cv) cao nhất sẽ là \"nhà vô địch\"."
   ]
  },
  {
   "cell_type": "markdown",
   "id": "c47587fd",
   "metadata": {},
   "source": [
    "##### n_jobs=-1"
   ]
  },
  {
   "cell_type": "markdown",
   "id": "b38597bc",
   "metadata": {},
   "source": [
    "- n_jobs (Số lõi CPU): Đây là một lệnh tối ưu tốc độ cực kỳ quan trọng.\n",
    "\n",
    "- -1 có nghĩa là: \"Hãy sử dụng tất cả các lõi CPU mà máy tính của bạn có!\"\n",
    "\n",
    "- Tại sao? Bạn phải huấn luyện: 36 (tổ hợp) * 5 (lần cv) = 180 mô hình. Thay vì chạy tuần tự 180 lần, n_jobs=-1 cho phép máy tính chạy song song nhiều mô hình cùng lúc, giúp tiết kiệm thời gian đáng kể."
   ]
  },
  {
   "cell_type": "markdown",
   "id": "67346ca9",
   "metadata": {},
   "source": [
    "##### verbose=1"
   ]
  },
  {
   "cell_type": "markdown",
   "id": "679454a0",
   "metadata": {},
   "source": [
    "- verbose (Mức độ chi tiết): Yêu cầu \"cỗ máy\" in ra tiến trình khi nó hoạt động.\n",
    "\n",
    "- 1 (hoặc 2, 3) sẽ cho bạn thấy các thông báo như: \"Đang huấn luyện tổ hợp 1/36...\", \"Đã xong tổ hợp 1...\". Nếu để 0, nó sẽ chạy \"im lặng\"."
   ]
  },
  {
   "cell_type": "markdown",
   "id": "8c413ab2",
   "metadata": {},
   "source": [
    "#### Huấn luyện"
   ]
  },
  {
   "cell_type": "code",
   "execution_count": 37,
   "id": "78a2789b",
   "metadata": {},
   "outputs": [
    {
     "name": "stdout",
     "output_type": "stream",
     "text": [
      "Fitting 5 folds for each of 36 candidates, totalling 180 fits\n"
     ]
    },
    {
     "data": {
      "text/html": [
       "<style>#sk-container-id-5 {\n",
       "  /* Definition of color scheme common for light and dark mode */\n",
       "  --sklearn-color-text: #000;\n",
       "  --sklearn-color-text-muted: #666;\n",
       "  --sklearn-color-line: gray;\n",
       "  /* Definition of color scheme for unfitted estimators */\n",
       "  --sklearn-color-unfitted-level-0: #fff5e6;\n",
       "  --sklearn-color-unfitted-level-1: #f6e4d2;\n",
       "  --sklearn-color-unfitted-level-2: #ffe0b3;\n",
       "  --sklearn-color-unfitted-level-3: chocolate;\n",
       "  /* Definition of color scheme for fitted estimators */\n",
       "  --sklearn-color-fitted-level-0: #f0f8ff;\n",
       "  --sklearn-color-fitted-level-1: #d4ebff;\n",
       "  --sklearn-color-fitted-level-2: #b3dbfd;\n",
       "  --sklearn-color-fitted-level-3: cornflowerblue;\n",
       "\n",
       "  /* Specific color for light theme */\n",
       "  --sklearn-color-text-on-default-background: var(--sg-text-color, var(--theme-code-foreground, var(--jp-content-font-color1, black)));\n",
       "  --sklearn-color-background: var(--sg-background-color, var(--theme-background, var(--jp-layout-color0, white)));\n",
       "  --sklearn-color-border-box: var(--sg-text-color, var(--theme-code-foreground, var(--jp-content-font-color1, black)));\n",
       "  --sklearn-color-icon: #696969;\n",
       "\n",
       "  @media (prefers-color-scheme: dark) {\n",
       "    /* Redefinition of color scheme for dark theme */\n",
       "    --sklearn-color-text-on-default-background: var(--sg-text-color, var(--theme-code-foreground, var(--jp-content-font-color1, white)));\n",
       "    --sklearn-color-background: var(--sg-background-color, var(--theme-background, var(--jp-layout-color0, #111)));\n",
       "    --sklearn-color-border-box: var(--sg-text-color, var(--theme-code-foreground, var(--jp-content-font-color1, white)));\n",
       "    --sklearn-color-icon: #878787;\n",
       "  }\n",
       "}\n",
       "\n",
       "#sk-container-id-5 {\n",
       "  color: var(--sklearn-color-text);\n",
       "}\n",
       "\n",
       "#sk-container-id-5 pre {\n",
       "  padding: 0;\n",
       "}\n",
       "\n",
       "#sk-container-id-5 input.sk-hidden--visually {\n",
       "  border: 0;\n",
       "  clip: rect(1px 1px 1px 1px);\n",
       "  clip: rect(1px, 1px, 1px, 1px);\n",
       "  height: 1px;\n",
       "  margin: -1px;\n",
       "  overflow: hidden;\n",
       "  padding: 0;\n",
       "  position: absolute;\n",
       "  width: 1px;\n",
       "}\n",
       "\n",
       "#sk-container-id-5 div.sk-dashed-wrapped {\n",
       "  border: 1px dashed var(--sklearn-color-line);\n",
       "  margin: 0 0.4em 0.5em 0.4em;\n",
       "  box-sizing: border-box;\n",
       "  padding-bottom: 0.4em;\n",
       "  background-color: var(--sklearn-color-background);\n",
       "}\n",
       "\n",
       "#sk-container-id-5 div.sk-container {\n",
       "  /* jupyter's `normalize.less` sets `[hidden] { display: none; }`\n",
       "     but bootstrap.min.css set `[hidden] { display: none !important; }`\n",
       "     so we also need the `!important` here to be able to override the\n",
       "     default hidden behavior on the sphinx rendered scikit-learn.org.\n",
       "     See: https://github.com/scikit-learn/scikit-learn/issues/21755 */\n",
       "  display: inline-block !important;\n",
       "  position: relative;\n",
       "}\n",
       "\n",
       "#sk-container-id-5 div.sk-text-repr-fallback {\n",
       "  display: none;\n",
       "}\n",
       "\n",
       "div.sk-parallel-item,\n",
       "div.sk-serial,\n",
       "div.sk-item {\n",
       "  /* draw centered vertical line to link estimators */\n",
       "  background-image: linear-gradient(var(--sklearn-color-text-on-default-background), var(--sklearn-color-text-on-default-background));\n",
       "  background-size: 2px 100%;\n",
       "  background-repeat: no-repeat;\n",
       "  background-position: center center;\n",
       "}\n",
       "\n",
       "/* Parallel-specific style estimator block */\n",
       "\n",
       "#sk-container-id-5 div.sk-parallel-item::after {\n",
       "  content: \"\";\n",
       "  width: 100%;\n",
       "  border-bottom: 2px solid var(--sklearn-color-text-on-default-background);\n",
       "  flex-grow: 1;\n",
       "}\n",
       "\n",
       "#sk-container-id-5 div.sk-parallel {\n",
       "  display: flex;\n",
       "  align-items: stretch;\n",
       "  justify-content: center;\n",
       "  background-color: var(--sklearn-color-background);\n",
       "  position: relative;\n",
       "}\n",
       "\n",
       "#sk-container-id-5 div.sk-parallel-item {\n",
       "  display: flex;\n",
       "  flex-direction: column;\n",
       "}\n",
       "\n",
       "#sk-container-id-5 div.sk-parallel-item:first-child::after {\n",
       "  align-self: flex-end;\n",
       "  width: 50%;\n",
       "}\n",
       "\n",
       "#sk-container-id-5 div.sk-parallel-item:last-child::after {\n",
       "  align-self: flex-start;\n",
       "  width: 50%;\n",
       "}\n",
       "\n",
       "#sk-container-id-5 div.sk-parallel-item:only-child::after {\n",
       "  width: 0;\n",
       "}\n",
       "\n",
       "/* Serial-specific style estimator block */\n",
       "\n",
       "#sk-container-id-5 div.sk-serial {\n",
       "  display: flex;\n",
       "  flex-direction: column;\n",
       "  align-items: center;\n",
       "  background-color: var(--sklearn-color-background);\n",
       "  padding-right: 1em;\n",
       "  padding-left: 1em;\n",
       "}\n",
       "\n",
       "\n",
       "/* Toggleable style: style used for estimator/Pipeline/ColumnTransformer box that is\n",
       "clickable and can be expanded/collapsed.\n",
       "- Pipeline and ColumnTransformer use this feature and define the default style\n",
       "- Estimators will overwrite some part of the style using the `sk-estimator` class\n",
       "*/\n",
       "\n",
       "/* Pipeline and ColumnTransformer style (default) */\n",
       "\n",
       "#sk-container-id-5 div.sk-toggleable {\n",
       "  /* Default theme specific background. It is overwritten whether we have a\n",
       "  specific estimator or a Pipeline/ColumnTransformer */\n",
       "  background-color: var(--sklearn-color-background);\n",
       "}\n",
       "\n",
       "/* Toggleable label */\n",
       "#sk-container-id-5 label.sk-toggleable__label {\n",
       "  cursor: pointer;\n",
       "  display: flex;\n",
       "  width: 100%;\n",
       "  margin-bottom: 0;\n",
       "  padding: 0.5em;\n",
       "  box-sizing: border-box;\n",
       "  text-align: center;\n",
       "  align-items: start;\n",
       "  justify-content: space-between;\n",
       "  gap: 0.5em;\n",
       "}\n",
       "\n",
       "#sk-container-id-5 label.sk-toggleable__label .caption {\n",
       "  font-size: 0.6rem;\n",
       "  font-weight: lighter;\n",
       "  color: var(--sklearn-color-text-muted);\n",
       "}\n",
       "\n",
       "#sk-container-id-5 label.sk-toggleable__label-arrow:before {\n",
       "  /* Arrow on the left of the label */\n",
       "  content: \"▸\";\n",
       "  float: left;\n",
       "  margin-right: 0.25em;\n",
       "  color: var(--sklearn-color-icon);\n",
       "}\n",
       "\n",
       "#sk-container-id-5 label.sk-toggleable__label-arrow:hover:before {\n",
       "  color: var(--sklearn-color-text);\n",
       "}\n",
       "\n",
       "/* Toggleable content - dropdown */\n",
       "\n",
       "#sk-container-id-5 div.sk-toggleable__content {\n",
       "  max-height: 0;\n",
       "  max-width: 0;\n",
       "  overflow: hidden;\n",
       "  text-align: left;\n",
       "  /* unfitted */\n",
       "  background-color: var(--sklearn-color-unfitted-level-0);\n",
       "}\n",
       "\n",
       "#sk-container-id-5 div.sk-toggleable__content.fitted {\n",
       "  /* fitted */\n",
       "  background-color: var(--sklearn-color-fitted-level-0);\n",
       "}\n",
       "\n",
       "#sk-container-id-5 div.sk-toggleable__content pre {\n",
       "  margin: 0.2em;\n",
       "  border-radius: 0.25em;\n",
       "  color: var(--sklearn-color-text);\n",
       "  /* unfitted */\n",
       "  background-color: var(--sklearn-color-unfitted-level-0);\n",
       "}\n",
       "\n",
       "#sk-container-id-5 div.sk-toggleable__content.fitted pre {\n",
       "  /* unfitted */\n",
       "  background-color: var(--sklearn-color-fitted-level-0);\n",
       "}\n",
       "\n",
       "#sk-container-id-5 input.sk-toggleable__control:checked~div.sk-toggleable__content {\n",
       "  /* Expand drop-down */\n",
       "  max-height: 200px;\n",
       "  max-width: 100%;\n",
       "  overflow: auto;\n",
       "}\n",
       "\n",
       "#sk-container-id-5 input.sk-toggleable__control:checked~label.sk-toggleable__label-arrow:before {\n",
       "  content: \"▾\";\n",
       "}\n",
       "\n",
       "/* Pipeline/ColumnTransformer-specific style */\n",
       "\n",
       "#sk-container-id-5 div.sk-label input.sk-toggleable__control:checked~label.sk-toggleable__label {\n",
       "  color: var(--sklearn-color-text);\n",
       "  background-color: var(--sklearn-color-unfitted-level-2);\n",
       "}\n",
       "\n",
       "#sk-container-id-5 div.sk-label.fitted input.sk-toggleable__control:checked~label.sk-toggleable__label {\n",
       "  background-color: var(--sklearn-color-fitted-level-2);\n",
       "}\n",
       "\n",
       "/* Estimator-specific style */\n",
       "\n",
       "/* Colorize estimator box */\n",
       "#sk-container-id-5 div.sk-estimator input.sk-toggleable__control:checked~label.sk-toggleable__label {\n",
       "  /* unfitted */\n",
       "  background-color: var(--sklearn-color-unfitted-level-2);\n",
       "}\n",
       "\n",
       "#sk-container-id-5 div.sk-estimator.fitted input.sk-toggleable__control:checked~label.sk-toggleable__label {\n",
       "  /* fitted */\n",
       "  background-color: var(--sklearn-color-fitted-level-2);\n",
       "}\n",
       "\n",
       "#sk-container-id-5 div.sk-label label.sk-toggleable__label,\n",
       "#sk-container-id-5 div.sk-label label {\n",
       "  /* The background is the default theme color */\n",
       "  color: var(--sklearn-color-text-on-default-background);\n",
       "}\n",
       "\n",
       "/* On hover, darken the color of the background */\n",
       "#sk-container-id-5 div.sk-label:hover label.sk-toggleable__label {\n",
       "  color: var(--sklearn-color-text);\n",
       "  background-color: var(--sklearn-color-unfitted-level-2);\n",
       "}\n",
       "\n",
       "/* Label box, darken color on hover, fitted */\n",
       "#sk-container-id-5 div.sk-label.fitted:hover label.sk-toggleable__label.fitted {\n",
       "  color: var(--sklearn-color-text);\n",
       "  background-color: var(--sklearn-color-fitted-level-2);\n",
       "}\n",
       "\n",
       "/* Estimator label */\n",
       "\n",
       "#sk-container-id-5 div.sk-label label {\n",
       "  font-family: monospace;\n",
       "  font-weight: bold;\n",
       "  display: inline-block;\n",
       "  line-height: 1.2em;\n",
       "}\n",
       "\n",
       "#sk-container-id-5 div.sk-label-container {\n",
       "  text-align: center;\n",
       "}\n",
       "\n",
       "/* Estimator-specific */\n",
       "#sk-container-id-5 div.sk-estimator {\n",
       "  font-family: monospace;\n",
       "  border: 1px dotted var(--sklearn-color-border-box);\n",
       "  border-radius: 0.25em;\n",
       "  box-sizing: border-box;\n",
       "  margin-bottom: 0.5em;\n",
       "  /* unfitted */\n",
       "  background-color: var(--sklearn-color-unfitted-level-0);\n",
       "}\n",
       "\n",
       "#sk-container-id-5 div.sk-estimator.fitted {\n",
       "  /* fitted */\n",
       "  background-color: var(--sklearn-color-fitted-level-0);\n",
       "}\n",
       "\n",
       "/* on hover */\n",
       "#sk-container-id-5 div.sk-estimator:hover {\n",
       "  /* unfitted */\n",
       "  background-color: var(--sklearn-color-unfitted-level-2);\n",
       "}\n",
       "\n",
       "#sk-container-id-5 div.sk-estimator.fitted:hover {\n",
       "  /* fitted */\n",
       "  background-color: var(--sklearn-color-fitted-level-2);\n",
       "}\n",
       "\n",
       "/* Specification for estimator info (e.g. \"i\" and \"?\") */\n",
       "\n",
       "/* Common style for \"i\" and \"?\" */\n",
       "\n",
       ".sk-estimator-doc-link,\n",
       "a:link.sk-estimator-doc-link,\n",
       "a:visited.sk-estimator-doc-link {\n",
       "  float: right;\n",
       "  font-size: smaller;\n",
       "  line-height: 1em;\n",
       "  font-family: monospace;\n",
       "  background-color: var(--sklearn-color-background);\n",
       "  border-radius: 1em;\n",
       "  height: 1em;\n",
       "  width: 1em;\n",
       "  text-decoration: none !important;\n",
       "  margin-left: 0.5em;\n",
       "  text-align: center;\n",
       "  /* unfitted */\n",
       "  border: var(--sklearn-color-unfitted-level-1) 1pt solid;\n",
       "  color: var(--sklearn-color-unfitted-level-1);\n",
       "}\n",
       "\n",
       ".sk-estimator-doc-link.fitted,\n",
       "a:link.sk-estimator-doc-link.fitted,\n",
       "a:visited.sk-estimator-doc-link.fitted {\n",
       "  /* fitted */\n",
       "  border: var(--sklearn-color-fitted-level-1) 1pt solid;\n",
       "  color: var(--sklearn-color-fitted-level-1);\n",
       "}\n",
       "\n",
       "/* On hover */\n",
       "div.sk-estimator:hover .sk-estimator-doc-link:hover,\n",
       ".sk-estimator-doc-link:hover,\n",
       "div.sk-label-container:hover .sk-estimator-doc-link:hover,\n",
       ".sk-estimator-doc-link:hover {\n",
       "  /* unfitted */\n",
       "  background-color: var(--sklearn-color-unfitted-level-3);\n",
       "  color: var(--sklearn-color-background);\n",
       "  text-decoration: none;\n",
       "}\n",
       "\n",
       "div.sk-estimator.fitted:hover .sk-estimator-doc-link.fitted:hover,\n",
       ".sk-estimator-doc-link.fitted:hover,\n",
       "div.sk-label-container:hover .sk-estimator-doc-link.fitted:hover,\n",
       ".sk-estimator-doc-link.fitted:hover {\n",
       "  /* fitted */\n",
       "  background-color: var(--sklearn-color-fitted-level-3);\n",
       "  color: var(--sklearn-color-background);\n",
       "  text-decoration: none;\n",
       "}\n",
       "\n",
       "/* Span, style for the box shown on hovering the info icon */\n",
       ".sk-estimator-doc-link span {\n",
       "  display: none;\n",
       "  z-index: 9999;\n",
       "  position: relative;\n",
       "  font-weight: normal;\n",
       "  right: .2ex;\n",
       "  padding: .5ex;\n",
       "  margin: .5ex;\n",
       "  width: min-content;\n",
       "  min-width: 20ex;\n",
       "  max-width: 50ex;\n",
       "  color: var(--sklearn-color-text);\n",
       "  box-shadow: 2pt 2pt 4pt #999;\n",
       "  /* unfitted */\n",
       "  background: var(--sklearn-color-unfitted-level-0);\n",
       "  border: .5pt solid var(--sklearn-color-unfitted-level-3);\n",
       "}\n",
       "\n",
       ".sk-estimator-doc-link.fitted span {\n",
       "  /* fitted */\n",
       "  background: var(--sklearn-color-fitted-level-0);\n",
       "  border: var(--sklearn-color-fitted-level-3);\n",
       "}\n",
       "\n",
       ".sk-estimator-doc-link:hover span {\n",
       "  display: block;\n",
       "}\n",
       "\n",
       "/* \"?\"-specific style due to the `<a>` HTML tag */\n",
       "\n",
       "#sk-container-id-5 a.estimator_doc_link {\n",
       "  float: right;\n",
       "  font-size: 1rem;\n",
       "  line-height: 1em;\n",
       "  font-family: monospace;\n",
       "  background-color: var(--sklearn-color-background);\n",
       "  border-radius: 1rem;\n",
       "  height: 1rem;\n",
       "  width: 1rem;\n",
       "  text-decoration: none;\n",
       "  /* unfitted */\n",
       "  color: var(--sklearn-color-unfitted-level-1);\n",
       "  border: var(--sklearn-color-unfitted-level-1) 1pt solid;\n",
       "}\n",
       "\n",
       "#sk-container-id-5 a.estimator_doc_link.fitted {\n",
       "  /* fitted */\n",
       "  border: var(--sklearn-color-fitted-level-1) 1pt solid;\n",
       "  color: var(--sklearn-color-fitted-level-1);\n",
       "}\n",
       "\n",
       "/* On hover */\n",
       "#sk-container-id-5 a.estimator_doc_link:hover {\n",
       "  /* unfitted */\n",
       "  background-color: var(--sklearn-color-unfitted-level-3);\n",
       "  color: var(--sklearn-color-background);\n",
       "  text-decoration: none;\n",
       "}\n",
       "\n",
       "#sk-container-id-5 a.estimator_doc_link.fitted:hover {\n",
       "  /* fitted */\n",
       "  background-color: var(--sklearn-color-fitted-level-3);\n",
       "}\n",
       "</style><div id=\"sk-container-id-5\" class=\"sk-top-container\"><div class=\"sk-text-repr-fallback\"><pre>GridSearchCV(cv=5, estimator=RandomForestClassifier(random_state=42), n_jobs=-1,\n",
       "             param_grid={&#x27;max_depth&#x27;: [None, 10, 20],\n",
       "                         &#x27;max_features&#x27;: [&#x27;sqrt&#x27;, &#x27;log2&#x27;],\n",
       "                         &#x27;min_samples_split&#x27;: [2, 5],\n",
       "                         &#x27;n_estimators&#x27;: [100, 200, 300]},\n",
       "             scoring=&#x27;accuracy&#x27;, verbose=1)</pre><b>In a Jupyter environment, please rerun this cell to show the HTML representation or trust the notebook. <br />On GitHub, the HTML representation is unable to render, please try loading this page with nbviewer.org.</b></div><div class=\"sk-container\" hidden><div class=\"sk-item sk-dashed-wrapped\"><div class=\"sk-label-container\"><div class=\"sk-label fitted sk-toggleable\"><input class=\"sk-toggleable__control sk-hidden--visually\" id=\"sk-estimator-id-5\" type=\"checkbox\" ><label for=\"sk-estimator-id-5\" class=\"sk-toggleable__label fitted sk-toggleable__label-arrow\"><div><div>GridSearchCV</div></div><div><a class=\"sk-estimator-doc-link fitted\" rel=\"noreferrer\" target=\"_blank\" href=\"https://scikit-learn.org/1.6/modules/generated/sklearn.model_selection.GridSearchCV.html\">?<span>Documentation for GridSearchCV</span></a><span class=\"sk-estimator-doc-link fitted\">i<span>Fitted</span></span></div></label><div class=\"sk-toggleable__content fitted\"><pre>GridSearchCV(cv=5, estimator=RandomForestClassifier(random_state=42), n_jobs=-1,\n",
       "             param_grid={&#x27;max_depth&#x27;: [None, 10, 20],\n",
       "                         &#x27;max_features&#x27;: [&#x27;sqrt&#x27;, &#x27;log2&#x27;],\n",
       "                         &#x27;min_samples_split&#x27;: [2, 5],\n",
       "                         &#x27;n_estimators&#x27;: [100, 200, 300]},\n",
       "             scoring=&#x27;accuracy&#x27;, verbose=1)</pre></div> </div></div><div class=\"sk-parallel\"><div class=\"sk-parallel-item\"><div class=\"sk-item\"><div class=\"sk-label-container\"><div class=\"sk-label fitted sk-toggleable\"><input class=\"sk-toggleable__control sk-hidden--visually\" id=\"sk-estimator-id-6\" type=\"checkbox\" ><label for=\"sk-estimator-id-6\" class=\"sk-toggleable__label fitted sk-toggleable__label-arrow\"><div><div>best_estimator_: RandomForestClassifier</div></div></label><div class=\"sk-toggleable__content fitted\"><pre>RandomForestClassifier(random_state=42)</pre></div> </div></div><div class=\"sk-serial\"><div class=\"sk-item\"><div class=\"sk-estimator fitted sk-toggleable\"><input class=\"sk-toggleable__control sk-hidden--visually\" id=\"sk-estimator-id-7\" type=\"checkbox\" ><label for=\"sk-estimator-id-7\" class=\"sk-toggleable__label fitted sk-toggleable__label-arrow\"><div><div>RandomForestClassifier</div></div><div><a class=\"sk-estimator-doc-link fitted\" rel=\"noreferrer\" target=\"_blank\" href=\"https://scikit-learn.org/1.6/modules/generated/sklearn.ensemble.RandomForestClassifier.html\">?<span>Documentation for RandomForestClassifier</span></a></div></label><div class=\"sk-toggleable__content fitted\"><pre>RandomForestClassifier(random_state=42)</pre></div> </div></div></div></div></div></div></div></div></div>"
      ],
      "text/plain": [
       "GridSearchCV(cv=5, estimator=RandomForestClassifier(random_state=42), n_jobs=-1,\n",
       "             param_grid={'max_depth': [None, 10, 20],\n",
       "                         'max_features': ['sqrt', 'log2'],\n",
       "                         'min_samples_split': [2, 5],\n",
       "                         'n_estimators': [100, 200, 300]},\n",
       "             scoring='accuracy', verbose=1)"
      ]
     },
     "execution_count": 37,
     "metadata": {},
     "output_type": "execute_result"
    }
   ],
   "source": [
    "# 3. Huấn luyện (tự động thử 3*3*2*2 = 36 tổ hợp)\n",
    "grid_search.fit(X_train, y_train)"
   ]
  },
  {
   "cell_type": "markdown",
   "id": "2a0fcfd3",
   "metadata": {},
   "source": [
    "##### grid_search.fit(X_train, y_train)"
   ]
  },
  {
   "cell_type": "markdown",
   "id": "af4659d0",
   "metadata": {},
   "source": [
    "- grid_search: Đối tượng \"cỗ máy tìm kiếm\" bạn đã tạo ở bước 2.\n",
    "\n",
    "- .fit(X_train, y_train): Bạn ra lệnh cho \"cỗ máy\": \"Hãy bắt đầu làm việc đi! Đây là dữ liệu huấn luyện (X_train, y_train) để mày thử nghiệm.\""
   ]
  },
  {
   "cell_type": "markdown",
   "id": "3bcbca41",
   "metadata": {},
   "source": [
    "##### Quá trình \"Huấn luyện\" (Fit) của GridSearchCV"
   ]
  },
  {
   "cell_type": "markdown",
   "id": "531bc96d",
   "metadata": {},
   "source": [
    "- Khi dòng code này chạy, \"cỗ máy\" sẽ làm chính xác những gì bạn đã cấu hình:\n",
    "\n",
    "1. Nhận dữ liệu: Nó lấy X_train và y_train.\n",
    "\n",
    "2. Chia dữ liệu: Nó chia X_train thành 5 phần (folds) bằng nhau (vì bạn đã đặt cv=5).\n",
    "\n",
    "3. Bắt đầu Vòng lặp 36 tổ hợp: Nó bắt đầu thử Tổ hợp 1/36 (ví dụ: n_estimators=100, max_depth=None, min_samples_split=2, max_features='sqrt').\n",
    "\n",
    "    - Nó huấn luyện tổ hợp này trên 4 phần dữ liệu.\n",
    "\n",
    "    - Nó \"thi\" trên phần 1 và ghi lại accuracy.\n",
    "\n",
    "    - Nó huấn luyện lại trên 4 phần khác, \"thi\" trên phần 2, ghi lại accuracy.\n",
    "\n",
    "    - ...Nó lặp lại 5 lần (5-fold CV).\n",
    "\n",
    "    - Nó tính accuracy trung bình cho Tổ hợp 1.\n",
    "\n",
    "4. Lặp lại: Nó chuyển sang Tổ hợp 2/36 (ví dụ: n_estimators=200, max_depth=None, min_samples_split=2, max_features='sqrt') và lặp lại toàn bộ quá trình 5-fold CV.\n",
    "\n",
    "5. ... Quá trình này tiếp tục cho đến khi hết 36 tổ hợp."
   ]
  },
  {
   "cell_type": "markdown",
   "id": "ef34c82f",
   "metadata": {},
   "source": [
    "#### Kết quả tốt nhất"
   ]
  },
  {
   "cell_type": "code",
   "execution_count": 38,
   "id": "4a4dc31c",
   "metadata": {},
   "outputs": [
    {
     "name": "stdout",
     "output_type": "stream",
     "text": [
      "Best parameters: {'max_depth': None, 'max_features': 'sqrt', 'min_samples_split': 2, 'n_estimators': 100}\n",
      "Best CV Accuracy: 0.9500\n"
     ]
    }
   ],
   "source": [
    "# 4. Kết quả tốt nhất\n",
    "print(\"Best parameters:\", grid_search.best_params_)\n",
    "print(f\"Best CV Accuracy: {grid_search.best_score_:.4f}\")"
   ]
  },
  {
   "cell_type": "markdown",
   "id": "d4cfa59c",
   "metadata": {},
   "source": [
    "##### print(\"Best parameters:\", grid_search.best_params_)"
   ]
  },
  {
   "cell_type": "markdown",
   "id": "a2a0d120",
   "metadata": {},
   "source": [
    "- Hành động: In ra bộ tham số (cấu hình) tốt nhất mà GridSearchCV đã tìm thấy.\n",
    "\n",
    "- Giải thích:\n",
    "\n",
    "    - grid_search: Là \"cỗ máy tìm kiếm\" của bạn, giờ đã chứa đầy kết quả.\n",
    "\n",
    "    - .best_params_: Đây là một thuộc tính (attribute) của grid_search. Sau khi thử tất cả 36 tổ hợp, nó lưu lại cái tổ hợp đã cho điểm số cao nhất.\n",
    "\n",
    "    - Kết quả sẽ là một dictionary (từ điển), ví dụ:\n",
    "\n",
    "        **Best parameters: {'max_depth': 10, 'max_features': 'sqrt', 'min_samples_split': 2, 'n_estimators': 200}**\n",
    "    - Ý nghĩa: Dòng này cho bạn biết \"công thức\" (configuration) chiến thắng."
   ]
  },
  {
   "cell_type": "markdown",
   "id": "2fd9f79f",
   "metadata": {},
   "source": [
    "##### print(f\"Best CV Accuracy: {grid_search.best_score_:.4f}\")"
   ]
  },
  {
   "cell_type": "markdown",
   "id": "2a4b2ec6",
   "metadata": {},
   "source": [
    "- Hành động: In ra điểm số (accuracy) cao nhất mà bộ tham số tốt nhất ở trên đã đạt được.\n",
    "\n",
    "- Giải thích:\n",
    "\n",
    "    - .best_score_: Đây là một thuộc tính khác. Nó lưu lại điểm số của \"nhà vô địch\".\n",
    "\n",
    "    - Quan trọng: Con số này KHÔNG phải là điểm trên tập X_test. Đây là điểm accuracy TRUNG BÌNH (average accuracy) mà mô hình đó đạt được qua 5 lần Kiểm định chéo (Cross-Validation) trên tập X_train.\n",
    "\n",
    "    - :.4f: Đây là định dạng, yêu cầu in kết quả với 4 chữ số thập phân (ví dụ: 0.9751 thay vì 0.97512345...).\n",
    "\n",
    "    - Ý nghĩa: Dòng này cho bạn biết \"thành tích\" của \"công thức chiến thắng\" đó là bao nhiêu."
   ]
  },
  {
   "cell_type": "markdown",
   "id": "d9d4df7a",
   "metadata": {},
   "source": [
    "#### Sử dụng và Đánh giá \"Mô hình Vô địch\"."
   ]
  },
  {
   "cell_type": "markdown",
   "id": "cbecadb3",
   "metadata": {},
   "source": [
    "Sau khi GridSearchCV (ở bước 3 & 4) đã tìm ra \"công thức\" tốt nhất, bây giờ là lúc bạn sử dụng \"công thức\" đó để tạo ra mô hình cuối cùng và chấm điểm nó trên tập test (bộ đề thi thật)."
   ]
  },
  {
   "cell_type": "code",
   "execution_count": 39,
   "id": "eacd65f8",
   "metadata": {},
   "outputs": [
    {
     "name": "stdout",
     "output_type": "stream",
     "text": [
      "Test Accuracy (best model): 0.9000\n"
     ]
    }
   ],
   "source": [
    "# 5. Dùng mô hình tốt nhất để dự đoán\n",
    "best_model = grid_search.best_estimator_\n",
    "y_pred_best = best_model.predict(X_test)\n",
    "print(f\"Test Accuracy (best model): {accuracy_score(y_test, y_pred_best):.4f}\")"
   ]
  },
  {
   "cell_type": "markdown",
   "id": "e2f4b991",
   "metadata": {},
   "source": [
    "##### best_model = grid_search.best_estimator"
   ]
  },
  {
   "cell_type": "markdown",
   "id": "c61f1c66",
   "metadata": {},
   "source": [
    "- Hành động: Lấy ra mô hình \"vô địch\" từ \"cỗ máy tìm kiếm\".\n",
    "\n",
    "- Giải thích:\n",
    "\n",
    "    - Sau khi grid_search tìm ra bộ tham số tốt nhất (ví dụ: {'n_estimators': 200, 'max_depth': 10, ...}), nó sẽ tự động làm thêm một việc nữa: Nó lấy bộ tham số \"vô địch\" này và huấn luyện (fit) một lần cuối cùng trên toàn bộ tập X_train (chứ không phải 4/5 phần như trong lúc kiểm định chéo).\n",
    "\n",
    "    - .best_estimator_ chính là mô hình \"cuối cùng\" đó—mô hình Rừng Ngẫu nhiên tốt nhất đã học trên 100% dữ liệu huấn luyện.\n",
    "\n",
    "    - Bạn gán mô hình \"xịn\" nhất này vào một biến mới tên là best_model."
   ]
  },
  {
   "cell_type": "markdown",
   "id": "950b8ed3",
   "metadata": {},
   "source": [
    "##### y_pred_best = best_model.predict(X_test)"
   ]
  },
  {
   "cell_type": "markdown",
   "id": "ab33c7d6",
   "metadata": {},
   "source": [
    "- Hành động: Dùng \"mô hình vô địch\" để làm bài thi cuối kỳ.\n",
    "\n",
    "- Giải thích:\n",
    "\n",
    "    - Đây là bài kiểm tra thực sự. Bạn lấy best_model (mô hình đã được tinh chỉnh tốt nhất) và yêu cầu nó dự đoán trên X_test—bộ dữ liệu mà nó hoàn toàn chưa bao giờ thấy trong suốt quá trình GridSearch (180 lần chạy thử).\n",
    "\n",
    "    - y_pred_best sẽ là mảng (array) chứa 30 dự đoán cuối cùng của mô hình tối ưu."
   ]
  },
  {
   "cell_type": "markdown",
   "id": "7e3d6f8f",
   "metadata": {},
   "source": [
    "##### print(f\"Test Accuracy (best model): {accuracy_score(y_test, y_pred_best):.4f}\")"
   ]
  },
  {
   "cell_type": "markdown",
   "id": "24eafd35",
   "metadata": {},
   "source": [
    "- Hành động: Chấm điểm \"bài thi cuối kỳ\".\n",
    "\n",
    "- Giải thích:\n",
    "\n",
    "    - Dòng này tính toán và in ra độ chính xác cuối cùng và quan trọng nhất.\n",
    "\n",
    "    - Nó so sánh \"đáp án thật\" (y_test) với \"bài làm\" của mô hình tốt nhất (y_pred_best).\n",
    "\n",
    "    - :.4f: Yêu cầu in kết quả với 4 chữ số thập phân (ví dụ: 1.0000)."
   ]
  },
  {
   "cell_type": "markdown",
   "id": "c64e360f",
   "metadata": {},
   "source": [
    "### Phương pháp 2: RandomizedSearchCV (Tìm kiếm ngẫu nhiên – nhanh hơn)"
   ]
  },
  {
   "cell_type": "markdown",
   "id": "81188e23",
   "metadata": {},
   "source": [
    "Đây là một giải pháp thay thế NHANH HƠN và thường HIỆU QUẢ không kém so với GridSearchCV (Tìm kiếm Lưới) mà bạn vừa sử dụng."
   ]
  },
  {
   "cell_type": "markdown",
   "id": "c8357864",
   "metadata": {},
   "source": [
    "#### Khai báo và định nghĩa"
   ]
  },
  {
   "cell_type": "code",
   "execution_count": 40,
   "id": "2a1949c2",
   "metadata": {},
   "outputs": [],
   "source": [
    "from sklearn.model_selection import RandomizedSearchCV\n",
    "from scipy.stats import randint\n",
    "\n",
    "# 1. Định nghĩa phân phối tham số\n",
    "param_dist = {\n",
    "    'n_estimators': randint(100, 500),     # Ngẫu nhiên từ 100 đến 499\n",
    "    'max_depth': [None, 10, 20, 30, 50],   # Danh sách\n",
    "    'min_samples_split': randint(2, 11),\n",
    "    'max_features': ['sqrt', 'log2', None]\n",
    "}"
   ]
  },
  {
   "cell_type": "markdown",
   "id": "3a3548de",
   "metadata": {},
   "source": [
    "##### from scipy.stats import randint"
   ]
  },
  {
   "cell_type": "markdown",
   "id": "143b9bc9",
   "metadata": {},
   "source": [
    "- Hành động: Import một công cụ rất quan trọng từ thư viện scipy.stats (Thống kê của SciPy).\n",
    "\n",
    "- randint (Random Integer): Đây không phải là một danh sách các số, mà là một \"phân phối\" (distribution). Nó định nghĩa \"hãy chọn một số nguyên ngẫu nhiên trong một khoảng nào đó.\""
   ]
  },
  {
   "cell_type": "markdown",
   "id": "7eeeb0e1",
   "metadata": {},
   "source": [
    "##### param_dist = { ... }"
   ]
  },
  {
   "cell_type": "markdown",
   "id": "21f2fdc8",
   "metadata": {},
   "source": [
    "- Định nghĩa \"Không gian Phân phối Tham số\" (Parameter Distribution). Đây là nơi \"cỗ máy tìm kiếm\" sẽ \"bốc\" ngẫu nhiên các giá trị:\n",
    "\n",
    "- 'n_estimators': randint(100, 500)\n",
    "\n",
    "    - Giải thích: Thay vì cung cấp một danh sách cố định (như [100, 200, 300]), bạn đang nói: \"Mỗi lần thử, hãy chọn ngẫu nhiên một số nguyên bất kỳ trong khoảng từ 100 đến 499\".\n",
    "\n",
    "    - Ví dụ: Lần thử 1, nó có thể chọn n_estimators=178. Lần thử 2, nó chọn n_estimators=421.\n",
    "\n",
    "- 'max_depth': [None, 10, 20, 30, 50]\n",
    "\n",
    "    - Giải thích: Đây là cách làm giống như GridSearch. Bạn cung cấp một danh sách cố định. Nó sẽ chọn ngẫu nhiên một giá trị trong danh sách này (ví dụ: None, hoặc 10, hoặc 20,...).\n",
    "\n",
    "- 'min_samples_split': randint(2, 11)\n",
    "\n",
    "    - Giải thích: Tương tự như n_estimators. Nó sẽ chọn ngẫu nhiên một số nguyên trong khoảng từ 2 đến 10.\n",
    "\n",
    "    - Điều này cho phép bạn thử các giá trị 2, 3, 4, 5, 6, 7, 8, 9, 10 mà không cần liệt kê tất cả ra.\n",
    "\n",
    "- 'max_features': ['sqrt', 'log2', None]\n",
    "\n",
    "    - Giải thích: Giống như max_depth, nó sẽ chọn ngẫu nhiên một giá trị trong 3 lựa chọn này."
   ]
  },
  {
   "cell_type": "markdown",
   "id": "303f3900",
   "metadata": {},
   "source": [
    "#### Khởi tạo"
   ]
  },
  {
   "cell_type": "code",
   "execution_count": 41,
   "id": "2e039aa5",
   "metadata": {},
   "outputs": [],
   "source": [
    "\n",
    "# 2. Khởi tạo RandomizedSearch\n",
    "random_search = RandomizedSearchCV(\n",
    "    estimator=RandomForestClassifier(random_state=42),\n",
    "    param_distributions=param_dist,\n",
    "    n_iter=30,               # Chỉ thử NGẪU NHIÊN 30 tổ hợp\n",
    "    cv=5,\n",
    "    scoring='accuracy',\n",
    "    random_state=42,\n",
    "    n_jobs=-1\n",
    ")"
   ]
  },
  {
   "cell_type": "markdown",
   "id": "2eb43a77",
   "metadata": {},
   "source": [
    "##### estimator=RandomForestClassifier(random_state=42)"
   ]
  },
  {
   "cell_type": "markdown",
   "id": "5b0e8103",
   "metadata": {},
   "source": [
    "- Mô hình lõi: Giống hệt như GridSearch, bạn nói với nó hãy dùng mô hình RandomForestClassifier (đã được gieo random_state=42 để đảm bảo tính nhất quán của mô hình)."
   ]
  },
  {
   "cell_type": "markdown",
   "id": "c786de76",
   "metadata": {},
   "source": [
    "##### param_distributions=param_dist"
   ]
  },
  {
   "cell_type": "markdown",
   "id": "17d4af5d",
   "metadata": {},
   "source": [
    "- Khác biệt 1: Tên tham số là param_distributions (thay vì param_grid).\n",
    "\n",
    "- Ý nghĩa: Bạn nạp \"không gian tìm kiếm\" (param_dist) mà bạn đã định nghĩa ở bước 1 (bước có randint) vào cho \"cỗ máy\". Đây là \"vũ trụ\" chứa 54,000 tổ hợp mà nó có thể \"bốc\" mẫu."
   ]
  },
  {
   "cell_type": "markdown",
   "id": "aa96723b",
   "metadata": {},
   "source": [
    "##### n_iter=30\n"
   ]
  },
  {
   "cell_type": "markdown",
   "id": "26489fb6",
   "metadata": {},
   "source": [
    "\n",
    "- Khác biệt 2 (Quan trọng nhất): Đây là \"ngân sách\" tìm kiếm của bạn.\n",
    "\n",
    "- Ý nghĩa: Thay vì thử tất cả 54,000+ tổ hợp (như GridSearch sẽ làm), bạn ra lệnh cho nó: \"Chỉ cần chọn ngẫu nhiên 30 tổ hợp từ không gian đó và chạy thử.\"\n",
    "\n",
    "- Đây là sự đánh đổi: bạn tiết kiệm được rất nhiều thời gian ⏳, bù lại bạn có thể không tìm ra tổ hợp tốt nhất tuyệt đối, mà chỉ là một tổ hợp \"rất tốt\"."
   ]
  },
  {
   "cell_type": "markdown",
   "id": "52178cca",
   "metadata": {},
   "source": [
    "#### Huấn luyện"
   ]
  },
  {
   "cell_type": "code",
   "execution_count": 42,
   "id": "ac40a604",
   "metadata": {},
   "outputs": [
    {
     "data": {
      "text/html": [
       "<style>#sk-container-id-6 {\n",
       "  /* Definition of color scheme common for light and dark mode */\n",
       "  --sklearn-color-text: #000;\n",
       "  --sklearn-color-text-muted: #666;\n",
       "  --sklearn-color-line: gray;\n",
       "  /* Definition of color scheme for unfitted estimators */\n",
       "  --sklearn-color-unfitted-level-0: #fff5e6;\n",
       "  --sklearn-color-unfitted-level-1: #f6e4d2;\n",
       "  --sklearn-color-unfitted-level-2: #ffe0b3;\n",
       "  --sklearn-color-unfitted-level-3: chocolate;\n",
       "  /* Definition of color scheme for fitted estimators */\n",
       "  --sklearn-color-fitted-level-0: #f0f8ff;\n",
       "  --sklearn-color-fitted-level-1: #d4ebff;\n",
       "  --sklearn-color-fitted-level-2: #b3dbfd;\n",
       "  --sklearn-color-fitted-level-3: cornflowerblue;\n",
       "\n",
       "  /* Specific color for light theme */\n",
       "  --sklearn-color-text-on-default-background: var(--sg-text-color, var(--theme-code-foreground, var(--jp-content-font-color1, black)));\n",
       "  --sklearn-color-background: var(--sg-background-color, var(--theme-background, var(--jp-layout-color0, white)));\n",
       "  --sklearn-color-border-box: var(--sg-text-color, var(--theme-code-foreground, var(--jp-content-font-color1, black)));\n",
       "  --sklearn-color-icon: #696969;\n",
       "\n",
       "  @media (prefers-color-scheme: dark) {\n",
       "    /* Redefinition of color scheme for dark theme */\n",
       "    --sklearn-color-text-on-default-background: var(--sg-text-color, var(--theme-code-foreground, var(--jp-content-font-color1, white)));\n",
       "    --sklearn-color-background: var(--sg-background-color, var(--theme-background, var(--jp-layout-color0, #111)));\n",
       "    --sklearn-color-border-box: var(--sg-text-color, var(--theme-code-foreground, var(--jp-content-font-color1, white)));\n",
       "    --sklearn-color-icon: #878787;\n",
       "  }\n",
       "}\n",
       "\n",
       "#sk-container-id-6 {\n",
       "  color: var(--sklearn-color-text);\n",
       "}\n",
       "\n",
       "#sk-container-id-6 pre {\n",
       "  padding: 0;\n",
       "}\n",
       "\n",
       "#sk-container-id-6 input.sk-hidden--visually {\n",
       "  border: 0;\n",
       "  clip: rect(1px 1px 1px 1px);\n",
       "  clip: rect(1px, 1px, 1px, 1px);\n",
       "  height: 1px;\n",
       "  margin: -1px;\n",
       "  overflow: hidden;\n",
       "  padding: 0;\n",
       "  position: absolute;\n",
       "  width: 1px;\n",
       "}\n",
       "\n",
       "#sk-container-id-6 div.sk-dashed-wrapped {\n",
       "  border: 1px dashed var(--sklearn-color-line);\n",
       "  margin: 0 0.4em 0.5em 0.4em;\n",
       "  box-sizing: border-box;\n",
       "  padding-bottom: 0.4em;\n",
       "  background-color: var(--sklearn-color-background);\n",
       "}\n",
       "\n",
       "#sk-container-id-6 div.sk-container {\n",
       "  /* jupyter's `normalize.less` sets `[hidden] { display: none; }`\n",
       "     but bootstrap.min.css set `[hidden] { display: none !important; }`\n",
       "     so we also need the `!important` here to be able to override the\n",
       "     default hidden behavior on the sphinx rendered scikit-learn.org.\n",
       "     See: https://github.com/scikit-learn/scikit-learn/issues/21755 */\n",
       "  display: inline-block !important;\n",
       "  position: relative;\n",
       "}\n",
       "\n",
       "#sk-container-id-6 div.sk-text-repr-fallback {\n",
       "  display: none;\n",
       "}\n",
       "\n",
       "div.sk-parallel-item,\n",
       "div.sk-serial,\n",
       "div.sk-item {\n",
       "  /* draw centered vertical line to link estimators */\n",
       "  background-image: linear-gradient(var(--sklearn-color-text-on-default-background), var(--sklearn-color-text-on-default-background));\n",
       "  background-size: 2px 100%;\n",
       "  background-repeat: no-repeat;\n",
       "  background-position: center center;\n",
       "}\n",
       "\n",
       "/* Parallel-specific style estimator block */\n",
       "\n",
       "#sk-container-id-6 div.sk-parallel-item::after {\n",
       "  content: \"\";\n",
       "  width: 100%;\n",
       "  border-bottom: 2px solid var(--sklearn-color-text-on-default-background);\n",
       "  flex-grow: 1;\n",
       "}\n",
       "\n",
       "#sk-container-id-6 div.sk-parallel {\n",
       "  display: flex;\n",
       "  align-items: stretch;\n",
       "  justify-content: center;\n",
       "  background-color: var(--sklearn-color-background);\n",
       "  position: relative;\n",
       "}\n",
       "\n",
       "#sk-container-id-6 div.sk-parallel-item {\n",
       "  display: flex;\n",
       "  flex-direction: column;\n",
       "}\n",
       "\n",
       "#sk-container-id-6 div.sk-parallel-item:first-child::after {\n",
       "  align-self: flex-end;\n",
       "  width: 50%;\n",
       "}\n",
       "\n",
       "#sk-container-id-6 div.sk-parallel-item:last-child::after {\n",
       "  align-self: flex-start;\n",
       "  width: 50%;\n",
       "}\n",
       "\n",
       "#sk-container-id-6 div.sk-parallel-item:only-child::after {\n",
       "  width: 0;\n",
       "}\n",
       "\n",
       "/* Serial-specific style estimator block */\n",
       "\n",
       "#sk-container-id-6 div.sk-serial {\n",
       "  display: flex;\n",
       "  flex-direction: column;\n",
       "  align-items: center;\n",
       "  background-color: var(--sklearn-color-background);\n",
       "  padding-right: 1em;\n",
       "  padding-left: 1em;\n",
       "}\n",
       "\n",
       "\n",
       "/* Toggleable style: style used for estimator/Pipeline/ColumnTransformer box that is\n",
       "clickable and can be expanded/collapsed.\n",
       "- Pipeline and ColumnTransformer use this feature and define the default style\n",
       "- Estimators will overwrite some part of the style using the `sk-estimator` class\n",
       "*/\n",
       "\n",
       "/* Pipeline and ColumnTransformer style (default) */\n",
       "\n",
       "#sk-container-id-6 div.sk-toggleable {\n",
       "  /* Default theme specific background. It is overwritten whether we have a\n",
       "  specific estimator or a Pipeline/ColumnTransformer */\n",
       "  background-color: var(--sklearn-color-background);\n",
       "}\n",
       "\n",
       "/* Toggleable label */\n",
       "#sk-container-id-6 label.sk-toggleable__label {\n",
       "  cursor: pointer;\n",
       "  display: flex;\n",
       "  width: 100%;\n",
       "  margin-bottom: 0;\n",
       "  padding: 0.5em;\n",
       "  box-sizing: border-box;\n",
       "  text-align: center;\n",
       "  align-items: start;\n",
       "  justify-content: space-between;\n",
       "  gap: 0.5em;\n",
       "}\n",
       "\n",
       "#sk-container-id-6 label.sk-toggleable__label .caption {\n",
       "  font-size: 0.6rem;\n",
       "  font-weight: lighter;\n",
       "  color: var(--sklearn-color-text-muted);\n",
       "}\n",
       "\n",
       "#sk-container-id-6 label.sk-toggleable__label-arrow:before {\n",
       "  /* Arrow on the left of the label */\n",
       "  content: \"▸\";\n",
       "  float: left;\n",
       "  margin-right: 0.25em;\n",
       "  color: var(--sklearn-color-icon);\n",
       "}\n",
       "\n",
       "#sk-container-id-6 label.sk-toggleable__label-arrow:hover:before {\n",
       "  color: var(--sklearn-color-text);\n",
       "}\n",
       "\n",
       "/* Toggleable content - dropdown */\n",
       "\n",
       "#sk-container-id-6 div.sk-toggleable__content {\n",
       "  max-height: 0;\n",
       "  max-width: 0;\n",
       "  overflow: hidden;\n",
       "  text-align: left;\n",
       "  /* unfitted */\n",
       "  background-color: var(--sklearn-color-unfitted-level-0);\n",
       "}\n",
       "\n",
       "#sk-container-id-6 div.sk-toggleable__content.fitted {\n",
       "  /* fitted */\n",
       "  background-color: var(--sklearn-color-fitted-level-0);\n",
       "}\n",
       "\n",
       "#sk-container-id-6 div.sk-toggleable__content pre {\n",
       "  margin: 0.2em;\n",
       "  border-radius: 0.25em;\n",
       "  color: var(--sklearn-color-text);\n",
       "  /* unfitted */\n",
       "  background-color: var(--sklearn-color-unfitted-level-0);\n",
       "}\n",
       "\n",
       "#sk-container-id-6 div.sk-toggleable__content.fitted pre {\n",
       "  /* unfitted */\n",
       "  background-color: var(--sklearn-color-fitted-level-0);\n",
       "}\n",
       "\n",
       "#sk-container-id-6 input.sk-toggleable__control:checked~div.sk-toggleable__content {\n",
       "  /* Expand drop-down */\n",
       "  max-height: 200px;\n",
       "  max-width: 100%;\n",
       "  overflow: auto;\n",
       "}\n",
       "\n",
       "#sk-container-id-6 input.sk-toggleable__control:checked~label.sk-toggleable__label-arrow:before {\n",
       "  content: \"▾\";\n",
       "}\n",
       "\n",
       "/* Pipeline/ColumnTransformer-specific style */\n",
       "\n",
       "#sk-container-id-6 div.sk-label input.sk-toggleable__control:checked~label.sk-toggleable__label {\n",
       "  color: var(--sklearn-color-text);\n",
       "  background-color: var(--sklearn-color-unfitted-level-2);\n",
       "}\n",
       "\n",
       "#sk-container-id-6 div.sk-label.fitted input.sk-toggleable__control:checked~label.sk-toggleable__label {\n",
       "  background-color: var(--sklearn-color-fitted-level-2);\n",
       "}\n",
       "\n",
       "/* Estimator-specific style */\n",
       "\n",
       "/* Colorize estimator box */\n",
       "#sk-container-id-6 div.sk-estimator input.sk-toggleable__control:checked~label.sk-toggleable__label {\n",
       "  /* unfitted */\n",
       "  background-color: var(--sklearn-color-unfitted-level-2);\n",
       "}\n",
       "\n",
       "#sk-container-id-6 div.sk-estimator.fitted input.sk-toggleable__control:checked~label.sk-toggleable__label {\n",
       "  /* fitted */\n",
       "  background-color: var(--sklearn-color-fitted-level-2);\n",
       "}\n",
       "\n",
       "#sk-container-id-6 div.sk-label label.sk-toggleable__label,\n",
       "#sk-container-id-6 div.sk-label label {\n",
       "  /* The background is the default theme color */\n",
       "  color: var(--sklearn-color-text-on-default-background);\n",
       "}\n",
       "\n",
       "/* On hover, darken the color of the background */\n",
       "#sk-container-id-6 div.sk-label:hover label.sk-toggleable__label {\n",
       "  color: var(--sklearn-color-text);\n",
       "  background-color: var(--sklearn-color-unfitted-level-2);\n",
       "}\n",
       "\n",
       "/* Label box, darken color on hover, fitted */\n",
       "#sk-container-id-6 div.sk-label.fitted:hover label.sk-toggleable__label.fitted {\n",
       "  color: var(--sklearn-color-text);\n",
       "  background-color: var(--sklearn-color-fitted-level-2);\n",
       "}\n",
       "\n",
       "/* Estimator label */\n",
       "\n",
       "#sk-container-id-6 div.sk-label label {\n",
       "  font-family: monospace;\n",
       "  font-weight: bold;\n",
       "  display: inline-block;\n",
       "  line-height: 1.2em;\n",
       "}\n",
       "\n",
       "#sk-container-id-6 div.sk-label-container {\n",
       "  text-align: center;\n",
       "}\n",
       "\n",
       "/* Estimator-specific */\n",
       "#sk-container-id-6 div.sk-estimator {\n",
       "  font-family: monospace;\n",
       "  border: 1px dotted var(--sklearn-color-border-box);\n",
       "  border-radius: 0.25em;\n",
       "  box-sizing: border-box;\n",
       "  margin-bottom: 0.5em;\n",
       "  /* unfitted */\n",
       "  background-color: var(--sklearn-color-unfitted-level-0);\n",
       "}\n",
       "\n",
       "#sk-container-id-6 div.sk-estimator.fitted {\n",
       "  /* fitted */\n",
       "  background-color: var(--sklearn-color-fitted-level-0);\n",
       "}\n",
       "\n",
       "/* on hover */\n",
       "#sk-container-id-6 div.sk-estimator:hover {\n",
       "  /* unfitted */\n",
       "  background-color: var(--sklearn-color-unfitted-level-2);\n",
       "}\n",
       "\n",
       "#sk-container-id-6 div.sk-estimator.fitted:hover {\n",
       "  /* fitted */\n",
       "  background-color: var(--sklearn-color-fitted-level-2);\n",
       "}\n",
       "\n",
       "/* Specification for estimator info (e.g. \"i\" and \"?\") */\n",
       "\n",
       "/* Common style for \"i\" and \"?\" */\n",
       "\n",
       ".sk-estimator-doc-link,\n",
       "a:link.sk-estimator-doc-link,\n",
       "a:visited.sk-estimator-doc-link {\n",
       "  float: right;\n",
       "  font-size: smaller;\n",
       "  line-height: 1em;\n",
       "  font-family: monospace;\n",
       "  background-color: var(--sklearn-color-background);\n",
       "  border-radius: 1em;\n",
       "  height: 1em;\n",
       "  width: 1em;\n",
       "  text-decoration: none !important;\n",
       "  margin-left: 0.5em;\n",
       "  text-align: center;\n",
       "  /* unfitted */\n",
       "  border: var(--sklearn-color-unfitted-level-1) 1pt solid;\n",
       "  color: var(--sklearn-color-unfitted-level-1);\n",
       "}\n",
       "\n",
       ".sk-estimator-doc-link.fitted,\n",
       "a:link.sk-estimator-doc-link.fitted,\n",
       "a:visited.sk-estimator-doc-link.fitted {\n",
       "  /* fitted */\n",
       "  border: var(--sklearn-color-fitted-level-1) 1pt solid;\n",
       "  color: var(--sklearn-color-fitted-level-1);\n",
       "}\n",
       "\n",
       "/* On hover */\n",
       "div.sk-estimator:hover .sk-estimator-doc-link:hover,\n",
       ".sk-estimator-doc-link:hover,\n",
       "div.sk-label-container:hover .sk-estimator-doc-link:hover,\n",
       ".sk-estimator-doc-link:hover {\n",
       "  /* unfitted */\n",
       "  background-color: var(--sklearn-color-unfitted-level-3);\n",
       "  color: var(--sklearn-color-background);\n",
       "  text-decoration: none;\n",
       "}\n",
       "\n",
       "div.sk-estimator.fitted:hover .sk-estimator-doc-link.fitted:hover,\n",
       ".sk-estimator-doc-link.fitted:hover,\n",
       "div.sk-label-container:hover .sk-estimator-doc-link.fitted:hover,\n",
       ".sk-estimator-doc-link.fitted:hover {\n",
       "  /* fitted */\n",
       "  background-color: var(--sklearn-color-fitted-level-3);\n",
       "  color: var(--sklearn-color-background);\n",
       "  text-decoration: none;\n",
       "}\n",
       "\n",
       "/* Span, style for the box shown on hovering the info icon */\n",
       ".sk-estimator-doc-link span {\n",
       "  display: none;\n",
       "  z-index: 9999;\n",
       "  position: relative;\n",
       "  font-weight: normal;\n",
       "  right: .2ex;\n",
       "  padding: .5ex;\n",
       "  margin: .5ex;\n",
       "  width: min-content;\n",
       "  min-width: 20ex;\n",
       "  max-width: 50ex;\n",
       "  color: var(--sklearn-color-text);\n",
       "  box-shadow: 2pt 2pt 4pt #999;\n",
       "  /* unfitted */\n",
       "  background: var(--sklearn-color-unfitted-level-0);\n",
       "  border: .5pt solid var(--sklearn-color-unfitted-level-3);\n",
       "}\n",
       "\n",
       ".sk-estimator-doc-link.fitted span {\n",
       "  /* fitted */\n",
       "  background: var(--sklearn-color-fitted-level-0);\n",
       "  border: var(--sklearn-color-fitted-level-3);\n",
       "}\n",
       "\n",
       ".sk-estimator-doc-link:hover span {\n",
       "  display: block;\n",
       "}\n",
       "\n",
       "/* \"?\"-specific style due to the `<a>` HTML tag */\n",
       "\n",
       "#sk-container-id-6 a.estimator_doc_link {\n",
       "  float: right;\n",
       "  font-size: 1rem;\n",
       "  line-height: 1em;\n",
       "  font-family: monospace;\n",
       "  background-color: var(--sklearn-color-background);\n",
       "  border-radius: 1rem;\n",
       "  height: 1rem;\n",
       "  width: 1rem;\n",
       "  text-decoration: none;\n",
       "  /* unfitted */\n",
       "  color: var(--sklearn-color-unfitted-level-1);\n",
       "  border: var(--sklearn-color-unfitted-level-1) 1pt solid;\n",
       "}\n",
       "\n",
       "#sk-container-id-6 a.estimator_doc_link.fitted {\n",
       "  /* fitted */\n",
       "  border: var(--sklearn-color-fitted-level-1) 1pt solid;\n",
       "  color: var(--sklearn-color-fitted-level-1);\n",
       "}\n",
       "\n",
       "/* On hover */\n",
       "#sk-container-id-6 a.estimator_doc_link:hover {\n",
       "  /* unfitted */\n",
       "  background-color: var(--sklearn-color-unfitted-level-3);\n",
       "  color: var(--sklearn-color-background);\n",
       "  text-decoration: none;\n",
       "}\n",
       "\n",
       "#sk-container-id-6 a.estimator_doc_link.fitted:hover {\n",
       "  /* fitted */\n",
       "  background-color: var(--sklearn-color-fitted-level-3);\n",
       "}\n",
       "</style><div id=\"sk-container-id-6\" class=\"sk-top-container\"><div class=\"sk-text-repr-fallback\"><pre>RandomizedSearchCV(cv=5, estimator=RandomForestClassifier(random_state=42),\n",
       "                   n_iter=30, n_jobs=-1,\n",
       "                   param_distributions={&#x27;max_depth&#x27;: [None, 10, 20, 30, 50],\n",
       "                                        &#x27;max_features&#x27;: [&#x27;sqrt&#x27;, &#x27;log2&#x27;, None],\n",
       "                                        &#x27;min_samples_split&#x27;: &lt;scipy.stats._distn_infrastructure.rv_discrete_frozen object at 0x00000225D6AD4D10&gt;,\n",
       "                                        &#x27;n_estimators&#x27;: &lt;scipy.stats._distn_infrastructure.rv_discrete_frozen object at 0x00000225D6AD4170&gt;},\n",
       "                   random_state=42, scoring=&#x27;accuracy&#x27;)</pre><b>In a Jupyter environment, please rerun this cell to show the HTML representation or trust the notebook. <br />On GitHub, the HTML representation is unable to render, please try loading this page with nbviewer.org.</b></div><div class=\"sk-container\" hidden><div class=\"sk-item sk-dashed-wrapped\"><div class=\"sk-label-container\"><div class=\"sk-label fitted sk-toggleable\"><input class=\"sk-toggleable__control sk-hidden--visually\" id=\"sk-estimator-id-8\" type=\"checkbox\" ><label for=\"sk-estimator-id-8\" class=\"sk-toggleable__label fitted sk-toggleable__label-arrow\"><div><div>RandomizedSearchCV</div></div><div><a class=\"sk-estimator-doc-link fitted\" rel=\"noreferrer\" target=\"_blank\" href=\"https://scikit-learn.org/1.6/modules/generated/sklearn.model_selection.RandomizedSearchCV.html\">?<span>Documentation for RandomizedSearchCV</span></a><span class=\"sk-estimator-doc-link fitted\">i<span>Fitted</span></span></div></label><div class=\"sk-toggleable__content fitted\"><pre>RandomizedSearchCV(cv=5, estimator=RandomForestClassifier(random_state=42),\n",
       "                   n_iter=30, n_jobs=-1,\n",
       "                   param_distributions={&#x27;max_depth&#x27;: [None, 10, 20, 30, 50],\n",
       "                                        &#x27;max_features&#x27;: [&#x27;sqrt&#x27;, &#x27;log2&#x27;, None],\n",
       "                                        &#x27;min_samples_split&#x27;: &lt;scipy.stats._distn_infrastructure.rv_discrete_frozen object at 0x00000225D6AD4D10&gt;,\n",
       "                                        &#x27;n_estimators&#x27;: &lt;scipy.stats._distn_infrastructure.rv_discrete_frozen object at 0x00000225D6AD4170&gt;},\n",
       "                   random_state=42, scoring=&#x27;accuracy&#x27;)</pre></div> </div></div><div class=\"sk-parallel\"><div class=\"sk-parallel-item\"><div class=\"sk-item\"><div class=\"sk-label-container\"><div class=\"sk-label fitted sk-toggleable\"><input class=\"sk-toggleable__control sk-hidden--visually\" id=\"sk-estimator-id-9\" type=\"checkbox\" ><label for=\"sk-estimator-id-9\" class=\"sk-toggleable__label fitted sk-toggleable__label-arrow\"><div><div>best_estimator_: RandomForestClassifier</div></div></label><div class=\"sk-toggleable__content fitted\"><pre>RandomForestClassifier(max_depth=30, min_samples_split=9, n_estimators=312,\n",
       "                       random_state=42)</pre></div> </div></div><div class=\"sk-serial\"><div class=\"sk-item\"><div class=\"sk-estimator fitted sk-toggleable\"><input class=\"sk-toggleable__control sk-hidden--visually\" id=\"sk-estimator-id-10\" type=\"checkbox\" ><label for=\"sk-estimator-id-10\" class=\"sk-toggleable__label fitted sk-toggleable__label-arrow\"><div><div>RandomForestClassifier</div></div><div><a class=\"sk-estimator-doc-link fitted\" rel=\"noreferrer\" target=\"_blank\" href=\"https://scikit-learn.org/1.6/modules/generated/sklearn.ensemble.RandomForestClassifier.html\">?<span>Documentation for RandomForestClassifier</span></a></div></label><div class=\"sk-toggleable__content fitted\"><pre>RandomForestClassifier(max_depth=30, min_samples_split=9, n_estimators=312,\n",
       "                       random_state=42)</pre></div> </div></div></div></div></div></div></div></div></div>"
      ],
      "text/plain": [
       "RandomizedSearchCV(cv=5, estimator=RandomForestClassifier(random_state=42),\n",
       "                   n_iter=30, n_jobs=-1,\n",
       "                   param_distributions={'max_depth': [None, 10, 20, 30, 50],\n",
       "                                        'max_features': ['sqrt', 'log2', None],\n",
       "                                        'min_samples_split': <scipy.stats._distn_infrastructure.rv_discrete_frozen object at 0x00000225D6AD4D10>,\n",
       "                                        'n_estimators': <scipy.stats._distn_infrastructure.rv_discrete_frozen object at 0x00000225D6AD4170>},\n",
       "                   random_state=42, scoring='accuracy')"
      ]
     },
     "execution_count": 42,
     "metadata": {},
     "output_type": "execute_result"
    }
   ],
   "source": [
    "\n",
    "# 3. Huấn luyện\n",
    "random_search.fit(X_train, y_train)"
   ]
  },
  {
   "cell_type": "markdown",
   "id": "c2c8d8c5",
   "metadata": {},
   "source": [
    "##### random_search.fit(X_train, y_train)"
   ]
  },
  {
   "cell_type": "markdown",
   "id": "f5beb2ef",
   "metadata": {},
   "source": [
    "\n",
    "- random_search: Đây là \"cỗ máy tìm kiếm ngẫu nhiên\" mà bạn đã lắp ráp ở bước 2.\n",
    "\n",
    "- .fit(X_train, y_train): Bạn ra lệnh cho \"cỗ máy\": \"Hãy bắt đầu làm việc. Đây là dữ liệu huấn luyện (X_train, y_train) để mày thử nghiệm.\""
   ]
  },
  {
   "cell_type": "markdown",
   "id": "d84d3749",
   "metadata": {},
   "source": [
    "##### Quá trình \"Huấn luyện\" (Fit) của RandomizedSearchCV"
   ]
  },
  {
   "cell_type": "markdown",
   "id": "8c92f69f",
   "metadata": {},
   "source": [
    "\n",
    "- Khi dòng code này chạy, \"cỗ máy\" sẽ làm chính xác những gì bạn đã cấu hình:\n",
    "\n",
    "1. Nhận dữ liệu: Nó lấy X_train và y_train.\n",
    "\n",
    "2. Chọn ngẫu nhiên 30 tổ hợp:\n",
    "\n",
    "    - Nó KHÔNG thử tất cả các tổ hợp.\n",
    "\n",
    "    - Thay vào đó, nó nhìn vào \"không gian tìm kiếm\" param_dist của bạn (với hàng chục ngàn khả năng).\n",
    "\n",
    "    - Nó \"bốc\" ngẫu nhiên 30 tổ hợp (vì bạn đã đặt n_iter=30). Việc \"bốc\" này là có thể lặp lại được (vì bạn đã đặt random_state=42). 🎯\n",
    "\n",
    "3. Đánh giá 30 tổ hợp:\n",
    "\n",
    "    - Với Tổ hợp 1/30 (ví dụ: n_estimators=178, max_depth=10, ...), nó chạy 5-fold Cross-Validation (vì cv=5) trên X_train và tính accuracy trung bình.\n",
    "\n",
    "    - Với Tổ hợp 2/30 (ví dụ: n_estimators=421, max_depth=None, ...), nó cũng chạy 5-fold CV và tính accuracy trung bình.\n",
    "\n",
    "    - ... Quá trình này lặp lại cho đến khi hết 30 tổ hợp.\n",
    "\n",
    "4. Tối ưu tốc độ: Vì bạn đã đặt n_jobs=-1, \"cỗ máy\" sẽ chạy song song các lần huấn luyện này trên tất cả các lõi CPU của bạn."
   ]
  },
  {
   "cell_type": "markdown",
   "id": "2fc718dc",
   "metadata": {},
   "source": [
    "### Kết quả"
   ]
  },
  {
   "cell_type": "markdown",
   "id": "a64ccff5",
   "metadata": {},
   "source": [
    "Sau khi random_search.fit() (ở bước 3) đã chạy xong 150 mô hình (30 tổ hợp ngẫu nhiên x 5 lần CV), nó đã \"chấm điểm\" và tìm ra \"nhà vô địch\" trong số 30 tổ hợp đó. Hai dòng code này dùng để trích xuất thông tin về \"nhà vô địch\" đó."
   ]
  },
  {
   "cell_type": "code",
   "execution_count": 43,
   "id": "842f482d",
   "metadata": {},
   "outputs": [
    {
     "name": "stdout",
     "output_type": "stream",
     "text": [
      "Best parameters: {'max_depth': 30, 'max_features': 'sqrt', 'min_samples_split': 9, 'n_estimators': 312}\n",
      "Best CV Accuracy: 0.9583\n"
     ]
    }
   ],
   "source": [
    "# 4. Kết quả\n",
    "print(\"Best parameters:\", random_search.best_params_)\n",
    "print(f\"Best CV Accuracy: {random_search.best_score_:.4f}\")"
   ]
  },
  {
   "cell_type": "markdown",
   "id": "c02b48cf",
   "metadata": {},
   "source": [
    "##### print(\"Best parameters:\", random_search.best_params_)"
   ]
  },
  {
   "cell_type": "markdown",
   "id": "271edaac",
   "metadata": {},
   "source": [
    "- Hành động: In ra bộ tham số (cấu hình) tốt nhất mà RandomizedSearchCV đã tìm thấy.\n",
    "\n",
    "- Giải thích:\n",
    "\n",
    "    - random_search: Là \"cỗ máy tìm kiếm\" của bạn, giờ đã chứa đầy kết quả.\n",
    "\n",
    "    - .best_params_: Đây là một thuộc tính (attribute) của random_search. Sau khi thử tất cả 30 tổ hợp ngẫu nhiên, nó lưu lại cái tổ hợp đã cho điểm số cao nhất.\n",
    "\n",
    "    - Kết quả sẽ là một dictionary (từ điển), ví dụ (chỉ là ví dụ, con số của bạn sẽ khác):\n",
    "\n",
    "    **Best parameters: {'max_depth': 20, 'max_features': 'sqrt', 'min_samples_split': 3, 'n_estimators': 358}**\n",
    "    - Ý nghĩa: Dòng này cho bạn biết \"công thức\" (configuration) chiến thắng."
   ]
  },
  {
   "cell_type": "markdown",
   "id": "33eabb88",
   "metadata": {},
   "source": [
    "##### print(f\"Best CV Accuracy: {random_search.best_score_:.4f}\")"
   ]
  },
  {
   "cell_type": "markdown",
   "id": "b5e127b6",
   "metadata": {},
   "source": [
    "- Hành động: In ra điểm số (accuracy) cao nhất mà bộ tham số tốt nhất ở trên đã đạt được.\n",
    "\n",
    "- Giải thích:\n",
    "\n",
    "    - .best_score_: Đây là một thuộc tính khác. Nó lưu lại điểm số của \"nhà vô địch\".\n",
    "\n",
    "    - Rất quan trọng: Con số này (ví dụ 0.9833) KHÔNG phải là điểm trên tập X_test. Đây là điểm accuracy TRUNG BÌNH (average accuracy) mà mô hình đó đạt được qua 5 lần Kiểm định chéo (Cross-Validation) trên tập X_train.\n",
    "\n",
    "    - :.4f: Đây là định dạng, yêu cầu in kết quả với 4 chữ số thập phân.\n",
    "\n",
    "    - Ý nghĩa: Dòng này cho bạn biết \"thành tích\" của \"công thức chiến thắng\" đó là bao nhiêu (trong quá trình huấn luyện/kiểm định)."
   ]
  },
  {
   "cell_type": "markdown",
   "id": "3354feee",
   "metadata": {},
   "source": [
    "### So sánh"
   ]
  },
  {
   "cell_type": "markdown",
   "id": "f74850c2",
   "metadata": {},
   "source": [
    "- GridSearchCV (Tìm kiếm Lưới): Bạn đưa ra một \"lưới\" cố định (ví dụ 3x3x2x2 = 36 tổ hợp) và nó thử TẤT CẢ 36 tổ hợp đó. Nó \"vét cạn\" nhưng có thể rất chậm nếu lưới của bạn lớn.\n",
    "\n",
    "- RandomizedSearchCV (Tìm kiếm Ngẫu nhiên): Bạn đưa ra một \"không gian\" (space) hoặc \"phân phối\" (distribution) của các tham số (thường là rộng hơn nhiều). Nó sẽ KHÔNG thử tất cả, mà chỉ chọn ngẫu nhiên một số lượng tổ hợp (ví dụ: n_iter = 50 lần) để thử."
   ]
  },
  {
   "cell_type": "markdown",
   "id": "829d839d",
   "metadata": {},
   "source": [
    "| Tiêu chí | GridSearchCV | RandomizedSearchCV |\n",
    "| --- | --- | ---- |\n",
    "| Số tổ hợp thử | Tất cả (3×3×2×2 = 36) | Ngẫu nhiên (chỉ 30) |\n",
    "| Thời gian | Chậm hơn | Nhanh hơn | \n",
    "| Khi dùng | Không gian nhỏ | Không gian lớn |\n",
    "| Kết quả | Tốt nhất trong lưới | \"Gần tối ưu, nhanh\" |"
   ]
  },
  {
   "cell_type": "markdown",
   "id": "e526a99e",
   "metadata": {},
   "source": [
    "- Gợi ý thực tế:\n",
    "\n",
    "    - Dùng RandomizedSearch trước → tìm vùng tốt.\n",
    "    - Sau đó GridSearch quanh vùng đó."
   ]
  }
 ],
 "metadata": {
  "kernelspec": {
   "display_name": "Python 3",
   "language": "python",
   "name": "python3"
  },
  "language_info": {
   "codemirror_mode": {
    "name": "ipython",
    "version": 3
   },
   "file_extension": ".py",
   "mimetype": "text/x-python",
   "name": "python",
   "nbconvert_exporter": "python",
   "pygments_lexer": "ipython3",
   "version": "3.12.10"
  }
 },
 "nbformat": 4,
 "nbformat_minor": 5
}

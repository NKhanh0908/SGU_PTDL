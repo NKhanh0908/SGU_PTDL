{
 "cells": [
  {
   "cell_type": "markdown",
   "id": "5c258689",
   "metadata": {},
   "source": [
    "# GIẢI THUẬT 3: BAYES NGÂY THƠ (NAÏVE BAYES)"
   ]
  },
  {
   "cell_type": "markdown",
   "id": "d4b3d108",
   "metadata": {},
   "source": [
    "## 2.3.1. Ôn tập lý thuyết"
   ]
  },
  {
   "cell_type": "markdown",
   "id": "7521eb7f",
   "metadata": {},
   "source": [
    "## Giải thuật Naive Bayes hoạt động như thế nào? Hãy giải thích định lý Bayes và giả định \"ngây thơ\" trong thuật toán này?"
   ]
  },
  {
   "cell_type": "markdown",
   "id": "b38a0d91",
   "metadata": {},
   "source": [
    "Naive Bayes (hay \"Bayes Ngây thơ\") là một thuật toán học máy thuộc nhóm phân loại (classification) dựa trên xác suất.\n",
    "\n",
    "Nhiệm vụ chính của nó là dự đoán một đối tượng (ví dụ: một email) thuộc về \"lớp\" (category) nào (ví dụ: \"Spam\" hay \"Không phải Spam\"), dựa trên các \"đặc trưng\" (features) của đối tượng đó (ví dụ: các từ xuất hiện trong email)."
   ]
  },
  {
   "cell_type": "markdown",
   "id": "e6acaac0",
   "metadata": {},
   "source": [
    "### Giải thích định lý Bayes:"
   ]
  },
  {
   "cell_type": "markdown",
   "id": "f05ae91a",
   "metadata": {},
   "source": [
    "Định lý Bayes là một công thức toán học mô tả cách cập nhật xác suất của một giả thuyết dựa trên bằng chứng mới thu được. Đây là cốt lõi của suy luận Bayes và là nền tảng cho thuật toán Naive Bayes. Công thức của định lý được phát biểu như sau:\n",
    " $$P(y|X) = \\frac{P(X|y) \\cdot P(y)}{P(X)}$$"
   ]
  },
  {
   "cell_type": "markdown",
   "id": "4a070036",
   "metadata": {},
   "source": [
    "Mỗi thành phần trong công thức này mang một ý nghĩa riêng biệt và quan trọng:\n",
    "\n",
    " + Xác suất Hậu nghiệm (Posterior Probability), $P(y|X)$: Đây là xác suất của giả thuyết $y$ (ví dụ: một email thuộc lớp \"spam\") là đúng, sau khi đã quan sát bằng chứng $X$ (ví dụ: nội dung của email). Đây chính là kết quả mà chúng ta muốn tính toán trong một bài toán phân loại.\n",
    "\n",
    " + Khả năng (Likelihood), $P(X|y)$: Đây là xác suất quan sát thấy bằng chứng $X$ nếu giả thuyết $y$ là đúng. Ví dụ, đây là xác suất một email chứa các từ \"miễn phí\", \"khuyến mãi\" khi biết rằng nó là \"spam\". Giá trị này được tính toán từ dữ liệu huấn luyện.\n",
    "\n",
    " + Xác suất Tiên nghiệm (Prior Probability), $P(y)$: Đây là xác suất ban đầu của giả thuyết $y$ trước khi có bất kỳ bằng chứng nào. Nó thể hiện niềm tin ban đầu của chúng ta về giả thuyết đó. Trong thực tế, nó thường là tần suất xuất hiện của mỗi lớp trong tập dữ liệu.\n",
    "\n",
    " + Bằng chứng (Evidence), $P(X)$: Đây là xác suất quan sát thấy bằng chứng $X$ trên tất cả các giả thuyết có thể. Nó đóng vai trò là một hằng số chuẩn hóa để đảm bảo rằng tổng các xác suất hậu nghiệm bằng 1."
   ]
  },
  {
   "cell_type": "markdown",
   "id": "4f37c716",
   "metadata": {},
   "source": [
    "Để minh họa, hãy xem xét ví dụ về chẩn đoán y tế: \n",
    "\n",
    "$P(\\text{Bệnh}|\\text{Triệu chứng}) = \\frac{P(\\text{Triệu chứng}|\\text{Bệnh}) \\cdot P(\\text{Bệnh})}{P(\\text{Triệu chứng})}$. \n",
    "\n",
    "Định lý Bayes cho phép chúng ta cập nhật niềm tin về khả năng một bệnh nhân mắc bệnh sau khi quan sát các triệu chứng của họ."
   ]
  },
  {
   "cell_type": "markdown",
   "id": "c3e2d2d3",
   "metadata": {},
   "source": [
    "### Giả định \"ngây thơ\"?"
   ]
  },
  {
   "cell_type": "markdown",
   "id": "f0fcb526",
   "metadata": {},
   "source": [
    "Thách thức lớn nhất khi áp dụng quy tắc trên nằm ở việc tính toán $P(X|y) = P(x_1, x_2,..., x_n|y)$. Việc tính toán xác suất đồng thời này đòi hỏi một lượng dữ liệu khổng lồ để ước tính chính xác mối quan hệ phức tạp giữa tất cả các đặc trưng, một vấn đề được gọi là \"lời nguyền của không gian nhiều chiều\" (curse of dimensionality).\n",
    "\n",
    "Đây là lúc giả định \"ngây thơ\" (naive) phát huy tác dụng. Thuật toán Naive Bayes đưa ra một giả định mạnh mẽ nhưng giúp đơn giản hóa đáng kể bài toán: tất cả các đặc trưng đều độc lập có điều kiện với nhau khi biết lớp $y$. Mặc dù giả định này hiếm khi đúng trong thực tế, nó lại là chìa khóa cho hiệu quả của thuật toán.\n",
    "\n",
    "Với giả định này, xác suất khả năng có thể được tính bằng tích của các xác suất riêng lẻ:\n",
    "\n",
    "$$P(X|y) = P(x_1, x_2,..., x_n|y) \\approx \\prod_{i=1}^{n} P(x_i|y)$$\n",
    "\n",
    "Ví dụ, khi phân loại một email là spam, thuật toán giả định rằng sự xuất hiện của từ \"sale\" không liên quan đến sự xuất hiện của từ \"free\", miễn là chúng ta đã biết email đó thuộc lớp spam. Giả định này rõ ràng là một sự đơn giản hóa quá mức, nhưng nó cho phép mô hình học và đưa ra dự đoán cực kỳ nhanh chóng."
   ]
  },
  {
   "cell_type": "markdown",
   "id": "4caea334",
   "metadata": {},
   "source": [
    "Công thức Toán học của Bộ phân loại Naive Bayes"
   ]
  },
  {
   "cell_type": "markdown",
   "id": "0567ef20",
   "metadata": {},
   "source": [
    "Kết hợp quy tắc quyết định MAP với giả định độc lập ngây thơ, chúng ta có được công thức phân loại cuối cùng cho Naive Bayes:$$y_{predicted} = \\underset{y}{\\operatorname{argmax}} \\left[ P(y) \\cdot \\prod_{i=1}^{n} P(x_i|y) \\right]$$\n",
    "\n",
    "Công thức này là nền tảng của thuật toán, cho phép tính toán lớp có khả năng cao nhất cho một điểm dữ liệu mới một cách hiệu quả bằng cách sử dụng các xác suất được ước tính từ tập dữ liệu huấn luyện.\n",
    "\n",
    "Một điểm khác biệt quan trọng là Naive Bayes thuộc nhóm mô hình sinh (generative model). Thay vì học một ranh giới quyết định trực tiếp giữa các lớp như các mô hình phân biệt (discriminative model) như Hồi quy Logistic hay Máy Vector Hỗ trợ (SVM), Naive Bayes học mô hình phân phối của dữ liệu trong mỗi lớp ($P(X|y)$). Sau đó, nó sử dụng định lý Bayes để suy ra xác suất một điểm dữ liệu thuộc về một lớp cụ thể ($P(y|X)$). Việc mô hình hóa cách dữ liệu được \"sinh ra\" cho mỗi lớp giải thích tại sao nó có thể hoạt động tốt ngay cả với lượng dữ liệu huấn luyện hạn chế."
   ]
  },
  {
   "cell_type": "markdown",
   "id": "8526d93a",
   "metadata": {},
   "source": [
    "## Các loại mô hình Naive Bayes (Gaussian, Multinomial, Bernoulli) khác nhau ra sao? Khi nào nên sử dụng từng loại?"
   ]
  },
  {
   "cell_type": "markdown",
   "id": "37db35d8",
   "metadata": {},
   "source": [
    "### Phân loại các Mô hình Naive Bayes\n",
    "\n",
    "Thuật toán Naive Bayes không phải là một mô hình duy nhất mà là một họ các thuật toán. Sự khác biệt chính giữa các biến thể nằm ở giả định về phân phối xác suất của các đặc trưng đầu vào ($P(x_i|y)$). Việc lựa chọn mô hình phù hợp phụ thuộc hoàn toàn vào bản chất của dữ liệu."
   ]
  },
  {
   "cell_type": "markdown",
   "id": "80f45b41",
   "metadata": {},
   "source": [
    "Gaussian Naive Bayes: Mô hình hóa các Đặc trưng Liên tục\n",
    "\n",
    "Gaussian Naive Bayes (GNB) được sử dụng khi các đặc trưng đầu vào là các giá trị số liên tục, chẳng hạn như chiều cao, nhiệt độ, hoặc giá trị pixel trong một hình ảnh. Mô hình này giả định rằng các giá trị của mỗi đặc trưng, trong mỗi lớp, tuân theo một phân phối Gaussian (hay phân phối chuẩn).\n",
    "\n",
    "Trong quá trình huấn luyện, GNB ước tính hai tham số cho mỗi đặc trưng trong mỗi lớp: giá trị trung bình ($\\mu_y$) và phương sai ($\\sigma^2_y$) bằng phương pháp ước lượng hợp lý tối đa (maximum likelihood estimation). Sau đó, hàm mật độ xác suất của phân phối Gaussian được sử dụng để tính toán giá trị khả năng $P(x_i|y)$ cho một giá trị đặc trưng mới."
   ]
  },
  {
   "cell_type": "markdown",
   "id": "21eab98a",
   "metadata": {},
   "source": [
    "Multinomial Naive Bayes: Mô hình hóa các Phép đếm và Tần suất Rời rạc\n",
    "\n",
    "Multinomial Naive Bayes (MNB) là biến thể phổ biến nhất và là \"con ngựa thồ\" trong lĩnh vực phân loại văn bản. Nó được thiết kế cho các đặc trưng biểu thị các phép đếm rời rạc, chẳng hạn như số lần một từ xuất hiện trong một tài liệu (mô hình túi từ - bag-of-words).\n",
    "\n",
    "Trong MNB, xác suất khả năng $P(x_i|y)$ được ước tính bằng tần suất tương đối của đặc trưng $i$ (ví dụ: từ \"offer\") trong tất cả các mẫu thuộc lớp $y$. Một kỹ thuật quan trọng đi kèm với MNB là làm mịn (smoothing), chẳng hạn như làm mịn Laplace (add-one) hoặc Lidstone. Kỹ thuật này cộng một giá trị nhỏ (alpha) vào tất cả các phép đếm để đảm bảo không có xác suất nào bằng không, đặc biệt là đối với những từ xuất hiện trong tập kiểm tra nhưng không có trong tập huấn luyện của một lớp cụ thể"
   ]
  },
  {
   "cell_type": "markdown",
   "id": "3c85a7a3",
   "metadata": {},
   "source": [
    "Bernoulli Naive Bayes: Mô hình hóa các Đặc trưng Nhị phân và Sự Hiện diện/Vắng mặt\n",
    "\n",
    "Bernoulli Naive Bayes (BNB) được sử dụng cho các đặc trưng nhị phân (boolean), tức là các đặc trưng chỉ có hai giá trị, thường là 0 và 1, biểu thị sự vắng mặt hoặc hiện diện của một thuộc tính. Trong phân loại văn bản, điều này có nghĩa là mô hình chỉ quan tâm liệu một từ có xuất hiện trong tài liệu hay không, chứ không phải tần suất xuất hiện của nó.   \n",
    "\n",
    "Mô hình này ước tính xác suất một đặc trưng có mặt (giá trị 1) đối với mỗi lớp. Một điểm khác biệt quan trọng so với MNB là BNB cũng xem xét cả sự vắng mặt của các đặc trưng (non-occurring terms) khi tính toán xác suất, điều này có thể hữu ích trong một số trường hợp nhất định. "
   ]
  },
  {
   "cell_type": "markdown",
   "id": "2727ae98",
   "metadata": {},
   "source": [
    "### Phân tích So sánh: Lựa chọn Mô hình Phù hợp cho Dữ liệu của bạn"
   ]
  },
  {
   "cell_type": "markdown",
   "id": "3630e505",
   "metadata": {},
   "source": [
    "Việc lựa chọn giữa Gaussian, Multinomial, và Bernoulli Naive Bayes không phải là về việc mô hình nào \"tốt hơn\" một cách tuyệt đối, mà là mô hình nào có giả định phù hợp nhất với loại dữ liệu bạn đang xử lý. Sử dụng sai mô hình—ví dụ, áp dụng GNB cho dữ liệu đếm từ—sẽ vi phạm các giả định cốt lõi và dẫn đến hiệu suất kém. Bảng dưới đây tóm tắt các đặc điểm chính để hỗ trợ việc ra quyết định."
   ]
  },
  {
   "cell_type": "markdown",
   "id": "11b64c9b",
   "metadata": {},
   "source": [
    "Gaussian Naive Bayes\n",
    "\n",
    " + Loại Dữ liệu Đặc trưng: Liên tục, giá trị thực (ví dụ: chiều cao, nhiệt độ) \n",
    " + Phân phối Giả định: Phân phối Gaussian (Chuẩn)\n",
    " + Ứng dụng Tiêu biểu: Dữ liệu cảm biến, đo lường y tế, nhận dạng hình ảnh (giá trị pixel)\n",
    " + Ví dụ Biểu diễn Đặc trưng: Một vector các số thực: [5.1, 3.5, 1.4, 0.2]\n",
    " + Lớp trong Scikit-learn: GaussianNB"
   ]
  },
  {
   "cell_type": "markdown",
   "id": "d45dd201",
   "metadata": {},
   "source": [
    "Multinomial Naive Bayes\n",
    "\n",
    " + Loại Dữ liệu Đặc trưng: Đếm hoặc tần suất không âm (ví dụ: số lần xuất hiện của từ)\n",
    " + Phân phối Giả định: Phân phối Đa thức (Multinomial) \n",
    " + Ứng dụng Tiêu biểu: Phân loại văn bản, lọc thư rác, phân tích chủ đề\n",
    " + Ví dụ Biểu diễn Đặc trưng: Một vector đếm từ: [0, 2, 1, 0,...]\n",
    " + Lớp trong Scikit-learn: MultinomialNB"
   ]
  },
  {
   "cell_type": "markdown",
   "id": "f2161770",
   "metadata": {},
   "source": [
    "Bernoulli Naive Bayes\n",
    "\n",
    " + Loại Dữ liệu Đặc trưng: Nhị phân/Boolean (0 hoặc 1, hiện diện/vắng mặt) \n",
    " + Phân phối Giả định: Phân phối Bernoulli \n",
    " + Ứng dụng Tiêu biểu: Phân loại văn bản (khi chỉ quan tâm sự hiện diện của từ), phát hiện spam \n",
    " + Ví dụ Biểu diễn Đặc trưng: Một vector nhị phân: [0, 1, 1, 0,...]\n",
    " + Lớp trong Scikit-learn: BernoulliNB"
   ]
  },
  {
   "cell_type": "markdown",
   "id": "cbfc1b62",
   "metadata": {},
   "source": [
    "## Tại sao Naive Bayes được gọi là \"ngây thơ\"? Giả định về tính độc lập của các đặc trưng ảnh hưởng như thế nào đến hiệu suất của mô hình?"
   ]
  },
  {
   "cell_type": "markdown",
   "id": "36ca987e",
   "metadata": {},
   "source": [
    "Giả định cốt lõi về tính độc lập của các đặc trưng vừa là điểm yếu lớn nhất của Naive Bayes, vừa là bí mật đằng sau hiệu quả đáng kinh ngạc của nó. Việc hiểu rõ hai mặt của vấn đề này là rất quan trọng để sử dụng thuật toán một cách hiệu quả."
   ]
  },
  {
   "cell_type": "markdown",
   "id": "98918166",
   "metadata": {},
   "source": [
    "### Tại sao Naive Bayes được gọi là \"ngây thơ\"? Khám phá sự Phụ thuộc giữa các Đặc trưng trong Dữ liệu Thực tế"
   ]
  },
  {
   "cell_type": "markdown",
   "id": "fb5d2df3",
   "metadata": {},
   "source": [
    "Trong hầu hết các kịch bản thực tế, giả định độc lập là một sự đơn giản hóa quá mức và thường không đúng. Các đặc trưng thường có mối tương quan với nhau. Ví dụ:   \n",
    "\n",
    " + Trong phân loại văn bản: Các từ \"San\" và \"Francisco\" có khả năng xuất hiện cùng nhau rất cao. Giả định chúng độc lập là không thực tế.   \n",
    "\n",
    " + Trong chẩn đoán y tế: Các chỉ số như huyết áp cao và mức cholesterol cao thường có mối liên hệ với nhau.\n",
    "\n",
    " + Trong lọc thư rác: Sự hiện diện của từ \"miễn phí\" và \"khuyến mãi\" không phải là các sự kiện độc lập. \n",
    "\n",
    "Việc bỏ qua các mối quan hệ này là điểm yếu lý thuyết chính của mô hình, vì nó không thể nắm bắt được sự tương tác phức tạp giữa các đặc trưng. "
   ]
  },
  {
   "cell_type": "markdown",
   "id": "2a63328b",
   "metadata": {},
   "source": [
    "Mặt Tích cực của sự Ngây thơ: Hiệu quả Tính toán và Hiệu suất trong Không gian Nhiều chiều\n",
    "\n",
    "Mặc dù có thiếu sót về mặt lý thuyết, giả định độc lập lại mang lại những lợi ích thực tiễn to lớn. Lợi ích chính là hiệu quả tính toán. Bằng cách chia xác suất đồng thời thành tích của các xác suất riêng lẻ, Naive Bayes tránh được \"lời nguyền của không gian nhiều chiều\". Nó đòi hỏi ít dữ liệu hơn đáng kể để ước tính các tham số ($P(x_i|y)$) so với việc ước tính toàn bộ xác suất đồng thời $P(x_1,..., x_n|y)$. Điều này dẫn đến thời gian huấn luyện và dự đoán cực kỳ nhanh, làm cho nó đặc biệt phù hợp với các bộ dữ liệu có số chiều cao, chẳng hạn như dữ liệu văn bản với hàng chục nghìn từ vựng."
   ]
  },
  {
   "cell_type": "markdown",
   "id": "d793b163",
   "metadata": {},
   "source": [
    "Mặt Tiêu cực: Ảnh hưởng đến việc Hiệu chỉnh Xác suất\n",
    "\n",
    "Vì giả định độc lập thường bị vi phạm, các xác suất hậu nghiệm do Naive Bayes tính toán thường không đáng tin cậy và có xu hướng bị đẩy về các giá trị cực đoan (0 hoặc 1). Điều này làm cho Naive Bayes trở thành một \"công cụ ước lượng tồi\" (poor estimator). Mặc dù mô hình có thể phân loại chính xác một email là spam, nhưng việc nó đưa ra dự đoán \"xác suất 99.99% là spam\" có thể là một ước tính quá tự tin và không chính xác về mặt toán học."
   ]
  },
  {
   "cell_type": "markdown",
   "id": "e73b1a46",
   "metadata": {},
   "source": [
    "Khi nào Naive Bayes Vượt trội Bất chấp Giả định Sai lầm\n",
    "\n",
    "Nghịch lý lớn nhất của Naive Bayes là: tại sao một mô hình với tiền đề sai lầm lại hoạt động tốt đến vậy? Câu trả lời nằm ở sự khác biệt giữa việc phân loại và việc ước tính xác suất. Đối với bài toán phân loại, chúng ta chỉ cần xác định lớp nào có xác suất hậu nghiệm cao nhất, chứ không cần giá trị chính xác của xác suất đó.   \n",
    "\n",
    "Miễn là các lỗi do giả định độc lập gây ra không làm thay đổi thứ hạng xác suất của các lớp, thì quyết định phân loại cuối cùng vẫn sẽ đúng. Ví dụ, nếu giả định này làm tăng xác suất của tất cả các lớp một cách tương đối, lớp có xác suất cao nhất ban đầu vẫn sẽ là lớp có xác suất cao nhất sau đó. Điều này giải thích tại sao Naive Bayes thường là một \"bộ phân loại tốt\" ngay cả khi nó là một \"công cụ ước lượng tồi\". Sự tách biệt giữa độ chính xác phân loại và độ chính xác ước tính xác suất là một khái niệm cơ bản nhưng sâu sắc, giải thích hiệu quả của nhiều mô hình đơn giản trong thực tế."
   ]
  },
  {
   "cell_type": "markdown",
   "id": "33fc1996",
   "metadata": {},
   "source": [
    "## Ưu điểm và hạn chế của Naive Bayes so với các thuật toán phân loại khác như SVM hoặc Random Forest là gì?"
   ]
  },
  {
   "cell_type": "markdown",
   "id": "26a91110",
   "metadata": {},
   "source": [
    "Để định vị Naive Bayes trong bối cảnh học máy rộng lớn hơn, việc so sánh nó với các thuật toán phức tạp và thường có hiệu suất cao hơn như Máy Vector Hỗ trợ (SVM) và Rừng Ngẫu nhiên (Random Forest) là cần thiết."
   ]
  },
  {
   "cell_type": "markdown",
   "id": "bdeeba50",
   "metadata": {},
   "source": [
    "### Naive Bayes so với Máy Vector Hỗ trợ (SVM)"
   ]
  },
  {
   "cell_type": "markdown",
   "id": "6a202d7b",
   "metadata": {},
   "source": [
    "Đây là sự so sánh giữa một mô hình sinh xác suất (NB) và một mô hình phân biệt hình học (SVM).\n",
    "\n",
    " + Naive Bayes học phân phối xác suất của dữ liệu cho mỗi lớp và sử dụng định lý Bayes để đưa ra quyết định.\n",
    "\n",
    " + SVM tìm một siêu phẳng tối ưu (optimal hyperplane) trong không gian đặc trưng để phân tách các lớp với lề (margin) lớn nhất.\n",
    "\n",
    "SVM, đặc biệt khi sử dụng các hàm hạt nhân (kernels), có thể nắm bắt các mối quan hệ phi tuyến tính phức tạp giữa các đặc trưng, điều mà Naive Bayes không thể làm được. Do đó, SVM thường đạt độ chính xác cao hơn trong nhiều bài toán. Tuy nhiên, Naive Bayes nhanh hơn đáng kể trong việc huấn luyện, đặc biệt là với các bộ dữ liệu lớn."
   ]
  },
  {
   "cell_type": "markdown",
   "id": "cdfd798a",
   "metadata": {},
   "source": [
    "### Naive Bayes so với Rừng Ngẫu nhiên (Random Forest)"
   ]
  },
  {
   "cell_type": "markdown",
   "id": "060ed884",
   "metadata": {},
   "source": [
    "So sánh này đặt một mô hình đơn giản (NB) cạnh một phương pháp học tập hợp mạnh mẽ (Random Forest).\n",
    "\n",
    " + Rừng Ngẫu nhiên xây dựng một tập hợp gồm nhiều cây quyết định và tổng hợp dự đoán của chúng. Bằng cách này, nó có thể mô hình hóa các tương tác rất phức tạp, phi tuyến tính giữa các đặc trưng và thường cho kết quả rất chính xác.   \n",
    "\n",
    " + Naive Bayes không thể mô hình hóa các tương tác này do giả định độc lập.\n",
    "\n",
    "Tuy nhiên, Rừng Ngẫu nhiên đòi hỏi nhiều tài nguyên tính toán hơn, chậm hơn trong việc huấn luyện và dự đoán, và khó diễn giải hơn so với Naive Bayes."
   ]
  },
  {
   "cell_type": "markdown",
   "id": "090c3aec",
   "metadata": {},
   "source": [
    "### Phân tích Tốc độ, Khả năng Mở rộng và Yêu cầu Dữ liệu"
   ]
  },
  {
   "cell_type": "markdown",
   "id": "2d883b30",
   "metadata": {},
   "source": [
    "Naive Bayes\n",
    " + Tốc độ Huấn luyện: Rất nhanh\n",
    " + Tốc độ Dự đoán: Rất nhanh \n",
    " + Khả năng Mở rộng: Rất tốt, tỷ lệ tuyến tính \n",
    " + Yêu cầu Dữ liệu: Hoạt động tốt với dữ liệu nhỏ \n",
    " + Khả năng Diễn giải: Cao (dựa trên xác suất)"
   ]
  },
  {
   "cell_type": "markdown",
   "id": "7ed76126",
   "metadata": {},
   "source": [
    "SVM \n",
    " + Tốc độ Huấn luyện: Chậm hơn, đặc biệt với dữ liệu lớn\n",
    " + Tốc độ Dự đoán: Nhanh \n",
    " + Khả năng Mở rộng: Kém hơn, có thể là $O(n^2)$ hoặc $O(n^3)$\n",
    " + Yêu cầu Dữ liệu: Thường cần nhiều dữ liệu hơn\n",
    " + Khả năng Diễn giải: Trung bình (dựa trên vector hỗ trợ)"
   ]
  },
  {
   "cell_type": "markdown",
   "id": "6c703129",
   "metadata": {},
   "source": [
    "Random Forest\n",
    " + Tốc độ Huấn luyện: Chậm, phụ thuộc vào số cây\n",
    " + Tốc độ Dự đoán: Tương đối chậm\n",
    " + Khả năng Mở rộng: Tốt, có thể song song hóa\n",
    " + Yêu cầu Dữ liệu: Cần nhiều dữ liệu để tránh quá khớp\n",
    " + Khả năng Diễn giải: Thấp (mô hình hộp đen)"
   ]
  },
  {
   "cell_type": "markdown",
   "id": "72bcf745",
   "metadata": {},
   "source": [
    "Từ những so sánh này, một vai trò chiến lược quan trọng của Naive Bayes trong quy trình làm việc của học máy hiện đại đã được hình thành. Do tốc độ, sự đơn giản và hiệu suất cơ bản tốt, nó là một lựa chọn tuyệt vời để làm mô hình cơ sở (baseline model). Việc triển khai Naive Bayes chỉ mất vài phút và cung cấp một thước đo hiệu suất ban đầu. Bất kỳ mô hình phức tạp nào sau đó được triển khai (như SVM hay Random Forest) đều phải chứng minh được giá trị của nó bằng cách vượt qua đáng kể đường cơ sở này, qua đó giúp các nhà khoa học dữ liệu quyết định xem sự phức tạp và chi phí tính toán tăng thêm có đáng giá hay không."
   ]
  },
  {
   "cell_type": "markdown",
   "id": "b818468f",
   "metadata": {},
   "source": [
    "## Viết đoạn code mẫu bằng Python (sử dụng Scikit-learn) để xây dựng một mô hình Naive Bayes (ví dụ: Gaussian Naive Bayes) không? Hãy mô tả các bước thực hiện"
   ]
  },
  {
   "cell_type": "markdown",
   "id": "54cb81a5",
   "metadata": {},
   "source": [
    "### Triển khai Gaussian Naive Bayes"
   ]
  },
  {
   "cell_type": "markdown",
   "id": "9b93ce08",
   "metadata": {},
   "source": [
    "1. Tạo dữ liệu và Chuẩn bị Chúng ta sử dụng hàm make_blobs để tạo một tập dữ liệu tổng hợp phù hợp cho GNB và train_test_split để chia nó thành tập huấn luyện và kiểm tra.   \n",
    "\n",
    "2. Huấn luyện Mô hình và Dự đoán Khởi tạo lớp GaussianNB, huấn luyện nó bằng phương thức .fit() trên dữ liệu huấn luyện, và sau đó sử dụng phương thức .predict() để dự đoán nhãn cho dữ liệu kiểm tra.   \n",
    "\n",
    "3. Đánh giá và Trực quan hóa Độ chính xác của mô hình được tính bằng accuracy_score. Chúng ta cũng có thể lấy xác suất dự đoán bằng .predict_proba() và trực quan hóa ranh giới quyết định của mô hình, vốn thường có dạng bậc hai (quadratic) đối với GNB."
   ]
  },
  {
   "cell_type": "code",
   "execution_count": 1,
   "id": "4721b713",
   "metadata": {},
   "outputs": [
    {
     "name": "stdout",
     "output_type": "stream",
     "text": [
      "Độ chính xác của mô hình: 1.0000\n"
     ]
    },
    {
     "data": {
      "image/png": "[encoded data removed]",
      "text/plain": [
       "<Figure size 640x480 with 1 Axes>"
      ]
     },
     "metadata": {},
     "output_type": "display_data"
    }
   ],
   "source": [
    "# 1. Import các thư viện cần thiết\n",
    "import numpy as np\n",
    "import matplotlib.pyplot as plt\n",
    "from sklearn.datasets import make_blobs\n",
    "from sklearn.model_selection import train_test_split\n",
    "from sklearn.naive_bayes import GaussianNB\n",
    "from sklearn.metrics import accuracy_score\n",
    "\n",
    "# 2. Tạo dữ liệu tổng hợp\n",
    "# 300 mẫu, 2 đặc trưng, 2 lớp, độ lệch chuẩn cụm là 1.5\n",
    "X, y = make_blobs(n_samples=300, centers=2, n_features=2,\n",
    "                  random_state=42, cluster_std=1.5)\n",
    "\n",
    "# 3. Chia dữ liệu thành tập huấn luyện và kiểm tra\n",
    "X_train, X_test, y_train, y_test = train_test_split(X, y, test_size=0.3, random_state=42)\n",
    "\n",
    "# 4. Khởi tạo và huấn luyện mô hình Gaussian Naive Bayes\n",
    "model = GaussianNB()\n",
    "model.fit(X_train, y_train)\n",
    "\n",
    "# 5. Thực hiện dự đoán trên tập kiểm tra\n",
    "y_pred = model.predict(X_test)\n",
    "\n",
    "# 6. Đánh giá mô hình\n",
    "accuracy = accuracy_score(y_test, y_pred)\n",
    "print(f'Độ chính xác của mô hình: {accuracy:.4f}')\n",
    "\n",
    "# 7. Trực quan hóa ranh giới quyết định (tùy chọn)\n",
    "x_min, x_max = X[:, 0].min() - 1, X[:, 0].max() + 1\n",
    "y_min, y_max = X[:, 1].min() - 1, X[:, 1].max() + 1\n",
    "xx, yy = np.meshgrid(np.arange(x_min, x_max, 0.02),\n",
    "                     np.arange(y_min, y_max, 0.02))\n",
    "\n",
    "Z = model.predict(np.c_[xx.ravel(), yy.ravel()])\n",
    "Z = Z.reshape(xx.shape)\n",
    "\n",
    "plt.contourf(xx, yy, Z, alpha=0.3, cmap='viridis')\n",
    "plt.scatter(X_test[:, 0], X_test[:, 1], c=y_test, s=20, edgecolor='k', cmap='viridis')\n",
    "plt.title('Ranh giới Quyết định của Gaussian Naive Bayes')\n",
    "plt.xlabel('Đặc trưng 1')\n",
    "plt.ylabel('Đặc trưng 2')\n",
    "plt.show()"
   ]
  },
  {
   "cell_type": "markdown",
   "id": "74b4a1f8",
   "metadata": {},
   "source": [
    "Các điểm (Dots):\n",
    "\n",
    " + Đây chính là dữ liệu trong tập kiểm tra (X_test).\n",
    "\n",
    " + Các điểm màu tím (phía trên bên trái): Đại diện cho Lớp 0 (class 0).\n",
    "\n",
    " + Các điểm màu vàng (phía dưới bên phải): Đại diện cho Lớp 1 (class 1).\n",
    "\n",
    " + Đây là \"sự thật\" (ground truth) mà mô hình cần dự đoán đúng.\n",
    "\n",
    "Các vùng màu nền (Background Regions):\n",
    "\n",
    " + Đây là \"quyết định\" của mô hình cho mọi vị trí trong không gian.\n",
    "\n",
    " + Vùng màu tím (Lilac): Bất kỳ điểm dữ liệu mới nào rơi vào vùng này sẽ được mô hình dự đoán là Lớp 0.\n",
    "\n",
    " + Vùng màu vàng (Yellow/Light Green): Bất kỳ điểm dữ liệu mới nào rơi vào vùng này sẽ được mô hình dự đoán là Lớp 1.\n",
    "\n",
    "Ranh giới Quyết định (Decision Boundary):\n",
    "\n",
    " + Đây là đường thẳng (hoặc đường cong) nằm giữa hai vùng màu.\n",
    "\n",
    " + Tại chính đường ranh giới này, mô hình \"phân vân\" nhất, tức là xác suất một điểm thuộc Lớp 0 hay Lớp 1 là 50/50."
   ]
  },
  {
   "cell_type": "markdown",
   "id": "768f0fd8",
   "metadata": {},
   "source": [
    "Kết luận từ biểu đồ\n",
    "\n",
    " + Mô hình hoạt động tốt: Có thể thấy rằng hầu hết các điểm màu tím đều nằm gọn trong vùng dự đoán màu tím và hầu hết các điểm màu vàng đều nằm gọn trong vùng dự đoán màu vàng.\n",
    "\n",
    " + Đánh giá độ chính xác: Kết quả print(f'Độ chính xác...{accuracy:.4f}') trong code của bạn (có thể là 1.0000 hoặc một số rất cao như 0.9889) chính là con số định lượng cho thấy mức độ \"khớp\" hoàn hảo này.\n",
    "\n",
    " + Tại sao là Gaussian Naive Bayes? Mô hình này giả định rằng mỗi lớp (màu tím, màu vàng) được phân phối theo hình \"quả chuông\" (Phân phối Gaussian/Normal). Mô hình đã tìm thấy ranh giới (trong trường hợp này là một đường thẳng) để tách hai \"quả chuông\" này một cách hiệu quả nhất."
   ]
  },
  {
   "cell_type": "markdown",
   "id": "87dce31f",
   "metadata": {},
   "source": [
    "Vấn đề Tần suất Bằng không và Kỹ thuật Làm mịn (Smoothing)\n",
    "\n",
    "Một vấn đề thực tế quan trọng đối với Multinomial và Bernoulli Naive Bayes là \"vấn đề tần suất bằng không\". Nếu một đặc trưng (ví dụ: một từ) trong tập kiểm tra chưa từng xuất hiện trong tập huấn luyện cho một lớp cụ thể, xác suất khả năng của nó sẽ bằng 0. Do công thức của Naive Bayes là một phép nhân, điều này sẽ khiến toàn bộ xác suất hậu nghiệm của lớp đó bằng 0, bất kể các đặc trưng khác có giá trị như thế nào.\n",
    "\n",
    "Để giải quyết vấn đề này, các kỹ thuật làm mịn được sử dụng. Phổ biến nhất là làm mịn Laplace (hay add-one smoothing), trong đó một số giả (pseudo-count) nhỏ, thường là 1, được cộng vào số đếm của mọi đặc trưng. Trong Scikit-learn, tham số alpha trong các lớp MultinomialNB và BernoulliNB kiểm soát mức độ làm mịn này. Đặt alpha=1.0 tương ứng với làm mịn Laplace."
   ]
  },
  {
   "cell_type": "markdown",
   "id": "00d5be63",
   "metadata": {},
   "source": [
    "## Làm thế nào để xử lý dữ liệu phân loại (categorical data) trước khi áp dụng Multinomial Naive Bayes trong Python?"
   ]
  },
  {
   "cell_type": "markdown",
   "id": "ee0d6b13",
   "metadata": {},
   "source": [
    "Phân loại văn bản là ứng dụng tiêu biểu và thành công nhất của Naive Bayes, đặc biệt là biến thể Multinomial. Phần này sẽ hướng dẫn xây dựng một bộ phân loại văn bản hoàn chỉnh, tập trung vào bước tiền xử lý quan trọng là vector hóa."
   ]
  },
  {
   "cell_type": "markdown",
   "id": "78a2be0a",
   "metadata": {},
   "source": [
    "### Từ Văn bản Thô đến Vector Đặc trưng: Quy trình Vector hóa"
   ]
  },
  {
   "cell_type": "markdown",
   "id": "1a55618a",
   "metadata": {},
   "source": [
    "Các mô hình học máy không thể xử lý trực tiếp văn bản thô; nó phải được chuyển đổi thành một định dạng số học. Quá trình này được gọi là trích xuất đặc trưng hoặc vector hóa. Hai phương pháp phổ biến nhất cho Naive Bayes là Bag-of-Words và TF-IDF. "
   ]
  },
  {
   "cell_type": "markdown",
   "id": "5b1a6df3",
   "metadata": {},
   "source": [
    "Kỹ thuật 1: Sử dụng CountVectorizer (Bag-of-Words)\n",
    "\n",
    "Mô hình Bag-of-Words (BoW) biểu diễn mỗi tài liệu dưới dạng một vector, trong đó mỗi phần tử của vector tương ứng với số lần xuất hiện của một từ trong từ vựng. Lớp CountVectorizer trong Scikit-learn thực hiện điều này bằng cách xây dựng một từ vựng từ toàn bộ kho văn bản và sau đó chuyển đổi mỗi tài liệu thành một vector đếm. Hạn chế chính của phương pháp này là nó coi tất cả các từ có tầm quan trọng như nhau, bất kể tần suất của chúng trong toàn bộ kho văn bản. "
   ]
  },
  {
   "cell_type": "markdown",
   "id": "3eafc634",
   "metadata": {},
   "source": [
    "Kỹ thuật 2: Sử dụng TfidfVectorizer để Gán trọng số cho Từ\n",
    "\n",
    "TF-IDF (Term Frequency-Inverse Document Frequency) là một cải tiến so với BoW. Nó gán trọng số cho các từ không chỉ dựa trên tần suất của chúng trong một tài liệu (TF) mà còn dựa trên mức độ hiếm của chúng trên toàn bộ kho văn bản (IDF). Những từ xuất hiện thường xuyên trong một tài liệu cụ thể nhưng hiếm gặp ở các tài liệu khác sẽ có trọng số TF-IDF cao, cho thấy chúng là những từ quan trọng và đặc trưng cho tài liệu đó. Lớp TfidfVectorizer trong Scikit-learn kết hợp cả việc đếm từ và tính toán trọng số TF-IDF thành một bước duy nhất."
   ]
  },
  {
   "cell_type": "markdown",
   "id": "16ed6030",
   "metadata": {},
   "source": [
    "## Naive Bayes thường được sử dụng trong phân loại văn bản (text classification). Bạn có thể giải thích cách triển khai Naive Bayes cho bài toán này không?"
   ]
  },
  {
   "cell_type": "markdown",
   "id": "d1669cf2",
   "metadata": {},
   "source": [
    "### Triển khai từ đầu đến cuối: Ví dụ Xây dựng Bộ phân loại Tin tức"
   ]
  },
  {
   "cell_type": "markdown",
   "id": "f14130e6",
   "metadata": {},
   "source": [
    "Đây là một ví dụ hoàn chỉnh sử dụng tập dữ liệu 20 Newsgroups để phân loại các bài đăng tin tức vào các chủ đề khác nhau, sử dụng một quy trình (pipeline) kết hợp TfidfVectorizer và MultinomialNB."
   ]
  },
  {
   "cell_type": "markdown",
   "id": "f67178b1",
   "metadata": {},
   "source": [
    "1. Tải dữ liệu và Chuẩn bị Tải dữ liệu từ Scikit-learn, chọn một vài danh mục để đơn giản hóa bài toán.   \n",
    "\n",
    "2. Xây dựng Pipeline trong Scikit-learn Sử dụng make_pipeline là một cách tiếp cận hiệu quả và thanh lịch. Nó liên kết các bước tiền xử lý (vector hóa) và mô hình hóa (phân loại) thành một đối tượng duy nhất. Điều này giúp đơn giản hóa mã nguồn và ngăn ngừa rò rỉ dữ liệu từ tập kiểm tra vào quá trình huấn luyện.   \n",
    "\n",
    "3. Huấn luyện, Dự đoán và Đánh giá Huấn luyện pipeline trên dữ liệu huấn luyện, dự đoán trên dữ liệu kiểm tra và đánh giá hiệu suất bằng ma trận nhầm lẫn (confusion matrix) để xem mô hình hoạt động tốt như thế nào và nhầm lẫn giữa các lớp nào."
   ]
  },
  {
   "cell_type": "code",
   "execution_count": 3,
   "id": "93d2ea54",
   "metadata": {},
   "outputs": [
    {
     "name": "stdout",
     "output_type": "stream",
     "text": [
      "Độ chính xác phân loại văn bản: 0.8017\n"
     ]
    },
    {
     "data": {
      "image/png": "[encoded data removed]",
      "text/plain": [
       "<Figure size 640x480 with 1 Axes>"
      ]
     },
     "metadata": {},
     "output_type": "display_data"
    },
    {
     "name": "stdout",
     "output_type": "stream",
     "text": [
      "Dự đoán cho 'sending a payload to the ISS': sci.space\n",
      "Dự đoán cho 'determining the screen resolution': comp.graphics\n"
     ]
    }
   ],
   "source": [
    "# 1. Import các thư viện cần thiết\n",
    "from sklearn.datasets import fetch_20newsgroups\n",
    "from sklearn.feature_extraction.text import TfidfVectorizer\n",
    "from sklearn.naive_bayes import MultinomialNB\n",
    "from sklearn.pipeline import make_pipeline\n",
    "from sklearn.metrics import confusion_matrix, accuracy_score\n",
    "import seaborn as sns\n",
    "import matplotlib.pyplot as plt\n",
    "\n",
    "# 2. Tải dữ liệu (chỉ chọn 4 danh mục để minh họa)\n",
    "categories = ['talk.religion.misc', 'soc.religion.christian', 'sci.space', 'comp.graphics']\n",
    "train = fetch_20newsgroups(subset='train', categories=categories)\n",
    "test = fetch_20newsgroups(subset='test', categories=categories)\n",
    "\n",
    "# 3. Xây dựng pipeline: TfidfVectorizer -> MultinomialNB\n",
    "model = make_pipeline(TfidfVectorizer(), MultinomialNB())\n",
    "\n",
    "# 4. Huấn luyện mô hình\n",
    "model.fit(train.data, train.target)\n",
    "\n",
    "# 5. Dự đoán trên tập kiểm tra\n",
    "labels = model.predict(test.data)\n",
    "\n",
    "# 6. Đánh giá mô hình\n",
    "accuracy = accuracy_score(test.target, labels)\n",
    "print(f\"Độ chính xác phân loại văn bản: {accuracy:.4f}\")\n",
    "\n",
    "# Tạo ma trận nhầm lẫn\n",
    "mat = confusion_matrix(test.target, labels)\n",
    "sns.heatmap(mat.T, square=True, annot=True, fmt='d', cbar=False,\n",
    "            xticklabels=train.target_names, yticklabels=train.target_names, cmap='Blues')\n",
    "plt.xlabel('Nhãn thực tế')\n",
    "plt.ylabel('Nhãn dự đoán')\n",
    "plt.title('Ma trận nhầm lẫn cho Phân loại Tin tức')\n",
    "plt.show()\n",
    "\n",
    "# 7. Hàm dự đoán cho một câu mới\n",
    "def predict_category(s, train=train, model=model):\n",
    "    pred = model.predict([s])\n",
    "    return train.target_names[pred[0]]\n",
    "\n",
    "# Thử nghiệm\n",
    "print(f\"Dự đoán cho 'sending a payload to the ISS': {predict_category('sending a payload to the ISS')}\")\n",
    "print(f\"Dự đoán cho 'determining the screen resolution': {predict_category('determining the screen resolution')}\")"
   ]
  },
  {
   "cell_type": "markdown",
   "id": "8b10bce5",
   "metadata": {},
   "source": [
    "Phân tích kết quả\n",
    "1. Các ô trên đường chéo (Màu xanh đậm)\n",
    "\n",
    "Đây là những dự đoán ĐÚNG. Các con số trên đường chéo từ trên xuống dưới, từ trái sang phải cho thấy số lượng tin tức được phân loại chính xác:\n",
    "\n",
    " + 344 tin comp.graphics được dự đoán đúng là comp.graphics.\n",
    "\n",
    " + 364 tin sci.space được dự đoán đúng là sci.space.\n",
    "\n",
    " + 392 tin soc.religion.christian được dự đoán đúng là soc.religion.christian.\n",
    "\n",
    " + 48 tin talk.religion.misc được dự đoán đúng là talk.religion.misc.\n",
    "\n",
    "2. Các ô ngoài đường chéo (Màu xanh nhạt/Trắng)\n",
    "\n",
    "Đây là những dự đoán SAI (những sự \"nhầm lẫn\").\n",
    "\n",
    "Vấn đề lớn nhất: Ô có số 187.\n",
    "\n",
    "  + Ý nghĩa: Có 187 tin tức có nhãn thực tế là talk.religion.misc (cột cuối) nhưng mô hình lại dự đoán nhầm chúng là soc.religion.christian (hàng thứ 3).\n",
    "\n",
    "  + Tại sao? Điều này rất dễ hiểu. soc.religion.christian (Thảo luận về Cơ đốc giáo) và talk.religion.misc (Thảo luận chung/linh tinh về tôn giáo) là hai chủ đề có nội dung và từ vựng rất giống nhau. Đây là điểm yếu rõ ràng nhất của mô hình.\n",
    "\n",
    "Các nhầm lẫn nhỏ khác:\n",
    "\n",
    "  + 32 tin comp.graphics bị nhầm thành soc.religion.christian.\n",
    "\n",
    "  + 24 tin sci.space bị nhầm thành soc.religion.christian.\n",
    "\n",
    "  + 13 tin comp.graphics bị nhầm thành sci.space.\n",
    "\n",
    "  (Các số nhỏ khác cũng tương tự...)\n",
    "\n",
    "3. Nhìn theo Hàng (Dự đoán) và Cột (Thực tế)\n",
    "\n",
    "Nhìn theo Cột (Nhãn thực tế):\n",
    "\n",
    "  + Cột comp.graphics: Tổng cộng có (344 + 13 + 32 + 0) = 389 tin. Mô hình dự đoán đúng 344 (tỷ lệ rất cao).\n",
    "\n",
    "  + Cột sci.space: Tổng cộng có (6 + 364 + 24 + 0) = 394 tin. Mô hình dự đoán đúng 364 (tỷ lệ rất cao).\n",
    "\n",
    "  + Cột talk.religion.misc (Cột cuối): Tổng cộng có (4 + 12 + 187 + 48) = 251 tin. Mô hình chỉ đoán đúng 48 tin! Đây là lớp mà mô hình hoạt động kém nhất.\n",
    "\n",
    "Nhìn theo Hàng (Nhãn dự đoán):\n",
    "\n",
    "  + Hàng talk.religion.misc (Hàng cuối): Mô hình đã dự đoán tổng cộng (0 + 0 + 0 + 48) = 48 tin là talk.religion.misc. Và nó đã đúng cả 48 lần (vì các ô khác trên hàng này bằng 0). Điều này có nghĩa là khi mô hình dám nói \"Đây là talk.religion.misc\", nó rất tự tin và chính xác.\n",
    "\n",
    "  + Hàng soc.religion.christian (Hàng 3): Mô hình đã dự đoán (32 + 24 + 392 + 187) = 635 tin là soc.religion.christian. Tuy nhiên, trong số đó chỉ có 392 là đúng, còn lại 32, 24, và 187 là dự đoán sai."
   ]
  },
  {
   "cell_type": "markdown",
   "id": "5b32fbe4",
   "metadata": {},
   "source": [
    "Kết luận\n",
    "\n",
    "Làm tốt: Mô hình phân biệt rất tốt giữa hai nhóm chủ đề lớn: Công nghệ/Khoa học (comp.graphics, sci.space) và Tôn giáo (soc.religion.christian, talk.religion.misc). Bạn có thể thấy rất ít nhầm lẫn chéo giữa hai nhóm này (ví dụ: chỉ 13 tin comp.graphics bị nhầm sang sci.space).\n",
    "\n",
    "Điểm yếu: Mô hình rất bối rối giữa hai chủ đề tôn giáo. Nó có xu hướng \"an toàn\" và dự đoán các tin tức tôn giáo chung chung (talk.religion.misc) là soc.religion.christian."
   ]
  },
  {
   "cell_type": "markdown",
   "id": "bcecc0f7",
   "metadata": {},
   "source": [
    "## Kết luận và Khuyến nghị Chiến lược"
   ]
  },
  {
   "cell_type": "markdown",
   "id": "63387a85",
   "metadata": {},
   "source": [
    "Phân tích toàn diện này đã làm sáng tỏ thuật toán Naive Bayes từ nền tảng lý thuyết xác suất đến các ứng dụng thực tế phức tạp."
   ]
  },
  {
   "cell_type": "markdown",
   "id": "bf5f8ce4",
   "metadata": {},
   "source": [
    "### Tổng hợp Vai trò của Naive Bayes trong Bộ công cụ Học máy Hiện đại"
   ]
  },
  {
   "cell_type": "markdown",
   "id": "b8fd8915",
   "metadata": {},
   "source": [
    "Naive Bayes đã khẳng định vị thế của mình như một thuật toán phân loại xác suất đơn giản, nhanh chóng và hiệu quả một cách đáng ngạc nhiên. Mặc dù nó có thể không phải là thuật toán mạnh nhất để giải quyết mọi bài toán, nhưng nó là một công cụ không thể thiếu để tạo mẫu nhanh, thiết lập đường cơ sở hiệu suất và cho các tác vụ cụ thể như phân loại văn bản, nơi nó vẫn giữ được tính cạnh tranh cao"
   ]
  },
  {
   "cell_type": "markdown",
   "id": "93c60b84",
   "metadata": {},
   "source": [
    "### Khi nào nên sử dụng Naive Bayes?"
   ]
  },
  {
   "cell_type": "markdown",
   "id": "f60504be",
   "metadata": {},
   "source": [
    "Dựa trên các phân tích về ưu và nhược điểm, Naive Bayes nên được xem là một lựa chọn hàng đầu trong các trường hợp sau:\n",
    "\n",
    " + Khi cần một mô hình cơ sở nhanh và hiệu quả: Đây là ứng dụng chiến lược quan trọng nhất của nó.\n",
    "\n",
    " + Đối với các bài toán phân loại văn bản: Lọc thư rác, phân tích cảm xúc, hoặc phân loại chủ đề là những lĩnh vực mà Naive Bayes thường xuyên tỏa sáng.   \n",
    "\n",
    " + Khi tập dữ liệu rất lớn: Khả năng mở rộng tuyến tính của nó làm cho nó trở thành một lựa chọn khả thi khi các thuật toán phức tạp hơn trở nên quá tốn kém về mặt tính toán.\n",
    "\n",
    " + Khi tập dữ liệu nhỏ: Do sự đơn giản và không cần học các tương tác phức tạp, Naive Bayes ít bị quá khớp (overfitting) hơn so với các mô hình phức tạp khi dữ liệu huấn luyện bị hạn chế.\n",
    "\n",
    " + Khi các đặc trưng tương đối độc lập: Trong những trường hợp hiếm hoi mà giả định độc lập gần đúng, Naive Bayes có thể đạt được hiệu suất rất cao.\n",
    "\n",
    "Tóm lại, mặc dù có sự \"ngây thơ\" trong giả định cốt lõi, Naive Bayes vẫn là một thuật toán mạnh mẽ và phù hợp, chứng tỏ rằng trong thế giới học máy, sự đơn giản và hiệu quả tính toán đôi khi có thể vượt qua sự phức tạp về mặt lý thuyết."
   ]
  }
 ],
 "metadata": {
  "kernelspec": {
   "display_name": "Python 3",
   "language": "python",
   "name": "python3"
  },
  "language_info": {
   "codemirror_mode": {
    "name": "ipython",
    "version": 3
   },
   "file_extension": ".py",
   "mimetype": "text/x-python",
   "name": "python",
   "nbconvert_exporter": "python",
   "pygments_lexer": "ipython3",
   "version": "3.11.9"
  }
 },
 "nbformat": 4,
 "nbformat_minor": 5
}
